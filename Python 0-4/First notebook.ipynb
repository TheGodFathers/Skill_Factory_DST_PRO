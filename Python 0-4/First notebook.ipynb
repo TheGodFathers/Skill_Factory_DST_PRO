{
 "cells": [
  {
   "cell_type": "markdown",
   "metadata": {},
   "source": [
    "# First titul\n",
    "## second titul"
   ]
  },
  {
   "cell_type": "markdown",
   "metadata": {},
   "source": [
    "# Title\n",
    "## Second title\n",
    "\n",
    " List:\n",
    " - First\n",
    " - Second"
   ]
  },
  {
   "cell_type": "code",
   "execution_count": 2,
   "metadata": {},
   "outputs": [
    {
     "name": "stdout",
     "output_type": "stream",
     "text": [
      "Hello world Hello\n"
     ]
    }
   ],
   "source": [
    "print('Hello world','Hello')"
   ]
  },
  {
   "cell_type": "code",
   "execution_count": 4,
   "metadata": {},
   "outputs": [
    {
     "name": "stdout",
     "output_type": "stream",
     "text": [
      "20.0\n"
     ]
    }
   ],
   "source": [
    "x = ((67+33)*(25-20))/25\n",
    "print(x)"
   ]
  },
  {
   "cell_type": "code",
   "execution_count": 7,
   "metadata": {},
   "outputs": [
    {
     "name": "stdout",
     "output_type": "stream",
     "text": [
      "17.414074767267998\n"
     ]
    }
   ],
   "source": [
    "x = (4+(5*60)-17+(65/4))**(1/2)\n",
    "print(x)"
   ]
  },
  {
   "cell_type": "code",
   "execution_count": 11,
   "metadata": {},
   "outputs": [
    {
     "name": "stdout",
     "output_type": "stream",
     "text": [
      "1916.7312813742387\n"
     ]
    }
   ],
   "source": [
    "x = 6.996 + 45*((13/2)**(2)) + 2 * (18**(1/2))\n",
    "print (x)\n"
   ]
  },
  {
   "cell_type": "code",
   "execution_count": 22,
   "metadata": {},
   "outputs": [
    {
     "ename": "SyntaxError",
     "evalue": "invalid syntax (<ipython-input-22-c278011419b3>, line 2)",
     "output_type": "error",
     "traceback": [
      "\u001b[1;36m  File \u001b[1;32m\"<ipython-input-22-c278011419b3>\"\u001b[1;36m, line \u001b[1;32m2\u001b[0m\n\u001b[1;33m    print (x)\u001b[0m\n\u001b[1;37m    ^\u001b[0m\n\u001b[1;31mSyntaxError\u001b[0m\u001b[1;31m:\u001b[0m invalid syntax\n"
     ]
    }
   ],
   "source": [
    "x = (1267-(20*((5**(3))/2))**(2)/(8**(5)*((36)**(1/2)))\n",
    "print (x)"
   ]
  },
  {
   "cell_type": "code",
   "execution_count": 26,
   "metadata": {},
   "outputs": [
    {
     "name": "stdout",
     "output_type": "stream",
     "text": [
      "пятницы\n"
     ]
    }
   ],
   "source": [
    "number = 5\n",
    "if number == 1:\n",
    "    print (\"понедельник\")\n",
    "elif number == 2:\n",
    "    print(\"вторник\")\n",
    "elif number == 3:\n",
    "    print(\"среда\")\n",
    "elif number == 4:\n",
    "    print(\"четверг\")\n",
    "elif number == 5:\n",
    "    print (\"пятница\")\n",
    "elif number == 6:\n",
    "    print (\"суббота\")\n",
    "else:\n",
    "    print(\"воскресение\")"
   ]
  },
  {
   "cell_type": "code",
   "execution_count": 32,
   "metadata": {},
   "outputs": [
    {
     "name": "stdout",
     "output_type": "stream",
     "text": [
      "Избыточная масса тела\n"
     ]
    }
   ],
   "source": [
    "weight = \n",
    "height = 1.8\n",
    "imt = weight / height**2\n",
    "if imt < 18.5:\n",
    "    print (\"Недостаточная масса тела\")\n",
    "elif imt >24.99:\n",
    "    print (\"Избыточная масса тела\")\n",
    "else:\n",
    "    print (\"Норма\")"
   ]
  },
  {
   "cell_type": "code",
   "execution_count": 37,
   "metadata": {},
   "outputs": [
    {
     "name": "stdout",
     "output_type": "stream",
     "text": [
      "хорошо\n"
     ]
    }
   ],
   "source": [
    "mark = 7\n",
    "if mark < 4:\n",
    "    print (\"Неудовлетворительно\")\n",
    "elif mark <=5:\n",
    "    print (\"удовлетворительно\")\n",
    "elif mark <=7:\n",
    "    print (\"хорошо\")\n",
    "else:\n",
    "    print (\"отлично\")"
   ]
  },
  {
   "cell_type": "code",
   "execution_count": 44,
   "metadata": {},
   "outputs": [
    {
     "name": "stdout",
     "output_type": "stream",
     "text": [
      "Сегодня твой выбор - ресторан!\n"
     ]
    }
   ],
   "source": [
    "balance = 5000\n",
    "if balance >= 5000:\n",
    "    print (\"Сегодня твой выбор - ресторан!\")\n",
    "elif balance >= 2500:\n",
    "    print (\"Эх, только фастфуд.\")\n",
    "else:\n",
    "    print (\"Придётся потерпеть!\")"
   ]
  },
  {
   "cell_type": "code",
   "execution_count": 62,
   "metadata": {},
   "outputs": [
    {
     "name": "stdout",
     "output_type": "stream",
     "text": [
      "Число делится на 2 без остатка\n"
     ]
    }
   ],
   "source": [
    "number = 452\n",
    "two = (number % 2) - number\n",
    "three = number % 3 - number\n",
    "five = int(number % 5 - number)\n",
    "if two == -number:\n",
    "    print(\"Число делится на 2 без остатка.\")\n",
    "elif three == -number:\n",
    "    print (\"Число делится на 3 без остатка\")\n",
    "elif five == -number:\n",
    "    print(\"Число делится на 5 без остатка\")\n",
    "else:\n",
    "    print(\"Число не делится на 2 3 5 без остатка\")\n"
   ]
  },
  {
   "cell_type": "code",
   "execution_count": 63,
   "metadata": {},
   "outputs": [
    {
     "name": "stdout",
     "output_type": "stream",
     "text": [
      "9\n"
     ]
    }
   ],
   "source": [
    "print (9)"
   ]
  },
  {
   "cell_type": "code",
   "execution_count": 56,
   "metadata": {},
   "outputs": [
    {
     "name": "stdout",
     "output_type": "stream",
     "text": [
      "25\n",
      "27\n",
      "33\n",
      "35\n",
      "39\n",
      "45\n"
     ]
    }
   ],
   "source": [
    "num_1 = 25\n",
    "num_2 = 45\n",
    "if num_1 < 0:\n",
    "    print(\"Введён неверный диапазон чисел\")\n",
    "elif num_2 < for i in range(10, 26):\n",
    "    if i%2 == 0:\n",
    "        sum_2 += i**2\n",
    "    if i%3 == 0:\n",
    "        sum_3 += i**3\n",
    "else:\n",
    "    print(sum_2, sum_3)num_1:\n",
    "     print(\"Введён неверный диапазон чисел\")\n",
    "for i in range (num_1, num_2+1):\n",
    "    if i % 2 !=0:\n",
    "        if i % 3 == 0 or i % 5 == 0:\n",
    "            print(i)"
   ]
  },
  {
   "cell_type": "code",
   "execution_count": 34,
   "metadata": {},
   "outputs": [
    {
     "name": "stdout",
     "output_type": "stream",
     "text": [
      "1\n"
     ]
    }
   ],
   "source": [
    "a = 133 % 2\n",
    "print (a)\n",
    "b=1\n",
    "if a == 0:\n",
    "    print (b)"
   ]
  },
  {
   "cell_type": "code",
   "execution_count": 53,
   "metadata": {},
   "outputs": [
    {
     "name": "stdout",
     "output_type": "stream",
     "text": [
      "30\n"
     ]
    }
   ],
   "source": [
    "i = 30\n",
    "if i % 3 == 0 or i % 5 == 0 and i % 2 != 0:\n",
    "    print(i)"
   ]
  },
  {
   "cell_type": "code",
   "execution_count": 57,
   "metadata": {},
   "outputs": [
    {
     "ename": "NameError",
     "evalue": "name 'sum_2' is not defined",
     "output_type": "error",
     "traceback": [
      "\u001b[1;31m---------------------------------------------------------------------------\u001b[0m",
      "\u001b[1;31mNameError\u001b[0m                                 Traceback (most recent call last)",
      "\u001b[1;32m<ipython-input-57-5adfe3a31539>\u001b[0m in \u001b[0;36m<module>\u001b[1;34m\u001b[0m\n\u001b[0;32m      1\u001b[0m \u001b[1;32mfor\u001b[0m \u001b[0mi\u001b[0m \u001b[1;32min\u001b[0m \u001b[0mrange\u001b[0m\u001b[1;33m(\u001b[0m\u001b[1;36m10\u001b[0m\u001b[1;33m,\u001b[0m \u001b[1;36m26\u001b[0m\u001b[1;33m)\u001b[0m\u001b[1;33m:\u001b[0m\u001b[1;33m\u001b[0m\u001b[1;33m\u001b[0m\u001b[0m\n\u001b[0;32m      2\u001b[0m     \u001b[1;32mif\u001b[0m \u001b[0mi\u001b[0m\u001b[1;33m%\u001b[0m\u001b[1;36m2\u001b[0m \u001b[1;33m==\u001b[0m \u001b[1;36m0\u001b[0m\u001b[1;33m:\u001b[0m\u001b[1;33m\u001b[0m\u001b[1;33m\u001b[0m\u001b[0m\n\u001b[1;32m----> 3\u001b[1;33m         \u001b[0msum_2\u001b[0m \u001b[1;33m+=\u001b[0m \u001b[0mi\u001b[0m\u001b[1;33m**\u001b[0m\u001b[1;36m2\u001b[0m\u001b[1;33m\u001b[0m\u001b[1;33m\u001b[0m\u001b[0m\n\u001b[0m\u001b[0;32m      4\u001b[0m     \u001b[1;32mif\u001b[0m \u001b[0mi\u001b[0m\u001b[1;33m%\u001b[0m\u001b[1;36m3\u001b[0m \u001b[1;33m==\u001b[0m \u001b[1;36m0\u001b[0m\u001b[1;33m:\u001b[0m\u001b[1;33m\u001b[0m\u001b[1;33m\u001b[0m\u001b[0m\n\u001b[0;32m      5\u001b[0m         \u001b[0msum_3\u001b[0m \u001b[1;33m+=\u001b[0m \u001b[0mi\u001b[0m\u001b[1;33m**\u001b[0m\u001b[1;36m3\u001b[0m\u001b[1;33m\u001b[0m\u001b[1;33m\u001b[0m\u001b[0m\n",
      "\u001b[1;31mNameError\u001b[0m: name 'sum_2' is not defined"
     ]
    }
   ],
   "source": [
    "for i in range(10, 26):\n",
    "    if i%2 == 0:\n",
    "        sum_2 += i**2\n",
    "    if i%3 == 0:\n",
    "        sum_3 += i**3\n",
    "else:\n",
    "    print(sum_2, sum_3)"
   ]
  },
  {
   "cell_type": "code",
   "execution_count": 58,
   "metadata": {},
   "outputs": [
    {
     "name": "stdout",
     "output_type": "stream",
     "text": [
      "1 1 1\n",
      "2 4 8\n",
      "3 9 27\n",
      "4 16 64\n",
      "5 25 125\n",
      "6 36 216\n",
      "7 49 343\n",
      "8 64 512\n",
      "9 81 729\n",
      "10 100 1000\n"
     ]
    }
   ],
   "source": [
    "for i in range (1,10+1):\n",
    "    print(i, i**2, i**3)"
   ]
  },
  {
   "cell_type": "code",
   "execution_count": 60,
   "metadata": {},
   "outputs": [
    {
     "name": "stdout",
     "output_type": "stream",
     "text": [
      "1\n",
      "2\n",
      "3\n",
      "4\n",
      "6\n",
      "7\n",
      "12\n",
      "14\n",
      "21\n",
      "28\n",
      "42\n",
      "84\n"
     ]
    }
   ],
   "source": [
    "number = 84\n",
    "for i in range (1, number+1):\n",
    "    if number % i ==0:\n",
    "        print (i)"
   ]
  },
  {
   "cell_type": "code",
   "execution_count": 62,
   "metadata": {},
   "outputs": [
    {
     "name": "stdout",
     "output_type": "stream",
     "text": [
      "2\n"
     ]
    }
   ],
   "source": [
    "num_1 = 12\n",
    "num_2 = 38\n",
    "for i in range (1,num_2+1):\n",
    "    if num_1 % i == 0 and num_2 % i == 0 and i != 1:\n",
    "        print (i)"
   ]
  },
  {
   "cell_type": "code",
   "execution_count": 80,
   "metadata": {},
   "outputs": [
    {
     "name": "stdout",
     "output_type": "stream",
     "text": [
      "0\n",
      "1\n",
      "1\n",
      "4\n",
      "8\n",
      "13\n",
      "19\n",
      "26\n",
      "34\n",
      "43\n",
      "53\n",
      "64\n"
     ]
    }
   ],
   "source": [
    "n = 10\n",
    "f_n = 0\n",
    "for i in range (0, n+2):\n",
    "    if i == 0:\n",
    "        print(f_n)\n",
    "    elif i == 1:\n",
    "        f_n = 1\n",
    "        print (f_n)\n",
    "    elif i == 2:\n",
    "        f_n = 1\n",
    "        print (f_n)\n",
    "    elif i > 2:\n",
    "        f_n +=i\n",
    "        print (f_n)\n",
    "        "
   ]
  },
  {
   "cell_type": "code",
   "execution_count": 94,
   "metadata": {},
   "outputs": [
    {
     "name": "stdout",
     "output_type": "stream",
     "text": [
      "2\n"
     ]
    }
   ],
   "source": [
    "num_1 = 5\n",
    "num_2 = 2500\n",
    "for i in range (1, num_2+1):\n",
    "    if num_1 % i == 0 and num_2 % i == 0:\n",
    "        \n",
    "        break\n",
    "    else:\n",
    "        print('Общих делителей не найдено')\n",
    "        break"
   ]
  },
  {
   "cell_type": "code",
   "execution_count": 126,
   "metadata": {},
   "outputs": [
    {
     "name": "stdout",
     "output_type": "stream",
     "text": [
      "Сложное\n"
     ]
    }
   ],
   "source": [
    "\n",
    "number = 6\n",
    "a = 0\n",
    "if number == 2:\n",
    "    print (\"Простое\")\n",
    "for i in range (2, number - 1):\n",
    "    if number % i == 0:\n",
    "        a = 1\n",
    "if a == 1:\n",
    "    print (\"Сложное\")\n",
    "else:\n",
    "    print (\"Простое\")\n",
    "        "
   ]
  },
  {
   "cell_type": "code",
   "execution_count": 157,
   "metadata": {},
   "outputs": [
    {
     "name": "stdout",
     "output_type": "stream",
     "text": [
      "Строка мне не нравится\n"
     ]
    }
   ],
   "source": [
    "string = 'прелестная строка'\n",
    "letters = [ 'а', 'е', 'ё', 'и', 'о', 'у', 'ы', 'э', 'ю', 'я']\n",
    "a = 0\n",
    "for i, letter in enumerate(string):\n",
    "    if letter in letters and i % 2 == 0:\n",
    "        a = 1\n",
    "       # print(letter)\n",
    "        break\n",
    "    else:\n",
    "        a = 2\n",
    "if a == 1:\n",
    "    print (\"Строка мне не нравится\")\n",
    "else:\n",
    "    print (\"Это хорошая строка\")\n",
    "        "
   ]
  },
  {
   "cell_type": "code",
   "execution_count": 202,
   "metadata": {},
   "outputs": [
    {
     "name": "stdout",
     "output_type": "stream",
     "text": [
      "4\n"
     ]
    }
   ],
   "source": [
    "num_1 = 1812\n",
    "num_2 = 2500\n",
    "l = []\n",
    "a = 0\n",
    "for i in range (2, num_2 + 1):\n",
    "    if num_1 % i == 0 and num_2 % i == 0:\n",
    "        l.append(i)\n",
    "        a = 1\n",
    "if a == 1:\n",
    "    print (max(l))\n",
    "elif a ==0:\n",
    "    print(\"Общих делителей не найдено\")\n",
    "        \n",
    "\n",
    "        "
   ]
  },
  {
   "cell_type": "code",
   "execution_count": 173,
   "metadata": {},
   "outputs": [
    {
     "ename": "TypeError",
     "evalue": "'int' object is not iterable",
     "output_type": "error",
     "traceback": [
      "\u001b[1;31m---------------------------------------------------------------------------\u001b[0m",
      "\u001b[1;31mTypeError\u001b[0m                                 Traceback (most recent call last)",
      "\u001b[1;32m<ipython-input-173-66ddac926315>\u001b[0m in \u001b[0;36m<module>\u001b[1;34m\u001b[0m\n\u001b[1;32m----> 1\u001b[1;33m \u001b[0ml\u001b[0m \u001b[1;33m=\u001b[0m \u001b[0mlist\u001b[0m\u001b[1;33m(\u001b[0m\u001b[1;36m2\u001b[0m\u001b[1;33m)\u001b[0m\u001b[1;33m\u001b[0m\u001b[1;33m\u001b[0m\u001b[0m\n\u001b[0m",
      "\u001b[1;31mTypeError\u001b[0m: 'int' object is not iterable"
     ]
    }
   ],
   "source": [
    "l = list(2)"
   ]
  },
  {
   "cell_type": "code",
   "execution_count": 178,
   "metadata": {},
   "outputs": [
    {
     "name": "stdout",
     "output_type": "stream",
     "text": [
      "[]\n",
      "0\n",
      "1\n",
      "2\n"
     ]
    }
   ],
   "source": [
    "l = []\n",
    "print(l)\n",
    "for i in range (3):\n",
    "    l.append(i)\n",
    "    print(max(l))"
   ]
  },
  {
   "cell_type": "code",
   "execution_count": 7,
   "metadata": {},
   "outputs": [
    {
     "name": "stdout",
     "output_type": "stream",
     "text": [
      "20\n"
     ]
    }
   ],
   "source": [
    "Y = 170000\n",
    "Z = 1000000\n",
    "i = 1\n",
    "while Y <= Z:\n",
    "    Y_n = Y + Y * 0.1\n",
    "    Y = Y_n\n",
    "    i = int(i + 1)\n",
    "print (i)"
   ]
  },
  {
   "cell_type": "code",
   "execution_count": 12,
   "metadata": {},
   "outputs": [
    {
     "name": "stdout",
     "output_type": "stream",
     "text": [
      "Перевес 62 кг\n"
     ]
    }
   ],
   "source": [
    "weight = 77\n",
    "m = 0\n",
    "while m < 400:\n",
    "    m = m + weight\n",
    "print ('Перевес',m -400,'кг')"
   ]
  },
  {
   "cell_type": "code",
   "execution_count": 18,
   "metadata": {},
   "outputs": [
    {
     "name": "stdout",
     "output_type": "stream",
     "text": [
      "7\n"
     ]
    }
   ],
   "source": [
    "attack = 80\n",
    "current_health = 500\n",
    "i = 0\n",
    "while current_health > 0:\n",
    "    current_health -= attack\n",
    "    i += 1\n",
    "print (i)"
   ]
  },
  {
   "cell_type": "code",
   "execution_count": 21,
   "metadata": {},
   "outputs": [
    {
     "name": "stdout",
     "output_type": "stream",
     "text": [
      "10000\n",
      "7200\n",
      "4400\n",
      "1600\n",
      "Слишком большие расходы\n"
     ]
    }
   ],
   "source": [
    "balance = 10000\n",
    "spent = 2800\n",
    "i = 0\n",
    "while balance > 0:\n",
    "    i += 1\n",
    "    if i == 1:\n",
    "        print(balance)\n",
    "    balance -= spent\n",
    "    if balance > 0:\n",
    "        print(balance)\n",
    "    else:\n",
    "        print (\"Слишком большие расходы\")\n"
   ]
  },
  {
   "cell_type": "code",
   "execution_count": 24,
   "metadata": {},
   "outputs": [
    {
     "name": "stdout",
     "output_type": "stream",
     "text": [
      "20\n"
     ]
    }
   ],
   "source": [
    "volume = 1000\n",
    "z = 5\n",
    "i = 0\n",
    "while volume > 0:\n",
    "    volume -= z\n",
    "    z += 5\n",
    "    i += 1\n",
    "print (i)\n",
    "    \n"
   ]
  },
  {
   "cell_type": "code",
   "execution_count": 25,
   "metadata": {},
   "outputs": [
    {
     "ename": "SyntaxError",
     "evalue": "invalid syntax (<ipython-input-25-199bb3e19a51>, line 7)",
     "output_type": "error",
     "traceback": [
      "\u001b[1;36m  File \u001b[1;32m\"<ipython-input-25-199bb3e19a51>\"\u001b[1;36m, line \u001b[1;32m7\u001b[0m\n\u001b[1;33m    for i in range(first, last + 1)\u001b[0m\n\u001b[1;37m                                   ^\u001b[0m\n\u001b[1;31mSyntaxError\u001b[0m\u001b[1;31m:\u001b[0m invalid syntax\n"
     ]
    }
   ],
   "source": [
    "last = 10\n",
    "first = 7\n",
    "\n",
    "if last < first or first < 0:\n",
    "    print(\"Введён неверный диапазон чисел\")\n",
    "else:\n",
    "    for i in range(first, last + 1)\n",
    "        if i%2 == 1 and (i%3 == 0 or i%5 == 0):\n",
    "            print(i)"
   ]
  },
  {
   "cell_type": "code",
   "execution_count": 30,
   "metadata": {},
   "outputs": [
    {
     "ename": "TypeError",
     "evalue": "unsupported operand type(s) for //: 'str' and 'str'",
     "output_type": "error",
     "traceback": [
      "\u001b[1;31m---------------------------------------------------------------------------\u001b[0m",
      "\u001b[1;31mTypeError\u001b[0m                                 Traceback (most recent call last)",
      "\u001b[1;32m<ipython-input-30-436e93bcb815>\u001b[0m in \u001b[0;36m<module>\u001b[1;34m\u001b[0m\n\u001b[0;32m      1\u001b[0m \u001b[0ma\u001b[0m \u001b[1;33m=\u001b[0m \u001b[1;34m\" dfdf\"\u001b[0m\u001b[1;33m\u001b[0m\u001b[1;33m\u001b[0m\u001b[0m\n\u001b[0;32m      2\u001b[0m \u001b[0mb\u001b[0m \u001b[1;33m=\u001b[0m \u001b[1;34m\"sdsd\"\u001b[0m\u001b[1;33m\u001b[0m\u001b[1;33m\u001b[0m\u001b[0m\n\u001b[1;32m----> 3\u001b[1;33m \u001b[0mc\u001b[0m \u001b[1;33m=\u001b[0m \u001b[0ma\u001b[0m \u001b[1;33m//\u001b[0m\u001b[0mb\u001b[0m\u001b[1;33m\u001b[0m\u001b[1;33m\u001b[0m\u001b[0m\n\u001b[0m\u001b[0;32m      4\u001b[0m \u001b[0mprint\u001b[0m\u001b[1;33m(\u001b[0m\u001b[0mc\u001b[0m\u001b[1;33m)\u001b[0m\u001b[1;33m\u001b[0m\u001b[1;33m\u001b[0m\u001b[0m\n",
      "\u001b[1;31mTypeError\u001b[0m: unsupported operand type(s) for //: 'str' and 'str'"
     ]
    }
   ],
   "source": [
    "a = \" dfdf\"\n",
    "b = \"sdsd\"\n",
    "c = a //b\n",
    "print(c)"
   ]
  },
  {
   "cell_type": "code",
   "execution_count": 31,
   "metadata": {},
   "outputs": [
    {
     "name": "stdout",
     "output_type": "stream",
     "text": [
      "9\n"
     ]
    }
   ],
   "source": [
    "last = 10\n",
    "first = 7\n",
    "\n",
    "if last < first or first < 0:\n",
    "    print(\"Введён неверный диапазон чисел\")\n",
    "else:\n",
    "    for i in range(first, last + 1):\n",
    "        if i%2 == 1 and (i%3 == 0 or i%5 == 0):\n",
    "            print(i)"
   ]
  },
  {
   "cell_type": "code",
   "execution_count": 32,
   "metadata": {},
   "outputs": [
    {
     "name": "stdout",
     "output_type": "stream",
     "text": [
      "6765\n"
     ]
    }
   ],
   "source": [
    "n = 20\n",
    "\n",
    "fib1 = 1\n",
    "fib2 = 1\n",
    "if n == 0:\n",
    "    print(0)\n",
    "elif n <= 2:\n",
    "    print(1)\n",
    "else:\n",
    "    for n in range(2, n):\n",
    "        fib_sum = fib1 + fib2\n",
    "        fib1 = fib2\n",
    "        fib2 = fib_sum\n",
    "    else:\n",
    "        print(fib2)"
   ]
  },
  {
   "cell_type": "code",
   "execution_count": 1,
   "metadata": {},
   "outputs": [
    {
     "name": "stdout",
     "output_type": "stream",
     "text": [
      "3\n"
     ]
    }
   ],
   "source": [
    "for i in range(10):\n",
    "    if i >= 3:\n",
    "        break\n",
    "print (i)"
   ]
  },
  {
   "cell_type": "code",
   "execution_count": 4,
   "metadata": {},
   "outputs": [
    {
     "data": {
      "text/plain": [
       "list"
      ]
     },
     "execution_count": 4,
     "metadata": {},
     "output_type": "execute_result"
    }
   ],
   "source": [
    "l = []\n",
    "type(l)"
   ]
  },
  {
   "cell_type": "code",
   "execution_count": 10,
   "metadata": {},
   "outputs": [
    {
     "name": "stdout",
     "output_type": "stream",
     "text": [
      "Элджей\n"
     ]
    }
   ],
   "source": [
    "MyLove = 'Оля Бузова-Дима Билан-Элджей-Сергей Лазарев-Loboda'.split('-')\n",
    "print(MyLove[2])"
   ]
  },
  {
   "cell_type": "code",
   "execution_count": 2,
   "metadata": {},
   "outputs": [
    {
     "name": "stdout",
     "output_type": "stream",
     "text": [
      "Александр\n"
     ]
    }
   ],
   "source": [
    "OurBestStudents = ['Александр', 'Константин', 'Мария', 'Диана', 'Алексей','Максим', 'Светлана', 'Арина', 'Серафим', 'Doomer', 'Павел', 'Виктория', 'Елена', 'Галина', 'Вячеслав']\n",
    "print(OurBestStudents[0])"
   ]
  },
  {
   "cell_type": "code",
   "execution_count": 3,
   "metadata": {},
   "outputs": [
    {
     "name": "stdout",
     "output_type": "stream",
     "text": [
      "['красный', 'оранжевый', 'жёлтый', 'зелёный', 'голубой', 'синий', 'фиолетовый']\n"
     ]
    }
   ],
   "source": [
    "colors = ['красный', 'оранжевый', 'жёлтый', 'зелёный', 'голубой', 'синий', 'фиолетовый']\n",
    "colors[-5:5]\n",
    "print(colors)"
   ]
  },
  {
   "cell_type": "code",
   "execution_count": 25,
   "metadata": {},
   "outputs": [
    {
     "name": "stdout",
     "output_type": "stream",
     "text": [
      "['руки', 'ноги']\n"
     ]
    }
   ],
   "source": [
    "body = ['голова', 'руки', 'ноги', 'глаза', 'уши', 'рот', 'нос', 'туловище']\n",
    "print(body[1:3])"
   ]
  },
  {
   "cell_type": "code",
   "execution_count": 26,
   "metadata": {},
   "outputs": [
    {
     "data": {
      "text/plain": [
       "['Пушок', 'Мурзик', 'Эдуард', 'Роджер']"
      ]
     },
     "execution_count": 26,
     "metadata": {},
     "output_type": "execute_result"
    }
   ],
   "source": [
    "rabbits = ['Пушок', 'Дружок', 'Мурзик', 'Барсик', 'Эдуард', 'Ушастик', 'Роджер', 'Трус']\n",
    "rabbits[0:7:2]\n"
   ]
  },
  {
   "cell_type": "code",
   "execution_count": 28,
   "metadata": {},
   "outputs": [
    {
     "data": {
      "text/plain": [
       "['Иванов', 'Сидоров', 'Дятлов', 'Лисичкин', 'Капустин']"
      ]
     },
     "execution_count": 28,
     "metadata": {},
     "output_type": "execute_result"
    }
   ],
   "source": [
    "sparta = ['Иванов', 'Петров', 'Сидоров', 'Зайцев', 'Дятлов', \n",
    "          'Козлов', 'Лисичкин', 'Огурцов', 'Капустин', 'Арбузов']\n",
    "sparta[0:9:2]"
   ]
  },
  {
   "cell_type": "code",
   "execution_count": 2,
   "metadata": {},
   "outputs": [
    {
     "name": "stdout",
     "output_type": "stream",
     "text": [
      "35000\n",
      "50000\n",
      "65000\n",
      "49000\n",
      "55000\n",
      "[66500.0, 95000.0, 123500.0, 93100.0, 104500.0]\n"
     ]
    }
   ],
   "source": [
    "old_salary = [35000, 50000, 65000, 49000, 55000]\n",
    "new_salary = []\n",
    "for salary in old_salary:\n",
    "    new_salary.append(salary * 1.9)\n",
    "    print(salary)\n",
    "\n",
    "print(new_salary)"
   ]
  },
  {
   "cell_type": "code",
   "execution_count": 3,
   "metadata": {},
   "outputs": [
    {
     "name": "stdout",
     "output_type": "stream",
     "text": [
      "97\n"
     ]
    }
   ],
   "source": [
    "my_list = [1, 10, 45, 31, 12, 54, 111, 398, 97, 63]\n",
    "my_list.sort(reverse = True)\n",
    "print(my_list[2])"
   ]
  },
  {
   "cell_type": "code",
   "execution_count": 4,
   "metadata": {},
   "outputs": [
    {
     "data": {
      "text/plain": [
       "399"
      ]
     },
     "execution_count": 4,
     "metadata": {},
     "output_type": "execute_result"
    }
   ],
   "source": [
    "398 + 1 "
   ]
  },
  {
   "cell_type": "code",
   "execution_count": 7,
   "metadata": {},
   "outputs": [
    {
     "name": "stdout",
     "output_type": "stream",
     "text": [
      "590\n"
     ]
    }
   ],
   "source": [
    "my_list = [1, 10, 45, 31, 12, 54, 111, 398, 97, 63]\n",
    "my_list.sort(reverse = True)\n",
    "new_list = my_list[::2]\n",
    "result = 0\n",
    "for number in new_list:\n",
    "    result += number\n",
    "print(result)\n",
    "      "
   ]
  },
  {
   "cell_type": "code",
   "execution_count": 11,
   "metadata": {},
   "outputs": [
    {
     "name": "stdout",
     "output_type": "stream",
     "text": [
      "[1024, 512, 256, 128, 64, 32, 16, 8, 4, 2, 1]\n"
     ]
    },
    {
     "data": {
      "text/plain": [
       "32"
      ]
     },
     "execution_count": 11,
     "metadata": {},
     "output_type": "execute_result"
    }
   ],
   "source": [
    "my_list = [1]\n",
    "for i in range(10):\n",
    "    my_list.append(my_list[i] * 2)\n",
    "my_list.sort(reverse = True)\n",
    "print(my_list)\n",
    "my_list[5]"
   ]
  },
  {
   "cell_type": "code",
   "execution_count": 13,
   "metadata": {},
   "outputs": [
    {
     "name": "stdout",
     "output_type": "stream",
     "text": [
      "['а', 'а', 'а', 'б', 'б', 'п', 'п', 'я']\n"
     ]
    }
   ],
   "source": [
    "fruits = 'яблоко банан апельсин баклажан перец помидор арбуз ананас'.split()\n",
    "my_list = []\n",
    "for fruit in fruits:\n",
    "    my_list.append(fruit[0])\n",
    "my_list.sort()\n",
    "print(my_list)"
   ]
  },
  {
   "cell_type": "code",
   "execution_count": 15,
   "metadata": {},
   "outputs": [
    {
     "name": "stdout",
     "output_type": "stream",
     "text": [
      "[3, 6, 9, 12, 15, 18, 21, 24, 27, 30, 33, 36, 39, 42, 45, 48]\n",
      "998\n"
     ]
    }
   ],
   "source": [
    "my_list=[]\n",
    "for i in range (1,50):\n",
    "    if i % 3 == 0:\n",
    "        my_list.append(i)\n",
    "        result += i\n",
    "\n",
    "        "
   ]
  },
  {
   "cell_type": "code",
   "execution_count": 19,
   "metadata": {},
   "outputs": [],
   "source": [
    "raw_list = ['переменные', 'циклы', 'условия', 'списки', 'словари', 'файлы', 'функции']\n",
    "my_list = []\n",
    "for len_word in raw_list:\n",
    "    my_list.append(len(len_word))\n",
    "a = min(my_list)    \n",
    "b = max(my_list)\n",
    "result = a + b\n"
   ]
  },
  {
   "cell_type": "code",
   "execution_count": 32,
   "metadata": {},
   "outputs": [
    {
     "name": "stdout",
     "output_type": "stream",
     "text": [
      "5041\n",
      "[4, 16, 20, 1633, 128, 3479, 781, 104, 5041, 28]\n"
     ]
    }
   ],
   "source": [
    "raw_list = [2, 8, 10, 23, 64, 49, 11, 52, 71, 14]\n",
    "x_min = min(raw_list)\n",
    "x_max = max(raw_list)\n",
    "my_list = []\n",
    "for number in raw_list: \n",
    "    if number % 2 == 0:\n",
    "        my_list.append(number * x_min)\n",
    "    elif number % 2 != 0:\n",
    "        my_list.append(number * x_max)\n",
    "result = max(my_list)\n",
    "print(result)\n",
    "print(my_list)"
   ]
  },
  {
   "cell_type": "code",
   "execution_count": 31,
   "metadata": {},
   "outputs": [
    {
     "data": {
      "text/plain": [
       "3692"
      ]
     },
     "execution_count": 31,
     "metadata": {},
     "output_type": "execute_result"
    }
   ],
   "source": [
    "71 * 52"
   ]
  },
  {
   "cell_type": "code",
   "execution_count": 34,
   "metadata": {},
   "outputs": [
    {
     "data": {
      "text/plain": [
       "[15, 30, 45, 60, 75, 90]"
      ]
     },
     "execution_count": 34,
     "metadata": {},
     "output_type": "execute_result"
    }
   ],
   "source": [
    "my_list = [x for x in range(10, 100) if x%3 == 0 and x%5 == 0]\n",
    "my_list"
   ]
  },
  {
   "cell_type": "code",
   "execution_count": 36,
   "metadata": {},
   "outputs": [
    {
     "data": {
      "text/plain": [
       "[1,\n",
       " 1,\n",
       " 4,\n",
       " 1024,\n",
       " 9,\n",
       " 59049,\n",
       " 16,\n",
       " 1048576,\n",
       " 25,\n",
       " 9765625,\n",
       " 36,\n",
       " 60466176,\n",
       " 49,\n",
       " 282475249,\n",
       " 64,\n",
       " 1073741824,\n",
       " 81,\n",
       " 3486784401]"
      ]
     },
     "execution_count": 36,
     "metadata": {},
     "output_type": "execute_result"
    }
   ],
   "source": [
    "powers = [x**y for x in range(1, 10) for y in [2,10]]\n",
    "powers"
   ]
  },
  {
   "cell_type": "code",
   "execution_count": 37,
   "metadata": {},
   "outputs": [
    {
     "data": {
      "text/plain": [
       "[3,\n",
       " 5,\n",
       " 7,\n",
       " 6,\n",
       " 10,\n",
       " 14,\n",
       " 9,\n",
       " 15,\n",
       " 21,\n",
       " 12,\n",
       " 20,\n",
       " 28,\n",
       " 15,\n",
       " 25,\n",
       " 35,\n",
       " 18,\n",
       " 30,\n",
       " 42,\n",
       " 21,\n",
       " 35,\n",
       " 49,\n",
       " 24,\n",
       " 40,\n",
       " 56,\n",
       " 27,\n",
       " 45,\n",
       " 63]"
      ]
     },
     "execution_count": 37,
     "metadata": {},
     "output_type": "execute_result"
    }
   ],
   "source": [
    "numbers = [x*y for x in range(1, 10) for y in [3, 5, 7]]\n",
    "numbers"
   ]
  },
  {
   "cell_type": "code",
   "execution_count": 41,
   "metadata": {},
   "outputs": [
    {
     "data": {
      "text/plain": [
       "[3,\n",
       " 5,\n",
       " 7,\n",
       " 11,\n",
       " 13,\n",
       " 17,\n",
       " 19,\n",
       " 23,\n",
       " 29,\n",
       " 31,\n",
       " 37,\n",
       " 41,\n",
       " 43,\n",
       " 47,\n",
       " 53,\n",
       " 59,\n",
       " 61,\n",
       " 67,\n",
       " 71,\n",
       " 73,\n",
       " 79,\n",
       " 83,\n",
       " 89,\n",
       " 97]"
      ]
     },
     "execution_count": 41,
     "metadata": {},
     "output_type": "execute_result"
    }
   ],
   "source": [
    "numbers = [x for x in range(3,100) if [x%y for y in range(2,x)].count(0) == 0]\n",
    "numbers\n"
   ]
  },
  {
   "cell_type": "code",
   "execution_count": 43,
   "metadata": {},
   "outputs": [
    {
     "data": {
      "text/plain": [
       "['п',\n",
       " 'п',\n",
       " 'п',\n",
       " 'п',\n",
       " 'р',\n",
       " 'р',\n",
       " 'р',\n",
       " 'р',\n",
       " 'и',\n",
       " 'и',\n",
       " 'и',\n",
       " 'и',\n",
       " 'в',\n",
       " 'в',\n",
       " 'в',\n",
       " 'в',\n",
       " 'е',\n",
       " 'е',\n",
       " 'е',\n",
       " 'е',\n",
       " 'т',\n",
       " 'т',\n",
       " 'т',\n",
       " 'т']"
      ]
     },
     "execution_count": 43,
     "metadata": {},
     "output_type": "execute_result"
    }
   ],
   "source": [
    "my_list = [x for x in 'привет' for y in ['п', 'р', 'в', 'т']]\n",
    "my_list"
   ]
  },
  {
   "cell_type": "code",
   "execution_count": 45,
   "metadata": {},
   "outputs": [
    {
     "data": {
      "text/plain": [
       "['а', 'з', 'и', 'н', 'н', 'о', 'о', 'о', 'р', 'р', 'с', 'т', 'ф', 'х']"
      ]
     },
     "execution_count": 45,
     "metadata": {},
     "output_type": "execute_result"
    }
   ],
   "source": [
    "my_list = sorted([x for x in 'синхрофазотрон']) \n",
    "my_list"
   ]
  },
  {
   "cell_type": "code",
   "execution_count": 46,
   "metadata": {},
   "outputs": [
    {
     "ename": "SyntaxError",
     "evalue": "invalid syntax (<ipython-input-46-1d1bb2ee2cba>, line 1)",
     "output_type": "error",
     "traceback": [
      "\u001b[1;36m  File \u001b[1;32m\"<ipython-input-46-1d1bb2ee2cba>\"\u001b[1;36m, line \u001b[1;32m1\u001b[0m\n\u001b[1;33m    my_list = [x*0.9, x*1, x*1.1 for x in range(11,20)]\u001b[0m\n\u001b[1;37m                                 ^\u001b[0m\n\u001b[1;31mSyntaxError\u001b[0m\u001b[1;31m:\u001b[0m invalid syntax\n"
     ]
    }
   ],
   "source": [
    "my_list = [x*0.9, x*1, x*1.1 for x in range(11,20)]"
   ]
  },
  {
   "cell_type": "code",
   "execution_count": 48,
   "metadata": {},
   "outputs": [
    {
     "data": {
      "text/plain": [
       "[2.6457513110645907,\n",
       " 3.7416573867739413,\n",
       " 4.58257569495584,\n",
       " 5.291502622129181,\n",
       " 5.916079783099616,\n",
       " 6.48074069840786,\n",
       " 7.0]"
      ]
     },
     "execution_count": 48,
     "metadata": {},
     "output_type": "execute_result"
    }
   ],
   "source": [
    "my_list = []\n",
    "for x in range(1, 50):\n",
    "    if x%7 == 0:\n",
    "        my_list.append(x**0.5)\n",
    "my_list"
   ]
  },
  {
   "cell_type": "code",
   "execution_count": 50,
   "metadata": {},
   "outputs": [
    {
     "data": {
      "text/plain": [
       "[2.6457513110645907,\n",
       " 3.7416573867739413,\n",
       " 4.58257569495584,\n",
       " 5.291502622129181,\n",
       " 5.916079783099616,\n",
       " 6.48074069840786,\n",
       " 7.0]"
      ]
     },
     "execution_count": 50,
     "metadata": {},
     "output_type": "execute_result"
    }
   ],
   "source": [
    "my_list = [x**0.5 for x in range (1,50) if x % 7 == 0]\n",
    "my_list"
   ]
  },
  {
   "cell_type": "code",
   "execution_count": 51,
   "metadata": {},
   "outputs": [
    {
     "data": {
      "text/plain": [
       "[9, 10, 11, 12, 13, 14, 15, 16, 17, 18]"
      ]
     },
     "execution_count": 51,
     "metadata": {},
     "output_type": "execute_result"
    }
   ],
   "source": [
    "my_list = []\n",
    "for x in range(90, 100):\n",
    "    first_digit = x//10\n",
    "    last_digit = x%10\n",
    "    my_list.append(first_digit + last_digit)\n",
    "my_list"
   ]
  },
  {
   "cell_type": "code",
   "execution_count": 56,
   "metadata": {},
   "outputs": [
    {
     "data": {
      "text/plain": [
       "[9, 10, 11, 12, 13, 14, 15, 16, 17, 18]"
      ]
     },
     "execution_count": 56,
     "metadata": {},
     "output_type": "execute_result"
    }
   ],
   "source": [
    "my_list = [x // 10 + x % 10 for x in range (90, 100)]\n",
    "my_list"
   ]
  },
  {
   "cell_type": "code",
   "execution_count": 57,
   "metadata": {},
   "outputs": [
    {
     "data": {
      "text/plain": [
       "[['+79033923029', 'Мария Никитина'],\n",
       " ['+78125849204', 'Егор Савичев'],\n",
       " ['+79053049385', 'Александр Пахомов'],\n",
       " ['+79265748370', 'Алина Егорова'],\n",
       " ['+79030598495', 'Руслан Башаров']]"
      ]
     },
     "execution_count": 57,
     "metadata": {},
     "output_type": "execute_result"
    }
   ],
   "source": [
    "phones = [['+79033923029', 'Мария Никитина'], ['+78125849204', 'Егор Савичев'], ['+79053049385', 'Александр Пахомов'], ['+79265748370', 'Алина Егорова'], ['+79030598495', 'Руслан Башаров']]\n",
    "phones"
   ]
  },
  {
   "cell_type": "code",
   "execution_count": 59,
   "metadata": {},
   "outputs": [
    {
     "data": {
      "text/plain": [
       "[['Мария Никитина', '+79033923029'],\n",
       " ['Егор Савичев', '+78125849204'],\n",
       " ['Александр Пахомов', '+79053049385'],\n",
       " ['Алина Егорова', '+79265748370'],\n",
       " ['Руслан Башаров', '+79030598495']]"
      ]
     },
     "execution_count": 59,
     "metadata": {},
     "output_type": "execute_result"
    }
   ],
   "source": [
    "phones = [['Мария Никитина', '+79033923029'], ['Егор Савичев', '+78125849204'], ['Александр Пахомов', '+79053049385'], ['Алина Егорова', '+79265748370'], ['Руслан Башаров', '+79030598495']]\n",
    "phones"
   ]
  },
  {
   "cell_type": "code",
   "execution_count": 61,
   "metadata": {},
   "outputs": [
    {
     "data": {
      "text/plain": [
       "['+79033923029',\n",
       " '+78125849204',\n",
       " '+79053049385',\n",
       " '+79265748370',\n",
       " '+79030598495']"
      ]
     },
     "execution_count": 61,
     "metadata": {},
     "output_type": "execute_result"
    }
   ],
   "source": [
    "phones = ['+79033923029', '+78125849204', '+79053049385', '+79265748370', '+79030598495']\n",
    "phones"
   ]
  },
  {
   "cell_type": "code",
   "execution_count": 68,
   "metadata": {},
   "outputs": [
    {
     "name": "stdout",
     "output_type": "stream",
     "text": [
      "+79265748370\n"
     ]
    }
   ],
   "source": [
    "employee_base = {\n",
    "    'Мария Никитина': '+79033923029',\n",
    "    'Егор Савичев': '+78125849204',\n",
    "    'Александр Пахомов': '+79053049385',\n",
    "    'Алина Егорова' : '+79265748370',\n",
    "    'Руслан Башаров' : '+79030598495',\n",
    "}\n",
    "print(employee_base['Алина Егорова'])\n"
   ]
  },
  {
   "cell_type": "code",
   "execution_count": 79,
   "metadata": {},
   "outputs": [
    {
     "name": "stdout",
     "output_type": "stream",
     "text": [
      "A\n",
      "B\n",
      "C\n",
      "C\n",
      "A\n",
      "unknown\n"
     ]
    }
   ],
   "source": [
    "draw_dict = {\n",
    "\t'Россия': 'A',\n",
    "\t'Португалия': 'B',\n",
    "\t'Франция': 'C',\n",
    "\t'Дания': 'C',\n",
    "\t'Египет': 'A'}\n",
    "for country in draw_dict:\n",
    "    if country in draw_dict:\n",
    "        group = draw_dict[country]\n",
    "        print (group)\n",
    "coutry = 'Италия'\n",
    "group = 'unknown'\n",
    "print (group)\n"
   ]
  },
  {
   "cell_type": "code",
   "execution_count": 88,
   "metadata": {},
   "outputs": [
    {
     "name": "stdout",
     "output_type": "stream",
     "text": [
      "A\n",
      "B\n",
      "C\n",
      "C\n",
      "A\n",
      "A\n"
     ]
    }
   ],
   "source": [
    "draw_dict = {\n",
    "\t'Россия': 'A',\n",
    "\t'Португалия': 'B',\n",
    "\t'Франция': 'C',\n",
    "\t'Дания': 'C',\n",
    "\t'Египет': 'A'}\n",
    "for country in draw_dict:\n",
    "        group = draw_dict[country]\n",
    "        print (group)\n",
    "coutnry = 'Италия'\n",
    "draw_dict.setdefault('country', 'unknown')\n",
    "group = draw_dict[country]\n",
    "print(group)\n"
   ]
  },
  {
   "cell_type": "code",
   "execution_count": null,
   "metadata": {},
   "outputs": [],
   "source": [
    ">>> sorted(\"This is a test string from Andrew\".split(), key=ghd, reverse = true)\n",
    "['a', 'Andrew', 'from', 'is', 'string', 'test', 'This']"
   ]
  },
  {
   "cell_type": "code",
   "execution_count": 106,
   "metadata": {
    "scrolled": true
   },
   "outputs": [
    {
     "name": "stdout",
     "output_type": "stream",
     "text": [
      "\n",
      "Welcome to Python 3.8's help utility!\n",
      "\n",
      "If this is your first time using Python, you should definitely check out\n",
      "the tutorial on the Internet at https://docs.python.org/3.8/tutorial/.\n",
      "\n",
      "Enter the name of any module, keyword, or topic to get help on writing\n",
      "Python programs and using Python modules.  To quit this help utility and\n",
      "return to the interpreter, just type \"quit\".\n",
      "\n",
      "To get a list of available modules, keywords, symbols, or topics, type\n",
      "\"modules\", \"keywords\", \"symbols\", or \"topics\".  Each module also comes\n",
      "with a one-line summary of what it does; to list the modules whose name\n",
      "or summary contain a given string such as \"spam\", type \"modules spam\".\n",
      "\n",
      "help> sorted\n",
      "Help on built-in function sorted in module builtins:\n",
      "\n",
      "sorted(iterable, /, *, key=None, reverse=False)\n",
      "    Return a new list containing all items from the iterable in ascending order.\n",
      "    \n",
      "    A custom key function can be supplied to customize the sort order, and the\n",
      "    reverse flag can be set to request the result in descending order.\n",
      "\n",
      "\n",
      "You are now leaving help and returning to the Python interpreter.\n",
      "If you want to ask for help on a particular object directly from the\n",
      "interpreter, you can type \"help(object)\".  Executing \"help('string')\"\n",
      "has the same effect as typing a particular string at the help> prompt.\n"
     ]
    }
   ],
   "source": [
    "help()"
   ]
  },
  {
   "cell_type": "code",
   "execution_count": null,
   "metadata": {},
   "outputs": [],
   "source": [
    ">>> sorted(\"This is a test string from Andrew\".split(), key=str.lower)\n",
    "['a', 'Andrew', 'from', 'is', 'string', 'test', 'This']"
   ]
  },
  {
   "cell_type": "code",
   "execution_count": 118,
   "metadata": {
    "scrolled": true
   },
   "outputs": [
    {
     "data": {
      "text/plain": [
       "['Andrew', 'This', 'a', 'from', 'is', 'string', 'test']"
      ]
     },
     "execution_count": 118,
     "metadata": {},
     "output_type": "execute_result"
    }
   ],
   "source": [
    "sorted(\"This is a test string from Andrew\".split(), key=str, reverse = False)"
   ]
  },
  {
   "cell_type": "code",
   "execution_count": 119,
   "metadata": {},
   "outputs": [
    {
     "name": "stdout",
     "output_type": "stream",
     "text": [
      "Мария Никитина\n",
      "Егор Савичев\n",
      "Александр Пахомов\n",
      "Алина Егорова\n",
      "Руслан Башаров\n"
     ]
    }
   ],
   "source": [
    "for employee in employee_base:\n",
    "    print(employee)"
   ]
  },
  {
   "cell_type": "code",
   "execution_count": 157,
   "metadata": {},
   "outputs": [
    {
     "name": "stdout",
     "output_type": "stream",
     "text": [
      "{'Россия': 'A', 'Египет': 'A'}\n"
     ]
    }
   ],
   "source": [
    "draw_dict = {\n",
    "\t'Россия': 'A',\n",
    "\t'Португалия': 'B',\n",
    "\t'Франция': 'C',\n",
    "\t'Дания': 'C',\n",
    "\t'Египет': 'A'\n",
    "}\n",
    "draw_dict = {}\n",
    "for country in draw_dict:\n",
    "    group = draw_dict[country]\n",
    "    if group == 'A':\n",
    "        print (group)\n",
    "        draw_new.update ({country : group})\n",
    "print(draw_new)\n",
    "    "
   ]
  },
  {
   "cell_type": "code",
   "execution_count": 131,
   "metadata": {},
   "outputs": [
    {
     "ename": "SyntaxError",
     "evalue": "Missing parentheses in call to 'print'. Did you mean print(\"After adding\")? (<ipython-input-131-6d725d529f1d>, line 4)",
     "output_type": "error",
     "traceback": [
      "\u001b[1;36m  File \u001b[1;32m\"<ipython-input-131-6d725d529f1d>\"\u001b[1;36m, line \u001b[1;32m4\u001b[0m\n\u001b[1;33m    print \"After adding\"\u001b[0m\n\u001b[1;37m          ^\u001b[0m\n\u001b[1;31mSyntaxError\u001b[0m\u001b[1;31m:\u001b[0m Missing parentheses in call to 'print'. Did you mean print(\"After adding\")?\n"
     ]
    }
   ],
   "source": [
    "CountryCodeDict = {\"India\": 91, \"UK\" : 44 , \"USA\" : 1}\n",
    "print(CountryCodeDict)\n",
    "CountryCodeDict[\"Spain\"]= 34\n",
    "print \"After adding\"\n",
    "print(CountryCodeDict)"
   ]
  },
  {
   "cell_type": "code",
   "execution_count": 153,
   "metadata": {},
   "outputs": [
    {
     "name": "stdout",
     "output_type": "stream",
     "text": [
      "{'Россия': 'A', 'Египет': 'A'}\n"
     ]
    }
   ],
   "source": [
    "draw_dict = {\n",
    "\t'Россия': 'A',\n",
    "\t'Португалия': 'B',\n",
    "\t'Франция': 'C',\n",
    "\t'Дания': 'C',\n",
    "\t'Египет': 'A'\n",
    "}\n",
    "draw_new = {}\n",
    "for country in draw_dict:\n",
    "    group = draw_dict[country]\n",
    "    if group == 'A':\n",
    "        draw_new[country] = draw_dict[country]\n",
    "print(draw_new)\n",
    "    "
   ]
  },
  {
   "cell_type": "code",
   "execution_count": 149,
   "metadata": {},
   "outputs": [
    {
     "name": "stdout",
     "output_type": "stream",
     "text": [
      "{'Россия': 'A'}\n",
      "{'Египет': 'A'}\n"
     ]
    }
   ],
   "source": [
    "draw_new = {}\n",
    "for i in draw_dict:\n",
    "    if draw_dict[i] == \"A\":\n",
    "        draw_new = {i: draw_dict[i]}\n",
    "        print(draw_new)"
   ]
  },
  {
   "cell_type": "code",
   "execution_count": 158,
   "metadata": {},
   "outputs": [
    {
     "name": "stdout",
     "output_type": "stream",
     "text": [
      "{'Россия': 'A', 'Египет': 'A'}\n"
     ]
    }
   ],
   "source": [
    "draw_dict = {\n",
    "\t'Россия': 'A',\n",
    "\t'Португалия': 'B',\n",
    "\t'Франция': 'C',\n",
    "\t'Дания': 'C',\n",
    "\t'Египет': 'A'\n",
    "}\n",
    "draw_dict = {}\n",
    "for country in draw_dict:\n",
    "    group = draw_dict[country]\n",
    "    if group == 'A':\n",
    "        print (group)\n",
    "        draw_new.update ({country : group})\n",
    "print(draw_new)\n",
    "    "
   ]
  },
  {
   "cell_type": "code",
   "execution_count": 163,
   "metadata": {},
   "outputs": [
    {
     "name": "stdout",
     "output_type": "stream",
     "text": [
      "{'Россия': 'A', 'Египет': 'A'}\n"
     ]
    }
   ],
   "source": [
    "draw_dict = {\n",
    "\t'Россия': 'A',\n",
    "\t'Португалия': 'B',\n",
    "\t'Франция': 'C',\n",
    "\t'Дания': 'C',\n",
    "\t'Египет': 'A'\n",
    "}\n",
    "draw_new = {}\n",
    "for country, group in draw_dict.items():\n",
    "    if group == 'A':\n",
    "        draw_new.update({country : group})\n",
    "print(draw_new)"
   ]
  },
  {
   "cell_type": "code",
   "execution_count": 176,
   "metadata": {},
   "outputs": [
    {
     "name": "stdout",
     "output_type": "stream",
     "text": [
      "13841\n"
     ]
    }
   ],
   "source": [
    "spendings = {'2019-04-01':2504, '2019-04-02' : 4994, '2019-04-03' : 6343}\n",
    "total = 0\n",
    "#print (spendings)\n",
    "for  day ,spend in spendings.items():\n",
    "    total += spend\n",
    "print(total)"
   ]
  },
  {
   "cell_type": "code",
   "execution_count": 178,
   "metadata": {},
   "outputs": [
    {
     "name": "stdout",
     "output_type": "stream",
     "text": [
      "Номер неверен\n"
     ]
    }
   ],
   "source": [
    "phones = {\n",
    "\t'Гордиенко Виктория': 5140,\n",
    "\t'Анисимов Кирилл': 5145,\n",
    "\t'Кузнецова Дарья': 5142\n",
    "}\n",
    "for name, number in phones.items():\n",
    "    if name == 'Кузнецова Дарья' and number == 5142:\n",
    "        print ('Номер верен')\n",
    "    elif name == 'Кузнецова Дарья' and number!= 5142:\n",
    "        print ('Номер неверен')\n",
    "    "
   ]
  },
  {
   "cell_type": "code",
   "execution_count": 180,
   "metadata": {},
   "outputs": [
    {
     "name": "stdout",
     "output_type": "stream",
     "text": [
      "ok\n"
     ]
    }
   ],
   "source": [
    "phones = {\n",
    "\t'Гордиенко Виктория': 5140,\n",
    "\t'Анисимов Кирилл': 5145,\n",
    "\t'Кузнецова Дарья': 5142\n",
    "}\n",
    "if phones['Кузнецова Дарья'] == 5142:\n",
    "    print('ok')"
   ]
  },
  {
   "cell_type": "code",
   "execution_count": 181,
   "metadata": {},
   "outputs": [
    {
     "name": "stdout",
     "output_type": "stream",
     "text": [
      "ok\n"
     ]
    }
   ],
   "source": [
    "phones = {\n",
    "\t'Гордиенко Виктория': 5140,\n",
    "\t'Анисимов Кирилл': 5145,\n",
    "\t'Кузнецова Дарья': 5142\n",
    "}\n",
    "for record in phones:\n",
    "    if record == 'Кузнецова Дарья' and phones[record] == 5142:\n",
    "        print('ok')"
   ]
  },
  {
   "cell_type": "code",
   "execution_count": 185,
   "metadata": {},
   "outputs": [
    {
     "name": "stdout",
     "output_type": "stream",
     "text": [
      "100934\n"
     ]
    }
   ],
   "source": [
    "csv_file = [\n",
    "    ['100412', 'Ботинки для горных лыж ATOMIC Hawx Prime 100', 9],\n",
    "    ['100728', 'Скейтборд Jdbug RT03', 32],\n",
    "    ['100732', 'Роллерсерф Razor RipStik Bright', 11],\n",
    "    ['100803', 'Ботинки для сноуборда DC Tucknee', 20],\n",
    "    ['100898', 'Шагомер Omron HJA-306', 2],\n",
    "    ['100934', 'Пульсометр Beurer PM62', 17],\n",
    "]\n",
    "pulsometr_id = csv_file[5][0]\n",
    "print(pulsometr_id)"
   ]
  },
  {
   "cell_type": "code",
   "execution_count": 186,
   "metadata": {},
   "outputs": [
    {
     "name": "stdout",
     "output_type": "stream",
     "text": [
      "['100412', 'Ботинки для горных лыж ATOMIC Hawx Prime 100', 9]\n",
      "['100728', 'Скейтборд Jdbug RT03', 32]\n",
      "['100732', 'Роллерсерф Razor RipStik Bright', 11]\n",
      "['100803', 'Ботинки для сноуборда DC Tucknee', 20]\n",
      "['100898', 'Шагомер Omron HJA-306', 2]\n",
      "['100934', 'Пульсометр Beurer PM62', 17]\n"
     ]
    }
   ],
   "source": [
    "for record in csv_file:\n",
    "    print(record)"
   ]
  },
  {
   "cell_type": "code",
   "execution_count": 187,
   "metadata": {},
   "outputs": [
    {
     "name": "stdout",
     "output_type": "stream",
     "text": [
      "Количество шагомеров на складе - 2шт\n"
     ]
    }
   ],
   "source": [
    "for record in csv_file:\n",
    "    if record[1] == 'Шагомер Omron HJA-306':\n",
    "        print('Количество шагомеров на складе - {}шт'.format(record[2]))"
   ]
  },
  {
   "cell_type": "code",
   "execution_count": 229,
   "metadata": {},
   "outputs": [
    {
     "name": "stdout",
     "output_type": "stream",
     "text": [
      "['Скейтборд Jdbug RT03', 'Роллерсерф Razor RipStik Bright', 'Ботинки для сноуборда DC Tucknee', 'Пульсометр Beurer PM62']\n"
     ]
    }
   ],
   "source": [
    "csv_file = [\n",
    "    ['100412', 'Ботинки для горных лыж ATOMIC Hawx Prime 100', 9],\n",
    "    ['100728', 'Скейтборд Jdbug RT03', 32],\n",
    "    ['100732', 'Роллерсерф Razor RipStik Bright', 11],\n",
    "    ['100803', 'Ботинки для сноуборда DC Tucknee', 20],\n",
    "    ['100898', 'Шагомер Omron HJA-306', 2],\n",
    "    ['100934', 'Пульсометр Beurer PM62', 17],\n",
    "]\n",
    "csv_file_filtered = []\n",
    "for record in csv_file:\n",
    "    if record[2] > 10:\n",
    "        csv_file_filtered.append(record[1])\n",
    "print(csv_file_filtered)\n",
    "        "
   ]
  },
  {
   "cell_type": "code",
   "execution_count": 193,
   "metadata": {},
   "outputs": [
    {
     "name": "stdout",
     "output_type": "stream",
     "text": [
      "5387\n"
     ]
    }
   ],
   "source": [
    "contacts = {\n",
    "    'Борискин Владимир': {\n",
    "        'tel': '5387',\n",
    "        'position': 'менеджер'\n",
    "    },\n",
    "    \n",
    "    'Сомова Наталья': {\n",
    "        'tel': '5443',\n",
    "        'position': 'разработчик'\n",
    "    },\n",
    "}\n",
    "print(contacts['Борискин Владимир']['tel'])"
   ]
  },
  {
   "cell_type": "code",
   "execution_count": 230,
   "metadata": {},
   "outputs": [
    {
     "data": {
      "text/plain": [
       "['Ботинки для горных лыж ATOMIC Hawx Prime 100',\n",
       " 'Ботинки для сноуборда DC Tucknee']"
      ]
     },
     "execution_count": 230,
     "metadata": {},
     "output_type": "execute_result"
    }
   ],
   "source": [
    "csv_dict = [\n",
    "    {'id': '100412', 'position': 'Ботинки для горных лыж ATOMIC Hawx Prime 100', 'count': 9},\n",
    "    {'id': '100728', 'position': 'Скейтборд Jdbug RT03', 'count': 32},\n",
    "    {'id': '100732', 'position': 'Роллерсерф Razor RipStik Bright', 'count': 11},\n",
    "    {'id': '100803', 'position': 'Ботинки для сноуборда DC Tucknee', 'count': 20},\n",
    "    {'id': '100898', 'position': 'Шагомер Omron HJA-306', 'count': 2},\n",
    "    {'id': '100934', 'position': 'Пульсометр Beurer PM62', 'count': 17},\n",
    "]\n",
    "csv_dict_boots = []\n",
    "for boots in csv_dict:\n",
    "    if 'Ботинки' in  boots['position']:\n",
    "        csv_dict_boots.append(boots['position'])\n",
    "csv_dict_boots"
   ]
  },
  {
   "cell_type": "code",
   "execution_count": 217,
   "metadata": {},
   "outputs": [
    {
     "name": "stdout",
     "output_type": "stream",
     "text": [
      "разработчик\n",
      "5443\n"
     ]
    }
   ],
   "source": [
    "contacts = {\n",
    "    'Борискин Владимир': {\n",
    "        'tel': '5387',\n",
    "        'position': 'менеджер'\n",
    "    },\n",
    "    \n",
    "    'Сомова Наталья': {\n",
    "        'tel': '5443',\n",
    "        'position': 'разработчик'\n",
    "    },\n",
    "}\n",
    "print(contacts['Сомова Наталья']['position'])\n",
    "\n",
    "print(contacts['Сомова Наталья']['tel'])\n"
   ]
  },
  {
   "cell_type": "code",
   "execution_count": 222,
   "metadata": {},
   "outputs": [
    {
     "name": "stdout",
     "output_type": "stream",
     "text": [
      "98\n"
     ]
    }
   ],
   "source": [
    "results = [\n",
    "\t{'cost': 98, 'source': 'vk'},\n",
    "\t{'cost': 153, 'source': 'yandex'},\n",
    "\t{'cost': 110, 'source': 'facebook'},\n",
    "]\n",
    "cost = []\n",
    "for number in results:\n",
    "    cost.append (number['cost'])\n",
    "print (min(cost))"
   ]
  },
  {
   "cell_type": "code",
   "execution_count": 226,
   "metadata": {},
   "outputs": [
    {
     "name": "stdout",
     "output_type": "stream",
     "text": [
      "5\n"
     ]
    }
   ],
   "source": [
    "defect_stats = [\n",
    "\t{'step number': 1, 'damage': 0.98},\n",
    "\t{'step number': 2, 'damage': 0.99},\n",
    "\t{'step number': 3, 'damage': 0.99},\n",
    "\t{'step number': 4, 'damage': 0.96},\n",
    "\t{'step number': 5, 'damage': 0.97},\n",
    "\t{'step number': 6, 'damage': 0.97},\n",
    "]\n",
    "total_damage = 100\n",
    "for steps in defect_stats:\n",
    "    total_damage = total_damage * steps['damage']\n",
    "    if total_damage <90:\n",
    "        print(steps['step number'])\n",
    "        break"
   ]
  },
  {
   "cell_type": "code",
   "execution_count": 243,
   "metadata": {},
   "outputs": [
    {
     "data": {
      "text/plain": [
       "'AMD'"
      ]
     },
     "execution_count": 243,
     "metadata": {},
     "output_type": "execute_result"
    }
   ],
   "source": [
    "currency = {\n",
    "\t'AMD': {\n",
    "\t\t'Name': 'Армянских драмов',\n",
    "\t\t'Nominal': 100,\n",
    "\t\t'Value': 13.121\n",
    "\t},\n",
    "\n",
    "\t'AUD': {\n",
    "\t\t'Name': 'Австралийский доллар',\n",
    "\t\t'Nominal': 1,\n",
    "\t\t'Value': 45.5309\n",
    "\t},\n",
    "\n",
    "\t'INR': {\n",
    "\t\t'Name': 'Индийских рупий',\n",
    "\t\t'Nominal': 100,\n",
    "\t\t'Value': 92.9658\n",
    "\t},\n",
    "\n",
    "\t'MDL': {\n",
    "\t\t'Name': 'Молдавских леев',\n",
    "\t\t'Nominal': 10,\n",
    "\t\t'Value': 36.9305\n",
    "\t},\n",
    "}\n",
    "list_current ={}\n",
    "a = 0\n",
    "b = 0\n",
    "for current in currency:\n",
    "     a = currency[current]['Value']\n",
    "     b = currency[current]['Nominal']\n",
    "     list_current[current] = a/b\n",
    "min(list_current)\n"
   ]
  },
  {
   "cell_type": "code",
   "execution_count": 264,
   "metadata": {},
   "outputs": [
    {
     "data": {
      "text/plain": [
       "dict_items([('Проклятие Черной жемчужины', {'человек': 17}), ('Сундук мертвеца', {'человек': 56, 'раков-отшельников': 1}), ('На краю света', {'человек': 88}), ('На странных берегах', {'человек': 56, 'русалок': 2, 'ядовитых жаб': 3, 'пиратов зомби': 2})])"
      ]
     },
     "execution_count": 264,
     "metadata": {},
     "output_type": "execute_result"
    }
   ],
   "source": [
    "bodycount = {\n",
    "\t'Проклятие Черной жемчужины': {\n",
    "\t\t'человек': 17\n",
    "\t}, \n",
    "\n",
    "\t'Сундук мертвеца': {\n",
    "\t\t'человек': 56,\n",
    "\t\t'раков-отшельников': 1\n",
    "\t},\n",
    "\n",
    "\t'На краю света': {\n",
    "\t\t'человек': 88\n",
    "\t},\n",
    "\n",
    "\t'На странных берегах': {\n",
    "\t\t'человек': 56,\n",
    "\t\t'русалок': 2,\n",
    "\t\t'ядовитых жаб': 3,\n",
    "\t\t'пиратов зомби': 2\n",
    "\t}\n",
    "}\n",
    "result = []\n",
    "for film, died in bodycount.items():\n",
    "    for key in died.values():\n",
    "        result.append(key)\n",
    "print(result)\n",
    "a = 0\n",
    "for i in result:\n",
    "    a +=i\n",
    "print(a)\n",
    "        \n",
    "    \n",
    "     \n",
    "    "
   ]
  },
  {
   "cell_type": "code",
   "execution_count": 265,
   "metadata": {},
   "outputs": [
    {
     "data": {
      "text/plain": [
       "dict_items([('Проклятие Черной жемчужины', {'человек': 17}), ('Сундук мертвеца', {'человек': 56, 'раков-отшельников': 1}), ('На краю света', {'человек': 88}), ('На странных берегах', {'человек': 56, 'русалок': 2, 'ядовитых жаб': 3, 'пиратов зомби': 2})])"
      ]
     },
     "execution_count": 265,
     "metadata": {},
     "output_type": "execute_result"
    }
   ],
   "source": [
    "bodycount = {\n",
    "\t'Проклятие Черной жемчужины': {\n",
    "\t\t'человек': 17\n",
    "\t}, \n",
    "\n",
    "\t'Сундук мертвеца': {\n",
    "\t\t'человек': 56,\n",
    "\t\t'раков-отшельников': 1\n",
    "\t},\n",
    "\n",
    "\t'На краю света': {\n",
    "\t\t'человек': 88\n",
    "\t},\n",
    "\n",
    "\t'На странных берегах': {\n",
    "\t\t'человек': 56,\n",
    "\t\t'русалок': 2,\n",
    "\t\t'ядовитых жаб': 3,\n",
    "\t\t'пиратов зомби': 2\n",
    "\t}\n",
    "}\n",
    "bodycount.keys()\n",
    "bodycount.items()"
   ]
  },
  {
   "cell_type": "code",
   "execution_count": 270,
   "metadata": {},
   "outputs": [
    {
     "ename": "KeyError",
     "evalue": "1",
     "output_type": "error",
     "traceback": [
      "\u001b[1;31m---------------------------------------------------------------------------\u001b[0m",
      "\u001b[1;31mKeyError\u001b[0m                                  Traceback (most recent call last)",
      "\u001b[1;32m<ipython-input-270-7fabd0339f8d>\u001b[0m in \u001b[0;36m<module>\u001b[1;34m\u001b[0m\n\u001b[0;32m      4\u001b[0m         \u001b[1;34m'Лиссабон'\u001b[0m\u001b[1;33m:\u001b[0m \u001b[1;33m{\u001b[0m\u001b[1;34m'время'\u001b[0m\u001b[1;33m:\u001b[0m \u001b[1;34m'15:40'\u001b[0m\u001b[1;33m,\u001b[0m \u001b[1;34m'статус'\u001b[0m\u001b[1;33m:\u001b[0m \u001b[1;34m'ожидается'\u001b[0m\u001b[1;33m,\u001b[0m \u001b[1;34m'рейс'\u001b[0m\u001b[1;33m:\u001b[0m \u001b[1;33m[\u001b[0m\u001b[1;34m'Nordwind'\u001b[0m\u001b[1;33m,\u001b[0m \u001b[1;34m'Аэрофлот'\u001b[0m\u001b[1;33m]\u001b[0m\u001b[1;33m}\u001b[0m\u001b[1;33m,\u001b[0m\u001b[1;33m\u001b[0m\u001b[1;33m\u001b[0m\u001b[0m\n\u001b[0;32m      5\u001b[0m }\n\u001b[1;32m----> 6\u001b[1;33m \u001b[0marrivals\u001b[0m\u001b[1;33m[\u001b[0m\u001b[1;34m'Лиссабон'\u001b[0m\u001b[1;33m]\u001b[0m\u001b[1;33m[\u001b[0m\u001b[1;36m1\u001b[0m\u001b[1;33m]\u001b[0m\u001b[1;33m\u001b[0m\u001b[1;33m\u001b[0m\u001b[0m\n\u001b[0m",
      "\u001b[1;31mKeyError\u001b[0m: 1"
     ]
    }
   ],
   "source": [
    "arrivals = {\n",
    "\t'Париж': {'время': '15:25', 'статус': 'ожидается', 'рейс': ['Аэрофлот']},\n",
    "\t'Пекин': {'время': '15:35', 'статус': 'опаздывает', 'рейс': ['China Southern Airlines', 'Россия']},\n",
    "\t'Лиссабон': {'время': '15:40', 'статус': 'ожидается', 'рейс': ['Nordwind', 'Аэрофлот']},\n",
    "}\n",
    "arrivals['Лиссабон'][1]"
   ]
  },
  {
   "cell_type": "code",
   "execution_count": 271,
   "metadata": {},
   "outputs": [],
   "source": [
    "import json\n",
    "with open('data.json' , 'rb') as infile:\n",
    "    data = json.load(infile)"
   ]
  },
  {
   "cell_type": "code",
   "execution_count": 272,
   "metadata": {},
   "outputs": [
    {
     "data": {
      "text/plain": [
       "dict"
      ]
     },
     "execution_count": 272,
     "metadata": {},
     "output_type": "execute_result"
    }
   ],
   "source": [
    "type (data)"
   ]
  },
  {
   "cell_type": "code",
   "execution_count": 273,
   "metadata": {},
   "outputs": [
    {
     "data": {
      "text/plain": [
       "dict_keys(['events_data'])"
      ]
     },
     "execution_count": 273,
     "metadata": {},
     "output_type": "execute_result"
    }
   ],
   "source": [
    "data.keys()"
   ]
  },
  {
   "cell_type": "code",
   "execution_count": 274,
   "metadata": {},
   "outputs": [
    {
     "data": {
      "text/plain": [
       "[{'id': 47946124,\n",
       "  'client_id': 62526,\n",
       "  'user_id': 110777,\n",
       "  'category': 'page',\n",
       "  'action': 'enter',\n",
       "  'options': {'name': 'landing'}},\n",
       " {'id': 47947076,\n",
       "  'client_id': 61944,\n",
       "  'user_id': 108565,\n",
       "  'category': 'page',\n",
       "  'action': 'enter',\n",
       "  'options': {'name': 'landing'}},\n",
       " {'id': 47962056,\n",
       "  'client_id': 27115,\n",
       "  'user_id': 49440,\n",
       "  'category': 'page',\n",
       "  'action': 'enter',\n",
       "  'options': {'name': 'page'}},\n",
       " {'id': 47962120,\n",
       "  'client_id': 27115,\n",
       "  'user_id': 49440,\n",
       "  'category': 'datepicker',\n",
       "  'action': 'apply',\n",
       "  'options': {'endDate': '2019-03-31 23:59:59',\n",
       "   'startDate': '2019-03-25 00:00:00'}},\n",
       " {'id': 47962218,\n",
       "  'client_id': 27115,\n",
       "  'user_id': 49440,\n",
       "  'category': 'table',\n",
       "  'action': 'sort',\n",
       "  'options': {'dir': 'ASC', 'name': 'deal_date'}},\n",
       " {'id': 47962238,\n",
       "  'client_id': 27115,\n",
       "  'user_id': 49440,\n",
       "  'category': 'table',\n",
       "  'action': 'sort',\n",
       "  'options': {'dir': 'DESC', 'name': 'deal_date'}},\n",
       " {'id': 47962532,\n",
       "  'client_id': 27115,\n",
       "  'user_id': 49440,\n",
       "  'category': 'table',\n",
       "  'action': 'sort',\n",
       "  'options': {'dir': 'ASC', 'name': 'deal_date'}},\n",
       " {'id': 47962534,\n",
       "  'client_id': 27115,\n",
       "  'user_id': 49440,\n",
       "  'category': 'table',\n",
       "  'action': 'sort',\n",
       "  'options': {'dir': 'DESC', 'name': 'deal_date'}},\n",
       " {'id': 47962696,\n",
       "  'client_id': 27115,\n",
       "  'user_id': 49440,\n",
       "  'category': 'datepicker',\n",
       "  'action': 'apply',\n",
       "  'options': {'endDate': '2019-03-10 23:59:59',\n",
       "   'startDate': '2019-03-04 00:00:00'}},\n",
       " {'id': 47962748,\n",
       "  'client_id': 27115,\n",
       "  'user_id': 49440,\n",
       "  'category': 'datepicker',\n",
       "  'action': 'apply',\n",
       "  'options': {'endDate': '2019-02-24 23:59:59',\n",
       "   'startDate': '2019-02-18 00:00:00'}},\n",
       " {'id': 47962830,\n",
       "  'client_id': 27115,\n",
       "  'user_id': 49440,\n",
       "  'category': 'datepicker',\n",
       "  'action': 'apply',\n",
       "  'options': {'endDate': '2019-03-31 23:59:59',\n",
       "   'startDate': '2019-03-25 00:00:00'}},\n",
       " {'id': 47962860,\n",
       "  'client_id': 27115,\n",
       "  'user_id': 49440,\n",
       "  'category': 'datepicker',\n",
       "  'action': 'apply',\n",
       "  'options': {'endDate': '2019-03-31 23:59:59',\n",
       "   'startDate': '2019-03-28 00:00:00'}},\n",
       " {'id': 47962952,\n",
       "  'client_id': 27115,\n",
       "  'user_id': 49440,\n",
       "  'category': 'datepicker',\n",
       "  'action': 'apply',\n",
       "  'options': {'endDate': '2019-03-31 23:59:59',\n",
       "   'startDate': '2019-03-29 00:00:00'}},\n",
       " {'id': 47964366,\n",
       "  'client_id': 62017,\n",
       "  'user_id': 108835,\n",
       "  'category': 'page',\n",
       "  'action': 'enter',\n",
       "  'options': {'name': 'landing'}},\n",
       " {'id': 47989384,\n",
       "  'client_id': 63120,\n",
       "  'user_id': 113069,\n",
       "  'category': 'page',\n",
       "  'action': 'enter',\n",
       "  'options': {'name': 'landing'}},\n",
       " {'id': 48010418,\n",
       "  'client_id': 59883,\n",
       "  'user_id': 108493,\n",
       "  'category': 'page',\n",
       "  'action': 'enter',\n",
       "  'options': {'name': 'landing'}},\n",
       " {'id': 48012170,\n",
       "  'client_id': 2913,\n",
       "  'user_id': 37412,\n",
       "  'category': 'page',\n",
       "  'action': 'enter',\n",
       "  'options': {'name': 'landing'}},\n",
       " {'id': 48014430,\n",
       "  'client_id': 62940,\n",
       "  'user_id': 112351,\n",
       "  'category': 'page',\n",
       "  'action': 'enter',\n",
       "  'options': {'name': 'landing'}},\n",
       " {'id': 48022684,\n",
       "  'client_id': 63149,\n",
       "  'user_id': 113143,\n",
       "  'category': 'page',\n",
       "  'action': 'enter',\n",
       "  'options': {'name': 'landing'}},\n",
       " {'id': 48026886,\n",
       "  'client_id': 45391,\n",
       "  'user_id': 76047,\n",
       "  'category': 'page',\n",
       "  'action': 'enter',\n",
       "  'options': {'name': 'landing'}},\n",
       " {'id': 48034878,\n",
       "  'client_id': 18923,\n",
       "  'user_id': 36488,\n",
       "  'category': 'page',\n",
       "  'action': 'enter',\n",
       "  'options': {'name': 'landing'}},\n",
       " {'id': 48042052,\n",
       "  'client_id': 63019,\n",
       "  'user_id': 113169,\n",
       "  'category': 'page',\n",
       "  'action': 'enter',\n",
       "  'options': {'name': 'landing'}},\n",
       " {'id': 48043326,\n",
       "  'client_id': 18923,\n",
       "  'user_id': 36488,\n",
       "  'category': 'page',\n",
       "  'action': 'enter',\n",
       "  'options': {'name': 'landing'}},\n",
       " {'id': 48043640,\n",
       "  'client_id': 18923,\n",
       "  'user_id': 36488,\n",
       "  'category': 'page',\n",
       "  'action': 'enter',\n",
       "  'options': {'name': 'landing'}},\n",
       " {'id': 48051248,\n",
       "  'client_id': 15759,\n",
       "  'user_id': 92681,\n",
       "  'category': 'page',\n",
       "  'action': 'enter',\n",
       "  'options': {'name': 'landing'}},\n",
       " {'id': 48061250,\n",
       "  'client_id': 62007,\n",
       "  'user_id': 92681,\n",
       "  'category': 'page',\n",
       "  'action': 'enter',\n",
       "  'options': {'name': 'page'}},\n",
       " {'id': 48066902,\n",
       "  'client_id': 62941,\n",
       "  'user_id': 112357,\n",
       "  'category': 'page',\n",
       "  'action': 'enter',\n",
       "  'options': {'name': 'landing'}},\n",
       " {'id': 48081876,\n",
       "  'client_id': 51009,\n",
       "  'user_id': 87778,\n",
       "  'category': 'page',\n",
       "  'action': 'enter',\n",
       "  'options': {'name': 'landing'}},\n",
       " {'id': 48106514,\n",
       "  'client_id': 62236,\n",
       "  'user_id': 109579,\n",
       "  'category': 'page',\n",
       "  'action': 'enter',\n",
       "  'options': {'name': 'landing'}},\n",
       " {'id': 48110768,\n",
       "  'client_id': 44682,\n",
       "  'user_id': 74909,\n",
       "  'category': 'page',\n",
       "  'action': 'enter',\n",
       "  'options': {'name': 'landing'}},\n",
       " {'id': 48114652,\n",
       "  'client_id': 39709,\n",
       "  'user_id': 67955,\n",
       "  'category': 'page',\n",
       "  'action': 'enter',\n",
       "  'options': {'name': 'landing'}},\n",
       " {'id': 48118216,\n",
       "  'client_id': 60459,\n",
       "  'user_id': 32532,\n",
       "  'category': 'page',\n",
       "  'action': 'enter',\n",
       "  'options': {'name': 'page'}},\n",
       " {'id': 48118370,\n",
       "  'client_id': 62144,\n",
       "  'user_id': 109283,\n",
       "  'category': 'page',\n",
       "  'action': 'enter',\n",
       "  'options': {'name': 'landing'}},\n",
       " {'id': 48118516,\n",
       "  'client_id': 60459,\n",
       "  'user_id': 32532,\n",
       "  'category': 'report',\n",
       "  'action': 'change_mode',\n",
       "  'options': {'mode': 'deals'}},\n",
       " {'id': 48118564,\n",
       "  'client_id': 60459,\n",
       "  'user_id': 32532,\n",
       "  'category': 'report',\n",
       "  'action': 'change_mode',\n",
       "  'options': {'mode': 'summary'}},\n",
       " {'id': 48118590,\n",
       "  'client_id': 60459,\n",
       "  'user_id': 32532,\n",
       "  'category': 'report',\n",
       "  'action': 'change_mode',\n",
       "  'options': {'mode': 'deals'}},\n",
       " {'id': 48118920,\n",
       "  'client_id': 60459,\n",
       "  'user_id': 32532,\n",
       "  'category': 'report',\n",
       "  'action': 'change_mode',\n",
       "  'options': {'mode': 'summary'}},\n",
       " {'id': 48120374,\n",
       "  'client_id': 60459,\n",
       "  'user_id': 32532,\n",
       "  'category': 'page',\n",
       "  'action': 'enter',\n",
       "  'options': {'name': 'page'}},\n",
       " {'id': 48120386,\n",
       "  'client_id': 60459,\n",
       "  'user_id': 32532,\n",
       "  'category': 'report',\n",
       "  'action': 'change_mode',\n",
       "  'options': {'mode': 'deals'}},\n",
       " {'id': 48120602,\n",
       "  'client_id': 52492,\n",
       "  'user_id': 91178,\n",
       "  'category': 'page',\n",
       "  'action': 'enter',\n",
       "  'options': {'name': 'page'}},\n",
       " {'id': 48120604,\n",
       "  'client_id': 52492,\n",
       "  'user_id': 105477,\n",
       "  'category': 'page',\n",
       "  'action': 'enter',\n",
       "  'options': {'name': 'page'}},\n",
       " {'id': 48120770,\n",
       "  'client_id': 60459,\n",
       "  'user_id': 32532,\n",
       "  'category': 'page',\n",
       "  'action': 'enter',\n",
       "  'options': {'name': 'page'}},\n",
       " {'id': 48120876,\n",
       "  'client_id': 60459,\n",
       "  'user_id': 32532,\n",
       "  'category': 'table',\n",
       "  'action': 'sort',\n",
       "  'options': {'dir': 'ASC', 'name': 'visitor_id'}},\n",
       " {'id': 48120896,\n",
       "  'client_id': 60459,\n",
       "  'user_id': 32532,\n",
       "  'category': 'table',\n",
       "  'action': 'sort',\n",
       "  'options': {'dir': 'DESC', 'name': 'visitor_id'}},\n",
       " {'id': 48121006,\n",
       "  'client_id': 60459,\n",
       "  'user_id': 32532,\n",
       "  'category': 'table',\n",
       "  'action': 'sort',\n",
       "  'options': {'dir': 'ASC', 'name': 'visitor_id'}},\n",
       " {'id': 48121008,\n",
       "  'client_id': 60459,\n",
       "  'user_id': 32532,\n",
       "  'category': 'table',\n",
       "  'action': 'sort',\n",
       "  'options': {'dir': 'DESC', 'name': 'visitor_id'}},\n",
       " {'id': 48125372,\n",
       "  'client_id': 52492,\n",
       "  'user_id': 91178,\n",
       "  'category': 'page',\n",
       "  'action': 'enter',\n",
       "  'options': {'name': 'page'}},\n",
       " {'id': 48130434,\n",
       "  'client_id': 18923,\n",
       "  'user_id': 36488,\n",
       "  'category': 'page',\n",
       "  'action': 'enter',\n",
       "  'options': {'name': 'landing'}},\n",
       " {'id': 48135712,\n",
       "  'client_id': 25301,\n",
       "  'user_id': 54229,\n",
       "  'category': 'page',\n",
       "  'action': 'enter',\n",
       "  'options': {'name': 'landing'}},\n",
       " {'id': 48136376,\n",
       "  'client_id': 18923,\n",
       "  'user_id': 36488,\n",
       "  'category': 'page',\n",
       "  'action': 'enter',\n",
       "  'options': {'name': 'landing'}},\n",
       " {'id': 48136890,\n",
       "  'client_id': 33645,\n",
       "  'user_id': 61378,\n",
       "  'category': 'page',\n",
       "  'action': 'enter',\n",
       "  'options': {'name': 'landing'}},\n",
       " {'id': 48145332,\n",
       "  'client_id': 62089,\n",
       "  'user_id': 109095,\n",
       "  'category': 'page',\n",
       "  'action': 'enter',\n",
       "  'options': {'name': 'landing'}},\n",
       " {'id': 48155244,\n",
       "  'client_id': 26705,\n",
       "  'user_id': 48880,\n",
       "  'category': 'page',\n",
       "  'action': 'enter',\n",
       "  'options': {'name': 'landing'}},\n",
       " {'id': 48160942,\n",
       "  'client_id': 1103,\n",
       "  'user_id': 109501,\n",
       "  'category': 'page',\n",
       "  'action': 'enter',\n",
       "  'options': {'name': 'page'}},\n",
       " {'id': 48166190,\n",
       "  'client_id': 62439,\n",
       "  'user_id': 110397,\n",
       "  'category': 'page',\n",
       "  'action': 'enter',\n",
       "  'options': {'name': 'landing'}},\n",
       " {'id': 48167428,\n",
       "  'client_id': 44196,\n",
       "  'user_id': 74136,\n",
       "  'category': 'page',\n",
       "  'action': 'enter',\n",
       "  'options': {'name': 'landing'}},\n",
       " {'id': 48171114,\n",
       "  'client_id': 62602,\n",
       "  'user_id': 111069,\n",
       "  'category': 'page',\n",
       "  'action': 'enter',\n",
       "  'options': {'name': 'page'}},\n",
       " {'id': 48173426,\n",
       "  'client_id': 62602,\n",
       "  'user_id': 111069,\n",
       "  'category': 'page',\n",
       "  'action': 'enter',\n",
       "  'options': {'name': 'page'}},\n",
       " {'id': 48173444,\n",
       "  'client_id': 62602,\n",
       "  'user_id': 111069,\n",
       "  'category': 'report',\n",
       "  'action': 'link_click',\n",
       "  'options': {'url': 'javascript:void(0);',\n",
       "   'name': 'deal_count',\n",
       "   'value': '1'}},\n",
       " {'id': 48173446,\n",
       "  'client_id': 62602,\n",
       "  'user_id': 111069,\n",
       "  'category': 'page',\n",
       "  'action': 'enter',\n",
       "  'options': {'name': 'page'}},\n",
       " {'id': 48173640,\n",
       "  'client_id': 62602,\n",
       "  'user_id': 111069,\n",
       "  'category': 'page',\n",
       "  'action': 'enter',\n",
       "  'options': {'name': 'page'}},\n",
       " {'id': 48173686,\n",
       "  'client_id': 62602,\n",
       "  'user_id': 111069,\n",
       "  'category': 'page',\n",
       "  'action': 'enter',\n",
       "  'options': {'name': 'page'}},\n",
       " {'id': 48173698,\n",
       "  'client_id': 62602,\n",
       "  'user_id': 111069,\n",
       "  'category': 'page',\n",
       "  'action': 'enter',\n",
       "  'options': {'name': 'page'}},\n",
       " {'id': 48174302,\n",
       "  'client_id': 62602,\n",
       "  'user_id': 111069,\n",
       "  'category': 'page',\n",
       "  'action': 'enter',\n",
       "  'options': {'name': 'page'}},\n",
       " {'id': 48174312,\n",
       "  'client_id': 62602,\n",
       "  'user_id': 111069,\n",
       "  'category': 'report',\n",
       "  'action': 'link_click',\n",
       "  'options': {'url': 'javascript:void(0);',\n",
       "   'name': 'deal_count',\n",
       "   'value': '1'}},\n",
       " {'id': 48174314,\n",
       "  'client_id': 62602,\n",
       "  'user_id': 111069,\n",
       "  'category': 'page',\n",
       "  'action': 'enter',\n",
       "  'options': {'name': 'page'}},\n",
       " {'id': 48174338,\n",
       "  'client_id': 62602,\n",
       "  'user_id': 111069,\n",
       "  'category': 'page',\n",
       "  'action': 'enter',\n",
       "  'options': {'name': 'page'}},\n",
       " {'id': 48179988,\n",
       "  'client_id': 50149,\n",
       "  'user_id': 86073,\n",
       "  'category': 'page',\n",
       "  'action': 'enter',\n",
       "  'options': {'name': 'landing'}},\n",
       " {'id': 57301281,\n",
       "  'client_id': 57009,\n",
       "  'user_id': 107244,\n",
       "  'category': 'page',\n",
       "  'action': 'enter',\n",
       "  'options': {'name': 'landing'}},\n",
       " {'id': 57326589,\n",
       "  'client_id': 57207,\n",
       "  'user_id': 107968,\n",
       "  'category': 'page',\n",
       "  'action': 'enter',\n",
       "  'options': {'name': 'landing'}},\n",
       " {'id': 57328781,\n",
       "  'client_id': 32792,\n",
       "  'user_id': 57997,\n",
       "  'category': 'page',\n",
       "  'action': 'enter',\n",
       "  'options': {'name': 'landing'}},\n",
       " {'id': 57335607,\n",
       "  'client_id': 27323,\n",
       "  'user_id': 92681,\n",
       "  'category': 'page',\n",
       "  'action': 'enter',\n",
       "  'options': {'name': 'landing'}},\n",
       " {'id': 57355249,\n",
       "  'client_id': 24500,\n",
       "  'user_id': 45371,\n",
       "  'category': 'page',\n",
       "  'action': 'enter',\n",
       "  'options': {'name': 'landing'}},\n",
       " {'id': 57357969,\n",
       "  'client_id': 24500,\n",
       "  'user_id': 45371,\n",
       "  'category': 'page',\n",
       "  'action': 'enter',\n",
       "  'options': {'name': 'page'}},\n",
       " {'id': 57364085,\n",
       "  'client_id': 58330,\n",
       "  'user_id': 122756,\n",
       "  'category': 'page',\n",
       "  'action': 'enter',\n",
       "  'options': {'name': 'landing'}},\n",
       " {'id': 57368897,\n",
       "  'client_id': 61245,\n",
       "  'user_id': 122796,\n",
       "  'category': 'page',\n",
       "  'action': 'enter',\n",
       "  'options': {'name': 'landing'}},\n",
       " {'id': 57380235,\n",
       "  'client_id': 19799,\n",
       "  'user_id': 108493,\n",
       "  'category': 'page',\n",
       "  'action': 'enter',\n",
       "  'options': {'name': 'landing'}},\n",
       " {'id': 57397813,\n",
       "  'client_id': 56544,\n",
       "  'user_id': 105404,\n",
       "  'category': 'page',\n",
       "  'action': 'enter',\n",
       "  'options': {'name': 'page'}},\n",
       " {'id': 57397881,\n",
       "  'client_id': 56544,\n",
       "  'user_id': 105404,\n",
       "  'category': 'datepicker',\n",
       "  'action': 'apply',\n",
       "  'options': {'endDate': '2019-03-31 23:59:59',\n",
       "   'startDate': '2019-03-31 00:00:00'}},\n",
       " {'id': 57397923,\n",
       "  'client_id': 56544,\n",
       "  'user_id': 105404,\n",
       "  'category': 'datepicker',\n",
       "  'action': 'apply',\n",
       "  'options': {'endDate': '2019-03-30 23:59:59',\n",
       "   'startDate': '2019-03-30 00:00:00'}},\n",
       " {'id': 57397987,\n",
       "  'client_id': 56544,\n",
       "  'user_id': 105404,\n",
       "  'category': 'datepicker',\n",
       "  'action': 'apply',\n",
       "  'options': {'endDate': '2019-03-29 23:59:59',\n",
       "   'startDate': '2019-03-29 00:00:00'}},\n",
       " {'id': 57398079,\n",
       "  'client_id': 56544,\n",
       "  'user_id': 105404,\n",
       "  'category': 'datepicker',\n",
       "  'action': 'apply',\n",
       "  'options': {'endDate': '2019-03-28 23:59:59',\n",
       "   'startDate': '2019-03-28 00:00:00'}},\n",
       " {'id': 57398119,\n",
       "  'client_id': 56544,\n",
       "  'user_id': 105404,\n",
       "  'category': 'datepicker',\n",
       "  'action': 'apply',\n",
       "  'options': {'endDate': '2019-03-27 23:59:59',\n",
       "   'startDate': '2019-03-27 00:00:00'}},\n",
       " {'id': 57398165,\n",
       "  'client_id': 56544,\n",
       "  'user_id': 105404,\n",
       "  'category': 'datepicker',\n",
       "  'action': 'apply',\n",
       "  'options': {'endDate': '2019-03-26 23:59:59',\n",
       "   'startDate': '2019-03-26 00:00:00'}},\n",
       " {'id': 57398203,\n",
       "  'client_id': 56544,\n",
       "  'user_id': 105404,\n",
       "  'category': 'datepicker',\n",
       "  'action': 'apply',\n",
       "  'options': {'endDate': '2019-03-25 23:59:59',\n",
       "   'startDate': '2019-03-25 00:00:00'}},\n",
       " {'id': 57414209,\n",
       "  'client_id': 23207,\n",
       "  'user_id': 43300,\n",
       "  'category': 'page',\n",
       "  'action': 'enter',\n",
       "  'options': {'name': 'landing'}},\n",
       " {'id': 57414633,\n",
       "  'client_id': 23207,\n",
       "  'user_id': 43300,\n",
       "  'category': 'page',\n",
       "  'action': 'enter',\n",
       "  'options': {'name': 'landing'}},\n",
       " {'id': 57414663,\n",
       "  'client_id': 23207,\n",
       "  'user_id': 85282,\n",
       "  'category': 'page',\n",
       "  'action': 'enter',\n",
       "  'options': {'name': 'landing'}},\n",
       " {'id': 57414851,\n",
       "  'client_id': 23207,\n",
       "  'user_id': 43300,\n",
       "  'category': 'page',\n",
       "  'action': 'enter',\n",
       "  'options': {'name': 'landing'}},\n",
       " {'id': 57420219,\n",
       "  'client_id': 48128,\n",
       "  'user_id': 121686,\n",
       "  'category': 'page',\n",
       "  'action': 'enter',\n",
       "  'options': {'name': 'landing'}},\n",
       " {'id': 57424709,\n",
       "  'client_id': 58113,\n",
       "  'user_id': 120952,\n",
       "  'category': 'page',\n",
       "  'action': 'enter',\n",
       "  'options': {'name': 'page'}},\n",
       " {'id': 57424757,\n",
       "  'client_id': 58113,\n",
       "  'user_id': 120952,\n",
       "  'category': 'report',\n",
       "  'action': 'change_mode',\n",
       "  'options': {'mode': 'deals'}},\n",
       " {'id': 57425399,\n",
       "  'client_id': 58113,\n",
       "  'user_id': 120952,\n",
       "  'category': 'table',\n",
       "  'action': 'sort',\n",
       "  'options': {'dir': 'ASC', 'name': 'ac'}},\n",
       " {'id': 57425421,\n",
       "  'client_id': 58113,\n",
       "  'user_id': 120952,\n",
       "  'category': 'table',\n",
       "  'action': 'sort',\n",
       "  'options': {'dir': 'DESC', 'name': 'ac'}},\n",
       " {'id': 57426007,\n",
       "  'client_id': 58113,\n",
       "  'user_id': 120952,\n",
       "  'category': 'datepicker',\n",
       "  'action': 'apply',\n",
       "  'options': {'endDate': '2019-03-24 23:59:59',\n",
       "   'startDate': '2019-03-18 00:00:00'}},\n",
       " {'id': 57426303,\n",
       "  'client_id': 58113,\n",
       "  'user_id': 120952,\n",
       "  'category': 'datepicker',\n",
       "  'action': 'apply',\n",
       "  'options': {'endDate': '2019-03-17 23:59:59',\n",
       "   'startDate': '2019-03-11 00:00:00'}},\n",
       " {'id': 57431787,\n",
       "  'client_id': 58113,\n",
       "  'user_id': 120952,\n",
       "  'category': 'page',\n",
       "  'action': 'enter',\n",
       "  'options': {'name': 'page'}},\n",
       " {'id': 57444593,\n",
       "  'client_id': 57613,\n",
       "  'user_id': 110958,\n",
       "  'category': 'page',\n",
       "  'action': 'enter',\n",
       "  'options': {'name': 'landing'}},\n",
       " {'id': 57453741,\n",
       "  'client_id': 61244,\n",
       "  'user_id': 120170,\n",
       "  'category': 'page',\n",
       "  'action': 'enter',\n",
       "  'options': {'name': 'landing'}},\n",
       " {'id': 57467371,\n",
       "  'client_id': 53666,\n",
       "  'user_id': 122224,\n",
       "  'category': 'page',\n",
       "  'action': 'enter',\n",
       "  'options': {'name': 'landing'}},\n",
       " {'id': 57473917,\n",
       "  'client_id': 53018,\n",
       "  'user_id': 92402,\n",
       "  'category': 'page',\n",
       "  'action': 'enter',\n",
       "  'options': {'name': 'landing'}},\n",
       " {'id': 57475785,\n",
       "  'client_id': 53666,\n",
       "  'user_id': 122224,\n",
       "  'category': 'page',\n",
       "  'action': 'enter',\n",
       "  'options': {'name': 'landing'}},\n",
       " {'id': 57492477,\n",
       "  'client_id': 41737,\n",
       "  'user_id': 122874,\n",
       "  'category': 'page',\n",
       "  'action': 'enter',\n",
       "  'options': {'name': 'landing'}},\n",
       " {'id': 57493427,\n",
       "  'client_id': 61078,\n",
       "  'user_id': 119662,\n",
       "  'category': 'page',\n",
       "  'action': 'enter',\n",
       "  'options': {'name': 'landing'}},\n",
       " {'id': 57515935,\n",
       "  'client_id': 20820,\n",
       "  'user_id': 116898,\n",
       "  'category': 'page',\n",
       "  'action': 'enter',\n",
       "  'options': {'name': 'landing'}},\n",
       " {'id': 57517657,\n",
       "  'client_id': 41737,\n",
       "  'user_id': 122874,\n",
       "  'category': 'page',\n",
       "  'action': 'enter',\n",
       "  'options': {'name': 'landing'}},\n",
       " {'id': 57540495,\n",
       "  'client_id': 49700,\n",
       "  'user_id': 84946,\n",
       "  'category': 'page',\n",
       "  'action': 'enter',\n",
       "  'options': {'name': 'landing'}}]"
      ]
     },
     "execution_count": 274,
     "metadata": {},
     "output_type": "execute_result"
    }
   ],
   "source": [
    "data['events_data']"
   ]
  },
  {
   "cell_type": "code",
   "execution_count": 275,
   "metadata": {},
   "outputs": [],
   "source": [
    "data_list = data['events_data']"
   ]
  },
  {
   "cell_type": "code",
   "execution_count": 276,
   "metadata": {},
   "outputs": [
    {
     "data": {
      "text/plain": [
       "[{'id': 47946124,\n",
       "  'client_id': 62526,\n",
       "  'user_id': 110777,\n",
       "  'category': 'page',\n",
       "  'action': 'enter',\n",
       "  'options': {'name': 'landing'}},\n",
       " {'id': 47947076,\n",
       "  'client_id': 61944,\n",
       "  'user_id': 108565,\n",
       "  'category': 'page',\n",
       "  'action': 'enter',\n",
       "  'options': {'name': 'landing'}},\n",
       " {'id': 47962056,\n",
       "  'client_id': 27115,\n",
       "  'user_id': 49440,\n",
       "  'category': 'page',\n",
       "  'action': 'enter',\n",
       "  'options': {'name': 'page'}},\n",
       " {'id': 47962120,\n",
       "  'client_id': 27115,\n",
       "  'user_id': 49440,\n",
       "  'category': 'datepicker',\n",
       "  'action': 'apply',\n",
       "  'options': {'endDate': '2019-03-31 23:59:59',\n",
       "   'startDate': '2019-03-25 00:00:00'}},\n",
       " {'id': 47962218,\n",
       "  'client_id': 27115,\n",
       "  'user_id': 49440,\n",
       "  'category': 'table',\n",
       "  'action': 'sort',\n",
       "  'options': {'dir': 'ASC', 'name': 'deal_date'}},\n",
       " {'id': 47962238,\n",
       "  'client_id': 27115,\n",
       "  'user_id': 49440,\n",
       "  'category': 'table',\n",
       "  'action': 'sort',\n",
       "  'options': {'dir': 'DESC', 'name': 'deal_date'}},\n",
       " {'id': 47962532,\n",
       "  'client_id': 27115,\n",
       "  'user_id': 49440,\n",
       "  'category': 'table',\n",
       "  'action': 'sort',\n",
       "  'options': {'dir': 'ASC', 'name': 'deal_date'}},\n",
       " {'id': 47962534,\n",
       "  'client_id': 27115,\n",
       "  'user_id': 49440,\n",
       "  'category': 'table',\n",
       "  'action': 'sort',\n",
       "  'options': {'dir': 'DESC', 'name': 'deal_date'}},\n",
       " {'id': 47962696,\n",
       "  'client_id': 27115,\n",
       "  'user_id': 49440,\n",
       "  'category': 'datepicker',\n",
       "  'action': 'apply',\n",
       "  'options': {'endDate': '2019-03-10 23:59:59',\n",
       "   'startDate': '2019-03-04 00:00:00'}},\n",
       " {'id': 47962748,\n",
       "  'client_id': 27115,\n",
       "  'user_id': 49440,\n",
       "  'category': 'datepicker',\n",
       "  'action': 'apply',\n",
       "  'options': {'endDate': '2019-02-24 23:59:59',\n",
       "   'startDate': '2019-02-18 00:00:00'}},\n",
       " {'id': 47962830,\n",
       "  'client_id': 27115,\n",
       "  'user_id': 49440,\n",
       "  'category': 'datepicker',\n",
       "  'action': 'apply',\n",
       "  'options': {'endDate': '2019-03-31 23:59:59',\n",
       "   'startDate': '2019-03-25 00:00:00'}},\n",
       " {'id': 47962860,\n",
       "  'client_id': 27115,\n",
       "  'user_id': 49440,\n",
       "  'category': 'datepicker',\n",
       "  'action': 'apply',\n",
       "  'options': {'endDate': '2019-03-31 23:59:59',\n",
       "   'startDate': '2019-03-28 00:00:00'}},\n",
       " {'id': 47962952,\n",
       "  'client_id': 27115,\n",
       "  'user_id': 49440,\n",
       "  'category': 'datepicker',\n",
       "  'action': 'apply',\n",
       "  'options': {'endDate': '2019-03-31 23:59:59',\n",
       "   'startDate': '2019-03-29 00:00:00'}},\n",
       " {'id': 47964366,\n",
       "  'client_id': 62017,\n",
       "  'user_id': 108835,\n",
       "  'category': 'page',\n",
       "  'action': 'enter',\n",
       "  'options': {'name': 'landing'}},\n",
       " {'id': 47989384,\n",
       "  'client_id': 63120,\n",
       "  'user_id': 113069,\n",
       "  'category': 'page',\n",
       "  'action': 'enter',\n",
       "  'options': {'name': 'landing'}},\n",
       " {'id': 48010418,\n",
       "  'client_id': 59883,\n",
       "  'user_id': 108493,\n",
       "  'category': 'page',\n",
       "  'action': 'enter',\n",
       "  'options': {'name': 'landing'}},\n",
       " {'id': 48012170,\n",
       "  'client_id': 2913,\n",
       "  'user_id': 37412,\n",
       "  'category': 'page',\n",
       "  'action': 'enter',\n",
       "  'options': {'name': 'landing'}},\n",
       " {'id': 48014430,\n",
       "  'client_id': 62940,\n",
       "  'user_id': 112351,\n",
       "  'category': 'page',\n",
       "  'action': 'enter',\n",
       "  'options': {'name': 'landing'}},\n",
       " {'id': 48022684,\n",
       "  'client_id': 63149,\n",
       "  'user_id': 113143,\n",
       "  'category': 'page',\n",
       "  'action': 'enter',\n",
       "  'options': {'name': 'landing'}},\n",
       " {'id': 48026886,\n",
       "  'client_id': 45391,\n",
       "  'user_id': 76047,\n",
       "  'category': 'page',\n",
       "  'action': 'enter',\n",
       "  'options': {'name': 'landing'}},\n",
       " {'id': 48034878,\n",
       "  'client_id': 18923,\n",
       "  'user_id': 36488,\n",
       "  'category': 'page',\n",
       "  'action': 'enter',\n",
       "  'options': {'name': 'landing'}},\n",
       " {'id': 48042052,\n",
       "  'client_id': 63019,\n",
       "  'user_id': 113169,\n",
       "  'category': 'page',\n",
       "  'action': 'enter',\n",
       "  'options': {'name': 'landing'}},\n",
       " {'id': 48043326,\n",
       "  'client_id': 18923,\n",
       "  'user_id': 36488,\n",
       "  'category': 'page',\n",
       "  'action': 'enter',\n",
       "  'options': {'name': 'landing'}},\n",
       " {'id': 48043640,\n",
       "  'client_id': 18923,\n",
       "  'user_id': 36488,\n",
       "  'category': 'page',\n",
       "  'action': 'enter',\n",
       "  'options': {'name': 'landing'}},\n",
       " {'id': 48051248,\n",
       "  'client_id': 15759,\n",
       "  'user_id': 92681,\n",
       "  'category': 'page',\n",
       "  'action': 'enter',\n",
       "  'options': {'name': 'landing'}},\n",
       " {'id': 48061250,\n",
       "  'client_id': 62007,\n",
       "  'user_id': 92681,\n",
       "  'category': 'page',\n",
       "  'action': 'enter',\n",
       "  'options': {'name': 'page'}},\n",
       " {'id': 48066902,\n",
       "  'client_id': 62941,\n",
       "  'user_id': 112357,\n",
       "  'category': 'page',\n",
       "  'action': 'enter',\n",
       "  'options': {'name': 'landing'}},\n",
       " {'id': 48081876,\n",
       "  'client_id': 51009,\n",
       "  'user_id': 87778,\n",
       "  'category': 'page',\n",
       "  'action': 'enter',\n",
       "  'options': {'name': 'landing'}},\n",
       " {'id': 48106514,\n",
       "  'client_id': 62236,\n",
       "  'user_id': 109579,\n",
       "  'category': 'page',\n",
       "  'action': 'enter',\n",
       "  'options': {'name': 'landing'}},\n",
       " {'id': 48110768,\n",
       "  'client_id': 44682,\n",
       "  'user_id': 74909,\n",
       "  'category': 'page',\n",
       "  'action': 'enter',\n",
       "  'options': {'name': 'landing'}},\n",
       " {'id': 48114652,\n",
       "  'client_id': 39709,\n",
       "  'user_id': 67955,\n",
       "  'category': 'page',\n",
       "  'action': 'enter',\n",
       "  'options': {'name': 'landing'}},\n",
       " {'id': 48118216,\n",
       "  'client_id': 60459,\n",
       "  'user_id': 32532,\n",
       "  'category': 'page',\n",
       "  'action': 'enter',\n",
       "  'options': {'name': 'page'}},\n",
       " {'id': 48118370,\n",
       "  'client_id': 62144,\n",
       "  'user_id': 109283,\n",
       "  'category': 'page',\n",
       "  'action': 'enter',\n",
       "  'options': {'name': 'landing'}},\n",
       " {'id': 48118516,\n",
       "  'client_id': 60459,\n",
       "  'user_id': 32532,\n",
       "  'category': 'report',\n",
       "  'action': 'change_mode',\n",
       "  'options': {'mode': 'deals'}},\n",
       " {'id': 48118564,\n",
       "  'client_id': 60459,\n",
       "  'user_id': 32532,\n",
       "  'category': 'report',\n",
       "  'action': 'change_mode',\n",
       "  'options': {'mode': 'summary'}},\n",
       " {'id': 48118590,\n",
       "  'client_id': 60459,\n",
       "  'user_id': 32532,\n",
       "  'category': 'report',\n",
       "  'action': 'change_mode',\n",
       "  'options': {'mode': 'deals'}},\n",
       " {'id': 48118920,\n",
       "  'client_id': 60459,\n",
       "  'user_id': 32532,\n",
       "  'category': 'report',\n",
       "  'action': 'change_mode',\n",
       "  'options': {'mode': 'summary'}},\n",
       " {'id': 48120374,\n",
       "  'client_id': 60459,\n",
       "  'user_id': 32532,\n",
       "  'category': 'page',\n",
       "  'action': 'enter',\n",
       "  'options': {'name': 'page'}},\n",
       " {'id': 48120386,\n",
       "  'client_id': 60459,\n",
       "  'user_id': 32532,\n",
       "  'category': 'report',\n",
       "  'action': 'change_mode',\n",
       "  'options': {'mode': 'deals'}},\n",
       " {'id': 48120602,\n",
       "  'client_id': 52492,\n",
       "  'user_id': 91178,\n",
       "  'category': 'page',\n",
       "  'action': 'enter',\n",
       "  'options': {'name': 'page'}},\n",
       " {'id': 48120604,\n",
       "  'client_id': 52492,\n",
       "  'user_id': 105477,\n",
       "  'category': 'page',\n",
       "  'action': 'enter',\n",
       "  'options': {'name': 'page'}},\n",
       " {'id': 48120770,\n",
       "  'client_id': 60459,\n",
       "  'user_id': 32532,\n",
       "  'category': 'page',\n",
       "  'action': 'enter',\n",
       "  'options': {'name': 'page'}},\n",
       " {'id': 48120876,\n",
       "  'client_id': 60459,\n",
       "  'user_id': 32532,\n",
       "  'category': 'table',\n",
       "  'action': 'sort',\n",
       "  'options': {'dir': 'ASC', 'name': 'visitor_id'}},\n",
       " {'id': 48120896,\n",
       "  'client_id': 60459,\n",
       "  'user_id': 32532,\n",
       "  'category': 'table',\n",
       "  'action': 'sort',\n",
       "  'options': {'dir': 'DESC', 'name': 'visitor_id'}},\n",
       " {'id': 48121006,\n",
       "  'client_id': 60459,\n",
       "  'user_id': 32532,\n",
       "  'category': 'table',\n",
       "  'action': 'sort',\n",
       "  'options': {'dir': 'ASC', 'name': 'visitor_id'}},\n",
       " {'id': 48121008,\n",
       "  'client_id': 60459,\n",
       "  'user_id': 32532,\n",
       "  'category': 'table',\n",
       "  'action': 'sort',\n",
       "  'options': {'dir': 'DESC', 'name': 'visitor_id'}},\n",
       " {'id': 48125372,\n",
       "  'client_id': 52492,\n",
       "  'user_id': 91178,\n",
       "  'category': 'page',\n",
       "  'action': 'enter',\n",
       "  'options': {'name': 'page'}},\n",
       " {'id': 48130434,\n",
       "  'client_id': 18923,\n",
       "  'user_id': 36488,\n",
       "  'category': 'page',\n",
       "  'action': 'enter',\n",
       "  'options': {'name': 'landing'}},\n",
       " {'id': 48135712,\n",
       "  'client_id': 25301,\n",
       "  'user_id': 54229,\n",
       "  'category': 'page',\n",
       "  'action': 'enter',\n",
       "  'options': {'name': 'landing'}},\n",
       " {'id': 48136376,\n",
       "  'client_id': 18923,\n",
       "  'user_id': 36488,\n",
       "  'category': 'page',\n",
       "  'action': 'enter',\n",
       "  'options': {'name': 'landing'}},\n",
       " {'id': 48136890,\n",
       "  'client_id': 33645,\n",
       "  'user_id': 61378,\n",
       "  'category': 'page',\n",
       "  'action': 'enter',\n",
       "  'options': {'name': 'landing'}},\n",
       " {'id': 48145332,\n",
       "  'client_id': 62089,\n",
       "  'user_id': 109095,\n",
       "  'category': 'page',\n",
       "  'action': 'enter',\n",
       "  'options': {'name': 'landing'}},\n",
       " {'id': 48155244,\n",
       "  'client_id': 26705,\n",
       "  'user_id': 48880,\n",
       "  'category': 'page',\n",
       "  'action': 'enter',\n",
       "  'options': {'name': 'landing'}},\n",
       " {'id': 48160942,\n",
       "  'client_id': 1103,\n",
       "  'user_id': 109501,\n",
       "  'category': 'page',\n",
       "  'action': 'enter',\n",
       "  'options': {'name': 'page'}},\n",
       " {'id': 48166190,\n",
       "  'client_id': 62439,\n",
       "  'user_id': 110397,\n",
       "  'category': 'page',\n",
       "  'action': 'enter',\n",
       "  'options': {'name': 'landing'}},\n",
       " {'id': 48167428,\n",
       "  'client_id': 44196,\n",
       "  'user_id': 74136,\n",
       "  'category': 'page',\n",
       "  'action': 'enter',\n",
       "  'options': {'name': 'landing'}},\n",
       " {'id': 48171114,\n",
       "  'client_id': 62602,\n",
       "  'user_id': 111069,\n",
       "  'category': 'page',\n",
       "  'action': 'enter',\n",
       "  'options': {'name': 'page'}},\n",
       " {'id': 48173426,\n",
       "  'client_id': 62602,\n",
       "  'user_id': 111069,\n",
       "  'category': 'page',\n",
       "  'action': 'enter',\n",
       "  'options': {'name': 'page'}},\n",
       " {'id': 48173444,\n",
       "  'client_id': 62602,\n",
       "  'user_id': 111069,\n",
       "  'category': 'report',\n",
       "  'action': 'link_click',\n",
       "  'options': {'url': 'javascript:void(0);',\n",
       "   'name': 'deal_count',\n",
       "   'value': '1'}},\n",
       " {'id': 48173446,\n",
       "  'client_id': 62602,\n",
       "  'user_id': 111069,\n",
       "  'category': 'page',\n",
       "  'action': 'enter',\n",
       "  'options': {'name': 'page'}},\n",
       " {'id': 48173640,\n",
       "  'client_id': 62602,\n",
       "  'user_id': 111069,\n",
       "  'category': 'page',\n",
       "  'action': 'enter',\n",
       "  'options': {'name': 'page'}},\n",
       " {'id': 48173686,\n",
       "  'client_id': 62602,\n",
       "  'user_id': 111069,\n",
       "  'category': 'page',\n",
       "  'action': 'enter',\n",
       "  'options': {'name': 'page'}},\n",
       " {'id': 48173698,\n",
       "  'client_id': 62602,\n",
       "  'user_id': 111069,\n",
       "  'category': 'page',\n",
       "  'action': 'enter',\n",
       "  'options': {'name': 'page'}},\n",
       " {'id': 48174302,\n",
       "  'client_id': 62602,\n",
       "  'user_id': 111069,\n",
       "  'category': 'page',\n",
       "  'action': 'enter',\n",
       "  'options': {'name': 'page'}},\n",
       " {'id': 48174312,\n",
       "  'client_id': 62602,\n",
       "  'user_id': 111069,\n",
       "  'category': 'report',\n",
       "  'action': 'link_click',\n",
       "  'options': {'url': 'javascript:void(0);',\n",
       "   'name': 'deal_count',\n",
       "   'value': '1'}},\n",
       " {'id': 48174314,\n",
       "  'client_id': 62602,\n",
       "  'user_id': 111069,\n",
       "  'category': 'page',\n",
       "  'action': 'enter',\n",
       "  'options': {'name': 'page'}},\n",
       " {'id': 48174338,\n",
       "  'client_id': 62602,\n",
       "  'user_id': 111069,\n",
       "  'category': 'page',\n",
       "  'action': 'enter',\n",
       "  'options': {'name': 'page'}},\n",
       " {'id': 48179988,\n",
       "  'client_id': 50149,\n",
       "  'user_id': 86073,\n",
       "  'category': 'page',\n",
       "  'action': 'enter',\n",
       "  'options': {'name': 'landing'}},\n",
       " {'id': 57301281,\n",
       "  'client_id': 57009,\n",
       "  'user_id': 107244,\n",
       "  'category': 'page',\n",
       "  'action': 'enter',\n",
       "  'options': {'name': 'landing'}},\n",
       " {'id': 57326589,\n",
       "  'client_id': 57207,\n",
       "  'user_id': 107968,\n",
       "  'category': 'page',\n",
       "  'action': 'enter',\n",
       "  'options': {'name': 'landing'}},\n",
       " {'id': 57328781,\n",
       "  'client_id': 32792,\n",
       "  'user_id': 57997,\n",
       "  'category': 'page',\n",
       "  'action': 'enter',\n",
       "  'options': {'name': 'landing'}},\n",
       " {'id': 57335607,\n",
       "  'client_id': 27323,\n",
       "  'user_id': 92681,\n",
       "  'category': 'page',\n",
       "  'action': 'enter',\n",
       "  'options': {'name': 'landing'}},\n",
       " {'id': 57355249,\n",
       "  'client_id': 24500,\n",
       "  'user_id': 45371,\n",
       "  'category': 'page',\n",
       "  'action': 'enter',\n",
       "  'options': {'name': 'landing'}},\n",
       " {'id': 57357969,\n",
       "  'client_id': 24500,\n",
       "  'user_id': 45371,\n",
       "  'category': 'page',\n",
       "  'action': 'enter',\n",
       "  'options': {'name': 'page'}},\n",
       " {'id': 57364085,\n",
       "  'client_id': 58330,\n",
       "  'user_id': 122756,\n",
       "  'category': 'page',\n",
       "  'action': 'enter',\n",
       "  'options': {'name': 'landing'}},\n",
       " {'id': 57368897,\n",
       "  'client_id': 61245,\n",
       "  'user_id': 122796,\n",
       "  'category': 'page',\n",
       "  'action': 'enter',\n",
       "  'options': {'name': 'landing'}},\n",
       " {'id': 57380235,\n",
       "  'client_id': 19799,\n",
       "  'user_id': 108493,\n",
       "  'category': 'page',\n",
       "  'action': 'enter',\n",
       "  'options': {'name': 'landing'}},\n",
       " {'id': 57397813,\n",
       "  'client_id': 56544,\n",
       "  'user_id': 105404,\n",
       "  'category': 'page',\n",
       "  'action': 'enter',\n",
       "  'options': {'name': 'page'}},\n",
       " {'id': 57397881,\n",
       "  'client_id': 56544,\n",
       "  'user_id': 105404,\n",
       "  'category': 'datepicker',\n",
       "  'action': 'apply',\n",
       "  'options': {'endDate': '2019-03-31 23:59:59',\n",
       "   'startDate': '2019-03-31 00:00:00'}},\n",
       " {'id': 57397923,\n",
       "  'client_id': 56544,\n",
       "  'user_id': 105404,\n",
       "  'category': 'datepicker',\n",
       "  'action': 'apply',\n",
       "  'options': {'endDate': '2019-03-30 23:59:59',\n",
       "   'startDate': '2019-03-30 00:00:00'}},\n",
       " {'id': 57397987,\n",
       "  'client_id': 56544,\n",
       "  'user_id': 105404,\n",
       "  'category': 'datepicker',\n",
       "  'action': 'apply',\n",
       "  'options': {'endDate': '2019-03-29 23:59:59',\n",
       "   'startDate': '2019-03-29 00:00:00'}},\n",
       " {'id': 57398079,\n",
       "  'client_id': 56544,\n",
       "  'user_id': 105404,\n",
       "  'category': 'datepicker',\n",
       "  'action': 'apply',\n",
       "  'options': {'endDate': '2019-03-28 23:59:59',\n",
       "   'startDate': '2019-03-28 00:00:00'}},\n",
       " {'id': 57398119,\n",
       "  'client_id': 56544,\n",
       "  'user_id': 105404,\n",
       "  'category': 'datepicker',\n",
       "  'action': 'apply',\n",
       "  'options': {'endDate': '2019-03-27 23:59:59',\n",
       "   'startDate': '2019-03-27 00:00:00'}},\n",
       " {'id': 57398165,\n",
       "  'client_id': 56544,\n",
       "  'user_id': 105404,\n",
       "  'category': 'datepicker',\n",
       "  'action': 'apply',\n",
       "  'options': {'endDate': '2019-03-26 23:59:59',\n",
       "   'startDate': '2019-03-26 00:00:00'}},\n",
       " {'id': 57398203,\n",
       "  'client_id': 56544,\n",
       "  'user_id': 105404,\n",
       "  'category': 'datepicker',\n",
       "  'action': 'apply',\n",
       "  'options': {'endDate': '2019-03-25 23:59:59',\n",
       "   'startDate': '2019-03-25 00:00:00'}},\n",
       " {'id': 57414209,\n",
       "  'client_id': 23207,\n",
       "  'user_id': 43300,\n",
       "  'category': 'page',\n",
       "  'action': 'enter',\n",
       "  'options': {'name': 'landing'}},\n",
       " {'id': 57414633,\n",
       "  'client_id': 23207,\n",
       "  'user_id': 43300,\n",
       "  'category': 'page',\n",
       "  'action': 'enter',\n",
       "  'options': {'name': 'landing'}},\n",
       " {'id': 57414663,\n",
       "  'client_id': 23207,\n",
       "  'user_id': 85282,\n",
       "  'category': 'page',\n",
       "  'action': 'enter',\n",
       "  'options': {'name': 'landing'}},\n",
       " {'id': 57414851,\n",
       "  'client_id': 23207,\n",
       "  'user_id': 43300,\n",
       "  'category': 'page',\n",
       "  'action': 'enter',\n",
       "  'options': {'name': 'landing'}},\n",
       " {'id': 57420219,\n",
       "  'client_id': 48128,\n",
       "  'user_id': 121686,\n",
       "  'category': 'page',\n",
       "  'action': 'enter',\n",
       "  'options': {'name': 'landing'}},\n",
       " {'id': 57424709,\n",
       "  'client_id': 58113,\n",
       "  'user_id': 120952,\n",
       "  'category': 'page',\n",
       "  'action': 'enter',\n",
       "  'options': {'name': 'page'}},\n",
       " {'id': 57424757,\n",
       "  'client_id': 58113,\n",
       "  'user_id': 120952,\n",
       "  'category': 'report',\n",
       "  'action': 'change_mode',\n",
       "  'options': {'mode': 'deals'}},\n",
       " {'id': 57425399,\n",
       "  'client_id': 58113,\n",
       "  'user_id': 120952,\n",
       "  'category': 'table',\n",
       "  'action': 'sort',\n",
       "  'options': {'dir': 'ASC', 'name': 'ac'}},\n",
       " {'id': 57425421,\n",
       "  'client_id': 58113,\n",
       "  'user_id': 120952,\n",
       "  'category': 'table',\n",
       "  'action': 'sort',\n",
       "  'options': {'dir': 'DESC', 'name': 'ac'}},\n",
       " {'id': 57426007,\n",
       "  'client_id': 58113,\n",
       "  'user_id': 120952,\n",
       "  'category': 'datepicker',\n",
       "  'action': 'apply',\n",
       "  'options': {'endDate': '2019-03-24 23:59:59',\n",
       "   'startDate': '2019-03-18 00:00:00'}},\n",
       " {'id': 57426303,\n",
       "  'client_id': 58113,\n",
       "  'user_id': 120952,\n",
       "  'category': 'datepicker',\n",
       "  'action': 'apply',\n",
       "  'options': {'endDate': '2019-03-17 23:59:59',\n",
       "   'startDate': '2019-03-11 00:00:00'}},\n",
       " {'id': 57431787,\n",
       "  'client_id': 58113,\n",
       "  'user_id': 120952,\n",
       "  'category': 'page',\n",
       "  'action': 'enter',\n",
       "  'options': {'name': 'page'}},\n",
       " {'id': 57444593,\n",
       "  'client_id': 57613,\n",
       "  'user_id': 110958,\n",
       "  'category': 'page',\n",
       "  'action': 'enter',\n",
       "  'options': {'name': 'landing'}},\n",
       " {'id': 57453741,\n",
       "  'client_id': 61244,\n",
       "  'user_id': 120170,\n",
       "  'category': 'page',\n",
       "  'action': 'enter',\n",
       "  'options': {'name': 'landing'}},\n",
       " {'id': 57467371,\n",
       "  'client_id': 53666,\n",
       "  'user_id': 122224,\n",
       "  'category': 'page',\n",
       "  'action': 'enter',\n",
       "  'options': {'name': 'landing'}},\n",
       " {'id': 57473917,\n",
       "  'client_id': 53018,\n",
       "  'user_id': 92402,\n",
       "  'category': 'page',\n",
       "  'action': 'enter',\n",
       "  'options': {'name': 'landing'}},\n",
       " {'id': 57475785,\n",
       "  'client_id': 53666,\n",
       "  'user_id': 122224,\n",
       "  'category': 'page',\n",
       "  'action': 'enter',\n",
       "  'options': {'name': 'landing'}},\n",
       " {'id': 57492477,\n",
       "  'client_id': 41737,\n",
       "  'user_id': 122874,\n",
       "  'category': 'page',\n",
       "  'action': 'enter',\n",
       "  'options': {'name': 'landing'}},\n",
       " {'id': 57493427,\n",
       "  'client_id': 61078,\n",
       "  'user_id': 119662,\n",
       "  'category': 'page',\n",
       "  'action': 'enter',\n",
       "  'options': {'name': 'landing'}},\n",
       " {'id': 57515935,\n",
       "  'client_id': 20820,\n",
       "  'user_id': 116898,\n",
       "  'category': 'page',\n",
       "  'action': 'enter',\n",
       "  'options': {'name': 'landing'}},\n",
       " {'id': 57517657,\n",
       "  'client_id': 41737,\n",
       "  'user_id': 122874,\n",
       "  'category': 'page',\n",
       "  'action': 'enter',\n",
       "  'options': {'name': 'landing'}},\n",
       " {'id': 57540495,\n",
       "  'client_id': 49700,\n",
       "  'user_id': 84946,\n",
       "  'category': 'page',\n",
       "  'action': 'enter',\n",
       "  'options': {'name': 'landing'}}]"
      ]
     },
     "execution_count": 276,
     "metadata": {},
     "output_type": "execute_result"
    }
   ],
   "source": [
    "data_list"
   ]
  },
  {
   "cell_type": "code",
   "execution_count": 281,
   "metadata": {},
   "outputs": [
    {
     "name": "stdout",
     "output_type": "stream",
     "text": [
      "['page', 'page', 'page', 'datepicker', 'table', 'table', 'table', 'table', 'datepicker', 'datepicker', 'datepicker', 'datepicker', 'datepicker', 'page', 'page', 'page', 'page', 'page', 'page', 'page', 'page', 'page', 'page', 'page', 'page', 'page', 'page', 'page', 'page', 'page', 'page', 'page', 'page', 'report', 'report', 'report', 'report', 'page', 'report', 'page', 'page', 'page', 'table', 'table', 'table', 'table', 'page', 'page', 'page', 'page', 'page', 'page', 'page', 'page', 'page', 'page', 'page', 'page', 'report', 'page', 'page', 'page', 'page', 'page', 'report', 'page', 'page', 'page', 'page', 'page', 'page', 'page', 'page', 'page', 'page', 'page', 'page', 'page', 'datepicker', 'datepicker', 'datepicker', 'datepicker', 'datepicker', 'datepicker', 'datepicker', 'page', 'page', 'page', 'page', 'page', 'page', 'report', 'table', 'table', 'datepicker', 'datepicker', 'page', 'page', 'page', 'page', 'page', 'page', 'page', 'page', 'page', 'page', 'page']\n"
     ]
    }
   ],
   "source": [
    "categories = []\n",
    "for item in data_list:\n",
    "    category = item['category']\n",
    "    categories.append(category)\n",
    "print(categories)"
   ]
  },
  {
   "cell_type": "code",
   "execution_count": 289,
   "metadata": {},
   "outputs": [
    {
     "name": "stdout",
     "output_type": "stream",
     "text": [
      "Counter({'page': 74, 'datepicker': 15, 'table': 10, 'report': 8})\n"
     ]
    }
   ],
   "source": [
    "import collections\n",
    "c = collections.Counter()\n",
    "for category in categories:\n",
    "    c[category] += 1\n",
    "print(c)"
   ]
  },
  {
   "cell_type": "code",
   "execution_count": 290,
   "metadata": {},
   "outputs": [
    {
     "data": {
      "text/plain": [
       "[{'id': 47946124,\n",
       "  'client_id': 62526,\n",
       "  'user_id': 110777,\n",
       "  'category': 'page',\n",
       "  'action': 'enter',\n",
       "  'options': {'name': 'landing'}},\n",
       " {'id': 47947076,\n",
       "  'client_id': 61944,\n",
       "  'user_id': 108565,\n",
       "  'category': 'page',\n",
       "  'action': 'enter',\n",
       "  'options': {'name': 'landing'}},\n",
       " {'id': 47962056,\n",
       "  'client_id': 27115,\n",
       "  'user_id': 49440,\n",
       "  'category': 'page',\n",
       "  'action': 'enter',\n",
       "  'options': {'name': 'page'}},\n",
       " {'id': 47962120,\n",
       "  'client_id': 27115,\n",
       "  'user_id': 49440,\n",
       "  'category': 'datepicker',\n",
       "  'action': 'apply',\n",
       "  'options': {'endDate': '2019-03-31 23:59:59',\n",
       "   'startDate': '2019-03-25 00:00:00'}},\n",
       " {'id': 47962218,\n",
       "  'client_id': 27115,\n",
       "  'user_id': 49440,\n",
       "  'category': 'table',\n",
       "  'action': 'sort',\n",
       "  'options': {'dir': 'ASC', 'name': 'deal_date'}},\n",
       " {'id': 47962238,\n",
       "  'client_id': 27115,\n",
       "  'user_id': 49440,\n",
       "  'category': 'table',\n",
       "  'action': 'sort',\n",
       "  'options': {'dir': 'DESC', 'name': 'deal_date'}},\n",
       " {'id': 47962532,\n",
       "  'client_id': 27115,\n",
       "  'user_id': 49440,\n",
       "  'category': 'table',\n",
       "  'action': 'sort',\n",
       "  'options': {'dir': 'ASC', 'name': 'deal_date'}},\n",
       " {'id': 47962534,\n",
       "  'client_id': 27115,\n",
       "  'user_id': 49440,\n",
       "  'category': 'table',\n",
       "  'action': 'sort',\n",
       "  'options': {'dir': 'DESC', 'name': 'deal_date'}},\n",
       " {'id': 47962696,\n",
       "  'client_id': 27115,\n",
       "  'user_id': 49440,\n",
       "  'category': 'datepicker',\n",
       "  'action': 'apply',\n",
       "  'options': {'endDate': '2019-03-10 23:59:59',\n",
       "   'startDate': '2019-03-04 00:00:00'}},\n",
       " {'id': 47962748,\n",
       "  'client_id': 27115,\n",
       "  'user_id': 49440,\n",
       "  'category': 'datepicker',\n",
       "  'action': 'apply',\n",
       "  'options': {'endDate': '2019-02-24 23:59:59',\n",
       "   'startDate': '2019-02-18 00:00:00'}},\n",
       " {'id': 47962830,\n",
       "  'client_id': 27115,\n",
       "  'user_id': 49440,\n",
       "  'category': 'datepicker',\n",
       "  'action': 'apply',\n",
       "  'options': {'endDate': '2019-03-31 23:59:59',\n",
       "   'startDate': '2019-03-25 00:00:00'}},\n",
       " {'id': 47962860,\n",
       "  'client_id': 27115,\n",
       "  'user_id': 49440,\n",
       "  'category': 'datepicker',\n",
       "  'action': 'apply',\n",
       "  'options': {'endDate': '2019-03-31 23:59:59',\n",
       "   'startDate': '2019-03-28 00:00:00'}},\n",
       " {'id': 47962952,\n",
       "  'client_id': 27115,\n",
       "  'user_id': 49440,\n",
       "  'category': 'datepicker',\n",
       "  'action': 'apply',\n",
       "  'options': {'endDate': '2019-03-31 23:59:59',\n",
       "   'startDate': '2019-03-29 00:00:00'}},\n",
       " {'id': 47964366,\n",
       "  'client_id': 62017,\n",
       "  'user_id': 108835,\n",
       "  'category': 'page',\n",
       "  'action': 'enter',\n",
       "  'options': {'name': 'landing'}},\n",
       " {'id': 47989384,\n",
       "  'client_id': 63120,\n",
       "  'user_id': 113069,\n",
       "  'category': 'page',\n",
       "  'action': 'enter',\n",
       "  'options': {'name': 'landing'}},\n",
       " {'id': 48010418,\n",
       "  'client_id': 59883,\n",
       "  'user_id': 108493,\n",
       "  'category': 'page',\n",
       "  'action': 'enter',\n",
       "  'options': {'name': 'landing'}},\n",
       " {'id': 48012170,\n",
       "  'client_id': 2913,\n",
       "  'user_id': 37412,\n",
       "  'category': 'page',\n",
       "  'action': 'enter',\n",
       "  'options': {'name': 'landing'}},\n",
       " {'id': 48014430,\n",
       "  'client_id': 62940,\n",
       "  'user_id': 112351,\n",
       "  'category': 'page',\n",
       "  'action': 'enter',\n",
       "  'options': {'name': 'landing'}},\n",
       " {'id': 48022684,\n",
       "  'client_id': 63149,\n",
       "  'user_id': 113143,\n",
       "  'category': 'page',\n",
       "  'action': 'enter',\n",
       "  'options': {'name': 'landing'}},\n",
       " {'id': 48026886,\n",
       "  'client_id': 45391,\n",
       "  'user_id': 76047,\n",
       "  'category': 'page',\n",
       "  'action': 'enter',\n",
       "  'options': {'name': 'landing'}},\n",
       " {'id': 48034878,\n",
       "  'client_id': 18923,\n",
       "  'user_id': 36488,\n",
       "  'category': 'page',\n",
       "  'action': 'enter',\n",
       "  'options': {'name': 'landing'}},\n",
       " {'id': 48042052,\n",
       "  'client_id': 63019,\n",
       "  'user_id': 113169,\n",
       "  'category': 'page',\n",
       "  'action': 'enter',\n",
       "  'options': {'name': 'landing'}},\n",
       " {'id': 48043326,\n",
       "  'client_id': 18923,\n",
       "  'user_id': 36488,\n",
       "  'category': 'page',\n",
       "  'action': 'enter',\n",
       "  'options': {'name': 'landing'}},\n",
       " {'id': 48043640,\n",
       "  'client_id': 18923,\n",
       "  'user_id': 36488,\n",
       "  'category': 'page',\n",
       "  'action': 'enter',\n",
       "  'options': {'name': 'landing'}},\n",
       " {'id': 48051248,\n",
       "  'client_id': 15759,\n",
       "  'user_id': 92681,\n",
       "  'category': 'page',\n",
       "  'action': 'enter',\n",
       "  'options': {'name': 'landing'}},\n",
       " {'id': 48061250,\n",
       "  'client_id': 62007,\n",
       "  'user_id': 92681,\n",
       "  'category': 'page',\n",
       "  'action': 'enter',\n",
       "  'options': {'name': 'page'}},\n",
       " {'id': 48066902,\n",
       "  'client_id': 62941,\n",
       "  'user_id': 112357,\n",
       "  'category': 'page',\n",
       "  'action': 'enter',\n",
       "  'options': {'name': 'landing'}},\n",
       " {'id': 48081876,\n",
       "  'client_id': 51009,\n",
       "  'user_id': 87778,\n",
       "  'category': 'page',\n",
       "  'action': 'enter',\n",
       "  'options': {'name': 'landing'}},\n",
       " {'id': 48106514,\n",
       "  'client_id': 62236,\n",
       "  'user_id': 109579,\n",
       "  'category': 'page',\n",
       "  'action': 'enter',\n",
       "  'options': {'name': 'landing'}},\n",
       " {'id': 48110768,\n",
       "  'client_id': 44682,\n",
       "  'user_id': 74909,\n",
       "  'category': 'page',\n",
       "  'action': 'enter',\n",
       "  'options': {'name': 'landing'}},\n",
       " {'id': 48114652,\n",
       "  'client_id': 39709,\n",
       "  'user_id': 67955,\n",
       "  'category': 'page',\n",
       "  'action': 'enter',\n",
       "  'options': {'name': 'landing'}},\n",
       " {'id': 48118216,\n",
       "  'client_id': 60459,\n",
       "  'user_id': 32532,\n",
       "  'category': 'page',\n",
       "  'action': 'enter',\n",
       "  'options': {'name': 'page'}},\n",
       " {'id': 48118370,\n",
       "  'client_id': 62144,\n",
       "  'user_id': 109283,\n",
       "  'category': 'page',\n",
       "  'action': 'enter',\n",
       "  'options': {'name': 'landing'}},\n",
       " {'id': 48118516,\n",
       "  'client_id': 60459,\n",
       "  'user_id': 32532,\n",
       "  'category': 'report',\n",
       "  'action': 'change_mode',\n",
       "  'options': {'mode': 'deals'}},\n",
       " {'id': 48118564,\n",
       "  'client_id': 60459,\n",
       "  'user_id': 32532,\n",
       "  'category': 'report',\n",
       "  'action': 'change_mode',\n",
       "  'options': {'mode': 'summary'}},\n",
       " {'id': 48118590,\n",
       "  'client_id': 60459,\n",
       "  'user_id': 32532,\n",
       "  'category': 'report',\n",
       "  'action': 'change_mode',\n",
       "  'options': {'mode': 'deals'}},\n",
       " {'id': 48118920,\n",
       "  'client_id': 60459,\n",
       "  'user_id': 32532,\n",
       "  'category': 'report',\n",
       "  'action': 'change_mode',\n",
       "  'options': {'mode': 'summary'}},\n",
       " {'id': 48120374,\n",
       "  'client_id': 60459,\n",
       "  'user_id': 32532,\n",
       "  'category': 'page',\n",
       "  'action': 'enter',\n",
       "  'options': {'name': 'page'}},\n",
       " {'id': 48120386,\n",
       "  'client_id': 60459,\n",
       "  'user_id': 32532,\n",
       "  'category': 'report',\n",
       "  'action': 'change_mode',\n",
       "  'options': {'mode': 'deals'}},\n",
       " {'id': 48120602,\n",
       "  'client_id': 52492,\n",
       "  'user_id': 91178,\n",
       "  'category': 'page',\n",
       "  'action': 'enter',\n",
       "  'options': {'name': 'page'}},\n",
       " {'id': 48120604,\n",
       "  'client_id': 52492,\n",
       "  'user_id': 105477,\n",
       "  'category': 'page',\n",
       "  'action': 'enter',\n",
       "  'options': {'name': 'page'}},\n",
       " {'id': 48120770,\n",
       "  'client_id': 60459,\n",
       "  'user_id': 32532,\n",
       "  'category': 'page',\n",
       "  'action': 'enter',\n",
       "  'options': {'name': 'page'}},\n",
       " {'id': 48120876,\n",
       "  'client_id': 60459,\n",
       "  'user_id': 32532,\n",
       "  'category': 'table',\n",
       "  'action': 'sort',\n",
       "  'options': {'dir': 'ASC', 'name': 'visitor_id'}},\n",
       " {'id': 48120896,\n",
       "  'client_id': 60459,\n",
       "  'user_id': 32532,\n",
       "  'category': 'table',\n",
       "  'action': 'sort',\n",
       "  'options': {'dir': 'DESC', 'name': 'visitor_id'}},\n",
       " {'id': 48121006,\n",
       "  'client_id': 60459,\n",
       "  'user_id': 32532,\n",
       "  'category': 'table',\n",
       "  'action': 'sort',\n",
       "  'options': {'dir': 'ASC', 'name': 'visitor_id'}},\n",
       " {'id': 48121008,\n",
       "  'client_id': 60459,\n",
       "  'user_id': 32532,\n",
       "  'category': 'table',\n",
       "  'action': 'sort',\n",
       "  'options': {'dir': 'DESC', 'name': 'visitor_id'}},\n",
       " {'id': 48125372,\n",
       "  'client_id': 52492,\n",
       "  'user_id': 91178,\n",
       "  'category': 'page',\n",
       "  'action': 'enter',\n",
       "  'options': {'name': 'page'}},\n",
       " {'id': 48130434,\n",
       "  'client_id': 18923,\n",
       "  'user_id': 36488,\n",
       "  'category': 'page',\n",
       "  'action': 'enter',\n",
       "  'options': {'name': 'landing'}},\n",
       " {'id': 48135712,\n",
       "  'client_id': 25301,\n",
       "  'user_id': 54229,\n",
       "  'category': 'page',\n",
       "  'action': 'enter',\n",
       "  'options': {'name': 'landing'}},\n",
       " {'id': 48136376,\n",
       "  'client_id': 18923,\n",
       "  'user_id': 36488,\n",
       "  'category': 'page',\n",
       "  'action': 'enter',\n",
       "  'options': {'name': 'landing'}},\n",
       " {'id': 48136890,\n",
       "  'client_id': 33645,\n",
       "  'user_id': 61378,\n",
       "  'category': 'page',\n",
       "  'action': 'enter',\n",
       "  'options': {'name': 'landing'}},\n",
       " {'id': 48145332,\n",
       "  'client_id': 62089,\n",
       "  'user_id': 109095,\n",
       "  'category': 'page',\n",
       "  'action': 'enter',\n",
       "  'options': {'name': 'landing'}},\n",
       " {'id': 48155244,\n",
       "  'client_id': 26705,\n",
       "  'user_id': 48880,\n",
       "  'category': 'page',\n",
       "  'action': 'enter',\n",
       "  'options': {'name': 'landing'}},\n",
       " {'id': 48160942,\n",
       "  'client_id': 1103,\n",
       "  'user_id': 109501,\n",
       "  'category': 'page',\n",
       "  'action': 'enter',\n",
       "  'options': {'name': 'page'}},\n",
       " {'id': 48166190,\n",
       "  'client_id': 62439,\n",
       "  'user_id': 110397,\n",
       "  'category': 'page',\n",
       "  'action': 'enter',\n",
       "  'options': {'name': 'landing'}},\n",
       " {'id': 48167428,\n",
       "  'client_id': 44196,\n",
       "  'user_id': 74136,\n",
       "  'category': 'page',\n",
       "  'action': 'enter',\n",
       "  'options': {'name': 'landing'}},\n",
       " {'id': 48171114,\n",
       "  'client_id': 62602,\n",
       "  'user_id': 111069,\n",
       "  'category': 'page',\n",
       "  'action': 'enter',\n",
       "  'options': {'name': 'page'}},\n",
       " {'id': 48173426,\n",
       "  'client_id': 62602,\n",
       "  'user_id': 111069,\n",
       "  'category': 'page',\n",
       "  'action': 'enter',\n",
       "  'options': {'name': 'page'}},\n",
       " {'id': 48173444,\n",
       "  'client_id': 62602,\n",
       "  'user_id': 111069,\n",
       "  'category': 'report',\n",
       "  'action': 'link_click',\n",
       "  'options': {'url': 'javascript:void(0);',\n",
       "   'name': 'deal_count',\n",
       "   'value': '1'}},\n",
       " {'id': 48173446,\n",
       "  'client_id': 62602,\n",
       "  'user_id': 111069,\n",
       "  'category': 'page',\n",
       "  'action': 'enter',\n",
       "  'options': {'name': 'page'}},\n",
       " {'id': 48173640,\n",
       "  'client_id': 62602,\n",
       "  'user_id': 111069,\n",
       "  'category': 'page',\n",
       "  'action': 'enter',\n",
       "  'options': {'name': 'page'}},\n",
       " {'id': 48173686,\n",
       "  'client_id': 62602,\n",
       "  'user_id': 111069,\n",
       "  'category': 'page',\n",
       "  'action': 'enter',\n",
       "  'options': {'name': 'page'}},\n",
       " {'id': 48173698,\n",
       "  'client_id': 62602,\n",
       "  'user_id': 111069,\n",
       "  'category': 'page',\n",
       "  'action': 'enter',\n",
       "  'options': {'name': 'page'}},\n",
       " {'id': 48174302,\n",
       "  'client_id': 62602,\n",
       "  'user_id': 111069,\n",
       "  'category': 'page',\n",
       "  'action': 'enter',\n",
       "  'options': {'name': 'page'}},\n",
       " {'id': 48174312,\n",
       "  'client_id': 62602,\n",
       "  'user_id': 111069,\n",
       "  'category': 'report',\n",
       "  'action': 'link_click',\n",
       "  'options': {'url': 'javascript:void(0);',\n",
       "   'name': 'deal_count',\n",
       "   'value': '1'}},\n",
       " {'id': 48174314,\n",
       "  'client_id': 62602,\n",
       "  'user_id': 111069,\n",
       "  'category': 'page',\n",
       "  'action': 'enter',\n",
       "  'options': {'name': 'page'}},\n",
       " {'id': 48174338,\n",
       "  'client_id': 62602,\n",
       "  'user_id': 111069,\n",
       "  'category': 'page',\n",
       "  'action': 'enter',\n",
       "  'options': {'name': 'page'}},\n",
       " {'id': 48179988,\n",
       "  'client_id': 50149,\n",
       "  'user_id': 86073,\n",
       "  'category': 'page',\n",
       "  'action': 'enter',\n",
       "  'options': {'name': 'landing'}},\n",
       " {'id': 57301281,\n",
       "  'client_id': 57009,\n",
       "  'user_id': 107244,\n",
       "  'category': 'page',\n",
       "  'action': 'enter',\n",
       "  'options': {'name': 'landing'}},\n",
       " {'id': 57326589,\n",
       "  'client_id': 57207,\n",
       "  'user_id': 107968,\n",
       "  'category': 'page',\n",
       "  'action': 'enter',\n",
       "  'options': {'name': 'landing'}},\n",
       " {'id': 57328781,\n",
       "  'client_id': 32792,\n",
       "  'user_id': 57997,\n",
       "  'category': 'page',\n",
       "  'action': 'enter',\n",
       "  'options': {'name': 'landing'}},\n",
       " {'id': 57335607,\n",
       "  'client_id': 27323,\n",
       "  'user_id': 92681,\n",
       "  'category': 'page',\n",
       "  'action': 'enter',\n",
       "  'options': {'name': 'landing'}},\n",
       " {'id': 57355249,\n",
       "  'client_id': 24500,\n",
       "  'user_id': 45371,\n",
       "  'category': 'page',\n",
       "  'action': 'enter',\n",
       "  'options': {'name': 'landing'}},\n",
       " {'id': 57357969,\n",
       "  'client_id': 24500,\n",
       "  'user_id': 45371,\n",
       "  'category': 'page',\n",
       "  'action': 'enter',\n",
       "  'options': {'name': 'page'}},\n",
       " {'id': 57364085,\n",
       "  'client_id': 58330,\n",
       "  'user_id': 122756,\n",
       "  'category': 'page',\n",
       "  'action': 'enter',\n",
       "  'options': {'name': 'landing'}},\n",
       " {'id': 57368897,\n",
       "  'client_id': 61245,\n",
       "  'user_id': 122796,\n",
       "  'category': 'page',\n",
       "  'action': 'enter',\n",
       "  'options': {'name': 'landing'}},\n",
       " {'id': 57380235,\n",
       "  'client_id': 19799,\n",
       "  'user_id': 108493,\n",
       "  'category': 'page',\n",
       "  'action': 'enter',\n",
       "  'options': {'name': 'landing'}},\n",
       " {'id': 57397813,\n",
       "  'client_id': 56544,\n",
       "  'user_id': 105404,\n",
       "  'category': 'page',\n",
       "  'action': 'enter',\n",
       "  'options': {'name': 'page'}},\n",
       " {'id': 57397881,\n",
       "  'client_id': 56544,\n",
       "  'user_id': 105404,\n",
       "  'category': 'datepicker',\n",
       "  'action': 'apply',\n",
       "  'options': {'endDate': '2019-03-31 23:59:59',\n",
       "   'startDate': '2019-03-31 00:00:00'}},\n",
       " {'id': 57397923,\n",
       "  'client_id': 56544,\n",
       "  'user_id': 105404,\n",
       "  'category': 'datepicker',\n",
       "  'action': 'apply',\n",
       "  'options': {'endDate': '2019-03-30 23:59:59',\n",
       "   'startDate': '2019-03-30 00:00:00'}},\n",
       " {'id': 57397987,\n",
       "  'client_id': 56544,\n",
       "  'user_id': 105404,\n",
       "  'category': 'datepicker',\n",
       "  'action': 'apply',\n",
       "  'options': {'endDate': '2019-03-29 23:59:59',\n",
       "   'startDate': '2019-03-29 00:00:00'}},\n",
       " {'id': 57398079,\n",
       "  'client_id': 56544,\n",
       "  'user_id': 105404,\n",
       "  'category': 'datepicker',\n",
       "  'action': 'apply',\n",
       "  'options': {'endDate': '2019-03-28 23:59:59',\n",
       "   'startDate': '2019-03-28 00:00:00'}},\n",
       " {'id': 57398119,\n",
       "  'client_id': 56544,\n",
       "  'user_id': 105404,\n",
       "  'category': 'datepicker',\n",
       "  'action': 'apply',\n",
       "  'options': {'endDate': '2019-03-27 23:59:59',\n",
       "   'startDate': '2019-03-27 00:00:00'}},\n",
       " {'id': 57398165,\n",
       "  'client_id': 56544,\n",
       "  'user_id': 105404,\n",
       "  'category': 'datepicker',\n",
       "  'action': 'apply',\n",
       "  'options': {'endDate': '2019-03-26 23:59:59',\n",
       "   'startDate': '2019-03-26 00:00:00'}},\n",
       " {'id': 57398203,\n",
       "  'client_id': 56544,\n",
       "  'user_id': 105404,\n",
       "  'category': 'datepicker',\n",
       "  'action': 'apply',\n",
       "  'options': {'endDate': '2019-03-25 23:59:59',\n",
       "   'startDate': '2019-03-25 00:00:00'}},\n",
       " {'id': 57414209,\n",
       "  'client_id': 23207,\n",
       "  'user_id': 43300,\n",
       "  'category': 'page',\n",
       "  'action': 'enter',\n",
       "  'options': {'name': 'landing'}},\n",
       " {'id': 57414633,\n",
       "  'client_id': 23207,\n",
       "  'user_id': 43300,\n",
       "  'category': 'page',\n",
       "  'action': 'enter',\n",
       "  'options': {'name': 'landing'}},\n",
       " {'id': 57414663,\n",
       "  'client_id': 23207,\n",
       "  'user_id': 85282,\n",
       "  'category': 'page',\n",
       "  'action': 'enter',\n",
       "  'options': {'name': 'landing'}},\n",
       " {'id': 57414851,\n",
       "  'client_id': 23207,\n",
       "  'user_id': 43300,\n",
       "  'category': 'page',\n",
       "  'action': 'enter',\n",
       "  'options': {'name': 'landing'}},\n",
       " {'id': 57420219,\n",
       "  'client_id': 48128,\n",
       "  'user_id': 121686,\n",
       "  'category': 'page',\n",
       "  'action': 'enter',\n",
       "  'options': {'name': 'landing'}},\n",
       " {'id': 57424709,\n",
       "  'client_id': 58113,\n",
       "  'user_id': 120952,\n",
       "  'category': 'page',\n",
       "  'action': 'enter',\n",
       "  'options': {'name': 'page'}},\n",
       " {'id': 57424757,\n",
       "  'client_id': 58113,\n",
       "  'user_id': 120952,\n",
       "  'category': 'report',\n",
       "  'action': 'change_mode',\n",
       "  'options': {'mode': 'deals'}},\n",
       " {'id': 57425399,\n",
       "  'client_id': 58113,\n",
       "  'user_id': 120952,\n",
       "  'category': 'table',\n",
       "  'action': 'sort',\n",
       "  'options': {'dir': 'ASC', 'name': 'ac'}},\n",
       " {'id': 57425421,\n",
       "  'client_id': 58113,\n",
       "  'user_id': 120952,\n",
       "  'category': 'table',\n",
       "  'action': 'sort',\n",
       "  'options': {'dir': 'DESC', 'name': 'ac'}},\n",
       " {'id': 57426007,\n",
       "  'client_id': 58113,\n",
       "  'user_id': 120952,\n",
       "  'category': 'datepicker',\n",
       "  'action': 'apply',\n",
       "  'options': {'endDate': '2019-03-24 23:59:59',\n",
       "   'startDate': '2019-03-18 00:00:00'}},\n",
       " {'id': 57426303,\n",
       "  'client_id': 58113,\n",
       "  'user_id': 120952,\n",
       "  'category': 'datepicker',\n",
       "  'action': 'apply',\n",
       "  'options': {'endDate': '2019-03-17 23:59:59',\n",
       "   'startDate': '2019-03-11 00:00:00'}},\n",
       " {'id': 57431787,\n",
       "  'client_id': 58113,\n",
       "  'user_id': 120952,\n",
       "  'category': 'page',\n",
       "  'action': 'enter',\n",
       "  'options': {'name': 'page'}},\n",
       " {'id': 57444593,\n",
       "  'client_id': 57613,\n",
       "  'user_id': 110958,\n",
       "  'category': 'page',\n",
       "  'action': 'enter',\n",
       "  'options': {'name': 'landing'}},\n",
       " {'id': 57453741,\n",
       "  'client_id': 61244,\n",
       "  'user_id': 120170,\n",
       "  'category': 'page',\n",
       "  'action': 'enter',\n",
       "  'options': {'name': 'landing'}},\n",
       " {'id': 57467371,\n",
       "  'client_id': 53666,\n",
       "  'user_id': 122224,\n",
       "  'category': 'page',\n",
       "  'action': 'enter',\n",
       "  'options': {'name': 'landing'}},\n",
       " {'id': 57473917,\n",
       "  'client_id': 53018,\n",
       "  'user_id': 92402,\n",
       "  'category': 'page',\n",
       "  'action': 'enter',\n",
       "  'options': {'name': 'landing'}},\n",
       " {'id': 57475785,\n",
       "  'client_id': 53666,\n",
       "  'user_id': 122224,\n",
       "  'category': 'page',\n",
       "  'action': 'enter',\n",
       "  'options': {'name': 'landing'}},\n",
       " {'id': 57492477,\n",
       "  'client_id': 41737,\n",
       "  'user_id': 122874,\n",
       "  'category': 'page',\n",
       "  'action': 'enter',\n",
       "  'options': {'name': 'landing'}},\n",
       " {'id': 57493427,\n",
       "  'client_id': 61078,\n",
       "  'user_id': 119662,\n",
       "  'category': 'page',\n",
       "  'action': 'enter',\n",
       "  'options': {'name': 'landing'}},\n",
       " {'id': 57515935,\n",
       "  'client_id': 20820,\n",
       "  'user_id': 116898,\n",
       "  'category': 'page',\n",
       "  'action': 'enter',\n",
       "  'options': {'name': 'landing'}},\n",
       " {'id': 57517657,\n",
       "  'client_id': 41737,\n",
       "  'user_id': 122874,\n",
       "  'category': 'page',\n",
       "  'action': 'enter',\n",
       "  'options': {'name': 'landing'}},\n",
       " {'id': 57540495,\n",
       "  'client_id': 49700,\n",
       "  'user_id': 84946,\n",
       "  'category': 'page',\n",
       "  'action': 'enter',\n",
       "  'options': {'name': 'landing'}}]"
      ]
     },
     "execution_count": 290,
     "metadata": {},
     "output_type": "execute_result"
    }
   ],
   "source": [
    "data_list"
   ]
  },
  {
   "cell_type": "code",
   "execution_count": 314,
   "metadata": {},
   "outputs": [
    {
     "name": "stdout",
     "output_type": "stream",
     "text": [
      "Counter({'enter': 288, 'apply': 15, 'sort': 10, 'change_mode': 6, 'link_click': 2})\n"
     ]
    }
   ],
   "source": [
    "actions = []\n",
    "for acc in data_list:\n",
    "    action = acc['action']\n",
    "    actions.append(action)\n",
    "#print(actions)\n",
    "import collections\n",
    "a = collections.Counter()\n",
    "for acc in actions:\n",
    "    c[action] += 1\n",
    "print(c)"
   ]
  },
  {
   "cell_type": "code",
   "execution_count": 328,
   "metadata": {},
   "outputs": [
    {
     "name": "stdout",
     "output_type": "stream",
     "text": [
      "[27115, 27115, 27115, 27115, 60459, 60459, 60459, 60459, 58113, 58113]\n",
      "Counter({27115: 4, 60459: 4, 58113: 2})\n"
     ]
    },
    {
     "data": {
      "text/plain": [
       "collections.Counter"
      ]
     },
     "execution_count": 328,
     "metadata": {},
     "output_type": "execute_result"
    }
   ],
   "source": [
    "table_clients = []\n",
    "for item in data_list:\n",
    "    client_id = item['client_id']\n",
    "    action = item ['category']\n",
    "    if action == 'table':\n",
    "        table_clients.append(client_id)\n",
    "print(table_clients)\n",
    "import collections\n",
    "a = collections.Counter()\n",
    "for id in table_clients:\n",
    "    a[id] += 1\n",
    "print(a)\n",
    "type(c)"
   ]
  },
  {
   "cell_type": "code",
   "execution_count": 2,
   "metadata": {},
   "outputs": [
    {
     "name": "stdout",
     "output_type": "stream",
     "text": [
      "каждый\n",
      "охотник\n",
      "желает\n",
      "знать\n",
      "где\n",
      "сидит\n",
      "фазан\n"
     ]
    }
   ],
   "source": [
    "rainbow_list = 'каждый охотник желает знать где сидит фазан'.split()\n",
    "for word in rainbow_list:\n",
    "    print(word)"
   ]
  },
  {
   "cell_type": "code",
   "execution_count": 31,
   "metadata": {},
   "outputs": [
    {
     "data": {
      "text/plain": [
       "'устройствo'"
      ]
     },
     "execution_count": 31,
     "metadata": {},
     "output_type": "execute_result"
    }
   ],
   "source": [
    "proverb = 'Программисты - это устройства, преобразующие кофеин в код.'.split()\n",
    "proverb[3][:-]+'o'"
   ]
  },
  {
   "cell_type": "code",
   "execution_count": 3,
   "metadata": {},
   "outputs": [
    {
     "ename": "IndentationError",
     "evalue": "expected an indented block (<ipython-input-3-cb5c3aa61c01>, line 6)",
     "output_type": "error",
     "traceback": [
      "\u001b[1;36m  File \u001b[1;32m\"<ipython-input-3-cb5c3aa61c01>\"\u001b[1;36m, line \u001b[1;32m6\u001b[0m\n\u001b[1;33m    i += 1\u001b[0m\n\u001b[1;37m    ^\u001b[0m\n\u001b[1;31mIndentationError\u001b[0m\u001b[1;31m:\u001b[0m expected an indented block\n"
     ]
    }
   ],
   "source": [
    "proverb = 'Программисты - это устройства, преобразующие кофеин в код.'\n",
    "new_proverd = \"\"\n",
    "for letter in range(len(proverb)):\n",
    "    if i % 2 == 0:\n",
    "        \n",
    "    i += 1\n",
    "for letter_1 in proverb:\n",
    "    if c % 2 != 0:\n",
    "        b = letter_1\n",
    "        new_proverb.append(b)\n",
    "    c += 1\n",
    "print(new_proverb)\n",
    "    "
   ]
  },
  {
   "cell_type": "code",
   "execution_count": 1,
   "metadata": {},
   "outputs": [],
   "source": [
    "tongue_twister = 'Ехал Грека через реку, видит Грека - в реке рак. Сунул Грека руку в реку, рак за руку Греку - цап!'"
   ]
  },
  {
   "cell_type": "code",
   "execution_count": 3,
   "metadata": {},
   "outputs": [
    {
     "name": "stdout",
     "output_type": "stream",
     "text": [
      "1\n"
     ]
    }
   ],
   "source": [
    "counter = tongue_twister.count('')\n",
    "print(counter)"
   ]
  },
  {
   "cell_type": "code",
   "execution_count": 4,
   "metadata": {},
   "outputs": [
    {
     "name": "stdout",
     "output_type": "stream",
     "text": [
      "18\n"
     ]
    }
   ],
   "source": [
    "proverb = 'Хорошо написанная программа - это программа, написанная 2 раза'\n",
    "index = proverb.find('программа')\n",
    "print(index)"
   ]
  },
  {
   "cell_type": "code",
   "execution_count": 5,
   "metadata": {},
   "outputs": [
    {
     "name": "stdout",
     "output_type": "stream",
     "text": [
      "п\n"
     ]
    }
   ],
   "source": [
    "print(proverb[18])"
   ]
  },
  {
   "cell_type": "code",
   "execution_count": 7,
   "metadata": {},
   "outputs": [
    {
     "name": "stdout",
     "output_type": "stream",
     "text": [
      "написанная\n",
      "это\n"
     ]
    }
   ],
   "source": [
    "proverb = 'Хорошо написанная программа - это программа, написанная 2 раза'\n",
    "\n",
    "while True:\n",
    "    index = proverb.find('программа')\n",
    "    if index == -1:\n",
    "        break\n",
    "    secret = proverb[:index].split()[-1]\n",
    "    proverb = proverb[index+9:] \n",
    "    print(secret)"
   ]
  },
  {
   "cell_type": "code",
   "execution_count": 14,
   "metadata": {},
   "outputs": [
    {
     "ename": "SyntaxError",
     "evalue": "invalid syntax (<ipython-input-14-6d805982da6b>, line 3)",
     "output_type": "error",
     "traceback": [
      "\u001b[1;36m  File \u001b[1;32m\"<ipython-input-14-6d805982da6b>\"\u001b[1;36m, line \u001b[1;32m3\u001b[0m\n\u001b[1;33m    a = number.find(.)\u001b[0m\n\u001b[1;37m                    ^\u001b[0m\n\u001b[1;31mSyntaxError\u001b[0m\u001b[1;31m:\u001b[0m invalid syntax\n"
     ]
    }
   ],
   "source": [
    "number = 56.257\n",
    "number_str = str(number)\n",
    "a = number.find(.)\n",
    "b = 0\n",
    "for i in range (2):\n",
    "    b += int(number_str[a])\n",
    "    a += 1"
   ]
  },
  {
   "cell_type": "code",
   "execution_count": 18,
   "metadata": {
    "scrolled": true
   },
   "outputs": [
    {
     "data": {
      "text/plain": [
       "'Интернет-открытки - это ЛУЧШЕЕ средство для мужчины сказать женщине о своих чувствах прямо в глаза.'"
      ]
     },
     "execution_count": 18,
     "metadata": {},
     "output_type": "execute_result"
    }
   ],
   "source": [
    "string = 'Интернет-открытки - это лучшее средство для мужчины сказать женщине о своих чувствах прямо в глаза.'\n",
    "secret = string[24:30]\n",
    "new_string = string.replace(secret.lower(), secret.upper()) \n",
    "new_string"
   ]
  },
  {
   "cell_type": "code",
   "execution_count": 94,
   "metadata": {},
   "outputs": [
    {
     "name": "stdout",
     "output_type": "stream",
     "text": [
      "С -согласная буква\n",
      "е - гласная буква\n",
      "в -согласная буква\n",
      "а - гласная буква\n",
      "с -согласная буква\n",
      "т -согласная буква\n",
      "и - гласная буква\n",
      "а - гласная буква\n",
      "н -согласная буква\n"
     ]
    }
   ],
   "source": [
    "name = 'Севастиан'\n",
    "consonants = 'б, в, г, д, ж, з, й, к, л, м, н, п, р, с, т, ф, х, ц, ч, ш, щ'.split(', ')\n",
    "vowels = 'а, у, о, ы, и, э, я, ю, ё, е'.split(', ')\n",
    "for letter in name:\n",
    "    if letter.lower() in consonants:\n",
    "        print(letter,'- согласная буква')\n",
    "    elif letter.lower() in vowels:\n",
    "        print(letter,'- гласная буква')        "
   ]
  },
  {
   "cell_type": "code",
   "execution_count": 60,
   "metadata": {},
   "outputs": [
    {
     "data": {
      "text/plain": [
       "'Тяжёлая интернет-зависимость - это когда ты выходишь из интернета:)) а он из тебя нет:))'"
      ]
     },
     "execution_count": 60,
     "metadata": {},
     "output_type": "execute_result"
    }
   ],
   "source": [
    "string = 'Тяжёлая интернет-зависимость - это когда ты выходишь из интернета, а он из тебя нет.'\n",
    "string = string.replace('.',':)')\n",
    "string\n",
    "string = string.replace(',',':)')\n",
    "string\n",
    "string = string.replace(':',':)')\n",
    "string\n",
    "string = string.replace('-',':)')\n",
    "string\n",
    "string = string.replace('!',':)')\n",
    "string\n",
    "string = string.replace('?',':)')\n",
    "string\n",
    "           "
   ]
  },
  {
   "cell_type": "code",
   "execution_count": 78,
   "metadata": {},
   "outputs": [],
   "source": [
    "animals = 'кошка,собака,хомяк,морская свинка,попугай,лошадь'.split(',')"
   ]
  },
  {
   "cell_type": "code",
   "execution_count": 79,
   "metadata": {},
   "outputs": [
    {
     "data": {
      "text/plain": [
       "['кошка', 'собака', 'хомяк', 'морская свинка', 'попугай', 'лошадь']"
      ]
     },
     "execution_count": 79,
     "metadata": {},
     "output_type": "execute_result"
    }
   ],
   "source": [
    "animals"
   ]
  },
  {
   "cell_type": "code",
   "execution_count": 36,
   "metadata": {},
   "outputs": [
    {
     "data": {
      "text/plain": [
       "['была начата',\n",
       " 'гвидо ван',\n",
       " 'для распределенной',\n",
       " 'требовался расширяемый',\n",
       " 'и гвидо',\n",
       " 'на досуге',\n",
       " 'некоторые наработки',\n",
       " 'ориентированного на',\n",
       " 'обучение программированию',\n",
       " 'года гвидо',\n",
       " 'группе новостей',\n",
       " 'языка произошло',\n",
       " 'вовсе не',\n",
       " 'вида пресмыкающихся',\n",
       " 'популярного британского',\n",
       " 'комедийного телешоу',\n",
       " 'монти пайтона']"
      ]
     },
     "execution_count": 36,
     "metadata": {},
     "output_type": "execute_result"
    }
   ],
   "source": [
    "text = 'Разработка языка Python была начата в конце 1980-х годов сотрудником голландского института CWI Гвидо ван Россумом. Для распределенной ОС Amoeba требовался расширяемый скриптовый язык, и Гвидо начал писать Python на досуге, позаимствовав некоторые наработки для языка ABC (Гвидо участвовал в разработке этого языка, ориентированного на обучение программированию). В феврале 1991 года Гвидо опубликовал исходный текст в группе новостей alt.sources. Название языка произошло вовсе не от вида пресмыкающихся. Автор назвал язык в честь популярного британского комедийного телешоу 1970-х \"Летающий цирк Монти Пайтона\".'\n",
    "import re\n",
    "pattern = re.compile('[а-яё]*[аиеоуыэюя]\\ [йцкнгшщзхфвпрлджчсмтб]\\D[а-яё]*') \n",
    "pattern.findall(text.lower())\n",
    "\n"
   ]
  },
  {
   "cell_type": "code",
   "execution_count": 105,
   "metadata": {},
   "outputs": [
    {
     "name": "stdout",
     "output_type": "stream",
     "text": [
      "1000\n",
      "645\n",
      "64.5\n"
     ]
    },
    {
     "data": {
      "text/plain": [
       "<function TextIOWrapper.close()>"
      ]
     },
     "execution_count": 105,
     "metadata": {},
     "output_type": "execute_result"
    }
   ],
   "source": [
    "f = open('StudentsPerformance.csv')\n",
    "male_counter = 0\n",
    "female_counter = 0\n",
    "parents_grade = []\n",
    "unic_grades = []\n",
    "launch = []\n",
    "for line in f:\n",
    "    info = line.split(',')\n",
    "    launch.append(info[3][1:-1])\n",
    "launch.pop(0)\n",
    "counter = launch.count('standard')\n",
    "print(len(launch))\n",
    "print(counter)\n",
    "print(counter/len(launch) * 100)\n",
    "\n",
    "f.close\n"
   ]
  },
  {
   "cell_type": "code",
   "execution_count": 2,
   "metadata": {},
   "outputs": [
    {
     "name": "stdout",
     "output_type": "stream",
     "text": [
      "['\"gender\"', '\"race/ethnicity\"', '\"parental level of education\"', '\"lunch\"', '\"test preparation course\"', '\"math score\"', '\"reading score\"', '\"writing score\"\\n']\n",
      "['\"female\"', '\"group B\"', '\"bachelor\\'s degree\"', '\"standard\"', '\"none\"', '\"72\"', '\"72\"', '\"74\"\\n']\n",
      "['\"female\"', '\"group C\"', '\"some college\"', '\"standard\"', '\"completed\"', '\"69\"', '\"90\"', '\"88\"\\n']\n",
      "['\"female\"', '\"group B\"', '\"master\\'s degree\"', '\"standard\"', '\"none\"', '\"90\"', '\"95\"', '\"93\"\\n']\n",
      "['\"male\"', '\"group A\"', '\"associate\\'s degree\"', '\"free/reduced\"', '\"none\"', '\"47\"', '\"57\"', '\"44\"\\n']\n",
      "['\"male\"', '\"group C\"', '\"some college\"', '\"standard\"', '\"none\"', '\"76\"', '\"78\"', '\"75\"\\n']\n",
      "['\"female\"', '\"group B\"', '\"associate\\'s degree\"', '\"standard\"', '\"none\"', '\"71\"', '\"83\"', '\"78\"\\n']\n",
      "['\"female\"', '\"group B\"', '\"some college\"', '\"standard\"', '\"completed\"', '\"88\"', '\"95\"', '\"92\"\\n']\n",
      "['\"male\"', '\"group B\"', '\"some college\"', '\"free/reduced\"', '\"none\"', '\"40\"', '\"43\"', '\"39\"\\n']\n",
      "['\"male\"', '\"group D\"', '\"high school\"', '\"free/reduced\"', '\"completed\"', '\"64\"', '\"64\"', '\"67\"\\n']\n",
      "['\"female\"', '\"group B\"', '\"high school\"', '\"free/reduced\"', '\"none\"', '\"38\"', '\"60\"', '\"50\"\\n']\n",
      "['\"male\"', '\"group C\"', '\"associate\\'s degree\"', '\"standard\"', '\"none\"', '\"58\"', '\"54\"', '\"52\"\\n']\n",
      "['\"male\"', '\"group D\"', '\"associate\\'s degree\"', '\"standard\"', '\"none\"', '\"40\"', '\"52\"', '\"43\"\\n']\n",
      "['\"female\"', '\"group B\"', '\"high school\"', '\"standard\"', '\"none\"', '\"65\"', '\"81\"', '\"73\"\\n']\n",
      "['\"male\"', '\"group A\"', '\"some college\"', '\"standard\"', '\"completed\"', '\"78\"', '\"72\"', '\"70\"\\n']\n",
      "['\"female\"', '\"group A\"', '\"master\\'s degree\"', '\"standard\"', '\"none\"', '\"50\"', '\"53\"', '\"58\"\\n']\n",
      "['\"female\"', '\"group C\"', '\"some high school\"', '\"standard\"', '\"none\"', '\"69\"', '\"75\"', '\"78\"\\n']\n",
      "['\"male\"', '\"group C\"', '\"high school\"', '\"standard\"', '\"none\"', '\"88\"', '\"89\"', '\"86\"\\n']\n",
      "['\"female\"', '\"group B\"', '\"some high school\"', '\"free/reduced\"', '\"none\"', '\"18\"', '\"32\"', '\"28\"\\n']\n",
      "['\"male\"', '\"group C\"', '\"master\\'s degree\"', '\"free/reduced\"', '\"completed\"', '\"46\"', '\"42\"', '\"46\"\\n']\n",
      "['\"female\"', '\"group C\"', '\"associate\\'s degree\"', '\"free/reduced\"', '\"none\"', '\"54\"', '\"58\"', '\"61\"\\n']\n",
      "['\"male\"', '\"group D\"', '\"high school\"', '\"standard\"', '\"none\"', '\"66\"', '\"69\"', '\"63\"\\n']\n",
      "['\"female\"', '\"group B\"', '\"some college\"', '\"free/reduced\"', '\"completed\"', '\"65\"', '\"75\"', '\"70\"\\n']\n",
      "['\"male\"', '\"group D\"', '\"some college\"', '\"standard\"', '\"none\"', '\"44\"', '\"54\"', '\"53\"\\n']\n",
      "['\"female\"', '\"group C\"', '\"some high school\"', '\"standard\"', '\"none\"', '\"69\"', '\"73\"', '\"73\"\\n']\n",
      "['\"male\"', '\"group D\"', '\"bachelor\\'s degree\"', '\"free/reduced\"', '\"completed\"', '\"74\"', '\"71\"', '\"80\"\\n']\n",
      "['\"male\"', '\"group A\"', '\"master\\'s degree\"', '\"free/reduced\"', '\"none\"', '\"73\"', '\"74\"', '\"72\"\\n']\n",
      "['\"male\"', '\"group B\"', '\"some college\"', '\"standard\"', '\"none\"', '\"69\"', '\"54\"', '\"55\"\\n']\n",
      "['\"female\"', '\"group C\"', '\"bachelor\\'s degree\"', '\"standard\"', '\"none\"', '\"67\"', '\"69\"', '\"75\"\\n']\n",
      "['\"male\"', '\"group C\"', '\"high school\"', '\"standard\"', '\"none\"', '\"70\"', '\"70\"', '\"65\"\\n']\n",
      "['\"female\"', '\"group D\"', '\"master\\'s degree\"', '\"standard\"', '\"none\"', '\"62\"', '\"70\"', '\"75\"\\n']\n",
      "['\"female\"', '\"group D\"', '\"some college\"', '\"standard\"', '\"none\"', '\"69\"', '\"74\"', '\"74\"\\n']\n",
      "['\"female\"', '\"group B\"', '\"some college\"', '\"standard\"', '\"none\"', '\"63\"', '\"65\"', '\"61\"\\n']\n",
      "['\"female\"', '\"group E\"', '\"master\\'s degree\"', '\"free/reduced\"', '\"none\"', '\"56\"', '\"72\"', '\"65\"\\n']\n",
      "['\"male\"', '\"group D\"', '\"some college\"', '\"standard\"', '\"none\"', '\"40\"', '\"42\"', '\"38\"\\n']\n",
      "['\"male\"', '\"group E\"', '\"some college\"', '\"standard\"', '\"none\"', '\"97\"', '\"87\"', '\"82\"\\n']\n",
      "['\"male\"', '\"group E\"', '\"associate\\'s degree\"', '\"standard\"', '\"completed\"', '\"81\"', '\"81\"', '\"79\"\\n']\n",
      "['\"female\"', '\"group D\"', '\"associate\\'s degree\"', '\"standard\"', '\"none\"', '\"74\"', '\"81\"', '\"83\"\\n']\n",
      "['\"female\"', '\"group D\"', '\"some high school\"', '\"free/reduced\"', '\"none\"', '\"50\"', '\"64\"', '\"59\"\\n']\n",
      "['\"female\"', '\"group D\"', '\"associate\\'s degree\"', '\"free/reduced\"', '\"completed\"', '\"75\"', '\"90\"', '\"88\"\\n']\n",
      "['\"male\"', '\"group B\"', '\"associate\\'s degree\"', '\"free/reduced\"', '\"none\"', '\"57\"', '\"56\"', '\"57\"\\n']\n",
      "['\"male\"', '\"group C\"', '\"associate\\'s degree\"', '\"free/reduced\"', '\"none\"', '\"55\"', '\"61\"', '\"54\"\\n']\n",
      "['\"female\"', '\"group C\"', '\"associate\\'s degree\"', '\"standard\"', '\"none\"', '\"58\"', '\"73\"', '\"68\"\\n']\n",
      "['\"female\"', '\"group B\"', '\"associate\\'s degree\"', '\"standard\"', '\"none\"', '\"53\"', '\"58\"', '\"65\"\\n']\n",
      "['\"male\"', '\"group B\"', '\"some college\"', '\"free/reduced\"', '\"completed\"', '\"59\"', '\"65\"', '\"66\"\\n']\n",
      "['\"female\"', '\"group E\"', '\"associate\\'s degree\"', '\"free/reduced\"', '\"none\"', '\"50\"', '\"56\"', '\"54\"\\n']\n",
      "['\"male\"', '\"group B\"', '\"associate\\'s degree\"', '\"standard\"', '\"none\"', '\"65\"', '\"54\"', '\"57\"\\n']\n",
      "['\"female\"', '\"group A\"', '\"associate\\'s degree\"', '\"standard\"', '\"completed\"', '\"55\"', '\"65\"', '\"62\"\\n']\n",
      "['\"female\"', '\"group C\"', '\"high school\"', '\"standard\"', '\"none\"', '\"66\"', '\"71\"', '\"76\"\\n']\n",
      "['\"female\"', '\"group D\"', '\"associate\\'s degree\"', '\"free/reduced\"', '\"completed\"', '\"57\"', '\"74\"', '\"76\"\\n']\n",
      "['\"male\"', '\"group C\"', '\"high school\"', '\"standard\"', '\"completed\"', '\"82\"', '\"84\"', '\"82\"\\n']\n",
      "['\"male\"', '\"group E\"', '\"some college\"', '\"standard\"', '\"none\"', '\"53\"', '\"55\"', '\"48\"\\n']\n",
      "['\"male\"', '\"group E\"', '\"associate\\'s degree\"', '\"free/reduced\"', '\"completed\"', '\"77\"', '\"69\"', '\"68\"\\n']\n",
      "['\"male\"', '\"group C\"', '\"some college\"', '\"standard\"', '\"none\"', '\"53\"', '\"44\"', '\"42\"\\n']\n",
      "['\"male\"', '\"group D\"', '\"high school\"', '\"standard\"', '\"none\"', '\"88\"', '\"78\"', '\"75\"\\n']\n",
      "['\"female\"', '\"group C\"', '\"some high school\"', '\"free/reduced\"', '\"completed\"', '\"71\"', '\"84\"', '\"87\"\\n']\n",
      "['\"female\"', '\"group C\"', '\"high school\"', '\"free/reduced\"', '\"none\"', '\"33\"', '\"41\"', '\"43\"\\n']\n",
      "['\"female\"', '\"group E\"', '\"associate\\'s degree\"', '\"standard\"', '\"completed\"', '\"82\"', '\"85\"', '\"86\"\\n']\n",
      "['\"male\"', '\"group D\"', '\"associate\\'s degree\"', '\"standard\"', '\"none\"', '\"52\"', '\"55\"', '\"49\"\\n']\n",
      "['\"male\"', '\"group D\"', '\"some college\"', '\"standard\"', '\"completed\"', '\"58\"', '\"59\"', '\"58\"\\n']\n",
      "['\"female\"', '\"group C\"', '\"some high school\"', '\"free/reduced\"', '\"none\"', '\"0\"', '\"17\"', '\"10\"\\n']\n",
      "['\"male\"', '\"group E\"', '\"bachelor\\'s degree\"', '\"free/reduced\"', '\"completed\"', '\"79\"', '\"74\"', '\"72\"\\n']\n",
      "['\"male\"', '\"group A\"', '\"some high school\"', '\"free/reduced\"', '\"none\"', '\"39\"', '\"39\"', '\"34\"\\n']\n",
      "['\"male\"', '\"group A\"', '\"associate\\'s degree\"', '\"free/reduced\"', '\"none\"', '\"62\"', '\"61\"', '\"55\"\\n']\n",
      "['\"female\"', '\"group C\"', '\"associate\\'s degree\"', '\"standard\"', '\"none\"', '\"69\"', '\"80\"', '\"71\"\\n']\n",
      "['\"female\"', '\"group D\"', '\"some high school\"', '\"standard\"', '\"none\"', '\"59\"', '\"58\"', '\"59\"\\n']\n",
      "['\"male\"', '\"group B\"', '\"some high school\"', '\"standard\"', '\"none\"', '\"67\"', '\"64\"', '\"61\"\\n']\n",
      "['\"male\"', '\"group D\"', '\"some high school\"', '\"free/reduced\"', '\"none\"', '\"45\"', '\"37\"', '\"37\"\\n']\n",
      "['\"female\"', '\"group C\"', '\"some college\"', '\"standard\"', '\"none\"', '\"60\"', '\"72\"', '\"74\"\\n']\n",
      "['\"male\"', '\"group B\"', '\"associate\\'s degree\"', '\"free/reduced\"', '\"none\"', '\"61\"', '\"58\"', '\"56\"\\n']\n",
      "['\"female\"', '\"group C\"', '\"associate\\'s degree\"', '\"standard\"', '\"none\"', '\"39\"', '\"64\"', '\"57\"\\n']\n",
      "['\"female\"', '\"group D\"', '\"some college\"', '\"free/reduced\"', '\"completed\"', '\"58\"', '\"63\"', '\"73\"\\n']\n",
      "['\"male\"', '\"group D\"', '\"some college\"', '\"standard\"', '\"completed\"', '\"63\"', '\"55\"', '\"63\"\\n']\n",
      "['\"female\"', '\"group A\"', '\"associate\\'s degree\"', '\"free/reduced\"', '\"none\"', '\"41\"', '\"51\"', '\"48\"\\n']\n",
      "['\"male\"', '\"group C\"', '\"some high school\"', '\"free/reduced\"', '\"none\"', '\"61\"', '\"57\"', '\"56\"\\n']\n",
      "['\"male\"', '\"group C\"', '\"some high school\"', '\"standard\"', '\"none\"', '\"49\"', '\"49\"', '\"41\"\\n']\n",
      "['\"male\"', '\"group B\"', '\"associate\\'s degree\"', '\"free/reduced\"', '\"none\"', '\"44\"', '\"41\"', '\"38\"\\n']\n",
      "['\"male\"', '\"group E\"', '\"some high school\"', '\"standard\"', '\"none\"', '\"30\"', '\"26\"', '\"22\"\\n']\n",
      "['\"male\"', '\"group A\"', '\"bachelor\\'s degree\"', '\"standard\"', '\"completed\"', '\"80\"', '\"78\"', '\"81\"\\n']\n",
      "['\"female\"', '\"group D\"', '\"some high school\"', '\"standard\"', '\"completed\"', '\"61\"', '\"74\"', '\"72\"\\n']\n",
      "['\"female\"', '\"group E\"', '\"master\\'s degree\"', '\"standard\"', '\"none\"', '\"62\"', '\"68\"', '\"68\"\\n']\n",
      "['\"female\"', '\"group B\"', '\"associate\\'s degree\"', '\"standard\"', '\"none\"', '\"47\"', '\"49\"', '\"50\"\\n']\n",
      "['\"male\"', '\"group B\"', '\"high school\"', '\"free/reduced\"', '\"none\"', '\"49\"', '\"45\"', '\"45\"\\n']\n",
      "['\"male\"', '\"group A\"', '\"some college\"', '\"free/reduced\"', '\"completed\"', '\"50\"', '\"47\"', '\"54\"\\n']\n",
      "['\"male\"', '\"group E\"', '\"associate\\'s degree\"', '\"standard\"', '\"none\"', '\"72\"', '\"64\"', '\"63\"\\n']\n",
      "['\"male\"', '\"group D\"', '\"high school\"', '\"free/reduced\"', '\"none\"', '\"42\"', '\"39\"', '\"34\"\\n']\n",
      "['\"female\"', '\"group C\"', '\"some college\"', '\"standard\"', '\"none\"', '\"73\"', '\"80\"', '\"82\"\\n']\n",
      "['\"female\"', '\"group C\"', '\"some college\"', '\"free/reduced\"', '\"none\"', '\"76\"', '\"83\"', '\"88\"\\n']\n",
      "['\"female\"', '\"group D\"', '\"associate\\'s degree\"', '\"standard\"', '\"none\"', '\"71\"', '\"71\"', '\"74\"\\n']\n",
      "['\"female\"', '\"group A\"', '\"some college\"', '\"standard\"', '\"none\"', '\"58\"', '\"70\"', '\"67\"\\n']\n",
      "['\"female\"', '\"group D\"', '\"some high school\"', '\"standard\"', '\"none\"', '\"73\"', '\"86\"', '\"82\"\\n']\n",
      "['\"female\"', '\"group C\"', '\"bachelor\\'s degree\"', '\"standard\"', '\"none\"', '\"65\"', '\"72\"', '\"74\"\\n']\n",
      "['\"male\"', '\"group C\"', '\"high school\"', '\"free/reduced\"', '\"none\"', '\"27\"', '\"34\"', '\"36\"\\n']\n",
      "['\"male\"', '\"group C\"', '\"high school\"', '\"standard\"', '\"none\"', '\"71\"', '\"79\"', '\"71\"\\n']\n",
      "['\"male\"', '\"group C\"', '\"associate\\'s degree\"', '\"free/reduced\"', '\"completed\"', '\"43\"', '\"45\"', '\"50\"\\n']\n",
      "['\"female\"', '\"group B\"', '\"some college\"', '\"standard\"', '\"none\"', '\"79\"', '\"86\"', '\"92\"\\n']\n",
      "['\"male\"', '\"group C\"', '\"associate\\'s degree\"', '\"free/reduced\"', '\"completed\"', '\"78\"', '\"81\"', '\"82\"\\n']\n",
      "['\"male\"', '\"group B\"', '\"some high school\"', '\"standard\"', '\"completed\"', '\"65\"', '\"66\"', '\"62\"\\n']\n",
      "['\"female\"', '\"group E\"', '\"some college\"', '\"standard\"', '\"completed\"', '\"63\"', '\"72\"', '\"70\"\\n']\n",
      "['\"female\"', '\"group D\"', '\"some college\"', '\"free/reduced\"', '\"none\"', '\"58\"', '\"67\"', '\"62\"\\n']\n",
      "['\"female\"', '\"group D\"', '\"bachelor\\'s degree\"', '\"standard\"', '\"none\"', '\"65\"', '\"67\"', '\"62\"\\n']\n",
      "['\"male\"', '\"group B\"', '\"some college\"', '\"standard\"', '\"none\"', '\"79\"', '\"67\"', '\"67\"\\n']\n",
      "['\"male\"', '\"group D\"', '\"bachelor\\'s degree\"', '\"standard\"', '\"completed\"', '\"68\"', '\"74\"', '\"74\"\\n']\n",
      "['\"female\"', '\"group D\"', '\"associate\\'s degree\"', '\"standard\"', '\"none\"', '\"85\"', '\"91\"', '\"89\"\\n']\n",
      "['\"male\"', '\"group B\"', '\"high school\"', '\"standard\"', '\"completed\"', '\"60\"', '\"44\"', '\"47\"\\n']\n",
      "['\"male\"', '\"group C\"', '\"some college\"', '\"standard\"', '\"completed\"', '\"98\"', '\"86\"', '\"90\"\\n']\n",
      "['\"female\"', '\"group C\"', '\"some college\"', '\"standard\"', '\"none\"', '\"58\"', '\"67\"', '\"72\"\\n']\n",
      "['\"female\"', '\"group D\"', '\"master\\'s degree\"', '\"standard\"', '\"none\"', '\"87\"', '\"100\"', '\"100\"\\n']\n",
      "['\"male\"', '\"group E\"', '\"associate\\'s degree\"', '\"standard\"', '\"completed\"', '\"66\"', '\"63\"', '\"64\"\\n']\n",
      "['\"female\"', '\"group B\"', '\"associate\\'s degree\"', '\"free/reduced\"', '\"none\"', '\"52\"', '\"76\"', '\"70\"\\n']\n",
      "['\"female\"', '\"group B\"', '\"some high school\"', '\"standard\"', '\"none\"', '\"70\"', '\"64\"', '\"72\"\\n']\n",
      "['\"female\"', '\"group D\"', '\"associate\\'s degree\"', '\"free/reduced\"', '\"completed\"', '\"77\"', '\"89\"', '\"98\"\\n']\n",
      "['\"male\"', '\"group C\"', '\"high school\"', '\"standard\"', '\"none\"', '\"62\"', '\"55\"', '\"49\"\\n']\n",
      "['\"male\"', '\"group A\"', '\"associate\\'s degree\"', '\"standard\"', '\"none\"', '\"54\"', '\"53\"', '\"47\"\\n']\n",
      "['\"female\"', '\"group D\"', '\"some college\"', '\"standard\"', '\"none\"', '\"51\"', '\"58\"', '\"54\"\\n']\n",
      "['\"female\"', '\"group E\"', '\"bachelor\\'s degree\"', '\"standard\"', '\"completed\"', '\"99\"', '\"100\"', '\"100\"\\n']\n",
      "['\"male\"', '\"group C\"', '\"high school\"', '\"standard\"', '\"none\"', '\"84\"', '\"77\"', '\"74\"\\n']\n",
      "['\"female\"', '\"group B\"', '\"bachelor\\'s degree\"', '\"free/reduced\"', '\"none\"', '\"75\"', '\"85\"', '\"82\"\\n']\n",
      "['\"female\"', '\"group D\"', '\"bachelor\\'s degree\"', '\"standard\"', '\"none\"', '\"78\"', '\"82\"', '\"79\"\\n']\n",
      "['\"female\"', '\"group D\"', '\"some high school\"', '\"standard\"', '\"none\"', '\"51\"', '\"63\"', '\"61\"\\n']\n",
      "['\"female\"', '\"group C\"', '\"some college\"', '\"standard\"', '\"none\"', '\"55\"', '\"69\"', '\"65\"\\n']\n",
      "['\"female\"', '\"group C\"', '\"bachelor\\'s degree\"', '\"standard\"', '\"completed\"', '\"79\"', '\"92\"', '\"89\"\\n']\n",
      "['\"male\"', '\"group B\"', '\"associate\\'s degree\"', '\"standard\"', '\"completed\"', '\"91\"', '\"89\"', '\"92\"\\n']\n",
      "['\"female\"', '\"group C\"', '\"some college\"', '\"standard\"', '\"completed\"', '\"88\"', '\"93\"', '\"93\"\\n']\n",
      "['\"male\"', '\"group D\"', '\"high school\"', '\"free/reduced\"', '\"none\"', '\"63\"', '\"57\"', '\"56\"\\n']\n",
      "['\"male\"', '\"group E\"', '\"some college\"', '\"standard\"', '\"none\"', '\"83\"', '\"80\"', '\"73\"\\n']\n",
      "['\"female\"', '\"group B\"', '\"high school\"', '\"standard\"', '\"none\"', '\"87\"', '\"95\"', '\"86\"\\n']\n",
      "['\"male\"', '\"group B\"', '\"some high school\"', '\"standard\"', '\"none\"', '\"72\"', '\"68\"', '\"67\"\\n']\n",
      "['\"male\"', '\"group D\"', '\"some college\"', '\"standard\"', '\"completed\"', '\"65\"', '\"77\"', '\"74\"\\n']\n",
      "['\"male\"', '\"group D\"', '\"master\\'s degree\"', '\"standard\"', '\"none\"', '\"82\"', '\"82\"', '\"74\"\\n']\n",
      "['\"female\"', '\"group A\"', '\"bachelor\\'s degree\"', '\"standard\"', '\"none\"', '\"51\"', '\"49\"', '\"51\"\\n']\n",
      "['\"male\"', '\"group D\"', '\"master\\'s degree\"', '\"standard\"', '\"none\"', '\"89\"', '\"84\"', '\"82\"\\n']\n",
      "['\"male\"', '\"group C\"', '\"some high school\"', '\"free/reduced\"', '\"completed\"', '\"53\"', '\"37\"', '\"40\"\\n']\n",
      "['\"male\"', '\"group E\"', '\"some college\"', '\"free/reduced\"', '\"completed\"', '\"87\"', '\"74\"', '\"70\"\\n']\n",
      "['\"female\"', '\"group C\"', '\"some college\"', '\"standard\"', '\"completed\"', '\"75\"', '\"81\"', '\"84\"\\n']\n",
      "['\"male\"', '\"group D\"', '\"bachelor\\'s degree\"', '\"free/reduced\"', '\"completed\"', '\"74\"', '\"79\"', '\"75\"\\n']\n",
      "['\"male\"', '\"group C\"', '\"bachelor\\'s degree\"', '\"standard\"', '\"none\"', '\"58\"', '\"55\"', '\"48\"\\n']\n",
      "['\"male\"', '\"group B\"', '\"some high school\"', '\"standard\"', '\"completed\"', '\"51\"', '\"54\"', '\"41\"\\n']\n",
      "['\"male\"', '\"group E\"', '\"high school\"', '\"standard\"', '\"none\"', '\"70\"', '\"55\"', '\"56\"\\n']\n",
      "['\"female\"', '\"group C\"', '\"associate\\'s degree\"', '\"standard\"', '\"none\"', '\"59\"', '\"66\"', '\"67\"\\n']\n",
      "['\"male\"', '\"group D\"', '\"some college\"', '\"standard\"', '\"completed\"', '\"71\"', '\"61\"', '\"69\"\\n']\n",
      "['\"female\"', '\"group D\"', '\"some high school\"', '\"standard\"', '\"none\"', '\"76\"', '\"72\"', '\"71\"\\n']\n",
      "['\"female\"', '\"group C\"', '\"some college\"', '\"free/reduced\"', '\"none\"', '\"59\"', '\"62\"', '\"64\"\\n']\n",
      "['\"female\"', '\"group E\"', '\"some college\"', '\"free/reduced\"', '\"completed\"', '\"42\"', '\"55\"', '\"54\"\\n']\n",
      "['\"male\"', '\"group A\"', '\"high school\"', '\"standard\"', '\"none\"', '\"57\"', '\"43\"', '\"47\"\\n']\n",
      "['\"male\"', '\"group D\"', '\"some college\"', '\"standard\"', '\"none\"', '\"88\"', '\"73\"', '\"78\"\\n']\n",
      "['\"female\"', '\"group C\"', '\"some college\"', '\"free/reduced\"', '\"none\"', '\"22\"', '\"39\"', '\"33\"\\n']\n",
      "['\"male\"', '\"group B\"', '\"some high school\"', '\"standard\"', '\"none\"', '\"88\"', '\"84\"', '\"75\"\\n']\n",
      "['\"male\"', '\"group C\"', '\"associate\\'s degree\"', '\"free/reduced\"', '\"none\"', '\"73\"', '\"68\"', '\"66\"\\n']\n",
      "['\"female\"', '\"group D\"', '\"bachelor\\'s degree\"', '\"standard\"', '\"completed\"', '\"68\"', '\"75\"', '\"81\"\\n']\n",
      "['\"male\"', '\"group E\"', '\"associate\\'s degree\"', '\"free/reduced\"', '\"completed\"', '\"100\"', '\"100\"', '\"93\"\\n']\n",
      "['\"male\"', '\"group A\"', '\"some high school\"', '\"standard\"', '\"completed\"', '\"62\"', '\"67\"', '\"69\"\\n']\n",
      "['\"male\"', '\"group A\"', '\"bachelor\\'s degree\"', '\"standard\"', '\"none\"', '\"77\"', '\"67\"', '\"68\"\\n']\n",
      "['\"female\"', '\"group B\"', '\"associate\\'s degree\"', '\"standard\"', '\"completed\"', '\"59\"', '\"70\"', '\"66\"\\n']\n",
      "['\"male\"', '\"group D\"', '\"bachelor\\'s degree\"', '\"standard\"', '\"none\"', '\"54\"', '\"49\"', '\"47\"\\n']\n",
      "['\"male\"', '\"group D\"', '\"some high school\"', '\"standard\"', '\"none\"', '\"62\"', '\"67\"', '\"61\"\\n']\n",
      "['\"female\"', '\"group C\"', '\"some college\"', '\"standard\"', '\"completed\"', '\"70\"', '\"89\"', '\"88\"\\n']\n",
      "['\"female\"', '\"group E\"', '\"high school\"', '\"free/reduced\"', '\"completed\"', '\"66\"', '\"74\"', '\"78\"\\n']\n",
      "['\"male\"', '\"group B\"', '\"some college\"', '\"free/reduced\"', '\"none\"', '\"60\"', '\"60\"', '\"60\"\\n']\n",
      "['\"female\"', '\"group B\"', '\"associate\\'s degree\"', '\"standard\"', '\"completed\"', '\"61\"', '\"86\"', '\"87\"\\n']\n",
      "['\"male\"', '\"group D\"', '\"associate\\'s degree\"', '\"free/reduced\"', '\"none\"', '\"66\"', '\"62\"', '\"64\"\\n']\n",
      "['\"male\"', '\"group B\"', '\"associate\\'s degree\"', '\"free/reduced\"', '\"completed\"', '\"82\"', '\"78\"', '\"74\"\\n']\n",
      "['\"female\"', '\"group E\"', '\"some college\"', '\"free/reduced\"', '\"completed\"', '\"75\"', '\"88\"', '\"85\"\\n']\n",
      "['\"male\"', '\"group B\"', '\"master\\'s degree\"', '\"free/reduced\"', '\"none\"', '\"49\"', '\"53\"', '\"52\"\\n']\n",
      "['\"male\"', '\"group C\"', '\"high school\"', '\"standard\"', '\"none\"', '\"52\"', '\"53\"', '\"49\"\\n']\n",
      "['\"female\"', '\"group E\"', '\"master\\'s degree\"', '\"standard\"', '\"none\"', '\"81\"', '\"92\"', '\"91\"\\n']\n",
      "['\"female\"', '\"group C\"', '\"bachelor\\'s degree\"', '\"standard\"', '\"completed\"', '\"96\"', '\"100\"', '\"100\"\\n']\n",
      "['\"male\"', '\"group C\"', '\"high school\"', '\"free/reduced\"', '\"completed\"', '\"53\"', '\"51\"', '\"51\"\\n']\n",
      "['\"female\"', '\"group B\"', '\"master\\'s degree\"', '\"free/reduced\"', '\"completed\"', '\"58\"', '\"76\"', '\"78\"\\n']\n",
      "['\"female\"', '\"group B\"', '\"high school\"', '\"standard\"', '\"completed\"', '\"68\"', '\"83\"', '\"78\"\\n']\n",
      "['\"female\"', '\"group C\"', '\"some college\"', '\"free/reduced\"', '\"completed\"', '\"67\"', '\"75\"', '\"70\"\\n']\n",
      "['\"male\"', '\"group A\"', '\"high school\"', '\"standard\"', '\"completed\"', '\"72\"', '\"73\"', '\"74\"\\n']\n",
      "['\"male\"', '\"group E\"', '\"some high school\"', '\"standard\"', '\"none\"', '\"94\"', '\"88\"', '\"78\"\\n']\n",
      "['\"female\"', '\"group D\"', '\"some college\"', '\"standard\"', '\"none\"', '\"79\"', '\"86\"', '\"81\"\\n']\n",
      "['\"female\"', '\"group C\"', '\"associate\\'s degree\"', '\"standard\"', '\"none\"', '\"63\"', '\"67\"', '\"70\"\\n']\n",
      "['\"female\"', '\"group C\"', '\"bachelor\\'s degree\"', '\"free/reduced\"', '\"completed\"', '\"43\"', '\"51\"', '\"54\"\\n']\n",
      "['\"female\"', '\"group C\"', '\"master\\'s degree\"', '\"standard\"', '\"completed\"', '\"81\"', '\"91\"', '\"87\"\\n']\n",
      "['\"female\"', '\"group B\"', '\"high school\"', '\"free/reduced\"', '\"completed\"', '\"46\"', '\"54\"', '\"58\"\\n']\n",
      "['\"female\"', '\"group C\"', '\"associate\\'s degree\"', '\"standard\"', '\"completed\"', '\"71\"', '\"77\"', '\"77\"\\n']\n",
      "['\"female\"', '\"group B\"', '\"master\\'s degree\"', '\"free/reduced\"', '\"completed\"', '\"52\"', '\"70\"', '\"62\"\\n']\n",
      "['\"female\"', '\"group D\"', '\"some high school\"', '\"standard\"', '\"completed\"', '\"97\"', '\"100\"', '\"100\"\\n']\n",
      "['\"male\"', '\"group C\"', '\"master\\'s degree\"', '\"free/reduced\"', '\"completed\"', '\"62\"', '\"68\"', '\"75\"\\n']\n",
      "['\"female\"', '\"group C\"', '\"some college\"', '\"free/reduced\"', '\"none\"', '\"46\"', '\"64\"', '\"66\"\\n']\n",
      "['\"female\"', '\"group E\"', '\"high school\"', '\"standard\"', '\"none\"', '\"50\"', '\"50\"', '\"47\"\\n']\n",
      "['\"female\"', '\"group D\"', '\"associate\\'s degree\"', '\"standard\"', '\"none\"', '\"65\"', '\"69\"', '\"70\"\\n']\n",
      "['\"male\"', '\"group C\"', '\"some high school\"', '\"free/reduced\"', '\"completed\"', '\"45\"', '\"52\"', '\"49\"\\n']\n",
      "['\"male\"', '\"group C\"', '\"associate\\'s degree\"', '\"free/reduced\"', '\"completed\"', '\"65\"', '\"67\"', '\"65\"\\n']\n",
      "['\"male\"', '\"group E\"', '\"high school\"', '\"standard\"', '\"none\"', '\"80\"', '\"76\"', '\"65\"\\n']\n",
      "['\"male\"', '\"group D\"', '\"some high school\"', '\"standard\"', '\"completed\"', '\"62\"', '\"66\"', '\"68\"\\n']\n",
      "['\"male\"', '\"group B\"', '\"some high school\"', '\"free/reduced\"', '\"none\"', '\"48\"', '\"52\"', '\"45\"\\n']\n",
      "['\"female\"', '\"group C\"', '\"bachelor\\'s degree\"', '\"standard\"', '\"none\"', '\"77\"', '\"88\"', '\"87\"\\n']\n",
      "['\"female\"', '\"group E\"', '\"associate\\'s degree\"', '\"standard\"', '\"none\"', '\"66\"', '\"65\"', '\"69\"\\n']\n",
      "['\"male\"', '\"group D\"', '\"some college\"', '\"standard\"', '\"completed\"', '\"76\"', '\"83\"', '\"79\"\\n']\n",
      "['\"female\"', '\"group B\"', '\"some high school\"', '\"standard\"', '\"none\"', '\"62\"', '\"64\"', '\"66\"\\n']\n",
      "['\"male\"', '\"group D\"', '\"some college\"', '\"standard\"', '\"completed\"', '\"77\"', '\"62\"', '\"62\"\\n']\n",
      "['\"female\"', '\"group C\"', '\"master\\'s degree\"', '\"standard\"', '\"completed\"', '\"69\"', '\"84\"', '\"85\"\\n']\n",
      "['\"male\"', '\"group D\"', '\"associate\\'s degree\"', '\"standard\"', '\"none\"', '\"61\"', '\"55\"', '\"52\"\\n']\n",
      "['\"male\"', '\"group C\"', '\"some high school\"', '\"free/reduced\"', '\"completed\"', '\"59\"', '\"69\"', '\"65\"\\n']\n",
      "['\"male\"', '\"group E\"', '\"high school\"', '\"free/reduced\"', '\"none\"', '\"55\"', '\"56\"', '\"51\"\\n']\n",
      "['\"female\"', '\"group B\"', '\"some college\"', '\"free/reduced\"', '\"none\"', '\"45\"', '\"53\"', '\"55\"\\n']\n",
      "['\"female\"', '\"group B\"', '\"bachelor\\'s degree\"', '\"free/reduced\"', '\"none\"', '\"78\"', '\"79\"', '\"76\"\\n']\n",
      "['\"female\"', '\"group C\"', '\"associate\\'s degree\"', '\"standard\"', '\"completed\"', '\"67\"', '\"84\"', '\"86\"\\n']\n",
      "['\"female\"', '\"group D\"', '\"some college\"', '\"free/reduced\"', '\"none\"', '\"65\"', '\"81\"', '\"77\"\\n']\n",
      "['\"male\"', '\"group C\"', '\"associate\\'s degree\"', '\"standard\"', '\"none\"', '\"69\"', '\"77\"', '\"69\"\\n']\n",
      "['\"female\"', '\"group B\"', '\"associate\\'s degree\"', '\"standard\"', '\"none\"', '\"57\"', '\"69\"', '\"68\"\\n']\n",
      "['\"male\"', '\"group C\"', '\"some college\"', '\"standard\"', '\"none\"', '\"59\"', '\"41\"', '\"42\"\\n']\n",
      "['\"male\"', '\"group D\"', '\"some high school\"', '\"standard\"', '\"completed\"', '\"74\"', '\"71\"', '\"78\"\\n']\n",
      "['\"male\"', '\"group E\"', '\"bachelor\\'s degree\"', '\"standard\"', '\"none\"', '\"82\"', '\"62\"', '\"62\"\\n']\n",
      "['\"male\"', '\"group E\"', '\"high school\"', '\"standard\"', '\"completed\"', '\"81\"', '\"80\"', '\"76\"\\n']\n",
      "['\"female\"', '\"group B\"', '\"some college\"', '\"free/reduced\"', '\"none\"', '\"74\"', '\"81\"', '\"76\"\\n']\n",
      "['\"female\"', '\"group B\"', '\"some college\"', '\"free/reduced\"', '\"none\"', '\"58\"', '\"61\"', '\"66\"\\n']\n",
      "['\"male\"', '\"group D\"', '\"some high school\"', '\"free/reduced\"', '\"completed\"', '\"80\"', '\"79\"', '\"79\"\\n']\n",
      "['\"male\"', '\"group C\"', '\"some college\"', '\"free/reduced\"', '\"none\"', '\"35\"', '\"28\"', '\"27\"\\n']\n",
      "['\"female\"', '\"group C\"', '\"high school\"', '\"free/reduced\"', '\"none\"', '\"42\"', '\"62\"', '\"60\"\\n']\n",
      "['\"male\"', '\"group C\"', '\"associate\\'s degree\"', '\"free/reduced\"', '\"completed\"', '\"60\"', '\"51\"', '\"56\"\\n']\n",
      "['\"male\"', '\"group E\"', '\"high school\"', '\"standard\"', '\"completed\"', '\"87\"', '\"91\"', '\"81\"\\n']\n",
      "['\"male\"', '\"group B\"', '\"some high school\"', '\"standard\"', '\"completed\"', '\"84\"', '\"83\"', '\"75\"\\n']\n",
      "['\"female\"', '\"group E\"', '\"associate\\'s degree\"', '\"free/reduced\"', '\"completed\"', '\"83\"', '\"86\"', '\"88\"\\n']\n",
      "['\"female\"', '\"group C\"', '\"high school\"', '\"free/reduced\"', '\"none\"', '\"34\"', '\"42\"', '\"39\"\\n']\n",
      "['\"male\"', '\"group B\"', '\"high school\"', '\"free/reduced\"', '\"none\"', '\"66\"', '\"77\"', '\"70\"\\n']\n",
      "['\"male\"', '\"group B\"', '\"some high school\"', '\"standard\"', '\"completed\"', '\"61\"', '\"56\"', '\"56\"\\n']\n",
      "['\"female\"', '\"group D\"', '\"high school\"', '\"standard\"', '\"completed\"', '\"56\"', '\"68\"', '\"74\"\\n']\n",
      "['\"male\"', '\"group B\"', '\"associate\\'s degree\"', '\"standard\"', '\"none\"', '\"87\"', '\"85\"', '\"73\"\\n']\n",
      "['\"female\"', '\"group C\"', '\"some high school\"', '\"free/reduced\"', '\"none\"', '\"55\"', '\"65\"', '\"62\"\\n']\n",
      "['\"male\"', '\"group D\"', '\"some high school\"', '\"standard\"', '\"none\"', '\"86\"', '\"80\"', '\"75\"\\n']\n",
      "['\"female\"', '\"group B\"', '\"associate\\'s degree\"', '\"standard\"', '\"completed\"', '\"52\"', '\"66\"', '\"73\"\\n']\n",
      "['\"female\"', '\"group E\"', '\"master\\'s degree\"', '\"free/reduced\"', '\"none\"', '\"45\"', '\"56\"', '\"54\"\\n']\n",
      "['\"female\"', '\"group C\"', '\"some college\"', '\"standard\"', '\"none\"', '\"72\"', '\"72\"', '\"71\"\\n']\n",
      "['\"male\"', '\"group D\"', '\"high school\"', '\"standard\"', '\"none\"', '\"57\"', '\"50\"', '\"54\"\\n']\n",
      "['\"male\"', '\"group A\"', '\"some high school\"', '\"free/reduced\"', '\"none\"', '\"68\"', '\"72\"', '\"64\"\\n']\n",
      "['\"female\"', '\"group C\"', '\"some college\"', '\"standard\"', '\"completed\"', '\"88\"', '\"95\"', '\"94\"\\n']\n",
      "['\"male\"', '\"group D\"', '\"some college\"', '\"standard\"', '\"none\"', '\"76\"', '\"64\"', '\"66\"\\n']\n",
      "['\"male\"', '\"group C\"', '\"associate\\'s degree\"', '\"standard\"', '\"none\"', '\"46\"', '\"43\"', '\"42\"\\n']\n",
      "['\"female\"', '\"group B\"', '\"bachelor\\'s degree\"', '\"standard\"', '\"none\"', '\"67\"', '\"86\"', '\"83\"\\n']\n",
      "['\"male\"', '\"group E\"', '\"some high school\"', '\"standard\"', '\"none\"', '\"92\"', '\"87\"', '\"78\"\\n']\n",
      "['\"male\"', '\"group C\"', '\"bachelor\\'s degree\"', '\"standard\"', '\"completed\"', '\"83\"', '\"82\"', '\"84\"\\n']\n",
      "['\"male\"', '\"group D\"', '\"associate\\'s degree\"', '\"standard\"', '\"none\"', '\"80\"', '\"75\"', '\"77\"\\n']\n",
      "['\"male\"', '\"group D\"', '\"bachelor\\'s degree\"', '\"free/reduced\"', '\"none\"', '\"63\"', '\"66\"', '\"67\"\\n']\n",
      "['\"female\"', '\"group D\"', '\"some high school\"', '\"standard\"', '\"completed\"', '\"64\"', '\"60\"', '\"74\"\\n']\n",
      "['\"male\"', '\"group B\"', '\"some college\"', '\"standard\"', '\"none\"', '\"54\"', '\"52\"', '\"51\"\\n']\n",
      "['\"male\"', '\"group C\"', '\"associate\\'s degree\"', '\"standard\"', '\"none\"', '\"84\"', '\"80\"', '\"80\"\\n']\n",
      "['\"male\"', '\"group D\"', '\"high school\"', '\"free/reduced\"', '\"completed\"', '\"73\"', '\"68\"', '\"66\"\\n']\n",
      "['\"female\"', '\"group E\"', '\"bachelor\\'s degree\"', '\"standard\"', '\"none\"', '\"80\"', '\"83\"', '\"83\"\\n']\n",
      "['\"female\"', '\"group D\"', '\"high school\"', '\"standard\"', '\"none\"', '\"56\"', '\"52\"', '\"55\"\\n']\n",
      "['\"male\"', '\"group E\"', '\"some college\"', '\"standard\"', '\"none\"', '\"59\"', '\"51\"', '\"43\"\\n']\n",
      "['\"male\"', '\"group D\"', '\"some high school\"', '\"standard\"', '\"none\"', '\"75\"', '\"74\"', '\"69\"\\n']\n",
      "['\"male\"', '\"group C\"', '\"associate\\'s degree\"', '\"standard\"', '\"none\"', '\"85\"', '\"76\"', '\"71\"\\n']\n",
      "['\"male\"', '\"group E\"', '\"associate\\'s degree\"', '\"standard\"', '\"none\"', '\"89\"', '\"76\"', '\"74\"\\n']\n",
      "['\"female\"', '\"group B\"', '\"high school\"', '\"standard\"', '\"completed\"', '\"58\"', '\"70\"', '\"68\"\\n']\n",
      "['\"female\"', '\"group B\"', '\"high school\"', '\"standard\"', '\"none\"', '\"65\"', '\"64\"', '\"62\"\\n']\n",
      "['\"male\"', '\"group C\"', '\"high school\"', '\"standard\"', '\"none\"', '\"68\"', '\"60\"', '\"53\"\\n']\n",
      "['\"male\"', '\"group A\"', '\"some high school\"', '\"standard\"', '\"completed\"', '\"47\"', '\"49\"', '\"49\"\\n']\n",
      "['\"female\"', '\"group D\"', '\"some college\"', '\"free/reduced\"', '\"none\"', '\"71\"', '\"83\"', '\"83\"\\n']\n",
      "['\"female\"', '\"group B\"', '\"some high school\"', '\"standard\"', '\"completed\"', '\"60\"', '\"70\"', '\"70\"\\n']\n",
      "['\"male\"', '\"group D\"', '\"master\\'s degree\"', '\"standard\"', '\"none\"', '\"80\"', '\"80\"', '\"72\"\\n']\n",
      "['\"male\"', '\"group D\"', '\"high school\"', '\"standard\"', '\"none\"', '\"54\"', '\"52\"', '\"52\"\\n']\n",
      "['\"female\"', '\"group E\"', '\"some college\"', '\"standard\"', '\"none\"', '\"62\"', '\"73\"', '\"70\"\\n']\n",
      "['\"female\"', '\"group C\"', '\"associate\\'s degree\"', '\"free/reduced\"', '\"none\"', '\"64\"', '\"73\"', '\"68\"\\n']\n",
      "['\"male\"', '\"group C\"', '\"associate\\'s degree\"', '\"standard\"', '\"completed\"', '\"78\"', '\"77\"', '\"77\"\\n']\n",
      "['\"female\"', '\"group B\"', '\"some college\"', '\"standard\"', '\"none\"', '\"70\"', '\"75\"', '\"78\"\\n']\n",
      "['\"female\"', '\"group C\"', '\"master\\'s degree\"', '\"free/reduced\"', '\"completed\"', '\"65\"', '\"81\"', '\"81\"\\n']\n",
      "['\"female\"', '\"group C\"', '\"some high school\"', '\"free/reduced\"', '\"completed\"', '\"64\"', '\"79\"', '\"77\"\\n']\n",
      "['\"male\"', '\"group C\"', '\"some college\"', '\"standard\"', '\"completed\"', '\"79\"', '\"79\"', '\"78\"\\n']\n",
      "['\"female\"', '\"group C\"', '\"some high school\"', '\"free/reduced\"', '\"none\"', '\"44\"', '\"50\"', '\"51\"\\n']\n",
      "['\"female\"', '\"group E\"', '\"high school\"', '\"standard\"', '\"none\"', '\"99\"', '\"93\"', '\"90\"\\n']\n",
      "['\"male\"', '\"group D\"', '\"high school\"', '\"standard\"', '\"none\"', '\"76\"', '\"73\"', '\"68\"\\n']\n",
      "['\"male\"', '\"group D\"', '\"some high school\"', '\"free/reduced\"', '\"none\"', '\"59\"', '\"42\"', '\"41\"\\n']\n",
      "['\"female\"', '\"group C\"', '\"bachelor\\'s degree\"', '\"standard\"', '\"none\"', '\"63\"', '\"75\"', '\"81\"\\n']\n",
      "['\"female\"', '\"group D\"', '\"high school\"', '\"standard\"', '\"none\"', '\"69\"', '\"72\"', '\"77\"\\n']\n",
      "['\"female\"', '\"group D\"', '\"associate\\'s degree\"', '\"standard\"', '\"completed\"', '\"88\"', '\"92\"', '\"95\"\\n']\n",
      "['\"female\"', '\"group E\"', '\"some college\"', '\"free/reduced\"', '\"none\"', '\"71\"', '\"76\"', '\"70\"\\n']\n",
      "['\"male\"', '\"group C\"', '\"bachelor\\'s degree\"', '\"standard\"', '\"none\"', '\"69\"', '\"63\"', '\"61\"\\n']\n",
      "['\"male\"', '\"group C\"', '\"some college\"', '\"standard\"', '\"none\"', '\"58\"', '\"49\"', '\"42\"\\n']\n",
      "['\"female\"', '\"group D\"', '\"associate\\'s degree\"', '\"free/reduced\"', '\"none\"', '\"47\"', '\"53\"', '\"58\"\\n']\n",
      "['\"female\"', '\"group D\"', '\"some college\"', '\"standard\"', '\"none\"', '\"65\"', '\"70\"', '\"71\"\\n']\n",
      "['\"male\"', '\"group B\"', '\"some college\"', '\"standard\"', '\"completed\"', '\"88\"', '\"85\"', '\"76\"\\n']\n",
      "['\"male\"', '\"group C\"', '\"bachelor\\'s degree\"', '\"standard\"', '\"none\"', '\"83\"', '\"78\"', '\"73\"\\n']\n",
      "['\"female\"', '\"group C\"', '\"some high school\"', '\"standard\"', '\"completed\"', '\"85\"', '\"92\"', '\"93\"\\n']\n",
      "['\"female\"', '\"group E\"', '\"high school\"', '\"standard\"', '\"completed\"', '\"59\"', '\"63\"', '\"75\"\\n']\n",
      "['\"female\"', '\"group C\"', '\"some high school\"', '\"free/reduced\"', '\"none\"', '\"65\"', '\"86\"', '\"80\"\\n']\n",
      "['\"male\"', '\"group B\"', '\"bachelor\\'s degree\"', '\"free/reduced\"', '\"none\"', '\"73\"', '\"56\"', '\"57\"\\n']\n",
      "['\"male\"', '\"group D\"', '\"high school\"', '\"standard\"', '\"none\"', '\"53\"', '\"52\"', '\"42\"\\n']\n",
      "['\"male\"', '\"group D\"', '\"high school\"', '\"standard\"', '\"none\"', '\"45\"', '\"48\"', '\"46\"\\n']\n",
      "['\"female\"', '\"group D\"', '\"bachelor\\'s degree\"', '\"free/reduced\"', '\"none\"', '\"73\"', '\"79\"', '\"84\"\\n']\n",
      "['\"female\"', '\"group D\"', '\"some college\"', '\"free/reduced\"', '\"completed\"', '\"70\"', '\"78\"', '\"78\"\\n']\n",
      "['\"female\"', '\"group B\"', '\"some high school\"', '\"standard\"', '\"none\"', '\"37\"', '\"46\"', '\"46\"\\n']\n",
      "['\"male\"', '\"group B\"', '\"associate\\'s degree\"', '\"standard\"', '\"completed\"', '\"81\"', '\"82\"', '\"82\"\\n']\n",
      "['\"male\"', '\"group E\"', '\"associate\\'s degree\"', '\"standard\"', '\"completed\"', '\"97\"', '\"82\"', '\"88\"\\n']\n",
      "['\"female\"', '\"group B\"', '\"some high school\"', '\"standard\"', '\"none\"', '\"67\"', '\"89\"', '\"82\"\\n']\n",
      "['\"male\"', '\"group B\"', '\"bachelor\\'s degree\"', '\"free/reduced\"', '\"none\"', '\"88\"', '\"75\"', '\"76\"\\n']\n",
      "['\"male\"', '\"group E\"', '\"some high school\"', '\"standard\"', '\"completed\"', '\"77\"', '\"76\"', '\"77\"\\n']\n",
      "['\"male\"', '\"group C\"', '\"associate\\'s degree\"', '\"standard\"', '\"none\"', '\"76\"', '\"70\"', '\"68\"\\n']\n",
      "['\"male\"', '\"group D\"', '\"some high school\"', '\"standard\"', '\"none\"', '\"86\"', '\"73\"', '\"70\"\\n']\n",
      "['\"male\"', '\"group C\"', '\"some high school\"', '\"standard\"', '\"completed\"', '\"63\"', '\"60\"', '\"57\"\\n']\n",
      "['\"female\"', '\"group E\"', '\"bachelor\\'s degree\"', '\"standard\"', '\"none\"', '\"65\"', '\"73\"', '\"75\"\\n']\n",
      "['\"male\"', '\"group D\"', '\"high school\"', '\"free/reduced\"', '\"completed\"', '\"78\"', '\"77\"', '\"80\"\\n']\n",
      "['\"male\"', '\"group B\"', '\"associate\\'s degree\"', '\"free/reduced\"', '\"none\"', '\"67\"', '\"62\"', '\"60\"\\n']\n",
      "['\"male\"', '\"group A\"', '\"some high school\"', '\"standard\"', '\"completed\"', '\"46\"', '\"41\"', '\"43\"\\n']\n",
      "['\"male\"', '\"group E\"', '\"associate\\'s degree\"', '\"standard\"', '\"completed\"', '\"71\"', '\"74\"', '\"68\"\\n']\n",
      "['\"male\"', '\"group C\"', '\"high school\"', '\"free/reduced\"', '\"completed\"', '\"40\"', '\"46\"', '\"50\"\\n']\n",
      "['\"male\"', '\"group D\"', '\"associate\\'s degree\"', '\"free/reduced\"', '\"none\"', '\"90\"', '\"87\"', '\"75\"\\n']\n",
      "['\"male\"', '\"group A\"', '\"some college\"', '\"free/reduced\"', '\"completed\"', '\"81\"', '\"78\"', '\"81\"\\n']\n",
      "['\"male\"', '\"group D\"', '\"some high school\"', '\"free/reduced\"', '\"none\"', '\"56\"', '\"54\"', '\"52\"\\n']\n",
      "['\"female\"', '\"group C\"', '\"associate\\'s degree\"', '\"standard\"', '\"completed\"', '\"67\"', '\"84\"', '\"81\"\\n']\n",
      "['\"male\"', '\"group B\"', '\"associate\\'s degree\"', '\"standard\"', '\"none\"', '\"80\"', '\"76\"', '\"64\"\\n']\n",
      "['\"female\"', '\"group C\"', '\"associate\\'s degree\"', '\"standard\"', '\"completed\"', '\"74\"', '\"75\"', '\"83\"\\n']\n",
      "['\"male\"', '\"group A\"', '\"some college\"', '\"standard\"', '\"none\"', '\"69\"', '\"67\"', '\"69\"\\n']\n",
      "['\"male\"', '\"group E\"', '\"some college\"', '\"standard\"', '\"completed\"', '\"99\"', '\"87\"', '\"81\"\\n']\n",
      "['\"male\"', '\"group C\"', '\"some high school\"', '\"standard\"', '\"none\"', '\"51\"', '\"52\"', '\"44\"\\n']\n",
      "['\"female\"', '\"group B\"', '\"associate\\'s degree\"', '\"free/reduced\"', '\"none\"', '\"53\"', '\"71\"', '\"67\"\\n']\n",
      "['\"female\"', '\"group D\"', '\"high school\"', '\"free/reduced\"', '\"none\"', '\"49\"', '\"57\"', '\"52\"\\n']\n",
      "['\"female\"', '\"group B\"', '\"associate\\'s degree\"', '\"standard\"', '\"none\"', '\"73\"', '\"76\"', '\"80\"\\n']\n",
      "['\"male\"', '\"group B\"', '\"bachelor\\'s degree\"', '\"standard\"', '\"none\"', '\"66\"', '\"60\"', '\"57\"\\n']\n",
      "['\"male\"', '\"group D\"', '\"bachelor\\'s degree\"', '\"standard\"', '\"completed\"', '\"67\"', '\"61\"', '\"68\"\\n']\n",
      "['\"female\"', '\"group C\"', '\"associate\\'s degree\"', '\"free/reduced\"', '\"completed\"', '\"68\"', '\"67\"', '\"69\"\\n']\n",
      "['\"female\"', '\"group C\"', '\"bachelor\\'s degree\"', '\"standard\"', '\"completed\"', '\"59\"', '\"64\"', '\"75\"\\n']\n",
      "['\"male\"', '\"group C\"', '\"high school\"', '\"standard\"', '\"none\"', '\"71\"', '\"66\"', '\"65\"\\n']\n",
      "['\"female\"', '\"group D\"', '\"master\\'s degree\"', '\"standard\"', '\"completed\"', '\"77\"', '\"82\"', '\"91\"\\n']\n",
      "['\"male\"', '\"group C\"', '\"associate\\'s degree\"', '\"standard\"', '\"none\"', '\"83\"', '\"72\"', '\"78\"\\n']\n",
      "['\"male\"', '\"group B\"', '\"bachelor\\'s degree\"', '\"standard\"', '\"none\"', '\"63\"', '\"71\"', '\"69\"\\n']\n",
      "['\"female\"', '\"group D\"', '\"associate\\'s degree\"', '\"free/reduced\"', '\"none\"', '\"56\"', '\"65\"', '\"63\"\\n']\n",
      "['\"female\"', '\"group C\"', '\"high school\"', '\"free/reduced\"', '\"completed\"', '\"67\"', '\"79\"', '\"84\"\\n']\n",
      "['\"female\"', '\"group E\"', '\"high school\"', '\"standard\"', '\"none\"', '\"75\"', '\"86\"', '\"79\"\\n']\n",
      "['\"female\"', '\"group C\"', '\"some college\"', '\"standard\"', '\"none\"', '\"71\"', '\"81\"', '\"80\"\\n']\n",
      "['\"female\"', '\"group C\"', '\"some high school\"', '\"free/reduced\"', '\"none\"', '\"43\"', '\"53\"', '\"53\"\\n']\n",
      "['\"female\"', '\"group C\"', '\"high school\"', '\"free/reduced\"', '\"none\"', '\"41\"', '\"46\"', '\"43\"\\n']\n",
      "['\"female\"', '\"group C\"', '\"some college\"', '\"standard\"', '\"none\"', '\"82\"', '\"90\"', '\"94\"\\n']\n",
      "['\"male\"', '\"group C\"', '\"some college\"', '\"standard\"', '\"none\"', '\"61\"', '\"61\"', '\"62\"\\n']\n",
      "['\"male\"', '\"group A\"', '\"some college\"', '\"free/reduced\"', '\"none\"', '\"28\"', '\"23\"', '\"19\"\\n']\n",
      "['\"male\"', '\"group C\"', '\"associate\\'s degree\"', '\"standard\"', '\"completed\"', '\"82\"', '\"75\"', '\"77\"\\n']\n",
      "['\"female\"', '\"group B\"', '\"some high school\"', '\"standard\"', '\"none\"', '\"41\"', '\"55\"', '\"51\"\\n']\n",
      "['\"male\"', '\"group C\"', '\"high school\"', '\"standard\"', '\"none\"', '\"71\"', '\"60\"', '\"61\"\\n']\n",
      "['\"male\"', '\"group C\"', '\"associate\\'s degree\"', '\"standard\"', '\"none\"', '\"47\"', '\"37\"', '\"35\"\\n']\n",
      "['\"male\"', '\"group E\"', '\"associate\\'s degree\"', '\"standard\"', '\"completed\"', '\"62\"', '\"56\"', '\"53\"\\n']\n",
      "['\"male\"', '\"group B\"', '\"associate\\'s degree\"', '\"standard\"', '\"none\"', '\"90\"', '\"78\"', '\"81\"\\n']\n",
      "['\"female\"', '\"group C\"', '\"bachelor\\'s degree\"', '\"standard\"', '\"none\"', '\"83\"', '\"93\"', '\"95\"\\n']\n",
      "['\"female\"', '\"group B\"', '\"some college\"', '\"free/reduced\"', '\"none\"', '\"61\"', '\"68\"', '\"66\"\\n']\n",
      "['\"male\"', '\"group D\"', '\"some high school\"', '\"standard\"', '\"completed\"', '\"76\"', '\"70\"', '\"69\"\\n']\n",
      "['\"male\"', '\"group C\"', '\"associate\\'s degree\"', '\"standard\"', '\"none\"', '\"49\"', '\"51\"', '\"43\"\\n']\n",
      "['\"female\"', '\"group B\"', '\"some high school\"', '\"free/reduced\"', '\"none\"', '\"24\"', '\"38\"', '\"27\"\\n']\n",
      "['\"female\"', '\"group D\"', '\"some high school\"', '\"free/reduced\"', '\"completed\"', '\"35\"', '\"55\"', '\"60\"\\n']\n",
      "['\"male\"', '\"group C\"', '\"high school\"', '\"free/reduced\"', '\"none\"', '\"58\"', '\"61\"', '\"52\"\\n']\n",
      "['\"female\"', '\"group C\"', '\"high school\"', '\"standard\"', '\"none\"', '\"61\"', '\"73\"', '\"63\"\\n']\n",
      "['\"female\"', '\"group B\"', '\"high school\"', '\"standard\"', '\"completed\"', '\"69\"', '\"76\"', '\"74\"\\n']\n",
      "['\"male\"', '\"group D\"', '\"associate\\'s degree\"', '\"standard\"', '\"completed\"', '\"67\"', '\"72\"', '\"67\"\\n']\n",
      "['\"male\"', '\"group D\"', '\"some college\"', '\"standard\"', '\"none\"', '\"79\"', '\"73\"', '\"67\"\\n']\n",
      "['\"female\"', '\"group C\"', '\"high school\"', '\"standard\"', '\"none\"', '\"72\"', '\"80\"', '\"75\"\\n']\n",
      "['\"male\"', '\"group B\"', '\"some college\"', '\"standard\"', '\"none\"', '\"62\"', '\"61\"', '\"57\"\\n']\n",
      "['\"female\"', '\"group C\"', '\"bachelor\\'s degree\"', '\"standard\"', '\"completed\"', '\"77\"', '\"94\"', '\"95\"\\n']\n",
      "['\"male\"', '\"group D\"', '\"high school\"', '\"free/reduced\"', '\"none\"', '\"75\"', '\"74\"', '\"66\"\\n']\n",
      "['\"male\"', '\"group E\"', '\"associate\\'s degree\"', '\"standard\"', '\"none\"', '\"87\"', '\"74\"', '\"76\"\\n']\n",
      "['\"female\"', '\"group B\"', '\"bachelor\\'s degree\"', '\"standard\"', '\"none\"', '\"52\"', '\"65\"', '\"69\"\\n']\n",
      "['\"male\"', '\"group E\"', '\"some college\"', '\"standard\"', '\"none\"', '\"66\"', '\"57\"', '\"52\"\\n']\n",
      "['\"female\"', '\"group C\"', '\"some college\"', '\"standard\"', '\"completed\"', '\"63\"', '\"78\"', '\"80\"\\n']\n",
      "['\"female\"', '\"group C\"', '\"associate\\'s degree\"', '\"standard\"', '\"none\"', '\"46\"', '\"58\"', '\"57\"\\n']\n",
      "['\"female\"', '\"group C\"', '\"some college\"', '\"standard\"', '\"none\"', '\"59\"', '\"71\"', '\"70\"\\n']\n",
      "['\"female\"', '\"group B\"', '\"bachelor\\'s degree\"', '\"standard\"', '\"none\"', '\"61\"', '\"72\"', '\"70\"\\n']\n",
      "['\"male\"', '\"group A\"', '\"associate\\'s degree\"', '\"standard\"', '\"none\"', '\"63\"', '\"61\"', '\"61\"\\n']\n",
      "['\"female\"', '\"group C\"', '\"some college\"', '\"free/reduced\"', '\"completed\"', '\"42\"', '\"66\"', '\"69\"\\n']\n",
      "['\"male\"', '\"group D\"', '\"some college\"', '\"free/reduced\"', '\"none\"', '\"59\"', '\"62\"', '\"61\"\\n']\n",
      "['\"female\"', '\"group D\"', '\"some college\"', '\"standard\"', '\"none\"', '\"80\"', '\"90\"', '\"89\"\\n']\n",
      "['\"female\"', '\"group B\"', '\"high school\"', '\"standard\"', '\"none\"', '\"58\"', '\"62\"', '\"59\"\\n']\n",
      "['\"male\"', '\"group B\"', '\"some high school\"', '\"standard\"', '\"completed\"', '\"85\"', '\"84\"', '\"78\"\\n']\n",
      "['\"female\"', '\"group C\"', '\"some college\"', '\"standard\"', '\"none\"', '\"52\"', '\"58\"', '\"58\"\\n']\n",
      "['\"female\"', '\"group D\"', '\"some high school\"', '\"free/reduced\"', '\"none\"', '\"27\"', '\"34\"', '\"32\"\\n']\n",
      "['\"male\"', '\"group C\"', '\"some college\"', '\"standard\"', '\"none\"', '\"59\"', '\"60\"', '\"58\"\\n']\n",
      "['\"male\"', '\"group A\"', '\"bachelor\\'s degree\"', '\"free/reduced\"', '\"completed\"', '\"49\"', '\"58\"', '\"60\"\\n']\n",
      "['\"male\"', '\"group C\"', '\"high school\"', '\"standard\"', '\"completed\"', '\"69\"', '\"58\"', '\"53\"\\n']\n",
      "['\"male\"', '\"group C\"', '\"bachelor\\'s degree\"', '\"free/reduced\"', '\"none\"', '\"61\"', '\"66\"', '\"61\"\\n']\n",
      "['\"female\"', '\"group A\"', '\"some high school\"', '\"free/reduced\"', '\"none\"', '\"44\"', '\"64\"', '\"58\"\\n']\n",
      "['\"female\"', '\"group D\"', '\"some high school\"', '\"standard\"', '\"none\"', '\"73\"', '\"84\"', '\"85\"\\n']\n",
      "['\"male\"', '\"group E\"', '\"some college\"', '\"standard\"', '\"none\"', '\"84\"', '\"77\"', '\"71\"\\n']\n",
      "['\"female\"', '\"group C\"', '\"some college\"', '\"free/reduced\"', '\"completed\"', '\"45\"', '\"73\"', '\"70\"\\n']\n",
      "['\"male\"', '\"group D\"', '\"some high school\"', '\"standard\"', '\"none\"', '\"74\"', '\"74\"', '\"72\"\\n']\n",
      "['\"female\"', '\"group D\"', '\"some college\"', '\"standard\"', '\"completed\"', '\"82\"', '\"97\"', '\"96\"\\n']\n",
      "['\"female\"', '\"group D\"', '\"bachelor\\'s degree\"', '\"standard\"', '\"none\"', '\"59\"', '\"70\"', '\"73\"\\n']\n",
      "['\"male\"', '\"group E\"', '\"associate\\'s degree\"', '\"free/reduced\"', '\"none\"', '\"46\"', '\"43\"', '\"41\"\\n']\n",
      "['\"female\"', '\"group D\"', '\"some high school\"', '\"standard\"', '\"none\"', '\"80\"', '\"90\"', '\"82\"\\n']\n",
      "['\"female\"', '\"group D\"', '\"master\\'s degree\"', '\"free/reduced\"', '\"completed\"', '\"85\"', '\"95\"', '\"100\"\\n']\n",
      "['\"female\"', '\"group A\"', '\"some high school\"', '\"standard\"', '\"none\"', '\"71\"', '\"83\"', '\"77\"\\n']\n",
      "['\"male\"', '\"group A\"', '\"bachelor\\'s degree\"', '\"standard\"', '\"none\"', '\"66\"', '\"64\"', '\"62\"\\n']\n",
      "['\"female\"', '\"group B\"', '\"associate\\'s degree\"', '\"standard\"', '\"none\"', '\"80\"', '\"86\"', '\"83\"\\n']\n",
      "['\"male\"', '\"group C\"', '\"associate\\'s degree\"', '\"standard\"', '\"completed\"', '\"87\"', '\"100\"', '\"95\"\\n']\n",
      "['\"male\"', '\"group C\"', '\"master\\'s degree\"', '\"free/reduced\"', '\"none\"', '\"79\"', '\"81\"', '\"71\"\\n']\n",
      "['\"female\"', '\"group E\"', '\"some high school\"', '\"free/reduced\"', '\"none\"', '\"38\"', '\"49\"', '\"45\"\\n']\n",
      "['\"female\"', '\"group A\"', '\"some high school\"', '\"free/reduced\"', '\"none\"', '\"38\"', '\"43\"', '\"43\"\\n']\n",
      "['\"female\"', '\"group E\"', '\"some college\"', '\"standard\"', '\"none\"', '\"67\"', '\"76\"', '\"75\"\\n']\n",
      "['\"female\"', '\"group E\"', '\"bachelor\\'s degree\"', '\"standard\"', '\"none\"', '\"64\"', '\"73\"', '\"70\"\\n']\n",
      "['\"female\"', '\"group C\"', '\"associate\\'s degree\"', '\"free/reduced\"', '\"none\"', '\"57\"', '\"78\"', '\"67\"\\n']\n",
      "['\"female\"', '\"group D\"', '\"high school\"', '\"standard\"', '\"none\"', '\"62\"', '\"64\"', '\"64\"\\n']\n",
      "['\"male\"', '\"group D\"', '\"master\\'s degree\"', '\"standard\"', '\"none\"', '\"73\"', '\"70\"', '\"75\"\\n']\n",
      "['\"male\"', '\"group E\"', '\"some high school\"', '\"free/reduced\"', '\"completed\"', '\"73\"', '\"67\"', '\"59\"\\n']\n",
      "['\"female\"', '\"group D\"', '\"some college\"', '\"standard\"', '\"none\"', '\"77\"', '\"68\"', '\"77\"\\n']\n",
      "['\"male\"', '\"group E\"', '\"some college\"', '\"standard\"', '\"none\"', '\"76\"', '\"67\"', '\"67\"\\n']\n",
      "['\"male\"', '\"group C\"', '\"associate\\'s degree\"', '\"standard\"', '\"completed\"', '\"57\"', '\"54\"', '\"56\"\\n']\n",
      "['\"female\"', '\"group C\"', '\"some high school\"', '\"standard\"', '\"completed\"', '\"65\"', '\"74\"', '\"77\"\\n']\n",
      "['\"male\"', '\"group A\"', '\"high school\"', '\"free/reduced\"', '\"none\"', '\"48\"', '\"45\"', '\"41\"\\n']\n",
      "['\"female\"', '\"group B\"', '\"high school\"', '\"free/reduced\"', '\"none\"', '\"50\"', '\"67\"', '\"63\"\\n']\n",
      "['\"female\"', '\"group C\"', '\"associate\\'s degree\"', '\"standard\"', '\"none\"', '\"85\"', '\"89\"', '\"95\"\\n']\n",
      "['\"male\"', '\"group B\"', '\"some high school\"', '\"standard\"', '\"none\"', '\"74\"', '\"63\"', '\"57\"\\n']\n",
      "['\"male\"', '\"group D\"', '\"some high school\"', '\"standard\"', '\"none\"', '\"60\"', '\"59\"', '\"54\"\\n']\n",
      "['\"female\"', '\"group C\"', '\"some high school\"', '\"standard\"', '\"completed\"', '\"59\"', '\"54\"', '\"67\"\\n']\n",
      "['\"male\"', '\"group A\"', '\"some college\"', '\"standard\"', '\"none\"', '\"53\"', '\"43\"', '\"43\"\\n']\n",
      "['\"female\"', '\"group A\"', '\"some college\"', '\"free/reduced\"', '\"none\"', '\"49\"', '\"65\"', '\"55\"\\n']\n",
      "['\"female\"', '\"group D\"', '\"high school\"', '\"standard\"', '\"completed\"', '\"88\"', '\"99\"', '\"100\"\\n']\n",
      "['\"female\"', '\"group C\"', '\"high school\"', '\"standard\"', '\"none\"', '\"54\"', '\"59\"', '\"62\"\\n']\n",
      "['\"female\"', '\"group C\"', '\"some high school\"', '\"standard\"', '\"none\"', '\"63\"', '\"73\"', '\"68\"\\n']\n",
      "['\"male\"', '\"group B\"', '\"associate\\'s degree\"', '\"standard\"', '\"completed\"', '\"65\"', '\"65\"', '\"63\"\\n']\n",
      "['\"female\"', '\"group B\"', '\"associate\\'s degree\"', '\"standard\"', '\"none\"', '\"82\"', '\"80\"', '\"77\"\\n']\n",
      "['\"female\"', '\"group D\"', '\"high school\"', '\"free/reduced\"', '\"completed\"', '\"52\"', '\"57\"', '\"56\"\\n']\n",
      "['\"male\"', '\"group D\"', '\"associate\\'s degree\"', '\"standard\"', '\"completed\"', '\"87\"', '\"84\"', '\"85\"\\n']\n",
      "['\"female\"', '\"group D\"', '\"master\\'s degree\"', '\"standard\"', '\"completed\"', '\"70\"', '\"71\"', '\"74\"\\n']\n",
      "['\"male\"', '\"group E\"', '\"some college\"', '\"standard\"', '\"completed\"', '\"84\"', '\"83\"', '\"78\"\\n']\n",
      "['\"male\"', '\"group D\"', '\"associate\\'s degree\"', '\"standard\"', '\"none\"', '\"71\"', '\"66\"', '\"60\"\\n']\n",
      "['\"male\"', '\"group B\"', '\"some high school\"', '\"standard\"', '\"completed\"', '\"63\"', '\"67\"', '\"67\"\\n']\n",
      "['\"female\"', '\"group C\"', '\"bachelor\\'s degree\"', '\"free/reduced\"', '\"completed\"', '\"51\"', '\"72\"', '\"79\"\\n']\n",
      "['\"male\"', '\"group E\"', '\"high school\"', '\"standard\"', '\"none\"', '\"84\"', '\"73\"', '\"69\"\\n']\n",
      "['\"male\"', '\"group C\"', '\"bachelor\\'s degree\"', '\"standard\"', '\"completed\"', '\"71\"', '\"74\"', '\"68\"\\n']\n",
      "['\"male\"', '\"group C\"', '\"associate\\'s degree\"', '\"standard\"', '\"none\"', '\"74\"', '\"73\"', '\"67\"\\n']\n",
      "['\"male\"', '\"group D\"', '\"some college\"', '\"standard\"', '\"none\"', '\"68\"', '\"59\"', '\"62\"\\n']\n",
      "['\"male\"', '\"group E\"', '\"high school\"', '\"free/reduced\"', '\"completed\"', '\"57\"', '\"56\"', '\"54\"\\n']\n",
      "['\"female\"', '\"group C\"', '\"associate\\'s degree\"', '\"free/reduced\"', '\"completed\"', '\"82\"', '\"93\"', '\"93\"\\n']\n",
      "['\"female\"', '\"group D\"', '\"high school\"', '\"standard\"', '\"completed\"', '\"57\"', '\"58\"', '\"64\"\\n']\n",
      "['\"female\"', '\"group D\"', '\"master\\'s degree\"', '\"free/reduced\"', '\"completed\"', '\"47\"', '\"58\"', '\"67\"\\n']\n",
      "['\"female\"', '\"group A\"', '\"some high school\"', '\"standard\"', '\"completed\"', '\"59\"', '\"85\"', '\"80\"\\n']\n",
      "['\"male\"', '\"group B\"', '\"some college\"', '\"free/reduced\"', '\"none\"', '\"41\"', '\"39\"', '\"34\"\\n']\n",
      "['\"female\"', '\"group C\"', '\"some college\"', '\"free/reduced\"', '\"none\"', '\"62\"', '\"67\"', '\"62\"\\n']\n",
      "['\"male\"', '\"group C\"', '\"bachelor\\'s degree\"', '\"standard\"', '\"none\"', '\"86\"', '\"83\"', '\"86\"\\n']\n",
      "['\"male\"', '\"group C\"', '\"some high school\"', '\"free/reduced\"', '\"none\"', '\"69\"', '\"71\"', '\"65\"\\n']\n",
      "['\"male\"', '\"group A\"', '\"some high school\"', '\"free/reduced\"', '\"none\"', '\"65\"', '\"59\"', '\"53\"\\n']\n",
      "['\"male\"', '\"group C\"', '\"some high school\"', '\"free/reduced\"', '\"none\"', '\"68\"', '\"63\"', '\"54\"\\n']\n",
      "['\"male\"', '\"group C\"', '\"associate\\'s degree\"', '\"free/reduced\"', '\"none\"', '\"64\"', '\"66\"', '\"59\"\\n']\n",
      "['\"female\"', '\"group C\"', '\"high school\"', '\"standard\"', '\"none\"', '\"61\"', '\"72\"', '\"70\"\\n']\n",
      "['\"male\"', '\"group C\"', '\"high school\"', '\"standard\"', '\"none\"', '\"61\"', '\"56\"', '\"55\"\\n']\n",
      "['\"female\"', '\"group A\"', '\"some high school\"', '\"free/reduced\"', '\"none\"', '\"47\"', '\"59\"', '\"50\"\\n']\n",
      "['\"male\"', '\"group C\"', '\"some high school\"', '\"standard\"', '\"none\"', '\"73\"', '\"66\"', '\"66\"\\n']\n",
      "['\"male\"', '\"group C\"', '\"some college\"', '\"free/reduced\"', '\"completed\"', '\"50\"', '\"48\"', '\"53\"\\n']\n",
      "['\"male\"', '\"group D\"', '\"associate\\'s degree\"', '\"standard\"', '\"none\"', '\"75\"', '\"68\"', '\"64\"\\n']\n",
      "['\"male\"', '\"group D\"', '\"associate\\'s degree\"', '\"free/reduced\"', '\"none\"', '\"75\"', '\"66\"', '\"73\"\\n']\n",
      "['\"male\"', '\"group C\"', '\"high school\"', '\"standard\"', '\"none\"', '\"70\"', '\"56\"', '\"51\"\\n']\n",
      "['\"male\"', '\"group D\"', '\"some high school\"', '\"standard\"', '\"completed\"', '\"89\"', '\"88\"', '\"82\"\\n']\n",
      "['\"female\"', '\"group C\"', '\"some college\"', '\"standard\"', '\"completed\"', '\"67\"', '\"81\"', '\"79\"\\n']\n",
      "['\"female\"', '\"group D\"', '\"high school\"', '\"standard\"', '\"none\"', '\"78\"', '\"81\"', '\"80\"\\n']\n",
      "['\"female\"', '\"group A\"', '\"some high school\"', '\"free/reduced\"', '\"none\"', '\"59\"', '\"73\"', '\"69\"\\n']\n",
      "['\"female\"', '\"group B\"', '\"associate\\'s degree\"', '\"standard\"', '\"none\"', '\"73\"', '\"83\"', '\"76\"\\n']\n",
      "['\"male\"', '\"group A\"', '\"some high school\"', '\"free/reduced\"', '\"none\"', '\"79\"', '\"82\"', '\"73\"\\n']\n",
      "['\"female\"', '\"group C\"', '\"some high school\"', '\"standard\"', '\"completed\"', '\"67\"', '\"74\"', '\"77\"\\n']\n",
      "['\"male\"', '\"group D\"', '\"some college\"', '\"free/reduced\"', '\"none\"', '\"69\"', '\"66\"', '\"60\"\\n']\n",
      "['\"male\"', '\"group C\"', '\"high school\"', '\"standard\"', '\"completed\"', '\"86\"', '\"81\"', '\"80\"\\n']\n",
      "['\"male\"', '\"group B\"', '\"high school\"', '\"standard\"', '\"none\"', '\"47\"', '\"46\"', '\"42\"\\n']\n",
      "['\"male\"', '\"group B\"', '\"associate\\'s degree\"', '\"standard\"', '\"none\"', '\"81\"', '\"73\"', '\"72\"\\n']\n",
      "['\"female\"', '\"group C\"', '\"some college\"', '\"free/reduced\"', '\"completed\"', '\"64\"', '\"85\"', '\"85\"\\n']\n",
      "['\"female\"', '\"group E\"', '\"some college\"', '\"standard\"', '\"none\"', '\"100\"', '\"92\"', '\"97\"\\n']\n",
      "['\"female\"', '\"group C\"', '\"associate\\'s degree\"', '\"free/reduced\"', '\"none\"', '\"65\"', '\"77\"', '\"74\"\\n']\n",
      "['\"male\"', '\"group C\"', '\"some college\"', '\"free/reduced\"', '\"none\"', '\"65\"', '\"58\"', '\"49\"\\n']\n",
      "['\"female\"', '\"group C\"', '\"associate\\'s degree\"', '\"free/reduced\"', '\"none\"', '\"53\"', '\"61\"', '\"62\"\\n']\n",
      "['\"male\"', '\"group C\"', '\"bachelor\\'s degree\"', '\"free/reduced\"', '\"none\"', '\"37\"', '\"56\"', '\"47\"\\n']\n",
      "['\"female\"', '\"group D\"', '\"bachelor\\'s degree\"', '\"standard\"', '\"none\"', '\"79\"', '\"89\"', '\"89\"\\n']\n",
      "['\"male\"', '\"group D\"', '\"associate\\'s degree\"', '\"free/reduced\"', '\"none\"', '\"53\"', '\"54\"', '\"48\"\\n']\n",
      "['\"female\"', '\"group E\"', '\"bachelor\\'s degree\"', '\"standard\"', '\"none\"', '\"100\"', '\"100\"', '\"100\"\\n']\n",
      "['\"male\"', '\"group B\"', '\"high school\"', '\"standard\"', '\"completed\"', '\"72\"', '\"65\"', '\"68\"\\n']\n",
      "['\"male\"', '\"group C\"', '\"bachelor\\'s degree\"', '\"free/reduced\"', '\"none\"', '\"53\"', '\"58\"', '\"55\"\\n']\n",
      "['\"male\"', '\"group B\"', '\"some college\"', '\"free/reduced\"', '\"none\"', '\"54\"', '\"54\"', '\"45\"\\n']\n",
      "['\"female\"', '\"group E\"', '\"some college\"', '\"standard\"', '\"none\"', '\"71\"', '\"70\"', '\"76\"\\n']\n",
      "['\"female\"', '\"group C\"', '\"some college\"', '\"free/reduced\"', '\"none\"', '\"77\"', '\"90\"', '\"91\"\\n']\n",
      "['\"male\"', '\"group A\"', '\"bachelor\\'s degree\"', '\"standard\"', '\"completed\"', '\"75\"', '\"58\"', '\"62\"\\n']\n",
      "['\"female\"', '\"group C\"', '\"some college\"', '\"standard\"', '\"none\"', '\"84\"', '\"87\"', '\"91\"\\n']\n",
      "['\"female\"', '\"group D\"', '\"associate\\'s degree\"', '\"free/reduced\"', '\"none\"', '\"26\"', '\"31\"', '\"38\"\\n']\n",
      "['\"male\"', '\"group A\"', '\"high school\"', '\"free/reduced\"', '\"completed\"', '\"72\"', '\"67\"', '\"65\"\\n']\n",
      "['\"female\"', '\"group A\"', '\"high school\"', '\"free/reduced\"', '\"completed\"', '\"77\"', '\"88\"', '\"85\"\\n']\n",
      "['\"male\"', '\"group C\"', '\"some college\"', '\"standard\"', '\"none\"', '\"91\"', '\"74\"', '\"76\"\\n']\n",
      "['\"female\"', '\"group C\"', '\"associate\\'s degree\"', '\"standard\"', '\"completed\"', '\"83\"', '\"85\"', '\"90\"\\n']\n",
      "['\"female\"', '\"group C\"', '\"high school\"', '\"standard\"', '\"none\"', '\"63\"', '\"69\"', '\"74\"\\n']\n",
      "['\"female\"', '\"group C\"', '\"associate\\'s degree\"', '\"standard\"', '\"completed\"', '\"68\"', '\"86\"', '\"84\"\\n']\n",
      "['\"female\"', '\"group D\"', '\"some high school\"', '\"standard\"', '\"none\"', '\"59\"', '\"67\"', '\"61\"\\n']\n",
      "['\"female\"', '\"group B\"', '\"associate\\'s degree\"', '\"standard\"', '\"completed\"', '\"90\"', '\"90\"', '\"91\"\\n']\n",
      "['\"female\"', '\"group D\"', '\"bachelor\\'s degree\"', '\"standard\"', '\"completed\"', '\"71\"', '\"76\"', '\"83\"\\n']\n",
      "['\"male\"', '\"group E\"', '\"bachelor\\'s degree\"', '\"standard\"', '\"completed\"', '\"76\"', '\"62\"', '\"66\"\\n']\n",
      "['\"male\"', '\"group D\"', '\"associate\\'s degree\"', '\"standard\"', '\"none\"', '\"80\"', '\"68\"', '\"72\"\\n']\n",
      "['\"female\"', '\"group D\"', '\"master\\'s degree\"', '\"standard\"', '\"none\"', '\"55\"', '\"64\"', '\"70\"\\n']\n",
      "['\"male\"', '\"group E\"', '\"associate\\'s degree\"', '\"standard\"', '\"none\"', '\"76\"', '\"71\"', '\"67\"\\n']\n",
      "['\"male\"', '\"group B\"', '\"high school\"', '\"standard\"', '\"completed\"', '\"73\"', '\"71\"', '\"68\"\\n']\n",
      "['\"female\"', '\"group D\"', '\"associate\\'s degree\"', '\"free/reduced\"', '\"none\"', '\"52\"', '\"59\"', '\"56\"\\n']\n",
      "['\"male\"', '\"group C\"', '\"some college\"', '\"free/reduced\"', '\"none\"', '\"68\"', '\"68\"', '\"61\"\\n']\n",
      "['\"male\"', '\"group A\"', '\"high school\"', '\"standard\"', '\"none\"', '\"59\"', '\"52\"', '\"46\"\\n']\n",
      "['\"female\"', '\"group B\"', '\"associate\\'s degree\"', '\"standard\"', '\"none\"', '\"49\"', '\"52\"', '\"54\"\\n']\n",
      "['\"male\"', '\"group C\"', '\"high school\"', '\"standard\"', '\"none\"', '\"70\"', '\"74\"', '\"71\"\\n']\n",
      "['\"male\"', '\"group D\"', '\"some college\"', '\"free/reduced\"', '\"none\"', '\"61\"', '\"47\"', '\"56\"\\n']\n",
      "['\"female\"', '\"group C\"', '\"associate\\'s degree\"', '\"free/reduced\"', '\"none\"', '\"60\"', '\"75\"', '\"74\"\\n']\n",
      "['\"male\"', '\"group B\"', '\"some high school\"', '\"standard\"', '\"completed\"', '\"64\"', '\"53\"', '\"57\"\\n']\n",
      "['\"male\"', '\"group A\"', '\"associate\\'s degree\"', '\"free/reduced\"', '\"completed\"', '\"79\"', '\"82\"', '\"82\"\\n']\n",
      "['\"female\"', '\"group A\"', '\"associate\\'s degree\"', '\"free/reduced\"', '\"none\"', '\"65\"', '\"85\"', '\"76\"\\n']\n",
      "['\"female\"', '\"group C\"', '\"associate\\'s degree\"', '\"standard\"', '\"none\"', '\"64\"', '\"64\"', '\"70\"\\n']\n",
      "['\"female\"', '\"group C\"', '\"some college\"', '\"standard\"', '\"none\"', '\"83\"', '\"83\"', '\"90\"\\n']\n",
      "['\"female\"', '\"group C\"', '\"bachelor\\'s degree\"', '\"standard\"', '\"none\"', '\"81\"', '\"88\"', '\"90\"\\n']\n",
      "['\"female\"', '\"group B\"', '\"high school\"', '\"standard\"', '\"none\"', '\"54\"', '\"64\"', '\"68\"\\n']\n",
      "['\"male\"', '\"group D\"', '\"high school\"', '\"standard\"', '\"completed\"', '\"68\"', '\"64\"', '\"66\"\\n']\n",
      "['\"female\"', '\"group C\"', '\"some college\"', '\"standard\"', '\"none\"', '\"54\"', '\"48\"', '\"52\"\\n']\n",
      "['\"female\"', '\"group D\"', '\"some college\"', '\"free/reduced\"', '\"completed\"', '\"59\"', '\"78\"', '\"76\"\\n']\n",
      "['\"female\"', '\"group B\"', '\"some high school\"', '\"standard\"', '\"none\"', '\"66\"', '\"69\"', '\"68\"\\n']\n",
      "['\"male\"', '\"group E\"', '\"some college\"', '\"standard\"', '\"none\"', '\"76\"', '\"71\"', '\"72\"\\n']\n",
      "['\"female\"', '\"group D\"', '\"master\\'s degree\"', '\"standard\"', '\"none\"', '\"74\"', '\"79\"', '\"82\"\\n']\n",
      "['\"female\"', '\"group B\"', '\"associate\\'s degree\"', '\"standard\"', '\"completed\"', '\"94\"', '\"87\"', '\"92\"\\n']\n",
      "['\"male\"', '\"group C\"', '\"some college\"', '\"free/reduced\"', '\"none\"', '\"63\"', '\"61\"', '\"54\"\\n']\n",
      "['\"female\"', '\"group E\"', '\"associate\\'s degree\"', '\"standard\"', '\"completed\"', '\"95\"', '\"89\"', '\"92\"\\n']\n",
      "['\"female\"', '\"group D\"', '\"master\\'s degree\"', '\"free/reduced\"', '\"none\"', '\"40\"', '\"59\"', '\"54\"\\n']\n",
      "['\"female\"', '\"group B\"', '\"some high school\"', '\"standard\"', '\"none\"', '\"82\"', '\"82\"', '\"80\"\\n']\n",
      "['\"male\"', '\"group A\"', '\"high school\"', '\"standard\"', '\"none\"', '\"68\"', '\"70\"', '\"66\"\\n']\n",
      "['\"male\"', '\"group B\"', '\"bachelor\\'s degree\"', '\"free/reduced\"', '\"none\"', '\"55\"', '\"59\"', '\"54\"\\n']\n",
      "['\"male\"', '\"group C\"', '\"master\\'s degree\"', '\"standard\"', '\"none\"', '\"79\"', '\"78\"', '\"77\"\\n']\n",
      "['\"female\"', '\"group C\"', '\"bachelor\\'s degree\"', '\"standard\"', '\"none\"', '\"86\"', '\"92\"', '\"87\"\\n']\n",
      "['\"male\"', '\"group D\"', '\"some college\"', '\"standard\"', '\"none\"', '\"76\"', '\"71\"', '\"73\"\\n']\n",
      "['\"male\"', '\"group A\"', '\"some high school\"', '\"standard\"', '\"none\"', '\"64\"', '\"50\"', '\"43\"\\n']\n",
      "['\"male\"', '\"group D\"', '\"some high school\"', '\"free/reduced\"', '\"none\"', '\"62\"', '\"49\"', '\"52\"\\n']\n",
      "['\"female\"', '\"group B\"', '\"some high school\"', '\"standard\"', '\"completed\"', '\"54\"', '\"61\"', '\"62\"\\n']\n",
      "['\"female\"', '\"group B\"', '\"master\\'s degree\"', '\"free/reduced\"', '\"completed\"', '\"77\"', '\"97\"', '\"94\"\\n']\n",
      "['\"female\"', '\"group C\"', '\"some high school\"', '\"standard\"', '\"completed\"', '\"76\"', '\"87\"', '\"85\"\\n']\n",
      "['\"female\"', '\"group D\"', '\"some college\"', '\"standard\"', '\"none\"', '\"74\"', '\"89\"', '\"84\"\\n']\n",
      "['\"female\"', '\"group E\"', '\"some college\"', '\"standard\"', '\"completed\"', '\"66\"', '\"74\"', '\"73\"\\n']\n",
      "['\"female\"', '\"group D\"', '\"some high school\"', '\"standard\"', '\"completed\"', '\"66\"', '\"78\"', '\"78\"\\n']\n",
      "['\"female\"', '\"group B\"', '\"high school\"', '\"free/reduced\"', '\"completed\"', '\"67\"', '\"78\"', '\"79\"\\n']\n",
      "['\"male\"', '\"group D\"', '\"some college\"', '\"standard\"', '\"none\"', '\"71\"', '\"49\"', '\"52\"\\n']\n",
      "['\"female\"', '\"group C\"', '\"associate\\'s degree\"', '\"standard\"', '\"none\"', '\"91\"', '\"86\"', '\"84\"\\n']\n",
      "['\"male\"', '\"group D\"', '\"bachelor\\'s degree\"', '\"standard\"', '\"none\"', '\"69\"', '\"58\"', '\"57\"\\n']\n",
      "['\"male\"', '\"group C\"', '\"master\\'s degree\"', '\"free/reduced\"', '\"none\"', '\"54\"', '\"59\"', '\"50\"\\n']\n",
      "['\"male\"', '\"group C\"', '\"high school\"', '\"standard\"', '\"completed\"', '\"53\"', '\"52\"', '\"49\"\\n']\n",
      "['\"male\"', '\"group E\"', '\"some college\"', '\"standard\"', '\"none\"', '\"68\"', '\"60\"', '\"59\"\\n']\n",
      "['\"male\"', '\"group C\"', '\"some high school\"', '\"free/reduced\"', '\"completed\"', '\"56\"', '\"61\"', '\"60\"\\n']\n",
      "['\"female\"', '\"group C\"', '\"high school\"', '\"free/reduced\"', '\"none\"', '\"36\"', '\"53\"', '\"43\"\\n']\n",
      "['\"female\"', '\"group D\"', '\"bachelor\\'s degree\"', '\"free/reduced\"', '\"none\"', '\"29\"', '\"41\"', '\"47\"\\n']\n",
      "['\"female\"', '\"group C\"', '\"associate\\'s degree\"', '\"standard\"', '\"none\"', '\"62\"', '\"74\"', '\"70\"\\n']\n",
      "['\"female\"', '\"group C\"', '\"associate\\'s degree\"', '\"standard\"', '\"completed\"', '\"68\"', '\"67\"', '\"73\"\\n']\n",
      "['\"female\"', '\"group C\"', '\"some high school\"', '\"standard\"', '\"none\"', '\"47\"', '\"54\"', '\"53\"\\n']\n",
      "['\"male\"', '\"group E\"', '\"associate\\'s degree\"', '\"standard\"', '\"completed\"', '\"62\"', '\"61\"', '\"58\"\\n']\n",
      "['\"female\"', '\"group E\"', '\"associate\\'s degree\"', '\"standard\"', '\"completed\"', '\"79\"', '\"88\"', '\"94\"\\n']\n",
      "['\"male\"', '\"group B\"', '\"high school\"', '\"standard\"', '\"completed\"', '\"73\"', '\"69\"', '\"68\"\\n']\n",
      "['\"female\"', '\"group C\"', '\"bachelor\\'s degree\"', '\"free/reduced\"', '\"completed\"', '\"66\"', '\"83\"', '\"83\"\\n']\n",
      "['\"male\"', '\"group C\"', '\"associate\\'s degree\"', '\"standard\"', '\"completed\"', '\"51\"', '\"60\"', '\"58\"\\n']\n",
      "['\"female\"', '\"group D\"', '\"high school\"', '\"standard\"', '\"none\"', '\"51\"', '\"66\"', '\"62\"\\n']\n",
      "['\"male\"', '\"group E\"', '\"bachelor\\'s degree\"', '\"standard\"', '\"completed\"', '\"85\"', '\"66\"', '\"71\"\\n']\n",
      "['\"male\"', '\"group A\"', '\"associate\\'s degree\"', '\"standard\"', '\"completed\"', '\"97\"', '\"92\"', '\"86\"\\n']\n",
      "['\"male\"', '\"group C\"', '\"high school\"', '\"standard\"', '\"completed\"', '\"75\"', '\"69\"', '\"68\"\\n']\n",
      "['\"male\"', '\"group D\"', '\"associate\\'s degree\"', '\"free/reduced\"', '\"completed\"', '\"79\"', '\"82\"', '\"80\"\\n']\n",
      "['\"female\"', '\"group C\"', '\"associate\\'s degree\"', '\"standard\"', '\"none\"', '\"81\"', '\"77\"', '\"79\"\\n']\n",
      "['\"female\"', '\"group D\"', '\"associate\\'s degree\"', '\"standard\"', '\"none\"', '\"82\"', '\"95\"', '\"89\"\\n']\n",
      "['\"female\"', '\"group D\"', '\"master\\'s degree\"', '\"standard\"', '\"none\"', '\"64\"', '\"63\"', '\"66\"\\n']\n",
      "['\"male\"', '\"group E\"', '\"some high school\"', '\"free/reduced\"', '\"completed\"', '\"78\"', '\"83\"', '\"80\"\\n']\n",
      "['\"female\"', '\"group A\"', '\"some high school\"', '\"standard\"', '\"completed\"', '\"92\"', '\"100\"', '\"97\"\\n']\n",
      "['\"male\"', '\"group C\"', '\"high school\"', '\"standard\"', '\"completed\"', '\"72\"', '\"67\"', '\"64\"\\n']\n",
      "['\"female\"', '\"group C\"', '\"high school\"', '\"free/reduced\"', '\"none\"', '\"62\"', '\"67\"', '\"64\"\\n']\n",
      "['\"male\"', '\"group C\"', '\"master\\'s degree\"', '\"standard\"', '\"none\"', '\"79\"', '\"72\"', '\"69\"\\n']\n",
      "['\"male\"', '\"group C\"', '\"some high school\"', '\"free/reduced\"', '\"none\"', '\"79\"', '\"76\"', '\"65\"\\n']\n",
      "['\"male\"', '\"group B\"', '\"bachelor\\'s degree\"', '\"free/reduced\"', '\"completed\"', '\"87\"', '\"90\"', '\"88\"\\n']\n",
      "['\"female\"', '\"group B\"', '\"associate\\'s degree\"', '\"standard\"', '\"none\"', '\"40\"', '\"48\"', '\"50\"\\n']\n",
      "['\"male\"', '\"group D\"', '\"some college\"', '\"free/reduced\"', '\"none\"', '\"77\"', '\"62\"', '\"64\"\\n']\n",
      "['\"male\"', '\"group E\"', '\"associate\\'s degree\"', '\"standard\"', '\"none\"', '\"53\"', '\"45\"', '\"40\"\\n']\n",
      "['\"female\"', '\"group C\"', '\"some college\"', '\"free/reduced\"', '\"none\"', '\"32\"', '\"39\"', '\"33\"\\n']\n",
      "['\"female\"', '\"group C\"', '\"associate\\'s degree\"', '\"standard\"', '\"completed\"', '\"55\"', '\"72\"', '\"79\"\\n']\n",
      "['\"male\"', '\"group C\"', '\"master\\'s degree\"', '\"free/reduced\"', '\"none\"', '\"61\"', '\"67\"', '\"66\"\\n']\n",
      "['\"female\"', '\"group B\"', '\"associate\\'s degree\"', '\"free/reduced\"', '\"none\"', '\"53\"', '\"70\"', '\"70\"\\n']\n",
      "['\"male\"', '\"group D\"', '\"some high school\"', '\"standard\"', '\"none\"', '\"73\"', '\"66\"', '\"62\"\\n']\n",
      "['\"female\"', '\"group D\"', '\"some college\"', '\"standard\"', '\"completed\"', '\"74\"', '\"75\"', '\"79\"\\n']\n",
      "['\"female\"', '\"group C\"', '\"some college\"', '\"standard\"', '\"none\"', '\"63\"', '\"74\"', '\"74\"\\n']\n",
      "['\"male\"', '\"group C\"', '\"bachelor\\'s degree\"', '\"standard\"', '\"completed\"', '\"96\"', '\"90\"', '\"92\"\\n']\n",
      "['\"female\"', '\"group D\"', '\"some college\"', '\"free/reduced\"', '\"completed\"', '\"63\"', '\"80\"', '\"80\"\\n']\n",
      "['\"male\"', '\"group B\"', '\"bachelor\\'s degree\"', '\"free/reduced\"', '\"none\"', '\"48\"', '\"51\"', '\"46\"\\n']\n",
      "['\"male\"', '\"group B\"', '\"associate\\'s degree\"', '\"standard\"', '\"none\"', '\"48\"', '\"43\"', '\"45\"\\n']\n",
      "['\"female\"', '\"group E\"', '\"bachelor\\'s degree\"', '\"free/reduced\"', '\"completed\"', '\"92\"', '\"100\"', '\"100\"\\n']\n",
      "['\"female\"', '\"group D\"', '\"master\\'s degree\"', '\"free/reduced\"', '\"completed\"', '\"61\"', '\"71\"', '\"78\"\\n']\n",
      "['\"male\"', '\"group B\"', '\"high school\"', '\"free/reduced\"', '\"none\"', '\"63\"', '\"48\"', '\"47\"\\n']\n",
      "['\"male\"', '\"group D\"', '\"bachelor\\'s degree\"', '\"free/reduced\"', '\"none\"', '\"68\"', '\"68\"', '\"67\"\\n']\n",
      "['\"male\"', '\"group B\"', '\"some college\"', '\"standard\"', '\"completed\"', '\"71\"', '\"75\"', '\"70\"\\n']\n",
      "['\"male\"', '\"group A\"', '\"bachelor\\'s degree\"', '\"standard\"', '\"none\"', '\"91\"', '\"96\"', '\"92\"\\n']\n",
      "['\"female\"', '\"group C\"', '\"some college\"', '\"standard\"', '\"none\"', '\"53\"', '\"62\"', '\"56\"\\n']\n",
      "['\"female\"', '\"group C\"', '\"high school\"', '\"free/reduced\"', '\"completed\"', '\"50\"', '\"66\"', '\"64\"\\n']\n",
      "['\"female\"', '\"group E\"', '\"high school\"', '\"standard\"', '\"none\"', '\"74\"', '\"81\"', '\"71\"\\n']\n",
      "['\"male\"', '\"group A\"', '\"associate\\'s degree\"', '\"free/reduced\"', '\"completed\"', '\"40\"', '\"55\"', '\"53\"\\n']\n",
      "['\"male\"', '\"group A\"', '\"some college\"', '\"standard\"', '\"completed\"', '\"61\"', '\"51\"', '\"52\"\\n']\n",
      "['\"female\"', '\"group B\"', '\"high school\"', '\"standard\"', '\"none\"', '\"81\"', '\"91\"', '\"89\"\\n']\n",
      "['\"female\"', '\"group B\"', '\"some college\"', '\"free/reduced\"', '\"completed\"', '\"48\"', '\"56\"', '\"58\"\\n']\n",
      "['\"female\"', '\"group D\"', '\"master\\'s degree\"', '\"standard\"', '\"none\"', '\"53\"', '\"61\"', '\"68\"\\n']\n",
      "['\"female\"', '\"group D\"', '\"some high school\"', '\"standard\"', '\"none\"', '\"81\"', '\"97\"', '\"96\"\\n']\n",
      "['\"female\"', '\"group E\"', '\"some high school\"', '\"standard\"', '\"none\"', '\"77\"', '\"79\"', '\"80\"\\n']\n",
      "['\"female\"', '\"group D\"', '\"bachelor\\'s degree\"', '\"free/reduced\"', '\"none\"', '\"63\"', '\"73\"', '\"78\"\\n']\n",
      "['\"female\"', '\"group D\"', '\"associate\\'s degree\"', '\"standard\"', '\"completed\"', '\"73\"', '\"75\"', '\"80\"\\n']\n",
      "['\"female\"', '\"group D\"', '\"some college\"', '\"standard\"', '\"none\"', '\"69\"', '\"77\"', '\"77\"\\n']\n",
      "['\"female\"', '\"group C\"', '\"associate\\'s degree\"', '\"standard\"', '\"none\"', '\"65\"', '\"76\"', '\"76\"\\n']\n",
      "['\"female\"', '\"group A\"', '\"high school\"', '\"standard\"', '\"none\"', '\"55\"', '\"73\"', '\"73\"\\n']\n",
      "['\"female\"', '\"group C\"', '\"bachelor\\'s degree\"', '\"free/reduced\"', '\"none\"', '\"44\"', '\"63\"', '\"62\"\\n']\n",
      "['\"female\"', '\"group C\"', '\"some college\"', '\"standard\"', '\"none\"', '\"54\"', '\"64\"', '\"65\"\\n']\n",
      "['\"female\"', '\"group A\"', '\"some high school\"', '\"standard\"', '\"none\"', '\"48\"', '\"66\"', '\"65\"\\n']\n",
      "['\"male\"', '\"group C\"', '\"some college\"', '\"free/reduced\"', '\"none\"', '\"58\"', '\"57\"', '\"54\"\\n']\n",
      "['\"male\"', '\"group A\"', '\"some high school\"', '\"standard\"', '\"none\"', '\"71\"', '\"62\"', '\"50\"\\n']\n",
      "['\"male\"', '\"group E\"', '\"bachelor\\'s degree\"', '\"standard\"', '\"none\"', '\"68\"', '\"68\"', '\"64\"\\n']\n",
      "['\"female\"', '\"group E\"', '\"high school\"', '\"standard\"', '\"none\"', '\"74\"', '\"76\"', '\"73\"\\n']\n",
      "['\"female\"', '\"group C\"', '\"bachelor\\'s degree\"', '\"standard\"', '\"completed\"', '\"92\"', '\"100\"', '\"99\"\\n']\n",
      "['\"female\"', '\"group C\"', '\"bachelor\\'s degree\"', '\"standard\"', '\"completed\"', '\"56\"', '\"79\"', '\"72\"\\n']\n",
      "['\"male\"', '\"group B\"', '\"high school\"', '\"free/reduced\"', '\"none\"', '\"30\"', '\"24\"', '\"15\"\\n']\n",
      "['\"male\"', '\"group A\"', '\"some high school\"', '\"standard\"', '\"none\"', '\"53\"', '\"54\"', '\"48\"\\n']\n",
      "['\"female\"', '\"group D\"', '\"high school\"', '\"standard\"', '\"none\"', '\"69\"', '\"77\"', '\"73\"\\n']\n",
      "['\"female\"', '\"group D\"', '\"some high school\"', '\"standard\"', '\"none\"', '\"65\"', '\"82\"', '\"81\"\\n']\n",
      "['\"female\"', '\"group D\"', '\"master\\'s degree\"', '\"standard\"', '\"none\"', '\"54\"', '\"60\"', '\"63\"\\n']\n",
      "['\"female\"', '\"group C\"', '\"high school\"', '\"standard\"', '\"none\"', '\"29\"', '\"29\"', '\"30\"\\n']\n",
      "['\"female\"', '\"group E\"', '\"some college\"', '\"standard\"', '\"none\"', '\"76\"', '\"78\"', '\"80\"\\n']\n",
      "['\"male\"', '\"group D\"', '\"high school\"', '\"free/reduced\"', '\"none\"', '\"60\"', '\"57\"', '\"51\"\\n']\n",
      "['\"male\"', '\"group D\"', '\"master\\'s degree\"', '\"free/reduced\"', '\"completed\"', '\"84\"', '\"89\"', '\"90\"\\n']\n",
      "['\"male\"', '\"group C\"', '\"some high school\"', '\"standard\"', '\"none\"', '\"75\"', '\"72\"', '\"62\"\\n']\n",
      "['\"female\"', '\"group C\"', '\"associate\\'s degree\"', '\"standard\"', '\"none\"', '\"85\"', '\"84\"', '\"82\"\\n']\n",
      "['\"female\"', '\"group C\"', '\"master\\'s degree\"', '\"free/reduced\"', '\"none\"', '\"40\"', '\"58\"', '\"54\"\\n']\n",
      "['\"female\"', '\"group E\"', '\"some college\"', '\"standard\"', '\"none\"', '\"61\"', '\"64\"', '\"62\"\\n']\n",
      "['\"female\"', '\"group B\"', '\"associate\\'s degree\"', '\"standard\"', '\"none\"', '\"58\"', '\"63\"', '\"65\"\\n']\n",
      "['\"male\"', '\"group D\"', '\"some college\"', '\"free/reduced\"', '\"completed\"', '\"69\"', '\"60\"', '\"63\"\\n']\n",
      "['\"female\"', '\"group C\"', '\"some college\"', '\"standard\"', '\"none\"', '\"58\"', '\"59\"', '\"66\"\\n']\n",
      "['\"male\"', '\"group C\"', '\"bachelor\\'s degree\"', '\"standard\"', '\"completed\"', '\"94\"', '\"90\"', '\"91\"\\n']\n",
      "['\"female\"', '\"group C\"', '\"associate\\'s degree\"', '\"standard\"', '\"none\"', '\"65\"', '\"77\"', '\"74\"\\n']\n",
      "['\"female\"', '\"group A\"', '\"associate\\'s degree\"', '\"standard\"', '\"none\"', '\"82\"', '\"93\"', '\"93\"\\n']\n",
      "['\"female\"', '\"group C\"', '\"high school\"', '\"standard\"', '\"none\"', '\"60\"', '\"68\"', '\"72\"\\n']\n",
      "['\"female\"', '\"group E\"', '\"bachelor\\'s degree\"', '\"standard\"', '\"none\"', '\"37\"', '\"45\"', '\"38\"\\n']\n",
      "['\"male\"', '\"group D\"', '\"bachelor\\'s degree\"', '\"standard\"', '\"none\"', '\"88\"', '\"78\"', '\"83\"\\n']\n",
      "['\"male\"', '\"group D\"', '\"master\\'s degree\"', '\"standard\"', '\"none\"', '\"95\"', '\"81\"', '\"84\"\\n']\n",
      "['\"male\"', '\"group C\"', '\"associate\\'s degree\"', '\"free/reduced\"', '\"completed\"', '\"65\"', '\"73\"', '\"68\"\\n']\n",
      "['\"female\"', '\"group C\"', '\"high school\"', '\"free/reduced\"', '\"none\"', '\"35\"', '\"61\"', '\"54\"\\n']\n",
      "['\"male\"', '\"group B\"', '\"bachelor\\'s degree\"', '\"free/reduced\"', '\"none\"', '\"62\"', '\"63\"', '\"56\"\\n']\n",
      "['\"male\"', '\"group C\"', '\"high school\"', '\"free/reduced\"', '\"completed\"', '\"58\"', '\"51\"', '\"52\"\\n']\n",
      "['\"male\"', '\"group A\"', '\"some college\"', '\"standard\"', '\"completed\"', '\"100\"', '\"96\"', '\"86\"\\n']\n",
      "['\"female\"', '\"group E\"', '\"bachelor\\'s degree\"', '\"free/reduced\"', '\"none\"', '\"61\"', '\"58\"', '\"62\"\\n']\n",
      "['\"male\"', '\"group D\"', '\"some college\"', '\"standard\"', '\"completed\"', '\"100\"', '\"97\"', '\"99\"\\n']\n",
      "['\"male\"', '\"group B\"', '\"associate\\'s degree\"', '\"free/reduced\"', '\"completed\"', '\"69\"', '\"70\"', '\"63\"\\n']\n",
      "['\"male\"', '\"group D\"', '\"associate\\'s degree\"', '\"standard\"', '\"none\"', '\"61\"', '\"48\"', '\"46\"\\n']\n",
      "['\"male\"', '\"group D\"', '\"some college\"', '\"free/reduced\"', '\"none\"', '\"49\"', '\"57\"', '\"46\"\\n']\n",
      "['\"female\"', '\"group C\"', '\"some high school\"', '\"standard\"', '\"completed\"', '\"44\"', '\"51\"', '\"55\"\\n']\n",
      "['\"male\"', '\"group D\"', '\"some college\"', '\"standard\"', '\"none\"', '\"67\"', '\"64\"', '\"70\"\\n']\n",
      "['\"male\"', '\"group B\"', '\"high school\"', '\"standard\"', '\"none\"', '\"79\"', '\"60\"', '\"65\"\\n']\n",
      "['\"female\"', '\"group B\"', '\"bachelor\\'s degree\"', '\"standard\"', '\"completed\"', '\"66\"', '\"74\"', '\"81\"\\n']\n",
      "['\"female\"', '\"group C\"', '\"high school\"', '\"standard\"', '\"none\"', '\"75\"', '\"88\"', '\"85\"\\n']\n",
      "['\"male\"', '\"group D\"', '\"some high school\"', '\"standard\"', '\"none\"', '\"84\"', '\"84\"', '\"80\"\\n']\n",
      "['\"male\"', '\"group A\"', '\"high school\"', '\"standard\"', '\"none\"', '\"71\"', '\"74\"', '\"64\"\\n']\n",
      "['\"female\"', '\"group B\"', '\"high school\"', '\"free/reduced\"', '\"completed\"', '\"67\"', '\"80\"', '\"81\"\\n']\n",
      "['\"female\"', '\"group D\"', '\"some high school\"', '\"standard\"', '\"completed\"', '\"80\"', '\"92\"', '\"88\"\\n']\n",
      "['\"male\"', '\"group E\"', '\"some college\"', '\"standard\"', '\"none\"', '\"86\"', '\"76\"', '\"74\"\\n']\n",
      "['\"female\"', '\"group D\"', '\"associate\\'s degree\"', '\"standard\"', '\"none\"', '\"76\"', '\"74\"', '\"73\"\\n']\n",
      "['\"male\"', '\"group D\"', '\"high school\"', '\"standard\"', '\"none\"', '\"41\"', '\"52\"', '\"51\"\\n']\n",
      "['\"female\"', '\"group D\"', '\"associate\\'s degree\"', '\"free/reduced\"', '\"completed\"', '\"74\"', '\"88\"', '\"90\"\\n']\n",
      "['\"female\"', '\"group B\"', '\"some high school\"', '\"free/reduced\"', '\"none\"', '\"72\"', '\"81\"', '\"79\"\\n']\n",
      "['\"female\"', '\"group E\"', '\"high school\"', '\"standard\"', '\"completed\"', '\"74\"', '\"79\"', '\"80\"\\n']\n",
      "['\"male\"', '\"group B\"', '\"high school\"', '\"standard\"', '\"none\"', '\"70\"', '\"65\"', '\"60\"\\n']\n",
      "['\"female\"', '\"group B\"', '\"bachelor\\'s degree\"', '\"standard\"', '\"completed\"', '\"65\"', '\"81\"', '\"81\"\\n']\n",
      "['\"female\"', '\"group D\"', '\"associate\\'s degree\"', '\"standard\"', '\"none\"', '\"59\"', '\"70\"', '\"65\"\\n']\n",
      "['\"female\"', '\"group E\"', '\"high school\"', '\"free/reduced\"', '\"none\"', '\"64\"', '\"62\"', '\"68\"\\n']\n",
      "['\"female\"', '\"group B\"', '\"high school\"', '\"standard\"', '\"none\"', '\"50\"', '\"53\"', '\"55\"\\n']\n",
      "['\"female\"', '\"group D\"', '\"some college\"', '\"standard\"', '\"completed\"', '\"69\"', '\"79\"', '\"81\"\\n']\n",
      "['\"male\"', '\"group C\"', '\"some high school\"', '\"free/reduced\"', '\"completed\"', '\"51\"', '\"56\"', '\"53\"\\n']\n",
      "['\"female\"', '\"group A\"', '\"high school\"', '\"standard\"', '\"completed\"', '\"68\"', '\"80\"', '\"76\"\\n']\n",
      "['\"female\"', '\"group D\"', '\"some college\"', '\"standard\"', '\"completed\"', '\"85\"', '\"86\"', '\"98\"\\n']\n",
      "['\"female\"', '\"group A\"', '\"associate\\'s degree\"', '\"standard\"', '\"completed\"', '\"65\"', '\"70\"', '\"74\"\\n']\n",
      "['\"female\"', '\"group B\"', '\"some high school\"', '\"standard\"', '\"none\"', '\"73\"', '\"79\"', '\"79\"\\n']\n",
      "['\"female\"', '\"group B\"', '\"some college\"', '\"standard\"', '\"none\"', '\"62\"', '\"67\"', '\"67\"\\n']\n",
      "['\"male\"', '\"group C\"', '\"associate\\'s degree\"', '\"free/reduced\"', '\"none\"', '\"77\"', '\"67\"', '\"64\"\\n']\n",
      "['\"male\"', '\"group D\"', '\"some high school\"', '\"standard\"', '\"none\"', '\"69\"', '\"66\"', '\"61\"\\n']\n",
      "['\"female\"', '\"group D\"', '\"associate\\'s degree\"', '\"free/reduced\"', '\"none\"', '\"43\"', '\"60\"', '\"58\"\\n']\n",
      "['\"male\"', '\"group D\"', '\"associate\\'s degree\"', '\"standard\"', '\"none\"', '\"90\"', '\"87\"', '\"85\"\\n']\n",
      "['\"male\"', '\"group C\"', '\"some college\"', '\"free/reduced\"', '\"none\"', '\"74\"', '\"77\"', '\"73\"\\n']\n",
      "['\"male\"', '\"group C\"', '\"some high school\"', '\"standard\"', '\"none\"', '\"73\"', '\"66\"', '\"63\"\\n']\n",
      "['\"female\"', '\"group D\"', '\"some college\"', '\"free/reduced\"', '\"none\"', '\"55\"', '\"71\"', '\"69\"\\n']\n",
      "['\"female\"', '\"group C\"', '\"high school\"', '\"standard\"', '\"none\"', '\"65\"', '\"69\"', '\"67\"\\n']\n",
      "['\"male\"', '\"group D\"', '\"associate\\'s degree\"', '\"standard\"', '\"none\"', '\"80\"', '\"63\"', '\"63\"\\n']\n",
      "['\"female\"', '\"group C\"', '\"some high school\"', '\"free/reduced\"', '\"completed\"', '\"50\"', '\"60\"', '\"60\"\\n']\n",
      "['\"female\"', '\"group C\"', '\"some college\"', '\"free/reduced\"', '\"completed\"', '\"63\"', '\"73\"', '\"71\"\\n']\n",
      "['\"female\"', '\"group B\"', '\"bachelor\\'s degree\"', '\"free/reduced\"', '\"none\"', '\"77\"', '\"85\"', '\"87\"\\n']\n",
      "['\"male\"', '\"group C\"', '\"some college\"', '\"standard\"', '\"none\"', '\"73\"', '\"74\"', '\"61\"\\n']\n",
      "['\"male\"', '\"group D\"', '\"associate\\'s degree\"', '\"standard\"', '\"completed\"', '\"81\"', '\"72\"', '\"77\"\\n']\n",
      "['\"female\"', '\"group C\"', '\"high school\"', '\"free/reduced\"', '\"none\"', '\"66\"', '\"76\"', '\"68\"\\n']\n",
      "['\"male\"', '\"group D\"', '\"associate\\'s degree\"', '\"free/reduced\"', '\"none\"', '\"52\"', '\"57\"', '\"50\"\\n']\n",
      "['\"female\"', '\"group C\"', '\"some college\"', '\"standard\"', '\"none\"', '\"69\"', '\"78\"', '\"76\"\\n']\n",
      "['\"female\"', '\"group C\"', '\"associate\\'s degree\"', '\"standard\"', '\"completed\"', '\"65\"', '\"84\"', '\"84\"\\n']\n",
      "['\"female\"', '\"group D\"', '\"high school\"', '\"standard\"', '\"completed\"', '\"69\"', '\"77\"', '\"78\"\\n']\n",
      "['\"female\"', '\"group B\"', '\"some college\"', '\"standard\"', '\"completed\"', '\"50\"', '\"64\"', '\"66\"\\n']\n",
      "['\"female\"', '\"group E\"', '\"some college\"', '\"standard\"', '\"completed\"', '\"73\"', '\"78\"', '\"76\"\\n']\n",
      "['\"female\"', '\"group C\"', '\"some high school\"', '\"standard\"', '\"completed\"', '\"70\"', '\"82\"', '\"76\"\\n']\n",
      "['\"male\"', '\"group D\"', '\"associate\\'s degree\"', '\"free/reduced\"', '\"none\"', '\"81\"', '\"75\"', '\"78\"\\n']\n",
      "['\"male\"', '\"group D\"', '\"some college\"', '\"free/reduced\"', '\"none\"', '\"63\"', '\"61\"', '\"60\"\\n']\n",
      "['\"female\"', '\"group D\"', '\"high school\"', '\"standard\"', '\"none\"', '\"67\"', '\"72\"', '\"74\"\\n']\n",
      "['\"male\"', '\"group B\"', '\"high school\"', '\"standard\"', '\"none\"', '\"60\"', '\"68\"', '\"60\"\\n']\n",
      "['\"male\"', '\"group B\"', '\"high school\"', '\"standard\"', '\"none\"', '\"62\"', '\"55\"', '\"54\"\\n']\n",
      "['\"female\"', '\"group C\"', '\"some high school\"', '\"free/reduced\"', '\"completed\"', '\"29\"', '\"40\"', '\"44\"\\n']\n",
      "['\"male\"', '\"group B\"', '\"some college\"', '\"standard\"', '\"completed\"', '\"62\"', '\"66\"', '\"68\"\\n']\n",
      "['\"female\"', '\"group E\"', '\"master\\'s degree\"', '\"standard\"', '\"completed\"', '\"94\"', '\"99\"', '\"100\"\\n']\n",
      "['\"male\"', '\"group E\"', '\"some college\"', '\"standard\"', '\"completed\"', '\"85\"', '\"75\"', '\"68\"\\n']\n",
      "['\"male\"', '\"group D\"', '\"associate\\'s degree\"', '\"free/reduced\"', '\"none\"', '\"77\"', '\"78\"', '\"73\"\\n']\n",
      "['\"male\"', '\"group A\"', '\"high school\"', '\"free/reduced\"', '\"none\"', '\"53\"', '\"58\"', '\"44\"\\n']\n",
      "['\"male\"', '\"group E\"', '\"some college\"', '\"free/reduced\"', '\"none\"', '\"93\"', '\"90\"', '\"83\"\\n']\n",
      "['\"female\"', '\"group C\"', '\"associate\\'s degree\"', '\"standard\"', '\"none\"', '\"49\"', '\"53\"', '\"53\"\\n']\n",
      "['\"female\"', '\"group E\"', '\"associate\\'s degree\"', '\"free/reduced\"', '\"none\"', '\"73\"', '\"76\"', '\"78\"\\n']\n",
      "['\"female\"', '\"group C\"', '\"bachelor\\'s degree\"', '\"free/reduced\"', '\"completed\"', '\"66\"', '\"74\"', '\"81\"\\n']\n",
      "['\"female\"', '\"group D\"', '\"associate\\'s degree\"', '\"standard\"', '\"none\"', '\"77\"', '\"77\"', '\"73\"\\n']\n",
      "['\"female\"', '\"group C\"', '\"some high school\"', '\"standard\"', '\"none\"', '\"49\"', '\"63\"', '\"56\"\\n']\n",
      "['\"female\"', '\"group D\"', '\"some college\"', '\"free/reduced\"', '\"none\"', '\"79\"', '\"89\"', '\"86\"\\n']\n",
      "['\"female\"', '\"group C\"', '\"associate\\'s degree\"', '\"standard\"', '\"completed\"', '\"75\"', '\"82\"', '\"90\"\\n']\n",
      "['\"female\"', '\"group A\"', '\"bachelor\\'s degree\"', '\"standard\"', '\"none\"', '\"59\"', '\"72\"', '\"70\"\\n']\n",
      "['\"female\"', '\"group D\"', '\"associate\\'s degree\"', '\"standard\"', '\"completed\"', '\"57\"', '\"78\"', '\"79\"\\n']\n",
      "['\"male\"', '\"group C\"', '\"high school\"', '\"free/reduced\"', '\"none\"', '\"66\"', '\"66\"', '\"59\"\\n']\n",
      "['\"female\"', '\"group E\"', '\"bachelor\\'s degree\"', '\"standard\"', '\"completed\"', '\"79\"', '\"81\"', '\"82\"\\n']\n",
      "['\"female\"', '\"group B\"', '\"some high school\"', '\"standard\"', '\"none\"', '\"57\"', '\"67\"', '\"72\"\\n']\n",
      "['\"male\"', '\"group A\"', '\"bachelor\\'s degree\"', '\"standard\"', '\"completed\"', '\"87\"', '\"84\"', '\"87\"\\n']\n",
      "['\"female\"', '\"group D\"', '\"some college\"', '\"standard\"', '\"none\"', '\"63\"', '\"64\"', '\"67\"\\n']\n",
      "['\"female\"', '\"group B\"', '\"some high school\"', '\"free/reduced\"', '\"completed\"', '\"59\"', '\"63\"', '\"64\"\\n']\n",
      "['\"male\"', '\"group A\"', '\"bachelor\\'s degree\"', '\"free/reduced\"', '\"none\"', '\"62\"', '\"72\"', '\"65\"\\n']\n",
      "['\"male\"', '\"group D\"', '\"high school\"', '\"standard\"', '\"none\"', '\"46\"', '\"34\"', '\"36\"\\n']\n",
      "['\"male\"', '\"group C\"', '\"some college\"', '\"standard\"', '\"none\"', '\"66\"', '\"59\"', '\"52\"\\n']\n",
      "['\"male\"', '\"group D\"', '\"high school\"', '\"standard\"', '\"none\"', '\"89\"', '\"87\"', '\"79\"\\n']\n",
      "['\"female\"', '\"group D\"', '\"associate\\'s degree\"', '\"free/reduced\"', '\"completed\"', '\"42\"', '\"61\"', '\"58\"\\n']\n",
      "['\"male\"', '\"group C\"', '\"some college\"', '\"standard\"', '\"completed\"', '\"93\"', '\"84\"', '\"90\"\\n']\n",
      "['\"female\"', '\"group E\"', '\"some high school\"', '\"standard\"', '\"completed\"', '\"80\"', '\"85\"', '\"85\"\\n']\n",
      "['\"female\"', '\"group D\"', '\"some college\"', '\"standard\"', '\"none\"', '\"98\"', '\"100\"', '\"99\"\\n']\n",
      "['\"male\"', '\"group D\"', '\"master\\'s degree\"', '\"standard\"', '\"none\"', '\"81\"', '\"81\"', '\"84\"\\n']\n",
      "['\"female\"', '\"group B\"', '\"some high school\"', '\"standard\"', '\"completed\"', '\"60\"', '\"70\"', '\"74\"\\n']\n",
      "['\"female\"', '\"group B\"', '\"associate\\'s degree\"', '\"free/reduced\"', '\"completed\"', '\"76\"', '\"94\"', '\"87\"\\n']\n",
      "['\"male\"', '\"group C\"', '\"associate\\'s degree\"', '\"standard\"', '\"completed\"', '\"73\"', '\"78\"', '\"72\"\\n']\n",
      "['\"female\"', '\"group C\"', '\"associate\\'s degree\"', '\"standard\"', '\"completed\"', '\"96\"', '\"96\"', '\"99\"\\n']\n",
      "['\"female\"', '\"group C\"', '\"high school\"', '\"standard\"', '\"none\"', '\"76\"', '\"76\"', '\"74\"\\n']\n",
      "['\"male\"', '\"group E\"', '\"associate\\'s degree\"', '\"free/reduced\"', '\"completed\"', '\"91\"', '\"73\"', '\"80\"\\n']\n",
      "['\"female\"', '\"group C\"', '\"some college\"', '\"free/reduced\"', '\"none\"', '\"62\"', '\"72\"', '\"70\"\\n']\n",
      "['\"male\"', '\"group D\"', '\"some high school\"', '\"free/reduced\"', '\"completed\"', '\"55\"', '\"59\"', '\"59\"\\n']\n",
      "['\"female\"', '\"group B\"', '\"some high school\"', '\"free/reduced\"', '\"completed\"', '\"74\"', '\"90\"', '\"88\"\\n']\n",
      "['\"male\"', '\"group C\"', '\"high school\"', '\"standard\"', '\"none\"', '\"50\"', '\"48\"', '\"42\"\\n']\n",
      "['\"male\"', '\"group B\"', '\"some college\"', '\"standard\"', '\"none\"', '\"47\"', '\"43\"', '\"41\"\\n']\n",
      "['\"male\"', '\"group E\"', '\"some college\"', '\"standard\"', '\"completed\"', '\"81\"', '\"74\"', '\"71\"\\n']\n",
      "['\"female\"', '\"group E\"', '\"associate\\'s degree\"', '\"standard\"', '\"completed\"', '\"65\"', '\"75\"', '\"77\"\\n']\n",
      "['\"male\"', '\"group E\"', '\"some high school\"', '\"standard\"', '\"completed\"', '\"68\"', '\"51\"', '\"57\"\\n']\n",
      "['\"female\"', '\"group D\"', '\"high school\"', '\"free/reduced\"', '\"none\"', '\"73\"', '\"92\"', '\"84\"\\n']\n",
      "['\"male\"', '\"group C\"', '\"some college\"', '\"standard\"', '\"none\"', '\"53\"', '\"39\"', '\"37\"\\n']\n",
      "['\"female\"', '\"group B\"', '\"associate\\'s degree\"', '\"free/reduced\"', '\"completed\"', '\"68\"', '\"77\"', '\"80\"\\n']\n",
      "['\"male\"', '\"group A\"', '\"some high school\"', '\"free/reduced\"', '\"none\"', '\"55\"', '\"46\"', '\"43\"\\n']\n",
      "['\"female\"', '\"group C\"', '\"some college\"', '\"standard\"', '\"completed\"', '\"87\"', '\"89\"', '\"94\"\\n']\n",
      "['\"male\"', '\"group D\"', '\"some high school\"', '\"standard\"', '\"none\"', '\"55\"', '\"47\"', '\"44\"\\n']\n",
      "['\"female\"', '\"group E\"', '\"some college\"', '\"free/reduced\"', '\"none\"', '\"53\"', '\"58\"', '\"57\"\\n']\n",
      "['\"male\"', '\"group C\"', '\"master\\'s degree\"', '\"standard\"', '\"none\"', '\"67\"', '\"57\"', '\"59\"\\n']\n",
      "['\"male\"', '\"group C\"', '\"associate\\'s degree\"', '\"standard\"', '\"none\"', '\"92\"', '\"79\"', '\"84\"\\n']\n",
      "['\"female\"', '\"group B\"', '\"some college\"', '\"free/reduced\"', '\"completed\"', '\"53\"', '\"66\"', '\"73\"\\n']\n",
      "['\"male\"', '\"group D\"', '\"associate\\'s degree\"', '\"standard\"', '\"none\"', '\"81\"', '\"71\"', '\"73\"\\n']\n",
      "['\"male\"', '\"group C\"', '\"high school\"', '\"free/reduced\"', '\"none\"', '\"61\"', '\"60\"', '\"55\"\\n']\n",
      "['\"male\"', '\"group D\"', '\"bachelor\\'s degree\"', '\"standard\"', '\"none\"', '\"80\"', '\"73\"', '\"72\"\\n']\n",
      "['\"female\"', '\"group A\"', '\"associate\\'s degree\"', '\"free/reduced\"', '\"none\"', '\"37\"', '\"57\"', '\"56\"\\n']\n",
      "['\"female\"', '\"group C\"', '\"high school\"', '\"standard\"', '\"none\"', '\"81\"', '\"84\"', '\"82\"\\n']\n",
      "['\"female\"', '\"group C\"', '\"associate\\'s degree\"', '\"standard\"', '\"completed\"', '\"59\"', '\"73\"', '\"72\"\\n']\n",
      "['\"male\"', '\"group B\"', '\"some college\"', '\"free/reduced\"', '\"none\"', '\"55\"', '\"55\"', '\"47\"\\n']\n",
      "['\"male\"', '\"group D\"', '\"associate\\'s degree\"', '\"standard\"', '\"none\"', '\"72\"', '\"79\"', '\"74\"\\n']\n",
      "['\"male\"', '\"group D\"', '\"high school\"', '\"standard\"', '\"none\"', '\"69\"', '\"75\"', '\"71\"\\n']\n",
      "['\"male\"', '\"group C\"', '\"some college\"', '\"standard\"', '\"none\"', '\"69\"', '\"64\"', '\"68\"\\n']\n",
      "['\"female\"', '\"group C\"', '\"bachelor\\'s degree\"', '\"free/reduced\"', '\"none\"', '\"50\"', '\"60\"', '\"59\"\\n']\n",
      "['\"male\"', '\"group B\"', '\"some college\"', '\"standard\"', '\"completed\"', '\"87\"', '\"84\"', '\"86\"\\n']\n",
      "['\"male\"', '\"group D\"', '\"some high school\"', '\"standard\"', '\"completed\"', '\"71\"', '\"69\"', '\"68\"\\n']\n",
      "['\"male\"', '\"group E\"', '\"some college\"', '\"standard\"', '\"none\"', '\"68\"', '\"72\"', '\"65\"\\n']\n",
      "['\"male\"', '\"group C\"', '\"master\\'s degree\"', '\"free/reduced\"', '\"completed\"', '\"79\"', '\"77\"', '\"75\"\\n']\n",
      "['\"female\"', '\"group C\"', '\"some high school\"', '\"standard\"', '\"completed\"', '\"77\"', '\"90\"', '\"85\"\\n']\n",
      "['\"male\"', '\"group C\"', '\"associate\\'s degree\"', '\"free/reduced\"', '\"none\"', '\"58\"', '\"55\"', '\"53\"\\n']\n",
      "['\"female\"', '\"group E\"', '\"associate\\'s degree\"', '\"standard\"', '\"none\"', '\"84\"', '\"95\"', '\"92\"\\n']\n",
      "['\"male\"', '\"group D\"', '\"some college\"', '\"standard\"', '\"none\"', '\"55\"', '\"58\"', '\"52\"\\n']\n",
      "['\"male\"', '\"group E\"', '\"bachelor\\'s degree\"', '\"free/reduced\"', '\"completed\"', '\"70\"', '\"68\"', '\"72\"\\n']\n",
      "['\"female\"', '\"group D\"', '\"some college\"', '\"free/reduced\"', '\"completed\"', '\"52\"', '\"59\"', '\"65\"\\n']\n",
      "['\"male\"', '\"group B\"', '\"some college\"', '\"standard\"', '\"completed\"', '\"69\"', '\"77\"', '\"77\"\\n']\n",
      "['\"female\"', '\"group C\"', '\"high school\"', '\"free/reduced\"', '\"none\"', '\"53\"', '\"72\"', '\"64\"\\n']\n",
      "['\"female\"', '\"group D\"', '\"some high school\"', '\"standard\"', '\"none\"', '\"48\"', '\"58\"', '\"54\"\\n']\n",
      "['\"male\"', '\"group D\"', '\"some high school\"', '\"standard\"', '\"completed\"', '\"78\"', '\"81\"', '\"86\"\\n']\n",
      "['\"female\"', '\"group B\"', '\"high school\"', '\"standard\"', '\"none\"', '\"62\"', '\"62\"', '\"63\"\\n']\n",
      "['\"male\"', '\"group D\"', '\"some college\"', '\"standard\"', '\"none\"', '\"60\"', '\"63\"', '\"59\"\\n']\n",
      "['\"female\"', '\"group B\"', '\"high school\"', '\"standard\"', '\"none\"', '\"74\"', '\"72\"', '\"72\"\\n']\n",
      "['\"female\"', '\"group C\"', '\"high school\"', '\"standard\"', '\"completed\"', '\"58\"', '\"75\"', '\"77\"\\n']\n",
      "['\"male\"', '\"group B\"', '\"high school\"', '\"standard\"', '\"completed\"', '\"76\"', '\"62\"', '\"60\"\\n']\n",
      "['\"female\"', '\"group D\"', '\"some high school\"', '\"standard\"', '\"none\"', '\"68\"', '\"71\"', '\"75\"\\n']\n",
      "['\"male\"', '\"group A\"', '\"some college\"', '\"free/reduced\"', '\"none\"', '\"58\"', '\"60\"', '\"57\"\\n']\n",
      "['\"male\"', '\"group B\"', '\"high school\"', '\"standard\"', '\"none\"', '\"52\"', '\"48\"', '\"49\"\\n']\n",
      "['\"male\"', '\"group D\"', '\"bachelor\\'s degree\"', '\"standard\"', '\"none\"', '\"75\"', '\"73\"', '\"74\"\\n']\n",
      "['\"female\"', '\"group B\"', '\"some high school\"', '\"free/reduced\"', '\"completed\"', '\"52\"', '\"67\"', '\"72\"\\n']\n",
      "['\"female\"', '\"group C\"', '\"bachelor\\'s degree\"', '\"free/reduced\"', '\"none\"', '\"62\"', '\"78\"', '\"79\"\\n']\n",
      "['\"male\"', '\"group B\"', '\"some college\"', '\"standard\"', '\"none\"', '\"66\"', '\"65\"', '\"60\"\\n']\n",
      "['\"female\"', '\"group B\"', '\"some high school\"', '\"free/reduced\"', '\"none\"', '\"49\"', '\"58\"', '\"55\"\\n']\n",
      "['\"female\"', '\"group B\"', '\"high school\"', '\"standard\"', '\"none\"', '\"66\"', '\"72\"', '\"70\"\\n']\n",
      "['\"female\"', '\"group C\"', '\"some college\"', '\"free/reduced\"', '\"none\"', '\"35\"', '\"44\"', '\"43\"\\n']\n",
      "['\"female\"', '\"group A\"', '\"some college\"', '\"standard\"', '\"completed\"', '\"72\"', '\"79\"', '\"82\"\\n']\n",
      "['\"male\"', '\"group E\"', '\"associate\\'s degree\"', '\"standard\"', '\"completed\"', '\"94\"', '\"85\"', '\"82\"\\n']\n",
      "['\"female\"', '\"group D\"', '\"associate\\'s degree\"', '\"free/reduced\"', '\"none\"', '\"46\"', '\"56\"', '\"57\"\\n']\n",
      "['\"female\"', '\"group B\"', '\"master\\'s degree\"', '\"standard\"', '\"none\"', '\"77\"', '\"90\"', '\"84\"\\n']\n",
      "['\"female\"', '\"group B\"', '\"high school\"', '\"free/reduced\"', '\"completed\"', '\"76\"', '\"85\"', '\"82\"\\n']\n",
      "['\"female\"', '\"group C\"', '\"associate\\'s degree\"', '\"standard\"', '\"completed\"', '\"52\"', '\"59\"', '\"62\"\\n']\n",
      "['\"male\"', '\"group C\"', '\"bachelor\\'s degree\"', '\"standard\"', '\"completed\"', '\"91\"', '\"81\"', '\"79\"\\n']\n",
      "['\"female\"', '\"group B\"', '\"some high school\"', '\"standard\"', '\"completed\"', '\"32\"', '\"51\"', '\"44\"\\n']\n",
      "['\"female\"', '\"group E\"', '\"some high school\"', '\"free/reduced\"', '\"none\"', '\"72\"', '\"79\"', '\"77\"\\n']\n",
      "['\"female\"', '\"group B\"', '\"some college\"', '\"standard\"', '\"none\"', '\"19\"', '\"38\"', '\"32\"\\n']\n",
      "['\"male\"', '\"group C\"', '\"associate\\'s degree\"', '\"free/reduced\"', '\"none\"', '\"68\"', '\"65\"', '\"61\"\\n']\n",
      "['\"female\"', '\"group C\"', '\"master\\'s degree\"', '\"free/reduced\"', '\"none\"', '\"52\"', '\"65\"', '\"61\"\\n']\n",
      "['\"female\"', '\"group B\"', '\"high school\"', '\"standard\"', '\"none\"', '\"48\"', '\"62\"', '\"60\"\\n']\n",
      "['\"female\"', '\"group D\"', '\"some college\"', '\"free/reduced\"', '\"none\"', '\"60\"', '\"66\"', '\"70\"\\n']\n",
      "['\"male\"', '\"group D\"', '\"high school\"', '\"free/reduced\"', '\"none\"', '\"66\"', '\"74\"', '\"69\"\\n']\n",
      "['\"male\"', '\"group E\"', '\"some high school\"', '\"standard\"', '\"completed\"', '\"89\"', '\"84\"', '\"77\"\\n']\n",
      "['\"female\"', '\"group B\"', '\"high school\"', '\"standard\"', '\"none\"', '\"42\"', '\"52\"', '\"51\"\\n']\n",
      "['\"female\"', '\"group E\"', '\"associate\\'s degree\"', '\"free/reduced\"', '\"completed\"', '\"57\"', '\"68\"', '\"73\"\\n']\n",
      "['\"male\"', '\"group D\"', '\"high school\"', '\"standard\"', '\"none\"', '\"70\"', '\"70\"', '\"70\"\\n']\n",
      "['\"female\"', '\"group E\"', '\"associate\\'s degree\"', '\"free/reduced\"', '\"none\"', '\"70\"', '\"84\"', '\"81\"\\n']\n",
      "['\"male\"', '\"group E\"', '\"some college\"', '\"standard\"', '\"none\"', '\"69\"', '\"60\"', '\"54\"\\n']\n",
      "['\"female\"', '\"group C\"', '\"associate\\'s degree\"', '\"standard\"', '\"none\"', '\"52\"', '\"55\"', '\"57\"\\n']\n",
      "['\"male\"', '\"group C\"', '\"some high school\"', '\"standard\"', '\"completed\"', '\"67\"', '\"73\"', '\"68\"\\n']\n",
      "['\"male\"', '\"group C\"', '\"some high school\"', '\"standard\"', '\"completed\"', '\"76\"', '\"80\"', '\"73\"\\n']\n",
      "['\"female\"', '\"group E\"', '\"associate\\'s degree\"', '\"standard\"', '\"none\"', '\"87\"', '\"94\"', '\"95\"\\n']\n",
      "['\"female\"', '\"group B\"', '\"some college\"', '\"standard\"', '\"none\"', '\"82\"', '\"85\"', '\"87\"\\n']\n",
      "['\"female\"', '\"group C\"', '\"some college\"', '\"standard\"', '\"none\"', '\"73\"', '\"76\"', '\"78\"\\n']\n",
      "['\"male\"', '\"group A\"', '\"some college\"', '\"free/reduced\"', '\"none\"', '\"75\"', '\"81\"', '\"74\"\\n']\n",
      "['\"female\"', '\"group D\"', '\"some college\"', '\"free/reduced\"', '\"none\"', '\"64\"', '\"74\"', '\"75\"\\n']\n",
      "['\"female\"', '\"group E\"', '\"high school\"', '\"free/reduced\"', '\"none\"', '\"41\"', '\"45\"', '\"40\"\\n']\n",
      "['\"male\"', '\"group C\"', '\"high school\"', '\"standard\"', '\"none\"', '\"90\"', '\"75\"', '\"69\"\\n']\n",
      "['\"male\"', '\"group B\"', '\"bachelor\\'s degree\"', '\"standard\"', '\"none\"', '\"59\"', '\"54\"', '\"51\"\\n']\n",
      "['\"male\"', '\"group A\"', '\"some high school\"', '\"standard\"', '\"none\"', '\"51\"', '\"31\"', '\"36\"\\n']\n",
      "['\"male\"', '\"group A\"', '\"high school\"', '\"free/reduced\"', '\"none\"', '\"45\"', '\"47\"', '\"49\"\\n']\n",
      "['\"female\"', '\"group C\"', '\"master\\'s degree\"', '\"standard\"', '\"completed\"', '\"54\"', '\"64\"', '\"67\"\\n']\n",
      "['\"male\"', '\"group E\"', '\"some high school\"', '\"standard\"', '\"completed\"', '\"87\"', '\"84\"', '\"76\"\\n']\n",
      "['\"female\"', '\"group C\"', '\"high school\"', '\"standard\"', '\"none\"', '\"72\"', '\"80\"', '\"83\"\\n']\n",
      "['\"male\"', '\"group B\"', '\"some high school\"', '\"standard\"', '\"completed\"', '\"94\"', '\"86\"', '\"87\"\\n']\n",
      "['\"female\"', '\"group A\"', '\"bachelor\\'s degree\"', '\"standard\"', '\"none\"', '\"45\"', '\"59\"', '\"64\"\\n']\n",
      "['\"male\"', '\"group D\"', '\"bachelor\\'s degree\"', '\"free/reduced\"', '\"completed\"', '\"61\"', '\"70\"', '\"76\"\\n']\n",
      "['\"female\"', '\"group B\"', '\"high school\"', '\"free/reduced\"', '\"none\"', '\"60\"', '\"72\"', '\"68\"\\n']\n",
      "['\"female\"', '\"group C\"', '\"some high school\"', '\"standard\"', '\"none\"', '\"77\"', '\"91\"', '\"88\"\\n']\n",
      "['\"female\"', '\"group A\"', '\"some high school\"', '\"standard\"', '\"completed\"', '\"85\"', '\"90\"', '\"92\"\\n']\n",
      "['\"female\"', '\"group D\"', '\"bachelor\\'s degree\"', '\"free/reduced\"', '\"none\"', '\"78\"', '\"90\"', '\"93\"\\n']\n",
      "['\"male\"', '\"group E\"', '\"some college\"', '\"free/reduced\"', '\"completed\"', '\"49\"', '\"52\"', '\"51\"\\n']\n",
      "['\"female\"', '\"group B\"', '\"high school\"', '\"free/reduced\"', '\"none\"', '\"71\"', '\"87\"', '\"82\"\\n']\n",
      "['\"female\"', '\"group C\"', '\"some high school\"', '\"free/reduced\"', '\"none\"', '\"48\"', '\"58\"', '\"52\"\\n']\n",
      "['\"male\"', '\"group C\"', '\"high school\"', '\"standard\"', '\"none\"', '\"62\"', '\"67\"', '\"58\"\\n']\n",
      "['\"female\"', '\"group C\"', '\"associate\\'s degree\"', '\"free/reduced\"', '\"completed\"', '\"56\"', '\"68\"', '\"70\"\\n']\n",
      "['\"female\"', '\"group C\"', '\"some high school\"', '\"standard\"', '\"none\"', '\"65\"', '\"69\"', '\"76\"\\n']\n",
      "['\"female\"', '\"group D\"', '\"some high school\"', '\"free/reduced\"', '\"completed\"', '\"69\"', '\"86\"', '\"81\"\\n']\n",
      "['\"male\"', '\"group B\"', '\"some high school\"', '\"standard\"', '\"none\"', '\"68\"', '\"54\"', '\"53\"\\n']\n",
      "['\"female\"', '\"group A\"', '\"some college\"', '\"free/reduced\"', '\"none\"', '\"61\"', '\"60\"', '\"57\"\\n']\n",
      "['\"female\"', '\"group C\"', '\"bachelor\\'s degree\"', '\"free/reduced\"', '\"completed\"', '\"74\"', '\"86\"', '\"89\"\\n']\n",
      "['\"male\"', '\"group A\"', '\"bachelor\\'s degree\"', '\"standard\"', '\"none\"', '\"64\"', '\"60\"', '\"58\"\\n']\n",
      "['\"female\"', '\"group B\"', '\"high school\"', '\"standard\"', '\"completed\"', '\"77\"', '\"82\"', '\"89\"\\n']\n",
      "['\"male\"', '\"group B\"', '\"some college\"', '\"standard\"', '\"none\"', '\"58\"', '\"50\"', '\"45\"\\n']\n",
      "['\"female\"', '\"group C\"', '\"high school\"', '\"standard\"', '\"completed\"', '\"60\"', '\"64\"', '\"74\"\\n']\n",
      "['\"male\"', '\"group E\"', '\"high school\"', '\"standard\"', '\"none\"', '\"73\"', '\"64\"', '\"57\"\\n']\n",
      "['\"female\"', '\"group A\"', '\"high school\"', '\"standard\"', '\"completed\"', '\"75\"', '\"82\"', '\"79\"\\n']\n",
      "['\"male\"', '\"group B\"', '\"associate\\'s degree\"', '\"free/reduced\"', '\"completed\"', '\"58\"', '\"57\"', '\"53\"\\n']\n",
      "['\"female\"', '\"group C\"', '\"associate\\'s degree\"', '\"standard\"', '\"none\"', '\"66\"', '\"77\"', '\"73\"\\n']\n",
      "['\"female\"', '\"group D\"', '\"high school\"', '\"free/reduced\"', '\"none\"', '\"39\"', '\"52\"', '\"46\"\\n']\n",
      "['\"male\"', '\"group C\"', '\"some high school\"', '\"standard\"', '\"none\"', '\"64\"', '\"58\"', '\"51\"\\n']\n",
      "['\"female\"', '\"group B\"', '\"high school\"', '\"free/reduced\"', '\"completed\"', '\"23\"', '\"44\"', '\"36\"\\n']\n",
      "['\"male\"', '\"group B\"', '\"some college\"', '\"free/reduced\"', '\"completed\"', '\"74\"', '\"77\"', '\"76\"\\n']\n",
      "['\"female\"', '\"group D\"', '\"some high school\"', '\"free/reduced\"', '\"completed\"', '\"40\"', '\"65\"', '\"64\"\\n']\n",
      "['\"male\"', '\"group E\"', '\"master\\'s degree\"', '\"standard\"', '\"none\"', '\"90\"', '\"85\"', '\"84\"\\n']\n",
      "['\"male\"', '\"group C\"', '\"master\\'s degree\"', '\"standard\"', '\"completed\"', '\"91\"', '\"85\"', '\"85\"\\n']\n",
      "['\"male\"', '\"group D\"', '\"high school\"', '\"standard\"', '\"none\"', '\"64\"', '\"54\"', '\"50\"\\n']\n",
      "['\"female\"', '\"group C\"', '\"high school\"', '\"standard\"', '\"none\"', '\"59\"', '\"72\"', '\"68\"\\n']\n",
      "['\"male\"', '\"group D\"', '\"associate\\'s degree\"', '\"standard\"', '\"none\"', '\"80\"', '\"75\"', '\"69\"\\n']\n",
      "['\"male\"', '\"group C\"', '\"master\\'s degree\"', '\"standard\"', '\"none\"', '\"71\"', '\"67\"', '\"67\"\\n']\n",
      "['\"female\"', '\"group A\"', '\"high school\"', '\"standard\"', '\"none\"', '\"61\"', '\"68\"', '\"63\"\\n']\n",
      "['\"female\"', '\"group E\"', '\"some college\"', '\"standard\"', '\"none\"', '\"87\"', '\"85\"', '\"93\"\\n']\n",
      "['\"male\"', '\"group E\"', '\"some high school\"', '\"standard\"', '\"none\"', '\"82\"', '\"67\"', '\"61\"\\n']\n",
      "['\"male\"', '\"group C\"', '\"some high school\"', '\"standard\"', '\"none\"', '\"62\"', '\"64\"', '\"55\"\\n']\n",
      "['\"female\"', '\"group B\"', '\"bachelor\\'s degree\"', '\"standard\"', '\"none\"', '\"97\"', '\"97\"', '\"96\"\\n']\n",
      "['\"male\"', '\"group B\"', '\"some college\"', '\"free/reduced\"', '\"none\"', '\"75\"', '\"68\"', '\"65\"\\n']\n",
      "['\"female\"', '\"group C\"', '\"bachelor\\'s degree\"', '\"standard\"', '\"none\"', '\"65\"', '\"79\"', '\"81\"\\n']\n",
      "['\"male\"', '\"group B\"', '\"high school\"', '\"standard\"', '\"completed\"', '\"52\"', '\"49\"', '\"46\"\\n']\n",
      "['\"male\"', '\"group C\"', '\"associate\\'s degree\"', '\"free/reduced\"', '\"none\"', '\"87\"', '\"73\"', '\"72\"\\n']\n",
      "['\"female\"', '\"group C\"', '\"associate\\'s degree\"', '\"standard\"', '\"none\"', '\"53\"', '\"62\"', '\"53\"\\n']\n",
      "['\"female\"', '\"group E\"', '\"master\\'s degree\"', '\"free/reduced\"', '\"none\"', '\"81\"', '\"86\"', '\"87\"\\n']\n",
      "['\"male\"', '\"group D\"', '\"bachelor\\'s degree\"', '\"free/reduced\"', '\"completed\"', '\"39\"', '\"42\"', '\"38\"\\n']\n",
      "['\"female\"', '\"group C\"', '\"some college\"', '\"standard\"', '\"completed\"', '\"71\"', '\"71\"', '\"80\"\\n']\n",
      "['\"male\"', '\"group C\"', '\"associate\\'s degree\"', '\"standard\"', '\"none\"', '\"97\"', '\"93\"', '\"91\"\\n']\n",
      "['\"male\"', '\"group D\"', '\"some college\"', '\"standard\"', '\"completed\"', '\"82\"', '\"82\"', '\"88\"\\n']\n",
      "['\"male\"', '\"group C\"', '\"high school\"', '\"free/reduced\"', '\"none\"', '\"59\"', '\"53\"', '\"52\"\\n']\n",
      "['\"male\"', '\"group B\"', '\"associate\\'s degree\"', '\"standard\"', '\"none\"', '\"61\"', '\"42\"', '\"41\"\\n']\n",
      "['\"male\"', '\"group E\"', '\"associate\\'s degree\"', '\"free/reduced\"', '\"completed\"', '\"78\"', '\"74\"', '\"72\"\\n']\n",
      "['\"male\"', '\"group C\"', '\"associate\\'s degree\"', '\"free/reduced\"', '\"none\"', '\"49\"', '\"51\"', '\"51\"\\n']\n",
      "['\"male\"', '\"group B\"', '\"high school\"', '\"standard\"', '\"none\"', '\"59\"', '\"58\"', '\"47\"\\n']\n",
      "['\"female\"', '\"group C\"', '\"some college\"', '\"standard\"', '\"completed\"', '\"70\"', '\"72\"', '\"76\"\\n']\n",
      "['\"male\"', '\"group B\"', '\"associate\\'s degree\"', '\"standard\"', '\"completed\"', '\"82\"', '\"84\"', '\"78\"\\n']\n",
      "['\"male\"', '\"group E\"', '\"associate\\'s degree\"', '\"free/reduced\"', '\"none\"', '\"90\"', '\"90\"', '\"82\"\\n']\n",
      "['\"female\"', '\"group C\"', '\"bachelor\\'s degree\"', '\"free/reduced\"', '\"none\"', '\"43\"', '\"62\"', '\"61\"\\n']\n",
      "['\"male\"', '\"group C\"', '\"some college\"', '\"free/reduced\"', '\"none\"', '\"80\"', '\"64\"', '\"66\"\\n']\n",
      "['\"male\"', '\"group D\"', '\"some college\"', '\"standard\"', '\"none\"', '\"81\"', '\"82\"', '\"84\"\\n']\n",
      "['\"male\"', '\"group C\"', '\"some high school\"', '\"standard\"', '\"none\"', '\"57\"', '\"61\"', '\"54\"\\n']\n",
      "['\"female\"', '\"group D\"', '\"some high school\"', '\"standard\"', '\"none\"', '\"59\"', '\"72\"', '\"80\"\\n']\n",
      "['\"female\"', '\"group D\"', '\"associate\\'s degree\"', '\"standard\"', '\"none\"', '\"64\"', '\"76\"', '\"74\"\\n']\n",
      "['\"male\"', '\"group C\"', '\"bachelor\\'s degree\"', '\"standard\"', '\"completed\"', '\"63\"', '\"64\"', '\"66\"\\n']\n",
      "['\"female\"', '\"group E\"', '\"bachelor\\'s degree\"', '\"standard\"', '\"completed\"', '\"71\"', '\"70\"', '\"70\"\\n']\n",
      "['\"female\"', '\"group B\"', '\"high school\"', '\"free/reduced\"', '\"none\"', '\"64\"', '\"73\"', '\"71\"\\n']\n",
      "['\"male\"', '\"group D\"', '\"bachelor\\'s degree\"', '\"free/reduced\"', '\"none\"', '\"55\"', '\"46\"', '\"44\"\\n']\n",
      "['\"female\"', '\"group E\"', '\"associate\\'s degree\"', '\"standard\"', '\"none\"', '\"51\"', '\"51\"', '\"54\"\\n']\n",
      "['\"female\"', '\"group C\"', '\"associate\\'s degree\"', '\"standard\"', '\"completed\"', '\"62\"', '\"76\"', '\"80\"\\n']\n",
      "['\"female\"', '\"group E\"', '\"associate\\'s degree\"', '\"standard\"', '\"completed\"', '\"93\"', '\"100\"', '\"95\"\\n']\n",
      "['\"male\"', '\"group C\"', '\"high school\"', '\"free/reduced\"', '\"none\"', '\"54\"', '\"72\"', '\"59\"\\n']\n",
      "['\"female\"', '\"group D\"', '\"some college\"', '\"free/reduced\"', '\"none\"', '\"69\"', '\"65\"', '\"74\"\\n']\n",
      "['\"male\"', '\"group D\"', '\"high school\"', '\"free/reduced\"', '\"none\"', '\"44\"', '\"51\"', '\"48\"\\n']\n",
      "['\"female\"', '\"group E\"', '\"some college\"', '\"standard\"', '\"completed\"', '\"86\"', '\"85\"', '\"91\"\\n']\n",
      "['\"female\"', '\"group E\"', '\"associate\\'s degree\"', '\"standard\"', '\"none\"', '\"85\"', '\"92\"', '\"85\"\\n']\n",
      "['\"female\"', '\"group A\"', '\"master\\'s degree\"', '\"free/reduced\"', '\"none\"', '\"50\"', '\"67\"', '\"73\"\\n']\n",
      "['\"male\"', '\"group D\"', '\"some high school\"', '\"standard\"', '\"completed\"', '\"88\"', '\"74\"', '\"75\"\\n']\n",
      "['\"female\"', '\"group E\"', '\"associate\\'s degree\"', '\"standard\"', '\"none\"', '\"59\"', '\"62\"', '\"69\"\\n']\n",
      "['\"female\"', '\"group E\"', '\"some high school\"', '\"free/reduced\"', '\"none\"', '\"32\"', '\"34\"', '\"38\"\\n']\n",
      "['\"male\"', '\"group B\"', '\"high school\"', '\"free/reduced\"', '\"none\"', '\"36\"', '\"29\"', '\"27\"\\n']\n",
      "['\"female\"', '\"group B\"', '\"some high school\"', '\"free/reduced\"', '\"completed\"', '\"63\"', '\"78\"', '\"79\"\\n']\n",
      "['\"male\"', '\"group D\"', '\"associate\\'s degree\"', '\"standard\"', '\"completed\"', '\"67\"', '\"54\"', '\"63\"\\n']\n",
      "['\"female\"', '\"group D\"', '\"some high school\"', '\"standard\"', '\"completed\"', '\"65\"', '\"78\"', '\"82\"\\n']\n",
      "['\"male\"', '\"group D\"', '\"master\\'s degree\"', '\"standard\"', '\"none\"', '\"85\"', '\"84\"', '\"89\"\\n']\n",
      "['\"female\"', '\"group C\"', '\"master\\'s degree\"', '\"standard\"', '\"none\"', '\"73\"', '\"78\"', '\"74\"\\n']\n",
      "['\"female\"', '\"group A\"', '\"high school\"', '\"free/reduced\"', '\"completed\"', '\"34\"', '\"48\"', '\"41\"\\n']\n",
      "['\"female\"', '\"group D\"', '\"bachelor\\'s degree\"', '\"free/reduced\"', '\"completed\"', '\"93\"', '\"100\"', '\"100\"\\n']\n",
      "['\"female\"', '\"group D\"', '\"some high school\"', '\"free/reduced\"', '\"none\"', '\"67\"', '\"84\"', '\"84\"\\n']\n",
      "['\"male\"', '\"group D\"', '\"some college\"', '\"standard\"', '\"none\"', '\"88\"', '\"77\"', '\"77\"\\n']\n",
      "['\"male\"', '\"group B\"', '\"high school\"', '\"standard\"', '\"none\"', '\"57\"', '\"48\"', '\"51\"\\n']\n",
      "['\"female\"', '\"group D\"', '\"some college\"', '\"standard\"', '\"completed\"', '\"79\"', '\"84\"', '\"91\"\\n']\n",
      "['\"female\"', '\"group C\"', '\"bachelor\\'s degree\"', '\"free/reduced\"', '\"none\"', '\"67\"', '\"75\"', '\"72\"\\n']\n",
      "['\"male\"', '\"group E\"', '\"bachelor\\'s degree\"', '\"standard\"', '\"completed\"', '\"70\"', '\"64\"', '\"70\"\\n']\n",
      "['\"male\"', '\"group D\"', '\"bachelor\\'s degree\"', '\"free/reduced\"', '\"none\"', '\"50\"', '\"42\"', '\"48\"\\n']\n",
      "['\"female\"', '\"group A\"', '\"some college\"', '\"standard\"', '\"none\"', '\"69\"', '\"84\"', '\"82\"\\n']\n",
      "['\"female\"', '\"group C\"', '\"bachelor\\'s degree\"', '\"standard\"', '\"completed\"', '\"52\"', '\"61\"', '\"66\"\\n']\n",
      "['\"female\"', '\"group C\"', '\"bachelor\\'s degree\"', '\"free/reduced\"', '\"completed\"', '\"47\"', '\"62\"', '\"66\"\\n']\n",
      "['\"female\"', '\"group B\"', '\"associate\\'s degree\"', '\"free/reduced\"', '\"none\"', '\"46\"', '\"61\"', '\"55\"\\n']\n",
      "['\"female\"', '\"group E\"', '\"some college\"', '\"standard\"', '\"none\"', '\"68\"', '\"70\"', '\"66\"\\n']\n",
      "['\"male\"', '\"group E\"', '\"bachelor\\'s degree\"', '\"standard\"', '\"completed\"', '\"100\"', '\"100\"', '\"100\"\\n']\n",
      "['\"female\"', '\"group C\"', '\"high school\"', '\"standard\"', '\"none\"', '\"44\"', '\"61\"', '\"52\"\\n']\n",
      "['\"female\"', '\"group C\"', '\"associate\\'s degree\"', '\"standard\"', '\"completed\"', '\"57\"', '\"77\"', '\"80\"\\n']\n",
      "['\"male\"', '\"group B\"', '\"some college\"', '\"standard\"', '\"completed\"', '\"91\"', '\"96\"', '\"91\"\\n']\n",
      "['\"male\"', '\"group D\"', '\"high school\"', '\"free/reduced\"', '\"none\"', '\"69\"', '\"70\"', '\"67\"\\n']\n",
      "['\"female\"', '\"group C\"', '\"high school\"', '\"free/reduced\"', '\"none\"', '\"35\"', '\"53\"', '\"46\"\\n']\n",
      "['\"male\"', '\"group D\"', '\"high school\"', '\"standard\"', '\"none\"', '\"72\"', '\"66\"', '\"66\"\\n']\n",
      "['\"female\"', '\"group B\"', '\"associate\\'s degree\"', '\"free/reduced\"', '\"none\"', '\"54\"', '\"65\"', '\"65\"\\n']\n",
      "['\"male\"', '\"group D\"', '\"high school\"', '\"free/reduced\"', '\"none\"', '\"74\"', '\"70\"', '\"69\"\\n']\n",
      "['\"male\"', '\"group E\"', '\"some high school\"', '\"standard\"', '\"completed\"', '\"74\"', '\"64\"', '\"60\"\\n']\n",
      "['\"male\"', '\"group E\"', '\"associate\\'s degree\"', '\"free/reduced\"', '\"none\"', '\"64\"', '\"56\"', '\"52\"\\n']\n",
      "['\"female\"', '\"group D\"', '\"high school\"', '\"free/reduced\"', '\"completed\"', '\"65\"', '\"61\"', '\"71\"\\n']\n",
      "['\"male\"', '\"group E\"', '\"associate\\'s degree\"', '\"free/reduced\"', '\"completed\"', '\"46\"', '\"43\"', '\"44\"\\n']\n",
      "['\"female\"', '\"group C\"', '\"some high school\"', '\"free/reduced\"', '\"none\"', '\"48\"', '\"56\"', '\"51\"\\n']\n",
      "['\"male\"', '\"group C\"', '\"some college\"', '\"free/reduced\"', '\"completed\"', '\"67\"', '\"74\"', '\"70\"\\n']\n",
      "['\"male\"', '\"group D\"', '\"some college\"', '\"free/reduced\"', '\"none\"', '\"62\"', '\"57\"', '\"62\"\\n']\n",
      "['\"male\"', '\"group D\"', '\"associate\\'s degree\"', '\"free/reduced\"', '\"completed\"', '\"61\"', '\"71\"', '\"73\"\\n']\n",
      "['\"male\"', '\"group C\"', '\"bachelor\\'s degree\"', '\"free/reduced\"', '\"completed\"', '\"70\"', '\"75\"', '\"74\"\\n']\n",
      "['\"male\"', '\"group C\"', '\"associate\\'s degree\"', '\"standard\"', '\"completed\"', '\"98\"', '\"87\"', '\"90\"\\n']\n",
      "['\"male\"', '\"group D\"', '\"some college\"', '\"free/reduced\"', '\"none\"', '\"70\"', '\"63\"', '\"58\"\\n']\n",
      "['\"male\"', '\"group A\"', '\"associate\\'s degree\"', '\"standard\"', '\"none\"', '\"67\"', '\"57\"', '\"53\"\\n']\n",
      "['\"female\"', '\"group E\"', '\"high school\"', '\"free/reduced\"', '\"none\"', '\"57\"', '\"58\"', '\"57\"\\n']\n",
      "['\"male\"', '\"group D\"', '\"some college\"', '\"standard\"', '\"completed\"', '\"85\"', '\"81\"', '\"85\"\\n']\n",
      "['\"male\"', '\"group D\"', '\"some high school\"', '\"standard\"', '\"completed\"', '\"77\"', '\"68\"', '\"69\"\\n']\n",
      "['\"male\"', '\"group C\"', '\"master\\'s degree\"', '\"free/reduced\"', '\"completed\"', '\"72\"', '\"66\"', '\"72\"\\n']\n",
      "['\"female\"', '\"group D\"', '\"master\\'s degree\"', '\"standard\"', '\"none\"', '\"78\"', '\"91\"', '\"96\"\\n']\n",
      "['\"male\"', '\"group C\"', '\"high school\"', '\"standard\"', '\"none\"', '\"81\"', '\"66\"', '\"64\"\\n']\n",
      "['\"male\"', '\"group A\"', '\"some high school\"', '\"free/reduced\"', '\"completed\"', '\"61\"', '\"62\"', '\"61\"\\n']\n",
      "['\"female\"', '\"group B\"', '\"high school\"', '\"standard\"', '\"none\"', '\"58\"', '\"68\"', '\"61\"\\n']\n",
      "['\"female\"', '\"group C\"', '\"associate\\'s degree\"', '\"standard\"', '\"none\"', '\"54\"', '\"61\"', '\"58\"\\n']\n",
      "['\"male\"', '\"group B\"', '\"high school\"', '\"standard\"', '\"none\"', '\"82\"', '\"82\"', '\"80\"\\n']\n",
      "['\"female\"', '\"group D\"', '\"some college\"', '\"free/reduced\"', '\"none\"', '\"49\"', '\"58\"', '\"60\"\\n']\n",
      "['\"male\"', '\"group B\"', '\"some high school\"', '\"free/reduced\"', '\"completed\"', '\"49\"', '\"50\"', '\"52\"\\n']\n",
      "['\"female\"', '\"group E\"', '\"high school\"', '\"free/reduced\"', '\"completed\"', '\"57\"', '\"75\"', '\"73\"\\n']\n",
      "['\"male\"', '\"group E\"', '\"high school\"', '\"standard\"', '\"none\"', '\"94\"', '\"73\"', '\"71\"\\n']\n",
      "['\"female\"', '\"group D\"', '\"some college\"', '\"standard\"', '\"completed\"', '\"75\"', '\"77\"', '\"83\"\\n']\n",
      "['\"female\"', '\"group E\"', '\"some high school\"', '\"free/reduced\"', '\"none\"', '\"74\"', '\"74\"', '\"72\"\\n']\n",
      "['\"male\"', '\"group C\"', '\"high school\"', '\"standard\"', '\"completed\"', '\"58\"', '\"52\"', '\"54\"\\n']\n",
      "['\"female\"', '\"group C\"', '\"some college\"', '\"standard\"', '\"none\"', '\"62\"', '\"69\"', '\"69\"\\n']\n",
      "['\"male\"', '\"group E\"', '\"associate\\'s degree\"', '\"standard\"', '\"none\"', '\"72\"', '\"57\"', '\"62\"\\n']\n",
      "['\"male\"', '\"group C\"', '\"some college\"', '\"standard\"', '\"none\"', '\"84\"', '\"87\"', '\"81\"\\n']\n",
      "['\"female\"', '\"group D\"', '\"master\\'s degree\"', '\"standard\"', '\"none\"', '\"92\"', '\"100\"', '\"100\"\\n']\n",
      "['\"female\"', '\"group D\"', '\"high school\"', '\"standard\"', '\"none\"', '\"45\"', '\"63\"', '\"59\"\\n']\n",
      "['\"male\"', '\"group C\"', '\"high school\"', '\"standard\"', '\"none\"', '\"75\"', '\"81\"', '\"71\"\\n']\n",
      "['\"female\"', '\"group A\"', '\"some college\"', '\"standard\"', '\"none\"', '\"56\"', '\"58\"', '\"64\"\\n']\n",
      "['\"female\"', '\"group D\"', '\"some high school\"', '\"free/reduced\"', '\"none\"', '\"48\"', '\"54\"', '\"53\"\\n']\n",
      "['\"female\"', '\"group E\"', '\"associate\\'s degree\"', '\"standard\"', '\"none\"', '\"100\"', '\"100\"', '\"100\"\\n']\n",
      "['\"female\"', '\"group C\"', '\"some high school\"', '\"free/reduced\"', '\"completed\"', '\"65\"', '\"76\"', '\"75\"\\n']\n",
      "['\"male\"', '\"group D\"', '\"some college\"', '\"standard\"', '\"none\"', '\"72\"', '\"57\"', '\"58\"\\n']\n",
      "['\"female\"', '\"group D\"', '\"some college\"', '\"standard\"', '\"none\"', '\"62\"', '\"70\"', '\"72\"\\n']\n",
      "['\"male\"', '\"group A\"', '\"some high school\"', '\"standard\"', '\"completed\"', '\"66\"', '\"68\"', '\"64\"\\n']\n",
      "['\"male\"', '\"group C\"', '\"some college\"', '\"standard\"', '\"none\"', '\"63\"', '\"63\"', '\"60\"\\n']\n",
      "['\"female\"', '\"group E\"', '\"associate\\'s degree\"', '\"standard\"', '\"none\"', '\"68\"', '\"76\"', '\"67\"\\n']\n",
      "['\"female\"', '\"group B\"', '\"bachelor\\'s degree\"', '\"standard\"', '\"none\"', '\"75\"', '\"84\"', '\"80\"\\n']\n",
      "['\"female\"', '\"group D\"', '\"bachelor\\'s degree\"', '\"standard\"', '\"none\"', '\"89\"', '\"100\"', '\"100\"\\n']\n",
      "['\"male\"', '\"group C\"', '\"some high school\"', '\"standard\"', '\"completed\"', '\"78\"', '\"72\"', '\"69\"\\n']\n",
      "['\"female\"', '\"group A\"', '\"high school\"', '\"free/reduced\"', '\"completed\"', '\"53\"', '\"50\"', '\"60\"\\n']\n",
      "['\"female\"', '\"group D\"', '\"some college\"', '\"free/reduced\"', '\"none\"', '\"49\"', '\"65\"', '\"61\"\\n']\n",
      "['\"female\"', '\"group A\"', '\"some college\"', '\"standard\"', '\"none\"', '\"54\"', '\"63\"', '\"67\"\\n']\n",
      "['\"female\"', '\"group C\"', '\"some college\"', '\"standard\"', '\"completed\"', '\"64\"', '\"82\"', '\"77\"\\n']\n",
      "['\"male\"', '\"group B\"', '\"some college\"', '\"free/reduced\"', '\"completed\"', '\"60\"', '\"62\"', '\"60\"\\n']\n",
      "['\"male\"', '\"group C\"', '\"associate\\'s degree\"', '\"standard\"', '\"none\"', '\"62\"', '\"65\"', '\"58\"\\n']\n",
      "['\"male\"', '\"group D\"', '\"high school\"', '\"standard\"', '\"completed\"', '\"55\"', '\"41\"', '\"48\"\\n']\n",
      "['\"female\"', '\"group C\"', '\"associate\\'s degree\"', '\"standard\"', '\"none\"', '\"91\"', '\"95\"', '\"94\"\\n']\n",
      "['\"female\"', '\"group B\"', '\"high school\"', '\"free/reduced\"', '\"none\"', '\"8\"', '\"24\"', '\"23\"\\n']\n",
      "['\"male\"', '\"group D\"', '\"some high school\"', '\"standard\"', '\"none\"', '\"81\"', '\"78\"', '\"78\"\\n']\n",
      "['\"male\"', '\"group B\"', '\"some high school\"', '\"standard\"', '\"completed\"', '\"79\"', '\"85\"', '\"86\"\\n']\n",
      "['\"female\"', '\"group A\"', '\"some college\"', '\"standard\"', '\"completed\"', '\"78\"', '\"87\"', '\"91\"\\n']\n",
      "['\"female\"', '\"group C\"', '\"some high school\"', '\"standard\"', '\"none\"', '\"74\"', '\"75\"', '\"82\"\\n']\n",
      "['\"male\"', '\"group A\"', '\"high school\"', '\"standard\"', '\"none\"', '\"57\"', '\"51\"', '\"54\"\\n']\n",
      "['\"female\"', '\"group C\"', '\"associate\\'s degree\"', '\"standard\"', '\"none\"', '\"40\"', '\"59\"', '\"51\"\\n']\n",
      "['\"male\"', '\"group E\"', '\"some high school\"', '\"standard\"', '\"completed\"', '\"81\"', '\"75\"', '\"76\"\\n']\n",
      "['\"female\"', '\"group A\"', '\"some high school\"', '\"free/reduced\"', '\"none\"', '\"44\"', '\"45\"', '\"45\"\\n']\n",
      "['\"female\"', '\"group D\"', '\"some college\"', '\"free/reduced\"', '\"completed\"', '\"67\"', '\"86\"', '\"83\"\\n']\n",
      "['\"male\"', '\"group E\"', '\"high school\"', '\"free/reduced\"', '\"completed\"', '\"86\"', '\"81\"', '\"75\"\\n']\n",
      "['\"female\"', '\"group B\"', '\"some high school\"', '\"standard\"', '\"completed\"', '\"65\"', '\"82\"', '\"78\"\\n']\n",
      "['\"female\"', '\"group D\"', '\"associate\\'s degree\"', '\"free/reduced\"', '\"none\"', '\"55\"', '\"76\"', '\"76\"\\n']\n",
      "['\"female\"', '\"group D\"', '\"bachelor\\'s degree\"', '\"free/reduced\"', '\"none\"', '\"62\"', '\"72\"', '\"74\"\\n']\n",
      "['\"male\"', '\"group A\"', '\"high school\"', '\"standard\"', '\"none\"', '\"63\"', '\"63\"', '\"62\"\\n']\n",
      "['\"female\"', '\"group E\"', '\"master\\'s degree\"', '\"standard\"', '\"completed\"', '\"88\"', '\"99\"', '\"95\"\\n']\n",
      "['\"male\"', '\"group C\"', '\"high school\"', '\"free/reduced\"', '\"none\"', '\"62\"', '\"55\"', '\"55\"\\n']\n",
      "['\"female\"', '\"group C\"', '\"high school\"', '\"free/reduced\"', '\"completed\"', '\"59\"', '\"71\"', '\"65\"\\n']\n",
      "['\"female\"', '\"group D\"', '\"some college\"', '\"standard\"', '\"completed\"', '\"68\"', '\"78\"', '\"77\"\\n']\n",
      "['\"female\"', '\"group D\"', '\"some college\"', '\"free/reduced\"', '\"none\"', '\"77\"', '\"86\"', '\"86\"\\n']\n",
      "68\n",
      "59\n",
      "86.8\n"
     ]
    }
   ],
   "source": [
    "f = open('StudentsPerformance.csv')\n",
    "import re\n",
    "exams = []\n",
    "pattern = re.compile('\\d+')\n",
    "for line in f:\n",
    "    info = line.split(',')\n",
    "    print(info)\n",
    "    if info[0] == '\"gender\"':\n",
    "        continue\n",
    "    else:\n",
    "        new_line = []\n",
    "        for item in info:\n",
    "            if pattern.search(item) != None:\n",
    "                new_line.append(int(pattern.search(item)[0]))\n",
    "            else:\n",
    "                new_line.append(item[1:-1])\n",
    "        exams.append(new_line)\n",
    "c = 0\n",
    "a = 0\n",
    "scores = []\n",
    "for items in exams:\n",
    "   #print(items[0])\n",
    "    if items[-1] > 90:\n",
    "        b = items[-1]\n",
    "        scores.append(b)\n",
    "print(len(scores))\n",
    "for items in exams:\n",
    "    if items[3] == 'standard' and items[-1] > 90:\n",
    "        a += 1\n",
    "print(a)\n",
    "print(round(a/len(scores)*100,1))\n",
    "        \n",
    "    \n",
    "    \n",
    "            "
   ]
  },
  {
   "cell_type": "code",
   "execution_count": 19,
   "metadata": {},
   "outputs": [
    {
     "name": "stdout",
     "output_type": "stream",
     "text": [
      "{'female': {'72': 23, '90': 12, '95': 8, '83': 9, '60': 7, '81': 13, '53': 8, '75': 15, '32': 1, '58': 17, '73': 15, '69': 9, '70': 16, '74': 14, '65': 12, '64': 18, '56': 5, '71': 10, '84': 13, '41': 2, '85': 12, '17': 1, '80': 8, '63': 10, '51': 5, '68': 9, '49': 3, '86': 17, '67': 14, '91': 5, '100': 14, '76': 18, '89': 9, '82': 10, '92': 9, '93': 5, '66': 8, '62': 11, '55': 4, '39': 2, '88': 7, '54': 4, '77': 12, '50': 3, '79': 13, '61': 11, '42': 1, '52': 4, '78': 15, '46': 2, '57': 3, '38': 2, '94': 3, '34': 2, '97': 4, '43': 1, '99': 3, '59': 9, '87': 5, '31': 1, '48': 3, '29': 1, '45': 3, '40': 1, '96': 1, '44': 2, '24': 1}, 'male': {'57': 14, '78': 12, '43': 8, '64': 14, '54': 14, '52': 12, '72': 11, '89': 3, '42': 6, '69': 6, '71': 10, '74': 19, '70': 10, '87': 8, '81': 12, '56': 11, '61': 13, '65': 7, '84': 13, '55': 12, '44': 2, '59': 8, '39': 4, '37': 3, '58': 11, '49': 7, '41': 4, '26': 1, '45': 4, '47': 4, '34': 2, '79': 6, '66': 19, '67': 16, '86': 2, '63': 10, '53': 5, '77': 12, '80': 6, '68': 14, '82': 10, '73': 15, '100': 3, '60': 14, '62': 11, '51': 11, '88': 2, '76': 7, '83': 5, '28': 1, '91': 1, '85': 6, '50': 4, '75': 11, '48': 7, '46': 4, '23': 1, '92': 1, '90': 5, '96': 3, '24': 1, '97': 1, '31': 1, '93': 1, '29': 1}}\n",
      "57\n",
      "78\n",
      "43\n",
      "64\n",
      "54\n",
      "52\n",
      "72\n",
      "89\n",
      "42\n",
      "69\n",
      "71\n",
      "74\n",
      "70\n",
      "87\n",
      "81\n",
      "56\n",
      "61\n",
      "65\n",
      "84\n",
      "55\n",
      "44\n",
      "59\n",
      "39\n",
      "37\n",
      "58\n",
      "49\n",
      "41\n",
      "26\n",
      "45\n",
      "47\n",
      "34\n",
      "79\n",
      "66\n",
      "67\n",
      "86\n",
      "63\n",
      "53\n",
      "77\n",
      "80\n",
      "68\n",
      "82\n",
      "73\n",
      "100\n",
      "60\n",
      "62\n",
      "51\n",
      "88\n",
      "76\n",
      "83\n",
      "28\n",
      "91\n",
      "85\n",
      "50\n",
      "75\n",
      "48\n",
      "46\n",
      "23\n",
      "92\n",
      "90\n",
      "96\n",
      "24\n",
      "97\n",
      "31\n",
      "93\n",
      "29\n",
      "63.30769230769231\n",
      "65\n"
     ]
    }
   ],
   "source": [
    "f = open('StudentsPerformance.csv')\n",
    "ethencity = ''\n",
    "students = {}\n",
    "for line in f:\n",
    "    info = line.split(',')\n",
    "    if info[0] == '\"gender\"':\n",
    "        continue\n",
    "    else:\n",
    "        ethnicity = info[0][1:-1]\n",
    "        parents = info[6][1:-1]\n",
    "        if ethnicity in students:\n",
    "            if parents in students[ethnicity]:\n",
    "                students[ethnicity][parents] += 1\n",
    "            else:\n",
    "                students[ethnicity][parents] = 1\n",
    "        else:\n",
    "            students[ethnicity] = {}\n",
    "            students[ethnicity][parents] = 1\n",
    "print(students)\n",
    "a = 0\n",
    "i = 0\n",
    "for items in students['male']:\n",
    "    print(items)\n",
    "    a += int(items)\n",
    "    i += 1\n",
    "print(a/i)\n",
    "print(i)\n",
    "\n",
    "        \n",
    "     "
   ]
  },
  {
   "cell_type": "code",
   "execution_count": 39,
   "metadata": {},
   "outputs": [
    {
     "name": "stdout",
     "output_type": "stream",
     "text": [
      "63.02253521126761\n"
     ]
    }
   ],
   "source": [
    "students = {}\n",
    "\n",
    "f = open('StudentsPerformance.csv')\n",
    "i = 0\n",
    "a = 0\n",
    "for line in f:\n",
    "    info = line.split(',')\n",
    "    if info[0] == '\"gender\"':\n",
    "        continue\n",
    "    elif info [3] == '\"free/reduced\"':\n",
    "        i += 1\n",
    "        a += int(info[7][1:-2])\n",
    "        #print(a)\n",
    "print(a/i)"
   ]
  },
  {
   "cell_type": "code",
   "execution_count": 2,
   "metadata": {},
   "outputs": [
    {
     "name": "stdout",
     "output_type": "stream",
     "text": [
      "400\n"
     ]
    }
   ],
   "source": [
    "def square(x):\n",
    "    return x**2\n",
    "a = 20\n",
    "square_result = square(a)\n",
    "print(square_result)"
   ]
  },
  {
   "cell_type": "code",
   "execution_count": 3,
   "metadata": {},
   "outputs": [
    {
     "name": "stdout",
     "output_type": "stream",
     "text": [
      "115\n"
     ]
    }
   ],
   "source": [
    "# Дополните аргументы и код функции\n",
    "def sum_2(a, b):\n",
    "    result = a + b\n",
    "    return result\n",
    "\n",
    "# Передайте аргументы 42 и 73 в функцию\n",
    "print(sum_2(42, 73))"
   ]
  },
  {
   "cell_type": "code",
   "execution_count": 4,
   "metadata": {},
   "outputs": [],
   "source": [
    "def power(a,b):\n",
    "    result = a ** b\n",
    "    return result\n"
   ]
  },
  {
   "cell_type": "code",
   "execution_count": 114,
   "metadata": {},
   "outputs": [
    {
     "data": {
      "text/plain": [
       "3"
      ]
     },
     "execution_count": 114,
     "metadata": {},
     "output_type": "execute_result"
    }
   ],
   "source": [
    "def get_median(list):\n",
    "    n = len(list)\n",
    "    s = sorted(list)\n",
    "    if (n % 2) != 0:\n",
    "        return (s[int((n + 1)//2.0)-1])\n",
    "        print(list)\n",
    "    else:\n",
    "        return (s[n//2-1]+s[n//2])/2.0\n",
    "        \n",
    "get_median([5, 2, 1, 3, 4]) "
   ]
  },
  {
   "cell_type": "code",
   "execution_count": 111,
   "metadata": {},
   "outputs": [
    {
     "name": "stdout",
     "output_type": "stream",
     "text": [
      "5.0\n"
     ]
    }
   ],
   "source": [
    "c = [3, 3, 7, 9]\n",
    "n = len(c)\n",
    "s = sorted(c)\n",
    "a = 0\n",
    "if (n % 2) != 0:\n",
    "    a = (s[int((n + 1)//2.0)-1])\n",
    "    print('a')\n",
    "else:\n",
    "    print((s[n//2-1]+s[n//2])/2.0)\n",
    "\n"
   ]
  },
  {
   "cell_type": "code",
   "execution_count": 1,
   "metadata": {},
   "outputs": [
    {
     "name": "stdout",
     "output_type": "stream",
     "text": [
      "['€5.71', '€2.86', '€2.14'] ['€0.71', '€0.57'] ['€1.43', '€1.36', '€2.14']\n"
     ]
    }
   ],
   "source": [
    "def to_euro(price):  \n",
    "    exchange_rate = 70  \n",
    "    rounded = round(price/exchange_rate, 2)  \n",
    "    return '€' + str(rounded)  \n",
    "  \n",
    "def db_to_euro(db):  \n",
    "    return [to_euro(item['price']) for item in db]  \n",
    "  \n",
    "  \n",
    "ticket_db = [{'price': 400}, {'price': 200}, {'price': 150}]  \n",
    "guide_db = [{'price': 50}, {'price': 40}]  \n",
    "snack_db = [{'price': 100}, {'price': 95}, {'price': 150}]  \n",
    "  \n",
    "tickets_euro = db_to_euro(ticket_db)  \n",
    "guides_euro = db_to_euro(guide_db)  \n",
    "snacks_euro = db_to_euro(snack_db)  \n",
    "  \n",
    "print(tickets_euro, guides_euro, snacks_euro) "
   ]
  },
  {
   "cell_type": "code",
   "execution_count": 5,
   "metadata": {},
   "outputs": [
    {
     "name": "stdout",
     "output_type": "stream",
     "text": [
      "29.0\n"
     ]
    }
   ],
   "source": [
    "user_db = [{'orders': 12}, {'orders': 30}, {'orders': 45}]\n",
    "\n",
    "def avg_orders(user_db):\n",
    "    order_sum = sum([user['orders'] for user in user_db])\n",
    "    orders_per_user = order_sum/len(user_db)\n",
    "    return orders_per_user\n",
    "print(avg_orders(user_db))"
   ]
  },
  {
   "cell_type": "code",
   "execution_count": 6,
   "metadata": {},
   "outputs": [],
   "source": [
    "ticket_db = [{'price': 400}, {'price': 200}, {'price': 150}]\n"
   ]
  },
  {
   "cell_type": "code",
   "execution_count": 51,
   "metadata": {},
   "outputs": [
    {
     "name": "stdout",
     "output_type": "stream",
     "text": [
      "['€4.76', '€2.9', '€2.17']\n"
     ]
    }
   ],
   "source": [
    "def get_euro_rate():\n",
    "    from random import randrange\n",
    "    exchange_rate = randrange(65, 85)\n",
    "    return exchange_rate\n",
    "\n",
    "# используйте get_euro_rate в следующей функции\n",
    "def to_euro(price):  \n",
    "    exchange_rate = get_euro_rate()\n",
    "    rounded = round(price/exchange_rate, 2)  \n",
    "    return '€' + str(rounded)\n",
    "\n",
    "def db_to_euro(db):\n",
    "    return [to_euro(item['price']) for item in db]\n",
    "ticket_db = [{'price': 400}, {'price': 200}, {'price': 150}]  \n",
    "guide_db = [{'price': 50}, {'price': 40}]  \n",
    "snack_db = [{'price': 100}, {'price': 95}, {'price': 150}]\n",
    "print(db_to_euro(ticket_db))\n",
    "    \n",
    "    "
   ]
  },
  {
   "cell_type": "code",
   "execution_count": 38,
   "metadata": {},
   "outputs": [
    {
     "name": "stdout",
     "output_type": "stream",
     "text": [
      "22\n"
     ]
    }
   ],
   "source": [
    "from random import randrange\n",
    "print(randrange(10,30))"
   ]
  },
  {
   "cell_type": "code",
   "execution_count": 20,
   "metadata": {},
   "outputs": [
    {
     "name": "stdout",
     "output_type": "stream",
     "text": [
      "I'm using <function double_string at 0x000002634C1134C0>\n"
     ]
    },
    {
     "data": {
      "text/plain": [
       "(<function __main__.double_string(string)>, 'hello')"
      ]
     },
     "execution_count": 20,
     "metadata": {},
     "output_type": "execute_result"
    }
   ],
   "source": [
    "def apply_the_operation(operation, argument):  \n",
    "    print(\"I'm using\", operation) \n",
    "    return operation, argument  \n",
    "  \n",
    "def double_string(string):  \n",
    "    return string*2  \n",
    "apply_the_operation(double_string,'hello')"
   ]
  },
  {
   "cell_type": "code",
   "execution_count": 21,
   "metadata": {},
   "outputs": [
    {
     "name": "stdout",
     "output_type": "stream",
     "text": [
      "I'm using world\n"
     ]
    },
    {
     "data": {
      "text/plain": [
       "('world', 'hello')"
      ]
     },
     "execution_count": 21,
     "metadata": {},
     "output_type": "execute_result"
    }
   ],
   "source": [
    "apply_the_operation('world','hello')"
   ]
  },
  {
   "cell_type": "code",
   "execution_count": 33,
   "metadata": {},
   "outputs": [
    {
     "name": "stdout",
     "output_type": "stream",
     "text": [
      "10\n"
     ]
    }
   ],
   "source": [
    "a = [x for x in range (5)]\n",
    "print(sum(a))"
   ]
  },
  {
   "cell_type": "code",
   "execution_count": 34,
   "metadata": {},
   "outputs": [
    {
     "data": {
      "text/plain": [
       "Type help() for interactive help, or help(object) for help about object."
      ]
     },
     "execution_count": 34,
     "metadata": {},
     "output_type": "execute_result"
    }
   ],
   "source": [
    "help\n"
   ]
  },
  {
   "cell_type": "code",
   "execution_count": 35,
   "metadata": {},
   "outputs": [
    {
     "name": "stdout",
     "output_type": "stream",
     "text": [
      "Help on class map in module builtins:\n",
      "\n",
      "class map(object)\n",
      " |  map(func, *iterables) --> map object\n",
      " |  \n",
      " |  Make an iterator that computes the function using arguments from\n",
      " |  each of the iterables.  Stops when the shortest iterable is exhausted.\n",
      " |  \n",
      " |  Methods defined here:\n",
      " |  \n",
      " |  __getattribute__(self, name, /)\n",
      " |      Return getattr(self, name).\n",
      " |  \n",
      " |  __iter__(self, /)\n",
      " |      Implement iter(self).\n",
      " |  \n",
      " |  __next__(self, /)\n",
      " |      Implement next(self).\n",
      " |  \n",
      " |  __reduce__(...)\n",
      " |      Return state information for pickling.\n",
      " |  \n",
      " |  ----------------------------------------------------------------------\n",
      " |  Static methods defined here:\n",
      " |  \n",
      " |  __new__(*args, **kwargs) from builtins.type\n",
      " |      Create and return a new object.  See help(type) for accurate signature.\n",
      "\n"
     ]
    }
   ],
   "source": [
    "help (map)"
   ]
  },
  {
   "cell_type": "code",
   "execution_count": 36,
   "metadata": {},
   "outputs": [
    {
     "data": {
      "text/plain": [
       "['Mr. Boris', 'Mr. Ivan', 'Mr. Bob']"
      ]
     },
     "execution_count": 36,
     "metadata": {},
     "output_type": "execute_result"
    }
   ],
   "source": [
    "def polite_name(name):  \n",
    "    return 'Mr. ' + name   \n",
    "  \n",
    "guests = [\"Boris\", \"Ivan\", \"Bob\"]\n",
    "guest_iterator = map(polite_name, guests)  # здесь мы применили polite_name к каждому имени  \n",
    "list(guest_iterator)  # вывoд  "
   ]
  },
  {
   "cell_type": "code",
   "execution_count": 55,
   "metadata": {},
   "outputs": [
    {
     "name": "stdout",
     "output_type": "stream",
     "text": [
      "['0.73', '4.2', '1', '10']\n"
     ]
    }
   ],
   "source": [
    "num_strings = [\"10\", \"1\", \"4.2\", \"0.73\"]  \n",
    "q = num_strings[::-1]\n",
    "print(q)"
   ]
  },
  {
   "cell_type": "code",
   "execution_count": 63,
   "metadata": {},
   "outputs": [
    {
     "data": {
      "text/plain": [
       "[1, 4, 9]"
      ]
     },
     "execution_count": 63,
     "metadata": {},
     "output_type": "execute_result"
    }
   ],
   "source": [
    "guests = [1, 2, 3]\n",
    "list(map(lambda numbers: numbers**2, guests))"
   ]
  },
  {
   "cell_type": "code",
   "execution_count": 68,
   "metadata": {},
   "outputs": [
    {
     "name": "stdout",
     "output_type": "stream",
     "text": [
      "[-14, -10, -3, -2, 5, 24]\n"
     ]
    }
   ],
   "source": [
    "values = [4, 8, 15, 16, 23, 42]\n",
    "mean = 18\n",
    "result = list(map(lambda values: values - mean,values))\n",
    "print(result)"
   ]
  },
  {
   "cell_type": "code",
   "execution_count": 70,
   "metadata": {},
   "outputs": [
    {
     "data": {
      "text/plain": [
       "[1, 20, 16, 5]"
      ]
     },
     "execution_count": 70,
     "metadata": {},
     "output_type": "execute_result"
    }
   ],
   "source": [
    "nums = [1, 20, 30, 33, 16, 5]  \n",
    "  \n",
    "# оставим числа меньшее 30  \n",
    "list(filter(lambda x: x < 30, nums))  "
   ]
  },
  {
   "cell_type": "code",
   "execution_count": 72,
   "metadata": {},
   "outputs": [
    {
     "name": "stdout",
     "output_type": "stream",
     "text": [
      "[23, 42]\n"
     ]
    }
   ],
   "source": [
    "values = [4, 8, 15, 16, 23, 42]\n",
    "mean = 18\n",
    "\n",
    "result = list(filter(lambda x: x > mean, values))\n",
    "print(result)"
   ]
  },
  {
   "cell_type": "code",
   "execution_count": 75,
   "metadata": {},
   "outputs": [
    {
     "name": "stdout",
     "output_type": "stream",
     "text": [
      "[1, 4, 9]\n"
     ]
    }
   ],
   "source": [
    "a = [x**2 for x in [1, 2, 3]]\n",
    "print(a)"
   ]
  },
  {
   "cell_type": "code",
   "execution_count": 76,
   "metadata": {},
   "outputs": [
    {
     "name": "stdout",
     "output_type": "stream",
     "text": [
      "0.5\n"
     ]
    }
   ],
   "source": [
    "std = 42 \n",
    "\n",
    "def normalize(value):\n",
    "    result = value/std\n",
    "    return result \n",
    "    \n",
    "print(normalize(21)) "
   ]
  },
  {
   "cell_type": "code",
   "execution_count": 77,
   "metadata": {},
   "outputs": [
    {
     "name": "stdout",
     "output_type": "stream",
     "text": [
      "3.0\n"
     ]
    }
   ],
   "source": [
    "std = 42\n",
    "\n",
    "def normalize(value, std):\n",
    "    result = value/std\n",
    "    return result \n",
    "    \n",
    "print(normalize(21, 7)) "
   ]
  },
  {
   "cell_type": "code",
   "execution_count": 79,
   "metadata": {},
   "outputs": [
    {
     "name": "stdout",
     "output_type": "stream",
     "text": [
      "0.5\n"
     ]
    }
   ],
   "source": [
    "values = [-7, -7, 7, 7]\n",
    "std = 42\n",
    "\n",
    "def count_std():\n",
    "    mean = sum(values)/len(values)\n",
    "    std = (sum([(value-mean)**2 for value in values])/len(values))**0.5\n",
    "    return std\n",
    "\n",
    "def normalize(value):\n",
    "    result = value/std\n",
    "    return result \n",
    "\n",
    "print(normalize(21))"
   ]
  },
  {
   "cell_type": "code",
   "execution_count": 86,
   "metadata": {},
   "outputs": [
    {
     "ename": "TypeError",
     "evalue": "square() missing 1 required positional argument: 'x'",
     "output_type": "error",
     "traceback": [
      "\u001b[1;31m---------------------------------------------------------------------------\u001b[0m",
      "\u001b[1;31mTypeError\u001b[0m                                 Traceback (most recent call last)",
      "\u001b[1;32m<ipython-input-86-ae2ef26843f7>\u001b[0m in \u001b[0;36m<module>\u001b[1;34m\u001b[0m\n\u001b[0;32m      1\u001b[0m \u001b[1;32mdef\u001b[0m \u001b[0msquare\u001b[0m \u001b[1;33m(\u001b[0m\u001b[0mx\u001b[0m\u001b[1;33m,\u001b[0m \u001b[0my\u001b[0m \u001b[1;33m=\u001b[0m \u001b[1;36m20\u001b[0m\u001b[1;33m)\u001b[0m\u001b[1;33m:\u001b[0m\u001b[1;33m\u001b[0m\u001b[1;33m\u001b[0m\u001b[0m\n\u001b[0;32m      2\u001b[0m     \u001b[1;32mreturn\u001b[0m \u001b[0mx\u001b[0m\u001b[1;33m**\u001b[0m\u001b[0my\u001b[0m\u001b[1;33m\u001b[0m\u001b[1;33m\u001b[0m\u001b[0m\n\u001b[1;32m----> 3\u001b[1;33m \u001b[0msquare\u001b[0m\u001b[1;33m(\u001b[0m\u001b[1;33m)\u001b[0m\u001b[1;33m\u001b[0m\u001b[1;33m\u001b[0m\u001b[0m\n\u001b[0m",
      "\u001b[1;31mTypeError\u001b[0m: square() missing 1 required positional argument: 'x'"
     ]
    }
   ],
   "source": [
    "def square (x, y = 20):\n",
    "    return x**y\n",
    "square()"
   ]
  },
  {
   "cell_type": "code",
   "execution_count": 101,
   "metadata": {},
   "outputs": [
    {
     "data": {
      "text/plain": [
       "[-5, 5]"
      ]
     },
     "execution_count": 101,
     "metadata": {},
     "output_type": "execute_result"
    }
   ],
   "source": [
    "def normalize(numbers, mean = 0, std = 1):\n",
    "    li = []\n",
    "    for number in numbers:\n",
    "        a = (number - mean) / std\n",
    "        li.append(int(a))\n",
    "    return li\n",
    "    \n",
    "normalize([10, 20], mean=15)"
   ]
  },
  {
   "cell_type": "code",
   "execution_count": 93,
   "metadata": {},
   "outputs": [
    {
     "data": {
      "text/plain": [
       "[-1.0, -0.5, 0.0]"
      ]
     },
     "execution_count": 93,
     "metadata": {},
     "output_type": "execute_result"
    }
   ],
   "source": [
    "numbers = [1, 2, 3] \n",
    "list (map(lambda number, mean = 3, std = 2: (number - mean) / std, numbers)) "
   ]
  },
  {
   "cell_type": "code",
   "execution_count": 124,
   "metadata": {},
   "outputs": [
    {
     "data": {
      "text/plain": [
       "9"
      ]
     },
     "execution_count": 124,
     "metadata": {},
     "output_type": "execute_result"
    }
   ],
   "source": [
    "a = 0\n",
    "def sum_args(*args):\n",
    "    for i in args:\n",
    "        global a\n",
    "        a += i\n",
    "    return (a)\n",
    "\n",
    "\n",
    "sum_args(2, 3, 4)"
   ]
  },
  {
   "cell_type": "code",
   "execution_count": 121,
   "metadata": {},
   "outputs": [
    {
     "data": {
      "text/plain": [
       "6"
      ]
     },
     "execution_count": 121,
     "metadata": {},
     "output_type": "execute_result"
    }
   ],
   "source": [
    "a = [1,3,2]\n",
    "sum(a)"
   ]
  },
  {
   "cell_type": "code",
   "execution_count": 126,
   "metadata": {},
   "outputs": [
    {
     "name": "stdout",
     "output_type": "stream",
     "text": [
      "a 2\n",
      "b 4\n"
     ]
    }
   ],
   "source": [
    "def print_numbers (**kwargs):\n",
    "    for i, b in kwargs.items():\n",
    "        print (i, b)\n",
    "print_numbers(a = 2,b = 4)"
   ]
  },
  {
   "cell_type": "code",
   "execution_count": 129,
   "metadata": {},
   "outputs": [
    {
     "name": "stdout",
     "output_type": "stream",
     "text": [
      "Help on method_descriptor:\n",
      "\n",
      "join(self, iterable, /)\n",
      "    Concatenate any number of strings.\n",
      "    \n",
      "    The string whose method is called is inserted in between each given string.\n",
      "    The result is returned as a new string.\n",
      "    \n",
      "    Example: '.'.join(['ab', 'pq', 'rs']) -> 'ab.pq.rs'\n",
      "\n"
     ]
    }
   ],
   "source": [
    "help(str.join)"
   ]
  },
  {
   "cell_type": "code",
   "execution_count": 130,
   "metadata": {},
   "outputs": [
    {
     "name": "stdout",
     "output_type": "stream",
     "text": [
      "verbose mode\n"
     ]
    }
   ],
   "source": [
    "def show_keys(**kwargs):\n",
    "    print(' '.join(kwargs.keys()))\n",
    "\n",
    "show_keys(verbose=True, mode='constant')"
   ]
  },
  {
   "cell_type": "code",
   "execution_count": 131,
   "metadata": {},
   "outputs": [
    {
     "data": {
      "text/plain": [
       "['basket', 'carton', 'doggie', 'picture', 'sofa', 'suitcase', 'valise']"
      ]
     },
     "execution_count": 131,
     "metadata": {},
     "output_type": "execute_result"
    }
   ],
   "source": [
    "words = [\"sofa\", \"suitcase\", \"valise\", \"picture\", \"basket\", \"carton\", \"doggie\"]\n",
    "sorted(words)"
   ]
  },
  {
   "cell_type": "code",
   "execution_count": 63,
   "metadata": {},
   "outputs": [
    {
     "data": {
      "text/plain": [
       "24"
      ]
     },
     "execution_count": 63,
     "metadata": {},
     "output_type": "execute_result"
    }
   ],
   "source": [
    "def count_letters(sentence, average = False):\n",
    "    import re\n",
    "    pattern = re.compile('\\w+')\n",
    "    list = pattern.findall(sentence)\n",
    "    a = 0\n",
    "    b = 0\n",
    "    c = 0\n",
    "    for word in list:\n",
    "        b += 1\n",
    "        for letter in word:\n",
    "            if average == False:\n",
    "                a += 1\n",
    "                c = a\n",
    "            elif average == True:\n",
    "                a +=1\n",
    "                c = (round(a / b, 3))\n",
    "    return c\n",
    "count_letters(\"I will build my own theme park\")"
   ]
  },
  {
   "cell_type": "code",
   "execution_count": 25,
   "metadata": {},
   "outputs": [
    {
     "data": {
      "text/plain": [
       "0.3999999999999999"
      ]
     },
     "execution_count": 25,
     "metadata": {},
     "output_type": "execute_result"
    }
   ],
   "source": [
    "3.4 % 1 "
   ]
  },
  {
   "cell_type": "code",
   "execution_count": 65,
   "metadata": {},
   "outputs": [
    {
     "name": "stdout",
     "output_type": "stream",
     "text": [
      "['basket', 'carton', 'doggie', 'picture', 'sofa', 'suitcase', 'valise']\n"
     ]
    }
   ],
   "source": [
    "words = [\"sofa\", \"suitcase\", \"valise\", \"picture\", \"basket\", \"carton\", \"doggie\"]\n",
    "w = sorted(words)\n",
    "print(w)"
   ]
  },
  {
   "cell_type": "code",
   "execution_count": 75,
   "metadata": {
    "scrolled": true
   },
   "outputs": [
    {
     "name": "stdout",
     "output_type": "stream",
     "text": [
      "['a', 'c', 'n', 'o', 'r', 't']\n"
     ]
    }
   ],
   "source": [
    "word = 'c a r t o n'.split(' ')\n",
    "w = sorted (word)\n",
    "print(w)"
   ]
  },
  {
   "cell_type": "code",
   "execution_count": 72,
   "metadata": {},
   "outputs": [
    {
     "data": {
      "text/plain": [
       "'a'"
      ]
     },
     "execution_count": 72,
     "metadata": {},
     "output_type": "execute_result"
    }
   ],
   "source": [
    "words = [\"sofa\", \"suitcase\", \"valise\", \"picture\", \"basket\", \"carton\", \"doggie\"]\n",
    "list(map(lambda w: sorted(w)[0], words))[5]"
   ]
  },
  {
   "cell_type": "code",
   "execution_count": 82,
   "metadata": {},
   "outputs": [],
   "source": [
    "def always(n):\n",
    "    def number():\n",
    "        return number\n",
    "    return n\n",
    "        "
   ]
  },
  {
   "cell_type": "code",
   "execution_count": 150,
   "metadata": {},
   "outputs": [],
   "source": [
    "def detect_weekdays(date_str):\n",
    "    from datetime import datetime\n",
    "    date = datetime.strptime(date_str, \"%Y-%m-%d %H:%M:%S %Z\")\n",
    "    if date.weekday() >= 5:\n",
    "        return 'weekend'\n",
    "    return 'weekday'"
   ]
  },
  {
   "cell_type": "code",
   "execution_count": 188,
   "metadata": {},
   "outputs": [
    {
     "name": "stdout",
     "output_type": "stream",
     "text": [
      "1.7044864664441972\n",
      "1.6589523281596452\n"
     ]
    }
   ],
   "source": [
    "rides = {'weekday':[],'weekend':[]}\n",
    "dates = []\n",
    "date = []\n",
    "weekday_pass_count = []\n",
    "weekend_pass_count = []\n",
    "with open ('test-PY-func.csv') as f:\n",
    "    c = 0\n",
    "    a = 0\n",
    "    for line in f:\n",
    "        date_str = line.split(',')[1]\n",
    "        c += 1\n",
    "        if c == 1:\n",
    "            continue\n",
    "        elif c > 2:\n",
    "            passenger_count = int(line.split(',')[6])\n",
    "            a += 1\n",
    "            if detect_weekdays(date_str) == 'weekday':\n",
    "                weekday_pass_count.append(passenger_count)\n",
    "            else:\n",
    "                weekend_pass_count.append(passenger_count)\n",
    "            #print(date_str, detect_weekdays(date_str))\n",
    "            if a == 100000:\n",
    "                break\n",
    "avg = sum(weekend_pass_count) / len(weekend_pass_count)\n",
    "avg_1 = sum(weekday_pass_count) / len(weekday_pass_count)\n",
    "print(avg)\n",
    "print(avg_1)\n",
    "            "
   ]
  },
  {
   "cell_type": "code",
   "execution_count": 199,
   "metadata": {},
   "outputs": [
    {
     "name": "stdout",
     "output_type": "stream",
     "text": [
      "В будний день 1.6588610225855618\n",
      "В выходной день 1.7044864664441972\n"
     ]
    }
   ],
   "source": [
    "rides = {'weekday':[],'weekend':[]}\n",
    "dates = []\n",
    "date = []\n",
    "weekday_pass_count = []\n",
    "weekend_pass_count = []\n",
    "with open ('test-PY-func.csv') as f:\n",
    "    next (f)\n",
    "    for line in f:\n",
    "        date_str = line.split(',')[1]\n",
    "        day_of_week = detect_weekdays(date_str)\n",
    "        passenger_count = int(line.split(',')[6])\n",
    "        rides[day_of_week].append(passenger_count)\n",
    "print('В будний день {}'.format (sum(rides['weekday'])/len(rides['weekday'])))\n",
    "print('В выходной день {}'.format (sum(rides['weekend'])/len(rides['weekend'])))    "
   ]
  },
  {
   "cell_type": "markdown",
   "metadata": {},
   "source": [
    "# Второй вариант\n"
   ]
  },
  {
   "cell_type": "code",
   "execution_count": 215,
   "metadata": {},
   "outputs": [],
   "source": [
    "def detect_weekdays(date_str, specific = False):\n",
    "    from datetime import datetime\n",
    "    date = datetime.strptime(date_str, \"%Y-%m-%d %H:%M:%S %Z\")\n",
    "    if specific == False:\n",
    "        if date.weekday() >= 5:\n",
    "            return 'weekend'\n",
    "        return 'weekday'\n",
    "    else:\n",
    "        week = 'Понедельник Вторник Среда Четверг Пятница Суббота Воскресение'.split(' ')\n",
    "    return week [date.weekday()]"
   ]
  },
  {
   "cell_type": "code",
   "execution_count": 222,
   "metadata": {
    "scrolled": true
   },
   "outputs": [
    {
     "name": "stdout",
     "output_type": "stream",
     "text": [
      "В Вторник среднее количество пассажиров 1.7310874704491725 \n",
      "В Суббота среднее количество пассажиров 1.7071186440677966 \n",
      "В Четверг среднее количество пассажиров 1.522108843537415 \n",
      "В Понедельник среднее количество пассажиров 1.625171939477304 \n",
      "В Воскресение среднее количество пассажиров 1.7013093289689034 \n",
      "В Среда среднее количество пассажиров 1.7096774193548387 \n",
      "В Пятница среднее количество пассажиров 1.6632891660171474 \n"
     ]
    }
   ],
   "source": [
    "rides = {}\n",
    "weekday_pass_count = []\n",
    "weekend_pass_count = []\n",
    "with open ('test-PY-func.csv') as f:\n",
    "    next (f)\n",
    "    for line in f:\n",
    "        date_str = line.split(',')[1]\n",
    "        passenger_count = int(line.split(',')[6])\n",
    "        day_of_week = detect_weekdays(date_str, specific = True)\n",
    "        rides.setdefault(day_of_week,[])\n",
    "        rides[day_of_week].append(passenger_count)\n",
    "for day, passenger_count in rides.items():\n",
    "    print('В {} среднее количество пассажиров {} '.format(day, sum(passenger_count)/len(passenger_count)))\n",
    "    \n",
    "        \n",
    " "
   ]
  },
  {
   "cell_type": "code",
   "execution_count": 223,
   "metadata": {},
   "outputs": [],
   "source": [
    "x = 2 # Initilize x.\n",
    "y = 3 # Initilize y.\n",
    "z = x + y # z equal x plus y"
   ]
  },
  {
   "cell_type": "code",
   "execution_count": 2,
   "metadata": {},
   "outputs": [
    {
     "name": "stdout",
     "output_type": "stream",
     "text": [
      "HelloWorld\n"
     ]
    }
   ],
   "source": [
    "print('HelloWorld')"
   ]
  },
  {
   "cell_type": "code",
   "execution_count": 5,
   "metadata": {},
   "outputs": [
    {
     "name": "stdout",
     "output_type": "stream",
     "text": [
      "Загадано число от 1 до 100\n",
      "9\n",
      "Угадываемое число больше 9 \n",
      "9\n",
      "Угадываемое число больше 9 \n",
      "8\n",
      "Угадываемое число больше 8 \n",
      "7\n",
      "Угадываемое число больше 7 \n",
      "89\n",
      "Угадываемое число меньше 89 \n",
      "56\n",
      "Угадываемое число меньше 56 \n",
      "break\n"
     ]
    },
    {
     "ename": "ValueError",
     "evalue": "invalid literal for int() with base 10: 'break'",
     "output_type": "error",
     "traceback": [
      "\u001b[1;31m---------------------------------------------------------------------------\u001b[0m",
      "\u001b[1;31mValueError\u001b[0m                                Traceback (most recent call last)",
      "\u001b[1;32m<ipython-input-5-271a6cdea0e5>\u001b[0m in \u001b[0;36m<module>\u001b[1;34m\u001b[0m\n\u001b[0;32m      5\u001b[0m \u001b[1;33m\u001b[0m\u001b[0m\n\u001b[0;32m      6\u001b[0m \u001b[1;32mwhile\u001b[0m \u001b[1;32mTrue\u001b[0m\u001b[1;33m:\u001b[0m                        \u001b[1;31m# бесконечный цикл\u001b[0m\u001b[1;33m\u001b[0m\u001b[1;33m\u001b[0m\u001b[0m\n\u001b[1;32m----> 7\u001b[1;33m     \u001b[0mpredict\u001b[0m \u001b[1;33m=\u001b[0m \u001b[0mint\u001b[0m\u001b[1;33m(\u001b[0m\u001b[0minput\u001b[0m\u001b[1;33m(\u001b[0m\u001b[1;33m)\u001b[0m\u001b[1;33m)\u001b[0m         \u001b[1;31m# предполагаемое число\u001b[0m\u001b[1;33m\u001b[0m\u001b[1;33m\u001b[0m\u001b[0m\n\u001b[0m\u001b[0;32m      8\u001b[0m     \u001b[0mcount\u001b[0m \u001b[1;33m+=\u001b[0m \u001b[1;36m1\u001b[0m                     \u001b[1;31m# плюсуем попытку\u001b[0m\u001b[1;33m\u001b[0m\u001b[1;33m\u001b[0m\u001b[0m\n\u001b[0;32m      9\u001b[0m     \u001b[1;32mif\u001b[0m \u001b[0mnumber\u001b[0m \u001b[1;33m==\u001b[0m \u001b[0mpredict\u001b[0m\u001b[1;33m:\u001b[0m \u001b[1;32mbreak\u001b[0m    \u001b[1;31m# выход из цикла, если угадали\u001b[0m\u001b[1;33m\u001b[0m\u001b[1;33m\u001b[0m\u001b[0m\n",
      "\u001b[1;31mValueError\u001b[0m: invalid literal for int() with base 10: 'break'"
     ]
    }
   ],
   "source": [
    "import numpy as np\n",
    "count = 0                            # счетчик попыток\n",
    "number = np.random.randint(1,101)    # загадали число\n",
    "print (\"Загадано число от 1 до 100\")\n",
    "\n",
    "while True:                        # бесконечный цикл\n",
    "    predict = int(input())         # предполагаемое число\n",
    "    count += 1                     # плюсуем попытку\n",
    "    if number == predict: break    # выход из цикла, если угадали\n",
    "    elif number > predict: print (f\"Угадываемое число больше {predict} \")\n",
    "    elif number < predict: print (f\"Угадываемое число меньше {predict} \")\n",
    "        \n",
    "print (f\"Вы угадали число {number} за {count} попыток.\")"
   ]
  },
  {
   "cell_type": "code",
   "execution_count": 6,
   "metadata": {},
   "outputs": [
    {
     "name": "stdout",
     "output_type": "stream",
     "text": [
      "Загадано число от 1 до 100\n",
      "Вы угадали число 32 за 32 попыток.\n"
     ]
    }
   ],
   "source": [
    "number = np.random.randint(1,101)    # загадали число\n",
    "print (\"Загадано число от 1 до 100\")\n",
    "for count in range(1,101):         # более компактный вариант счетчика\n",
    "    if number == count: break    # выход из цикла, если угадали      \n",
    "print (f\"Вы угадали число {number} за {count} попыток.\")"
   ]
  },
  {
   "cell_type": "code",
   "execution_count": 11,
   "metadata": {},
   "outputs": [],
   "source": [
    "def game_core_v2(number):\n",
    "    '''Сначала устанавливаем любое random число, а потом уменьшаем или увеличиваем его в зависимости от того, больше оно или меньше нужного.\n",
    "       Функция принимает загаданное число и возвращает число попыток'''\n",
    "    count = 1\n",
    "    predict = np.random.randint(1,101)\n",
    "    while number != predict:\n",
    "        count+=1\n",
    "        if number > predict: \n",
    "            predict += 1\n",
    "        elif number < predict: \n",
    "            predict -= 1\n",
    "    return(count) # выход из цикла, если угадали\n",
    "        \n",
    "        \n",
    "def score_game(game_core):\n",
    "    '''Запускаем игру 1000 раз, чтобы узнать, как быстро игра угадывает число'''\n",
    "    count_ls = []\n",
    "    np.random.seed(1)  # фиксируем RANDOM SEED, чтобы ваш эксперимент был воспроизводим!\n",
    "    random_array = np.random.randint(1,101, size=(1000))\n",
    "    for number in random_array:\n",
    "        count_ls.append(game_core(number))\n",
    "    score = int(np.mean(count_ls))\n",
    "    print(f\"Ваш алгоритм угадывает число в среднем за {score} попыток\")\n",
    "    return(score)"
   ]
  },
  {
   "cell_type": "code",
   "execution_count": 14,
   "metadata": {},
   "outputs": [
    {
     "name": "stdout",
     "output_type": "stream",
     "text": [
      "Ваш алгоритм угадывает число в среднем за 33 попыток\n"
     ]
    },
    {
     "data": {
      "text/plain": [
       "33"
      ]
     },
     "execution_count": 14,
     "metadata": {},
     "output_type": "execute_result"
    }
   ],
   "source": [
    "score_game(game_core_v2)"
   ]
  },
  {
   "cell_type": "code",
   "execution_count": 1,
   "metadata": {},
   "outputs": [
    {
     "ename": "SyntaxError",
     "evalue": "invalid syntax (<ipython-input-1-fc3b79fd2493>, line 5)",
     "output_type": "error",
     "traceback": [
      "\u001b[1;36m  File \u001b[1;32m\"<ipython-input-1-fc3b79fd2493>\"\u001b[1;36m, line \u001b[1;32m5\u001b[0m\n\u001b[1;33m    print(\"Nice to meet you, \"a)\u001b[0m\n\u001b[1;37m                              ^\u001b[0m\n\u001b[1;31mSyntaxError\u001b[0m\u001b[1;31m:\u001b[0m invalid syntax\n"
     ]
    }
   ],
   "source": [
    "def function_one():\n",
    "    a = input(\"What is your name?\")\n",
    "    return a\n",
    "def function_two():\n",
    "    print(\"Nice to meet you, \"a)\n",
    "\n",
    "function_one()\n",
    "function_two()"
   ]
  },
  {
   "cell_type": "code",
   "execution_count": 2,
   "metadata": {},
   "outputs": [
    {
     "name": "stdout",
     "output_type": "stream",
     "text": [
      "What is your name?sd\n",
      "Nice to meet you, sd\n"
     ]
    }
   ],
   "source": [
    "def ask_for_users_name():\n",
    "    name = input(\"What is your name?\")\n",
    "    return name\n",
    "def greet_user(name):\n",
    "    print(\"Nice to meet you, \" + name)\n",
    "\n",
    "users_name = ask_for_users_name()\n",
    "greet_user(users_name)"
   ]
  },
  {
   "cell_type": "code",
   "execution_count": 17,
   "metadata": {},
   "outputs": [],
   "source": [
    "def first():\n",
    "    a = 10\n",
    "    b = 20\n",
    "    c = 30\n",
    "    return a, b, c\n",
    "def second(a,b,c):\n",
    "    print(a)\n",
    "    return"
   ]
  },
  {
   "cell_type": "code",
   "execution_count": 18,
   "metadata": {},
   "outputs": [
    {
     "name": "stdout",
     "output_type": "stream",
     "text": [
      "(10, 20, 30)\n"
     ]
    }
   ],
   "source": [
    "second(first(),first(),first())"
   ]
  },
  {
   "cell_type": "code",
   "execution_count": 2,
   "metadata": {},
   "outputs": [
    {
     "name": "stdout",
     "output_type": "stream",
     "text": [
      "Your number: 1\n",
      "50 Less\n",
      "25 Less\n",
      "13 Less\n",
      "7 Less\n",
      "4 Less\n",
      "2 Less\n",
      "1 Computer guessed your number with 7 tries\n"
     ]
    }
   ],
   "source": [
    "import random\n",
    "import math\n",
    "\n",
    "num = int(input('Your number: '))\n",
    "tries = 1\n",
    "lowerLimit = 1\n",
    "upperLimit = 100\n",
    "numC = 50\n",
    "\n",
    "while numC != num:\n",
    "    if numC > num:\n",
    "        print(numC, 'Less')\n",
    "        upperLimit = numC - 1\n",
    "    else:\n",
    "        print(numC, 'More')\n",
    "        lowerLimit = numC + 1\n",
    "    tries += 1\n",
    "    numC = math.ceil(lowerLimit + (upperLimit - lowerLimit) / 2)\n",
    "\n",
    "print(numC, 'Computer guessed your number with', tries, 'tries')"
   ]
  },
  {
   "cell_type": "code",
   "execution_count": null,
   "metadata": {},
   "outputs": [],
   "source": []
  }
 ],
 "metadata": {
  "kernelspec": {
   "display_name": "Python 3",
   "language": "python",
   "name": "python3"
  },
  "language_info": {
   "codemirror_mode": {
    "name": "ipython",
    "version": 3
   },
   "file_extension": ".py",
   "mimetype": "text/x-python",
   "name": "python",
   "nbconvert_exporter": "python",
   "pygments_lexer": "ipython3",
   "version": "3.8.3"
  }
 },
 "nbformat": 4,
 "nbformat_minor": 4
}
