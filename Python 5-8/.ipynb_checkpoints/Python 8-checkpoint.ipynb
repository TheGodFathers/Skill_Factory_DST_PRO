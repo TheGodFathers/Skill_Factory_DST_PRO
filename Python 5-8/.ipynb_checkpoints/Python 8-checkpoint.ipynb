{
 "cells": [
  {
   "cell_type": "code",
   "execution_count": 83,
   "metadata": {},
   "outputs": [],
   "source": [
    "import pandas as pd"
   ]
  },
  {
   "cell_type": "code",
   "execution_count": 84,
   "metadata": {},
   "outputs": [],
   "source": [
    "import os"
   ]
  },
  {
   "cell_type": "code",
   "execution_count": 85,
   "metadata": {},
   "outputs": [],
   "source": [
    "log = pd.read_csv('log.csv',header = None)"
   ]
  },
  {
   "cell_type": "code",
   "execution_count": 86,
   "metadata": {},
   "outputs": [],
   "source": [
    "log.columns = ['user_id','time','bet','win']"
   ]
  },
  {
   "cell_type": "code",
   "execution_count": 87,
   "metadata": {},
   "outputs": [],
   "source": [
    "users = pd.read_csv('users.csv', encoding = 'koi8-r', sep = '\\t')"
   ]
  },
  {
   "cell_type": "code",
   "execution_count": 88,
   "metadata": {},
   "outputs": [],
   "source": [
    "users.columns = 'user_id, email, geo'.split(', ')"
   ]
  },
  {
   "cell_type": "code",
   "execution_count": 95,
   "metadata": {},
   "outputs": [
    {
     "data": {
      "text/html": [
       "<div>\n",
       "<style scoped>\n",
       "    .dataframe tbody tr th:only-of-type {\n",
       "        vertical-align: middle;\n",
       "    }\n",
       "\n",
       "    .dataframe tbody tr th {\n",
       "        vertical-align: top;\n",
       "    }\n",
       "\n",
       "    .dataframe thead th {\n",
       "        text-align: right;\n",
       "    }\n",
       "</style>\n",
       "<table border=\"1\" class=\"dataframe\">\n",
       "  <thead>\n",
       "    <tr style=\"text-align: right;\">\n",
       "      <th></th>\n",
       "      <th>user_id</th>\n",
       "      <th>time</th>\n",
       "      <th>bet</th>\n",
       "      <th>win</th>\n",
       "    </tr>\n",
       "  </thead>\n",
       "  <tbody>\n",
       "    <tr>\n",
       "      <th>151</th>\n",
       "      <td>Запись пользователя № - user_982</td>\n",
       "      <td>[2019-01-16 21:54:22</td>\n",
       "      <td>100.0</td>\n",
       "      <td>4749.0</td>\n",
       "    </tr>\n",
       "    <tr>\n",
       "      <th>189</th>\n",
       "      <td>Запись пользователя № - user_964</td>\n",
       "      <td>[2019-01-21 18:34:44</td>\n",
       "      <td>200.0</td>\n",
       "      <td>4667.0</td>\n",
       "    </tr>\n",
       "    <tr>\n",
       "      <th>205</th>\n",
       "      <td>Запись пользователя № - user_931</td>\n",
       "      <td>[2019-01-22 5:26:59</td>\n",
       "      <td>300.0</td>\n",
       "      <td>4319.0</td>\n",
       "    </tr>\n",
       "    <tr>\n",
       "      <th>232</th>\n",
       "      <td>Запись пользователя № - user_998</td>\n",
       "      <td>[2019-01-25 8:57:20</td>\n",
       "      <td>500.0</td>\n",
       "      <td>5069.0</td>\n",
       "    </tr>\n",
       "    <tr>\n",
       "      <th>265</th>\n",
       "      <td>Запись пользователя № - user_998</td>\n",
       "      <td>[2019-01-29 10:37:55</td>\n",
       "      <td>500.0</td>\n",
       "      <td>6294.0</td>\n",
       "    </tr>\n",
       "    <tr>\n",
       "      <th>...</th>\n",
       "      <td>...</td>\n",
       "      <td>...</td>\n",
       "      <td>...</td>\n",
       "      <td>...</td>\n",
       "    </tr>\n",
       "    <tr>\n",
       "      <th>962</th>\n",
       "      <td>Запись пользователя № - user_976</td>\n",
       "      <td>[2019-04-19 14:18:45</td>\n",
       "      <td>400.0</td>\n",
       "      <td>5997.0</td>\n",
       "    </tr>\n",
       "    <tr>\n",
       "      <th>965</th>\n",
       "      <td>Запись пользователя № - user_900</td>\n",
       "      <td>[2019-04-19 19:31:48</td>\n",
       "      <td>900.0</td>\n",
       "      <td>6767.0</td>\n",
       "    </tr>\n",
       "    <tr>\n",
       "      <th>967</th>\n",
       "      <td>Запись пользователя № - user_975</td>\n",
       "      <td>[2019-04-19 22:25:15</td>\n",
       "      <td>1000.0</td>\n",
       "      <td>6108.0</td>\n",
       "    </tr>\n",
       "    <tr>\n",
       "      <th>981</th>\n",
       "      <td>#error</td>\n",
       "      <td>NaN</td>\n",
       "      <td>800.0</td>\n",
       "      <td>7035.0</td>\n",
       "    </tr>\n",
       "    <tr>\n",
       "      <th>991</th>\n",
       "      <td>Запись пользователя № - user_965</td>\n",
       "      <td>[2019-04-20 12:55:41</td>\n",
       "      <td>800.0</td>\n",
       "      <td>6927.0</td>\n",
       "    </tr>\n",
       "  </tbody>\n",
       "</table>\n",
       "<p>113 rows × 4 columns</p>\n",
       "</div>"
      ],
      "text/plain": [
       "                              user_id                  time     bet     win\n",
       "151  Запись пользователя № - user_982  [2019-01-16 21:54:22   100.0  4749.0\n",
       "189  Запись пользователя № - user_964  [2019-01-21 18:34:44   200.0  4667.0\n",
       "205  Запись пользователя № - user_931   [2019-01-22 5:26:59   300.0  4319.0\n",
       "232  Запись пользователя № - user_998   [2019-01-25 8:57:20   500.0  5069.0\n",
       "265  Запись пользователя № - user_998  [2019-01-29 10:37:55   500.0  6294.0\n",
       "..                                ...                   ...     ...     ...\n",
       "962  Запись пользователя № - user_976  [2019-04-19 14:18:45   400.0  5997.0\n",
       "965  Запись пользователя № - user_900  [2019-04-19 19:31:48   900.0  6767.0\n",
       "967  Запись пользователя № - user_975  [2019-04-19 22:25:15  1000.0  6108.0\n",
       "981                            #error                   NaN   800.0  7035.0\n",
       "991  Запись пользователя № - user_965  [2019-04-20 12:55:41   800.0  6927.0\n",
       "\n",
       "[113 rows x 4 columns]"
      ]
     },
     "execution_count": 95,
     "metadata": {},
     "output_type": "execute_result"
    }
   ],
   "source": [
    "log2 = log.query('bet < 2000 & win > 0')\n",
    "log2"
   ]
  },
  {
   "cell_type": "code",
   "execution_count": 96,
   "metadata": {},
   "outputs": [],
   "source": [
    "log_win = log[log['win'] > 0]\n",
    "win_count = log_win.win.count()"
   ]
  },
  {
   "cell_type": "code",
   "execution_count": 97,
   "metadata": {},
   "outputs": [
    {
     "data": {
      "text/html": [
       "<div>\n",
       "<style scoped>\n",
       "    .dataframe tbody tr th:only-of-type {\n",
       "        vertical-align: middle;\n",
       "    }\n",
       "\n",
       "    .dataframe tbody tr th {\n",
       "        vertical-align: top;\n",
       "    }\n",
       "\n",
       "    .dataframe thead th {\n",
       "        text-align: right;\n",
       "    }\n",
       "</style>\n",
       "<table border=\"1\" class=\"dataframe\">\n",
       "  <thead>\n",
       "    <tr style=\"text-align: right;\">\n",
       "      <th></th>\n",
       "      <th>name</th>\n",
       "      <th>city</th>\n",
       "      <th>age</th>\n",
       "      <th>profession</th>\n",
       "    </tr>\n",
       "  </thead>\n",
       "  <tbody>\n",
       "    <tr>\n",
       "      <th>7</th>\n",
       "      <td>Котлеревский</td>\n",
       "      <td>Йошкар-Ола</td>\n",
       "      <td>32</td>\n",
       "      <td>Рабочий</td>\n",
       "    </tr>\n",
       "    <tr>\n",
       "      <th>9</th>\n",
       "      <td>Левина</td>\n",
       "      <td>NaN</td>\n",
       "      <td>55</td>\n",
       "      <td>Рабочий</td>\n",
       "    </tr>\n",
       "    <tr>\n",
       "      <th>10</th>\n",
       "      <td>Фикс</td>\n",
       "      <td>Рига</td>\n",
       "      <td>42</td>\n",
       "      <td>Рабочий</td>\n",
       "    </tr>\n",
       "  </tbody>\n",
       "</table>\n",
       "</div>"
      ],
      "text/plain": [
       "            name        city  age profession\n",
       "7   Котлеревский  Йошкар-Ола   32    Рабочий\n",
       "9         Левина         NaN   55    Рабочий\n",
       "10          Фикс        Рига   42    Рабочий"
      ]
     },
     "execution_count": 97,
     "metadata": {},
     "output_type": "execute_result"
    }
   ],
   "source": [
    "sample2 = sample[ (sample['profession'] == 'Рабочий')  & (sample['age'] > 30) ] \n",
    "sample2"
   ]
  },
  {
   "cell_type": "code",
   "execution_count": 106,
   "metadata": {},
   "outputs": [],
   "source": [
    "sample3 = sample.city.str.contains(\"о\", na = False)"
   ]
  },
  {
   "cell_type": "code",
   "execution_count": 108,
   "metadata": {},
   "outputs": [
    {
     "data": {
      "text/html": [
       "<div>\n",
       "<style scoped>\n",
       "    .dataframe tbody tr th:only-of-type {\n",
       "        vertical-align: middle;\n",
       "    }\n",
       "\n",
       "    .dataframe tbody tr th {\n",
       "        vertical-align: top;\n",
       "    }\n",
       "\n",
       "    .dataframe thead th {\n",
       "        text-align: right;\n",
       "    }\n",
       "</style>\n",
       "<table border=\"1\" class=\"dataframe\">\n",
       "  <thead>\n",
       "    <tr style=\"text-align: right;\">\n",
       "      <th></th>\n",
       "      <th>name</th>\n",
       "      <th>city</th>\n",
       "      <th>age</th>\n",
       "      <th>profession</th>\n",
       "    </tr>\n",
       "  </thead>\n",
       "  <tbody>\n",
       "    <tr>\n",
       "      <th>0</th>\n",
       "      <td>Иванов</td>\n",
       "      <td>Москва</td>\n",
       "      <td>25</td>\n",
       "      <td>Клинер</td>\n",
       "    </tr>\n",
       "    <tr>\n",
       "      <th>1</th>\n",
       "      <td>NaN</td>\n",
       "      <td>Волгоград</td>\n",
       "      <td>31</td>\n",
       "      <td>Менеджер</td>\n",
       "    </tr>\n",
       "    <tr>\n",
       "      <th>2</th>\n",
       "      <td>Иванов</td>\n",
       "      <td>Москва</td>\n",
       "      <td>25</td>\n",
       "      <td>Клинер</td>\n",
       "    </tr>\n",
       "    <tr>\n",
       "      <th>3</th>\n",
       "      <td>sidorov</td>\n",
       "      <td>Владивосток</td>\n",
       "      <td>43</td>\n",
       "      <td>Менеджер</td>\n",
       "    </tr>\n",
       "    <tr>\n",
       "      <th>5</th>\n",
       "      <td>Кузнецов</td>\n",
       "      <td>Сочи</td>\n",
       "      <td>19</td>\n",
       "      <td>Рабочий</td>\n",
       "    </tr>\n",
       "    <tr>\n",
       "      <th>7</th>\n",
       "      <td>Котлеревский</td>\n",
       "      <td>Йошкар-Ола</td>\n",
       "      <td>32</td>\n",
       "      <td>Рабочий</td>\n",
       "    </tr>\n",
       "    <tr>\n",
       "      <th>8</th>\n",
       "      <td>Завалишина</td>\n",
       "      <td>Чебоксары</td>\n",
       "      <td>36</td>\n",
       "      <td>Менеджер</td>\n",
       "    </tr>\n",
       "  </tbody>\n",
       "</table>\n",
       "</div>"
      ],
      "text/plain": [
       "           name         city  age profession\n",
       "0        Иванов       Москва   25     Клинер\n",
       "1           NaN    Волгоград   31   Менеджер\n",
       "2        Иванов       Москва   25     Клинер\n",
       "3       sidorov  Владивосток   43   Менеджер\n",
       "5      Кузнецов         Сочи   19    Рабочий\n",
       "7  Котлеревский   Йошкар-Ола   32    Рабочий\n",
       "8    Завалишина    Чебоксары   36   Менеджер"
      ]
     },
     "execution_count": 108,
     "metadata": {},
     "output_type": "execute_result"
    }
   ],
   "source": [
    "sample[sample3]"
   ]
  },
  {
   "cell_type": "code",
   "execution_count": 115,
   "metadata": {},
   "outputs": [
    {
     "data": {
      "text/plain": [
       "<bound method DataFrame.info of                               user_id                  time      bet     win\n",
       "0    Запись пользователя № - user_919  [2019-01-01 14:06:51      NaN     NaN\n",
       "1    Запись пользователя № - user_973  [2019-01-01 14:51:16      NaN     NaN\n",
       "2    Запись пользователя № - user_903  [2019-01-01 16:31:16      NaN     NaN\n",
       "3    Запись пользователя № - user_954  [2019-01-01 17:17:51      NaN     NaN\n",
       "4    Запись пользователя № - user_954  [2019-01-01 21:31:18      NaN     NaN\n",
       "..                                ...                   ...      ...     ...\n",
       "991  Запись пользователя № - user_965  [2019-04-20 12:55:41    800.0  6927.0\n",
       "992  Запись пользователя № - user_967  [2019-04-20 14:59:36  10154.0     NaN\n",
       "993  Запись пользователя № - user_973  [2019-04-20 17:09:56  10254.0     NaN\n",
       "994  Запись пользователя № - user_977  [2019-04-20 18:10:07  10354.0     NaN\n",
       "995  Запись пользователя № - user_984   [2019-04-20 9:59:58   9754.0     NaN\n",
       "\n",
       "[985 rows x 4 columns]>"
      ]
     },
     "execution_count": 115,
     "metadata": {},
     "output_type": "execute_result"
    }
   ],
   "source": [
    "log = pd.read_csv(\"log.csv\",header=None)\n",
    "log.columns = ['user_id','time', 'bet','win']\n",
    "log_new = log[~log.user_id.str.contains(\"error\", na = False)]\n",
    "log_new.info"
   ]
  },
  {
   "cell_type": "code",
   "execution_count": 117,
   "metadata": {},
   "outputs": [
    {
     "data": {
      "text/plain": [
       "<bound method DataFrame.info of                               user_id                  time      bet      win\n",
       "0    Запись пользователя № - user_919  [2019-01-01 14:06:51      NaN      NaN\n",
       "1    Запись пользователя № - user_973  [2019-01-01 14:51:16      NaN      NaN\n",
       "2    Запись пользователя № - user_903  [2019-01-01 16:31:16      NaN      NaN\n",
       "3    Запись пользователя № - user_954  [2019-01-01 17:17:51      NaN      NaN\n",
       "4    Запись пользователя № - user_954  [2019-01-01 21:31:18      NaN      NaN\n",
       "..                                ...                   ...      ...      ...\n",
       "995  Запись пользователя № - user_984   [2019-04-20 9:59:58   9754.0      NaN\n",
       "996                            #error                   NaN  10054.0  29265.0\n",
       "997                            #error                   NaN  10454.0      NaN\n",
       "998                            #error                   NaN   1000.0      NaN\n",
       "999                            #error                   NaN  10754.0      NaN\n",
       "\n",
       "[1000 rows x 4 columns]>"
      ]
     },
     "execution_count": 117,
     "metadata": {},
     "output_type": "execute_result"
    }
   ],
   "source": [
    "log.info"
   ]
  },
  {
   "cell_type": "code",
   "execution_count": 122,
   "metadata": {},
   "outputs": [],
   "source": [
    "sample2 = sample.age.apply(lambda x:x+1)\n",
    "sample['age'] = sample2\n",
    "sample2 = sample"
   ]
  },
  {
   "cell_type": "code",
   "execution_count": 126,
   "metadata": {},
   "outputs": [],
   "source": [
    "sample = pd.read_csv(\"sample.csv\")\n",
    "sample2 = sample.City.apply(lambda x:str(x).lower())\n",
    "sample['City'] = sample2\n",
    "sample2 = sample"
   ]
  },
  {
   "cell_type": "code",
   "execution_count": 128,
   "metadata": {},
   "outputs": [],
   "source": [
    "def profession_code(s):\n",
    "    if s  == 'Рабочий':\n",
    "        return 0\n",
    "    elif s == 'Менеджер':\n",
    "        return 1\n",
    "    else:\n",
    "        return 2"
   ]
  },
  {
   "cell_type": "code",
   "execution_count": 149,
   "metadata": {},
   "outputs": [],
   "source": [
    "sample = pd.read_csv(\"sample.csv\")\n",
    "def profession_code(s):\n",
    "    if s  == 'Рабочий':\n",
    "        return 0\n",
    "    elif s == 'Менеджер':\n",
    "        return 1\n",
    "    else:\n",
    "        return 2\n",
    "sample2 = sample.Profession.apply(lambda s:profession_code(s))\n",
    "sample['Profession'] = sample2\n",
    "sample2 = sample"
   ]
  },
  {
   "cell_type": "code",
   "execution_count": 150,
   "metadata": {},
   "outputs": [
    {
     "data": {
      "text/html": [
       "<div>\n",
       "<style scoped>\n",
       "    .dataframe tbody tr th:only-of-type {\n",
       "        vertical-align: middle;\n",
       "    }\n",
       "\n",
       "    .dataframe tbody tr th {\n",
       "        vertical-align: top;\n",
       "    }\n",
       "\n",
       "    .dataframe thead th {\n",
       "        text-align: right;\n",
       "    }\n",
       "</style>\n",
       "<table border=\"1\" class=\"dataframe\">\n",
       "  <thead>\n",
       "    <tr style=\"text-align: right;\">\n",
       "      <th></th>\n",
       "      <th>Name</th>\n",
       "      <th>City</th>\n",
       "      <th>Age</th>\n",
       "      <th>Profession</th>\n",
       "    </tr>\n",
       "  </thead>\n",
       "  <tbody>\n",
       "    <tr>\n",
       "      <th>0</th>\n",
       "      <td>Иванов</td>\n",
       "      <td>Москва</td>\n",
       "      <td>25</td>\n",
       "      <td>2</td>\n",
       "    </tr>\n",
       "    <tr>\n",
       "      <th>1</th>\n",
       "      <td>NaN</td>\n",
       "      <td>Волгоград</td>\n",
       "      <td>31</td>\n",
       "      <td>1</td>\n",
       "    </tr>\n",
       "    <tr>\n",
       "      <th>2</th>\n",
       "      <td>Иванов</td>\n",
       "      <td>Москва</td>\n",
       "      <td>25</td>\n",
       "      <td>2</td>\n",
       "    </tr>\n",
       "    <tr>\n",
       "      <th>3</th>\n",
       "      <td>sidorov</td>\n",
       "      <td>Владивосток</td>\n",
       "      <td>43</td>\n",
       "      <td>1</td>\n",
       "    </tr>\n",
       "    <tr>\n",
       "      <th>4</th>\n",
       "      <td>_______</td>\n",
       "      <td>Курск</td>\n",
       "      <td>50</td>\n",
       "      <td>2</td>\n",
       "    </tr>\n",
       "    <tr>\n",
       "      <th>5</th>\n",
       "      <td>Кузнецов</td>\n",
       "      <td>Сочи</td>\n",
       "      <td>19</td>\n",
       "      <td>0</td>\n",
       "    </tr>\n",
       "    <tr>\n",
       "      <th>6</th>\n",
       "      <td>Сажин</td>\n",
       "      <td>Сургут</td>\n",
       "      <td>29</td>\n",
       "      <td>0</td>\n",
       "    </tr>\n",
       "    <tr>\n",
       "      <th>7</th>\n",
       "      <td>Котлеревский</td>\n",
       "      <td>Йошкар-Ола</td>\n",
       "      <td>32</td>\n",
       "      <td>0</td>\n",
       "    </tr>\n",
       "    <tr>\n",
       "      <th>8</th>\n",
       "      <td>Завалишина</td>\n",
       "      <td>Чебоксары</td>\n",
       "      <td>36</td>\n",
       "      <td>1</td>\n",
       "    </tr>\n",
       "    <tr>\n",
       "      <th>9</th>\n",
       "      <td>Левина</td>\n",
       "      <td>NaN</td>\n",
       "      <td>55</td>\n",
       "      <td>0</td>\n",
       "    </tr>\n",
       "    <tr>\n",
       "      <th>10</th>\n",
       "      <td>Фикс</td>\n",
       "      <td>Рига</td>\n",
       "      <td>42</td>\n",
       "      <td>0</td>\n",
       "    </tr>\n",
       "  </tbody>\n",
       "</table>\n",
       "</div>"
      ],
      "text/plain": [
       "            Name         City  Age  Profession\n",
       "0         Иванов       Москва   25           2\n",
       "1            NaN    Волгоград   31           1\n",
       "2         Иванов       Москва   25           2\n",
       "3        sidorov  Владивосток   43           1\n",
       "4        _______        Курск   50           2\n",
       "5       Кузнецов         Сочи   19           0\n",
       "6          Сажин       Сургут   29           0\n",
       "7   Котлеревский   Йошкар-Ола   32           0\n",
       "8     Завалишина    Чебоксары   36           1\n",
       "9         Левина          NaN   55           0\n",
       "10          Фикс         Рига   42           0"
      ]
     },
     "execution_count": 150,
     "metadata": {},
     "output_type": "execute_result"
    }
   ],
   "source": [
    "sample2"
   ]
  },
  {
   "cell_type": "code",
   "execution_count": null,
   "metadata": {},
   "outputs": [],
   "source": []
  }
 ],
 "metadata": {
  "kernelspec": {
   "display_name": "Python 3",
   "language": "python",
   "name": "python3"
  },
  "language_info": {
   "codemirror_mode": {
    "name": "ipython",
    "version": 3
   },
   "file_extension": ".py",
   "mimetype": "text/x-python",
   "name": "python",
   "nbconvert_exporter": "python",
   "pygments_lexer": "ipython3",
   "version": "3.8.3"
  }
 },
 "nbformat": 4,
 "nbformat_minor": 4
}
