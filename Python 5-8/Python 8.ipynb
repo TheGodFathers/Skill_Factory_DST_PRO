{
 "cells": [
  {
   "cell_type": "code",
   "execution_count": 2,
   "metadata": {},
   "outputs": [],
   "source": [
    "import pandas as pd"
   ]
  },
  {
   "cell_type": "code",
   "execution_count": 3,
   "metadata": {},
   "outputs": [],
   "source": [
    "import os"
   ]
  },
  {
   "cell_type": "code",
   "execution_count": 4,
   "metadata": {},
   "outputs": [],
   "source": [
    "log = pd.read_csv('log.csv',header = None)"
   ]
  },
  {
   "cell_type": "code",
   "execution_count": 5,
   "metadata": {},
   "outputs": [],
   "source": [
    "log.columns = ['user_id','time','bet','Winings']"
   ]
  },
  {
   "cell_type": "code",
   "execution_count": 8,
   "metadata": {},
   "outputs": [
    {
     "data": {
      "text/plain": [
       "MultiIndex([('user_id',),\n",
       "            ( ' email',),\n",
       "            (   ' geo',)],\n",
       "           )"
      ]
     },
     "execution_count": 8,
     "metadata": {},
     "output_type": "execute_result"
    }
   ],
   "source": [
    "users = pd.read_csv('users.csv', encoding = 'koi8-r', sep = '\\t')\n",
    "users.columns = ['user_id, email, geo'.split(',')]\n",
    "users.columns"
   ]
  },
  {
   "cell_type": "code",
   "execution_count": 16,
   "metadata": {},
   "outputs": [
    {
     "data": {
      "text/plain": [
       "Index(['name', 'city', 'age', 'profession'], dtype='object')"
      ]
     },
     "execution_count": 16,
     "metadata": {},
     "output_type": "execute_result"
    }
   ],
   "source": [
    "sample = pd.read_csv('sample.csv')\n",
    "sample.columns\n",
    "columns = sample.columns\n",
    "#print(sample.columns)\n",
    "columns_low = []\n",
    "for title in columns:\n",
    "    title_low = title.lower()\n",
    "    columns_low.append(title_low)\n",
    "sample.rename(columns = {'Name' : columns_low[0], 'City' : columns_low[1], 'Age' : columns_low[2], 'Profession' : columns_low[3]}, inplace = True)\n",
    "sample.columns"
   ]
  },
  {
   "cell_type": "code",
   "execution_count": 117,
   "metadata": {},
   "outputs": [
    {
     "ename": "SyntaxError",
     "evalue": "invalid syntax (<ipython-input-117-08cf15e9c2c0>, line 9)",
     "output_type": "error",
     "traceback": [
      "\u001b[1;36m  File \u001b[1;32m\"<ipython-input-117-08cf15e9c2c0>\"\u001b[1;36m, line \u001b[1;32m9\u001b[0m\n\u001b[1;33m    sample.rename(columns = {'Name' : columns_low[i], 'City' : columns_low[i], 'Age' : columns_low[i], 'Proffesion' : columns_low[i] for i in range(4)})\u001b[0m\n\u001b[1;37m                                                                                                                                     ^\u001b[0m\n\u001b[1;31mSyntaxError\u001b[0m\u001b[1;31m:\u001b[0m invalid syntax\n"
     ]
    }
   ],
   "source": [
    "sample = pd.read_csv('sample.csv')\n",
    "sample.columns\n",
    "columns = sample.columns\n",
    "#print(sample.columns)\n",
    "columns_low = []\n",
    "for title in columns:\n",
    "    title_low = title.lower()\n",
    "    columns_low.append(title_low)\n",
    "sample.rename(columns = {'Name' : columns_low[i], 'City' : columns_low[i], 'Age' : columns_low[i], 'Proffesion' : columns_low[i] for i in range(4)})"
   ]
  }
 ],
 "metadata": {
  "kernelspec": {
   "display_name": "Python 3",
   "language": "python",
   "name": "python3"
  },
  "language_info": {
   "codemirror_mode": {
    "name": "ipython",
    "version": 3
   },
   "file_extension": ".py",
   "mimetype": "text/x-python",
   "name": "python",
   "nbconvert_exporter": "python",
   "pygments_lexer": "ipython3",
   "version": "3.8.3"
  }
 },
 "nbformat": 4,
 "nbformat_minor": 4
}
