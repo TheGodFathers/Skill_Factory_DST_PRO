{
 "cells": [
  {
   "cell_type": "code",
   "execution_count": 1,
   "metadata": {},
   "outputs": [],
   "source": [
    "import numpy as np"
   ]
  },
  {
   "cell_type": "code",
   "execution_count": 7,
   "metadata": {},
   "outputs": [],
   "source": [
    "array_1 = np.array([1,'v'])"
   ]
  },
  {
   "cell_type": "code",
   "execution_count": 19,
   "metadata": {},
   "outputs": [],
   "source": [
    "arr3 = np.array([[1,2,3],[4,5,6],[7,8,9,9]])"
   ]
  },
  {
   "cell_type": "code",
   "execution_count": 13,
   "metadata": {},
   "outputs": [
    {
     "data": {
      "text/plain": [
       "(3, 3)"
      ]
     },
     "execution_count": 13,
     "metadata": {},
     "output_type": "execute_result"
    }
   ],
   "source": [
    "np.shape(arr3)"
   ]
  },
  {
   "cell_type": "code",
   "execution_count": 21,
   "metadata": {},
   "outputs": [
    {
     "data": {
      "text/plain": [
       "array([ 5,  6,  7,  8,  9, 10], dtype=int64)"
      ]
     },
     "execution_count": 21,
     "metadata": {},
     "output_type": "execute_result"
    }
   ],
   "source": [
    "import numpy as np\n",
    "import pandas as pd\n",
    "my_series = pd.Series([5, 6, 7, 8, 9, 10])\n",
    "my_series.values\n",
    "\n"
   ]
  },
  {
   "cell_type": "code",
   "execution_count": 26,
   "metadata": {},
   "outputs": [],
   "source": [
    "a = np.ones((3,3,3))\n"
   ]
  },
  {
   "cell_type": "code",
   "execution_count": 33,
   "metadata": {},
   "outputs": [
    {
     "data": {
      "text/plain": [
       "array([2, 2, 0])"
      ]
     },
     "execution_count": 33,
     "metadata": {},
     "output_type": "execute_result"
    }
   ],
   "source": [
    "np.random.randint(0, 5, 3)"
   ]
  },
  {
   "cell_type": "code",
   "execution_count": 34,
   "metadata": {},
   "outputs": [
    {
     "data": {
      "text/plain": [
       "array([[1, 0, 5],\n",
       "       [2, 1, 3],\n",
       "       [4, 3, 4]])"
      ]
     },
     "execution_count": 34,
     "metadata": {},
     "output_type": "execute_result"
    }
   ],
   "source": [
    "np.random.randint(0, 6, (3, 3))"
   ]
  },
  {
   "cell_type": "code",
   "execution_count": 38,
   "metadata": {},
   "outputs": [
    {
     "data": {
      "text/plain": [
       "array([[2, 1, 0],\n",
       "       [2, 1, 1],\n",
       "       [3, 0, 0]])"
      ]
     },
     "execution_count": 38,
     "metadata": {},
     "output_type": "execute_result"
    }
   ],
   "source": [
    "np.random.randint(0, 4, (3, 3))"
   ]
  },
  {
   "cell_type": "code",
   "execution_count": 39,
   "metadata": {},
   "outputs": [
    {
     "data": {
      "text/plain": [
       "array([ 1,  3,  5,  7,  9, 11, 13])"
      ]
     },
     "execution_count": 39,
     "metadata": {},
     "output_type": "execute_result"
    }
   ],
   "source": [
    "np.arange(1, 14, 2)"
   ]
  },
  {
   "cell_type": "code",
   "execution_count": 40,
   "metadata": {},
   "outputs": [
    {
     "data": {
      "text/plain": [
       "array([1, 3, 5, 7, 9])"
      ]
     },
     "execution_count": 40,
     "metadata": {},
     "output_type": "execute_result"
    }
   ],
   "source": [
    "np.array([i for i in range(11) if i%2])"
   ]
  },
  {
   "cell_type": "code",
   "execution_count": 51,
   "metadata": {},
   "outputs": [],
   "source": [
    "my_array = np.array([x for x in range(10) if x%3 == 0])"
   ]
  },
  {
   "cell_type": "code",
   "execution_count": 52,
   "metadata": {},
   "outputs": [
    {
     "data": {
      "text/plain": [
       "array([0, 3, 6, 9])"
      ]
     },
     "execution_count": 52,
     "metadata": {},
     "output_type": "execute_result"
    }
   ],
   "source": [
    "my_array"
   ]
  },
  {
   "cell_type": "code",
   "execution_count": 54,
   "metadata": {},
   "outputs": [
    {
     "data": {
      "text/plain": [
       "2"
      ]
     },
     "execution_count": 54,
     "metadata": {},
     "output_type": "execute_result"
    }
   ],
   "source": [
    "my_array = np.array([[1,2,3,4], [x for x in range(4)], [45,46,47,48]])\n",
    "my_array[1][2]\n",
    "my_array[1,2]"
   ]
  },
  {
   "cell_type": "code",
   "execution_count": 55,
   "metadata": {},
   "outputs": [
    {
     "data": {
      "text/plain": [
       "48"
      ]
     },
     "execution_count": 55,
     "metadata": {},
     "output_type": "execute_result"
    }
   ],
   "source": [
    "my_array[2,3]"
   ]
  },
  {
   "cell_type": "code",
   "execution_count": 199,
   "metadata": {},
   "outputs": [],
   "source": [
    "first_line = [x*y for x in range(2, 100, 6) for y in range (7, 1, -2)]\n",
    "second_line = [x ** 0.5 for x in range(1000, 1101, 2)]\n",
    "third_line = [x**2 for x in range(51)]\n",
    "\n",
    "big_secret = np.array([first_line, second_line, third_line, second_line, first_line])"
   ]
  },
  {
   "cell_type": "code",
   "execution_count": 200,
   "metadata": {},
   "outputs": [
    {
     "data": {
      "text/plain": [
       "(array([[0.        , 0.        , 0.        , 0.        , 0.        ,\n",
       "         0.        , 0.        , 0.        , 0.        , 0.        ,\n",
       "         0.        , 0.        , 0.        , 0.        , 0.        ,\n",
       "         0.        , 0.        , 0.        , 0.        , 0.        ,\n",
       "         0.        , 0.        , 0.        , 0.        , 0.        ,\n",
       "         0.        , 0.        , 0.        , 0.        , 0.        ,\n",
       "         0.        , 0.        , 0.        , 0.        , 0.        ,\n",
       "         0.        , 0.        , 0.        , 0.        , 0.        ,\n",
       "         0.        , 0.        , 0.        , 0.        , 0.        ,\n",
       "         0.        , 0.        , 0.        , 0.        , 0.        ,\n",
       "         0.        ],\n",
       "        [0.6227766 , 0.65438358, 0.68595904, 0.71750305, 0.74901573,\n",
       "         0.78049716, 0.81194744, 0.84336666, 0.8747549 , 0.90611227,\n",
       "         0.93743885, 0.96873473, 0.        , 0.03123476, 0.06243908,\n",
       "         0.09361307, 0.12475681, 0.15587038, 0.18695388, 0.21800739,\n",
       "         0.24903099, 0.28002478, 0.31098884, 0.34192326, 0.37282811,\n",
       "         0.40370349, 0.43454948, 0.46536616, 0.49615362, 0.52691193,\n",
       "         0.55764119, 0.58834147, 0.61901286, 0.64965543, 0.68026928,\n",
       "         0.71085447, 0.74141109, 0.77193922, 0.80243893, 0.83291032,\n",
       "         0.86335345, 0.89376841, 0.92415527, 0.95451411, 0.984845  ,\n",
       "         0.01514804, 0.04542328, 0.07567082, 0.10589071, 0.13608305,\n",
       "         0.1662479 ],\n",
       "        [0.        , 0.        , 0.        , 0.        , 0.        ,\n",
       "         0.        , 0.        , 0.        , 0.        , 0.        ,\n",
       "         0.        , 0.        , 0.        , 0.        , 0.        ,\n",
       "         0.        , 0.        , 0.        , 0.        , 0.        ,\n",
       "         0.        , 0.        , 0.        , 0.        , 0.        ,\n",
       "         0.        , 0.        , 0.        , 0.        , 0.        ,\n",
       "         0.        , 0.        , 0.        , 0.        , 0.        ,\n",
       "         0.        , 0.        , 0.        , 0.        , 0.        ,\n",
       "         0.        , 0.        , 0.        , 0.        , 0.        ,\n",
       "         0.        , 0.        , 0.        , 0.        , 0.        ,\n",
       "         0.        ],\n",
       "        [0.6227766 , 0.65438358, 0.68595904, 0.71750305, 0.74901573,\n",
       "         0.78049716, 0.81194744, 0.84336666, 0.8747549 , 0.90611227,\n",
       "         0.93743885, 0.96873473, 0.        , 0.03123476, 0.06243908,\n",
       "         0.09361307, 0.12475681, 0.15587038, 0.18695388, 0.21800739,\n",
       "         0.24903099, 0.28002478, 0.31098884, 0.34192326, 0.37282811,\n",
       "         0.40370349, 0.43454948, 0.46536616, 0.49615362, 0.52691193,\n",
       "         0.55764119, 0.58834147, 0.61901286, 0.64965543, 0.68026928,\n",
       "         0.71085447, 0.74141109, 0.77193922, 0.80243893, 0.83291032,\n",
       "         0.86335345, 0.89376841, 0.92415527, 0.95451411, 0.984845  ,\n",
       "         0.01514804, 0.04542328, 0.07567082, 0.10589071, 0.13608305,\n",
       "         0.1662479 ],\n",
       "        [0.        , 0.        , 0.        , 0.        , 0.        ,\n",
       "         0.        , 0.        , 0.        , 0.        , 0.        ,\n",
       "         0.        , 0.        , 0.        , 0.        , 0.        ,\n",
       "         0.        , 0.        , 0.        , 0.        , 0.        ,\n",
       "         0.        , 0.        , 0.        , 0.        , 0.        ,\n",
       "         0.        , 0.        , 0.        , 0.        , 0.        ,\n",
       "         0.        , 0.        , 0.        , 0.        , 0.        ,\n",
       "         0.        , 0.        , 0.        , 0.        , 0.        ,\n",
       "         0.        , 0.        , 0.        , 0.        , 0.        ,\n",
       "         0.        , 0.        , 0.        , 0.        , 0.        ,\n",
       "         0.        ]]),\n",
       " array([[1.400e+01, 1.000e+01, 6.000e+00, 5.600e+01, 4.000e+01, 2.400e+01,\n",
       "         9.800e+01, 7.000e+01, 4.200e+01, 1.400e+02, 1.000e+02, 6.000e+01,\n",
       "         1.820e+02, 1.300e+02, 7.800e+01, 2.240e+02, 1.600e+02, 9.600e+01,\n",
       "         2.660e+02, 1.900e+02, 1.140e+02, 3.080e+02, 2.200e+02, 1.320e+02,\n",
       "         3.500e+02, 2.500e+02, 1.500e+02, 3.920e+02, 2.800e+02, 1.680e+02,\n",
       "         4.340e+02, 3.100e+02, 1.860e+02, 4.760e+02, 3.400e+02, 2.040e+02,\n",
       "         5.180e+02, 3.700e+02, 2.220e+02, 5.600e+02, 4.000e+02, 2.400e+02,\n",
       "         6.020e+02, 4.300e+02, 2.580e+02, 6.440e+02, 4.600e+02, 2.760e+02,\n",
       "         6.860e+02, 4.900e+02, 2.940e+02],\n",
       "        [3.100e+01, 3.100e+01, 3.100e+01, 3.100e+01, 3.100e+01, 3.100e+01,\n",
       "         3.100e+01, 3.100e+01, 3.100e+01, 3.100e+01, 3.100e+01, 3.100e+01,\n",
       "         3.200e+01, 3.200e+01, 3.200e+01, 3.200e+01, 3.200e+01, 3.200e+01,\n",
       "         3.200e+01, 3.200e+01, 3.200e+01, 3.200e+01, 3.200e+01, 3.200e+01,\n",
       "         3.200e+01, 3.200e+01, 3.200e+01, 3.200e+01, 3.200e+01, 3.200e+01,\n",
       "         3.200e+01, 3.200e+01, 3.200e+01, 3.200e+01, 3.200e+01, 3.200e+01,\n",
       "         3.200e+01, 3.200e+01, 3.200e+01, 3.200e+01, 3.200e+01, 3.200e+01,\n",
       "         3.200e+01, 3.200e+01, 3.200e+01, 3.300e+01, 3.300e+01, 3.300e+01,\n",
       "         3.300e+01, 3.300e+01, 3.300e+01],\n",
       "        [0.000e+00, 1.000e+00, 4.000e+00, 9.000e+00, 1.600e+01, 2.500e+01,\n",
       "         3.600e+01, 4.900e+01, 6.400e+01, 8.100e+01, 1.000e+02, 1.210e+02,\n",
       "         1.440e+02, 1.690e+02, 1.960e+02, 2.250e+02, 2.560e+02, 2.890e+02,\n",
       "         3.240e+02, 3.610e+02, 4.000e+02, 4.410e+02, 4.840e+02, 5.290e+02,\n",
       "         5.760e+02, 6.250e+02, 6.760e+02, 7.290e+02, 7.840e+02, 8.410e+02,\n",
       "         9.000e+02, 9.610e+02, 1.024e+03, 1.089e+03, 1.156e+03, 1.225e+03,\n",
       "         1.296e+03, 1.369e+03, 1.444e+03, 1.521e+03, 1.600e+03, 1.681e+03,\n",
       "         1.764e+03, 1.849e+03, 1.936e+03, 2.025e+03, 2.116e+03, 2.209e+03,\n",
       "         2.304e+03, 2.401e+03, 2.500e+03],\n",
       "        [3.100e+01, 3.100e+01, 3.100e+01, 3.100e+01, 3.100e+01, 3.100e+01,\n",
       "         3.100e+01, 3.100e+01, 3.100e+01, 3.100e+01, 3.100e+01, 3.100e+01,\n",
       "         3.200e+01, 3.200e+01, 3.200e+01, 3.200e+01, 3.200e+01, 3.200e+01,\n",
       "         3.200e+01, 3.200e+01, 3.200e+01, 3.200e+01, 3.200e+01, 3.200e+01,\n",
       "         3.200e+01, 3.200e+01, 3.200e+01, 3.200e+01, 3.200e+01, 3.200e+01,\n",
       "         3.200e+01, 3.200e+01, 3.200e+01, 3.200e+01, 3.200e+01, 3.200e+01,\n",
       "         3.200e+01, 3.200e+01, 3.200e+01, 3.200e+01, 3.200e+01, 3.200e+01,\n",
       "         3.200e+01, 3.200e+01, 3.200e+01, 3.300e+01, 3.300e+01, 3.300e+01,\n",
       "         3.300e+01, 3.300e+01, 3.300e+01],\n",
       "        [1.400e+01, 1.000e+01, 6.000e+00, 5.600e+01, 4.000e+01, 2.400e+01,\n",
       "         9.800e+01, 7.000e+01, 4.200e+01, 1.400e+02, 1.000e+02, 6.000e+01,\n",
       "         1.820e+02, 1.300e+02, 7.800e+01, 2.240e+02, 1.600e+02, 9.600e+01,\n",
       "         2.660e+02, 1.900e+02, 1.140e+02, 3.080e+02, 2.200e+02, 1.320e+02,\n",
       "         3.500e+02, 2.500e+02, 1.500e+02, 3.920e+02, 2.800e+02, 1.680e+02,\n",
       "         4.340e+02, 3.100e+02, 1.860e+02, 4.760e+02, 3.400e+02, 2.040e+02,\n",
       "         5.180e+02, 3.700e+02, 2.220e+02, 5.600e+02, 4.000e+02, 2.400e+02,\n",
       "         6.020e+02, 4.300e+02, 2.580e+02, 6.440e+02, 4.600e+02, 2.760e+02,\n",
       "         6.860e+02, 4.900e+02, 2.940e+02]]))"
      ]
     },
     "execution_count": 200,
     "metadata": {},
     "output_type": "execute_result"
    }
   ],
   "source": [
    "np.modf(big_secret)"
   ]
  },
  {
   "cell_type": "code",
   "execution_count": 198,
   "metadata": {},
   "outputs": [
    {
     "data": {
      "text/plain": [
       "-1.0"
      ]
     },
     "execution_count": 198,
     "metadata": {},
     "output_type": "execute_result"
    }
   ],
   "source": [
    "column = 50\n",
    "total = 0\n",
    "for row in range(len(big_secret)):\n",
    "    total += big_secret[row][column]\n",
    "total"
   ]
  },
  {
   "cell_type": "code",
   "execution_count": 196,
   "metadata": {},
   "outputs": [
    {
     "name": "stdout",
     "output_type": "stream",
     "text": [
      "0\n",
      "1\n",
      "2\n",
      "3\n",
      "4\n"
     ]
    }
   ],
   "source": [
    "total_2 = 1\n",
    "for i in range(5):\n",
    "    print(i)\n",
    "    total_2 = total_2 * big_secret[i][46 + i]"
   ]
  },
  {
   "cell_type": "code",
   "execution_count": 197,
   "metadata": {},
   "outputs": [
    {
     "data": {
      "text/plain": [
       "-1.0"
      ]
     },
     "execution_count": 197,
     "metadata": {},
     "output_type": "execute_result"
    }
   ],
   "source": [
    "total_2"
   ]
  },
  {
   "cell_type": "code",
   "execution_count": 194,
   "metadata": {},
   "outputs": [],
   "source": [
    "big_secret[::2,::2] = -1\n",
    "big_secret[::3,::3] = 1"
   ]
  },
  {
   "cell_type": "markdown",
   "metadata": {},
   "source": [
    "big_secret"
   ]
  },
  {
   "cell_type": "markdown",
   "metadata": {},
   "source": [
    "# Python 9.4"
   ]
  },
  {
   "cell_type": "code",
   "execution_count": 205,
   "metadata": {},
   "outputs": [],
   "source": [
    "number = [x for x in range(1,11)]"
   ]
  },
  {
   "cell_type": "code",
   "execution_count": 206,
   "metadata": {},
   "outputs": [
    {
     "data": {
      "text/plain": [
       "[1, 2, 3, 4, 5, 6, 7, 8, 9, 10]"
      ]
     },
     "execution_count": 206,
     "metadata": {},
     "output_type": "execute_result"
    }
   ],
   "source": [
    "number"
   ]
  },
  {
   "cell_type": "code",
   "execution_count": 228,
   "metadata": {},
   "outputs": [
    {
     "data": {
      "text/plain": [
       "[135, 160, 163, 147, 138, 149, 136, 154, 137, 165]"
      ]
     },
     "execution_count": 228,
     "metadata": {},
     "output_type": "execute_result"
    }
   ],
   "source": [
    "height_list = '135 160 163 147 138 149 136 154 137 165'.split()\n",
    "map_object = map(int, height_list)\n",
    "height = list(map_object)\n",
    "height"
   ]
  },
  {
   "cell_type": "code",
   "execution_count": 229,
   "metadata": {},
   "outputs": [
    {
     "data": {
      "text/plain": [
       "[34, 43, 40, 44, 41, 54, 39, 48, 35, 60]"
      ]
     },
     "execution_count": 229,
     "metadata": {},
     "output_type": "execute_result"
    }
   ],
   "source": [
    "weight_list = '34 43 40 44 41 54 39 48 35 60'.split()\n",
    "map_object = map(int, weight_list)\n",
    "weight = list(map_object)\n",
    "weight"
   ]
  },
  {
   "cell_type": "code",
   "execution_count": 232,
   "metadata": {},
   "outputs": [
    {
     "data": {
      "text/plain": [
       "[4.0, 5.0, 4.3, 5.0, 4.7, 3.9, 4.2, 4.9, 3.7, 4.6]"
      ]
     },
     "execution_count": 232,
     "metadata": {},
     "output_type": "execute_result"
    }
   ],
   "source": [
    "avg_score = '4 5 4.3 5 4.7 3.9 4.2 4.9 3.7 4.6'.split()\n",
    "map_object = map(float, avg_score)\n",
    "avg_score = list(map_object)\n",
    "avg_score"
   ]
  },
  {
   "cell_type": "code",
   "execution_count": 237,
   "metadata": {},
   "outputs": [],
   "source": [
    "students = np.array([number, height, weight, avg_score])"
   ]
  },
  {
   "cell_type": "code",
   "execution_count": 252,
   "metadata": {},
   "outputs": [],
   "source": [
    "students = students.T"
   ]
  },
  {
   "cell_type": "code",
   "execution_count": 253,
   "metadata": {},
   "outputs": [],
   "source": [
    "mean = np.mean(students[:,-1])"
   ]
  },
  {
   "cell_type": "code",
   "execution_count": 254,
   "metadata": {},
   "outputs": [
    {
     "data": {
      "text/plain": [
       "4.430000000000001"
      ]
     },
     "execution_count": 254,
     "metadata": {},
     "output_type": "execute_result"
    }
   ],
   "source": [
    "mean"
   ]
  },
  {
   "cell_type": "code",
   "execution_count": 261,
   "metadata": {},
   "outputs": [
    {
     "data": {
      "text/plain": [
       "1.8"
      ]
     },
     "execution_count": 261,
     "metadata": {},
     "output_type": "execute_result"
    }
   ],
   "source": [
    "median = np.median(students[:,-2])\n",
    "mean = np.mean(students [:,-2])\n",
    "round(mean - median,1)"
   ]
  },
  {
   "cell_type": "code",
   "execution_count": 271,
   "metadata": {},
   "outputs": [
    {
     "name": "stdout",
     "output_type": "stream",
     "text": [
      "[[1.         0.64314431]\n",
      " [0.64314431 1.        ]]\n",
      "[[1.         0.46293714]\n",
      " [0.46293714 1.        ]]\n",
      "[[1.         0.29801325]\n",
      " [0.29801325 1.        ]]\n"
     ]
    }
   ],
   "source": [
    "a = np.corrcoef(students[:,1],students[:,-2])\n",
    "b = np.corrcoef(students[:,1], students[:,-1])\n",
    "c = np.corrcoef(students[:,2], students[:,-1])\n",
    "print(a)\n",
    "print(b)\n",
    "print(c)"
   ]
  },
  {
   "cell_type": "code",
   "execution_count": 273,
   "metadata": {},
   "outputs": [
    {
     "data": {
      "text/plain": [
       "0.4517742799230607"
      ]
     },
     "execution_count": 273,
     "metadata": {},
     "output_type": "execute_result"
    }
   ],
   "source": [
    "d = np.std(students[:,-1])\n",
    "d"
   ]
  },
  {
   "cell_type": "code",
   "execution_count": 277,
   "metadata": {},
   "outputs": [],
   "source": [
    "f = np.std(students[:,-2])"
   ]
  },
  {
   "cell_type": "code",
   "execution_count": 281,
   "metadata": {},
   "outputs": [
    {
     "data": {
      "text/plain": [
       "60.36"
      ]
     },
     "execution_count": 281,
     "metadata": {},
     "output_type": "execute_result"
    }
   ],
   "source": [
    "f**2"
   ]
  },
  {
   "cell_type": "code",
   "execution_count": null,
   "metadata": {},
   "outputs": [],
   "source": []
  }
 ],
 "metadata": {
  "kernelspec": {
   "display_name": "Python 3",
   "language": "python",
   "name": "python3"
  },
  "language_info": {
   "codemirror_mode": {
    "name": "ipython",
    "version": 3
   },
   "file_extension": ".py",
   "mimetype": "text/x-python",
   "name": "python",
   "nbconvert_exporter": "python",
   "pygments_lexer": "ipython3",
   "version": "3.8.3"
  }
 },
 "nbformat": 4,
 "nbformat_minor": 4
}
