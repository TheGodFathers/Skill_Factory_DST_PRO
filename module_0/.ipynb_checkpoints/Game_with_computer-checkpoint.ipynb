{
 "cells": [
  {
   "cell_type": "code",
   "execution_count": 6,
   "metadata": {},
   "outputs": [],
   "source": [
    "def game_kernel_v3(number):\n",
    "    \"\"\"Function that guess number, that is given from random_number function and returns count: number of tries\"\"\"\n",
    "\n",
    "    count = 1\n",
    "    low_range = start_range\n",
    "    hi_range = end_range\n",
    "    first_attempt = ((hi_range+low_range) // 2) #first number, to start looking for number, that computer made\n",
    "\n",
    "    while first_attempt != number: #while function didn't find the right number\n",
    "        \"\"\"Proccess of guessing the number\"\"\"\n",
    "\n",
    "        if first_attempt > number:\n",
    "            hi_range = first_attempt - 1\n",
    "            count += 1\n",
    "        elif first_attempt < number:\n",
    "            low_range = first_attempt + 1\n",
    "            count += 1\n",
    "            \n",
    "        first_attempt = math.ceil((low_range + (hi_range - low_range) / 2)) #chosing new range for guessing, based on previous calculations\n",
    "        \n",
    "    return(count)"
   ]
  },
  {
   "cell_type": "code",
   "execution_count": 10,
   "metadata": {},
   "outputs": [],
   "source": [
    "def thousand_tries(number_of_tries):\n",
    "    '''Function, that repeats the game_kernel_v2 function given number of times to calculate avarage speed of guessing \n",
    "    the number'''\n",
    "    array_of_counts = []\n",
    "    np.random.seed(1)  # fiximg the random seed to make experiment repeatable\n",
    "    random_array = np.random.randint(start_range, end_range, size=(number_of_tries))\n",
    "    for number in random_array:\n",
    "        array_of_counts.append(game_kernel_v3(number))\n",
    "    score = (sum(array_of_counts)/len(array_of_counts))\n",
    "    \n",
    "    return(score)"
   ]
  },
  {
   "cell_type": "code",
   "execution_count": 11,
   "metadata": {},
   "outputs": [],
   "source": [
    "# Choosing start parametrs for game.\n",
    "from random import randint #importing randint\n",
    "import numpy as np\n",
    "import math\n",
    "start_range = 1\n",
    "end_range = 100"
   ]
  },
  {
   "cell_type": "code",
   "execution_count": 13,
   "metadata": {},
   "outputs": [
    {
     "name": "stdout",
     "output_type": "stream",
     "text": [
      "Алгоритм угадывает загаданное число в среднем за 5.79 попыток\n"
     ]
    }
   ],
   "source": [
    "print('Алгоритм угадывает загаданное число в среднем за {} попыток'.format(thousand_tries(1000)))"
   ]
  },
  {
   "cell_type": "code",
   "execution_count": null,
   "metadata": {},
   "outputs": [],
   "source": []
  }
 ],
 "metadata": {
  "kernelspec": {
   "display_name": "Python 3",
   "language": "python",
   "name": "python3"
  },
  "language_info": {
   "codemirror_mode": {
    "name": "ipython",
    "version": 3
   },
   "file_extension": ".py",
   "mimetype": "text/x-python",
   "name": "python",
   "nbconvert_exporter": "python",
   "pygments_lexer": "ipython3",
   "version": "3.8.3"
  }
 },
 "nbformat": 4,
 "nbformat_minor": 4
}
