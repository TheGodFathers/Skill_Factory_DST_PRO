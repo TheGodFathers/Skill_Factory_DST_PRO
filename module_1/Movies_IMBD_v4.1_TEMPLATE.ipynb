{
 "cells": [
  {
   "cell_type": "code",
   "execution_count": 2,
   "metadata": {
    "_cell_guid": "b1076dfc-b9ad-4769-8c92-a6c4dae69d19",
    "_uuid": "8f2839f25d086af736a60e9eeb907d3b93b6e0e5",
    "colab": {},
    "colab_type": "code",
    "id": "U2D2gTdJVp90"
   },
   "outputs": [],
   "source": [
    "import numpy as np\n",
    "import pandas as pd\n",
    "import seaborn as sns\n",
    "import matplotlib.pyplot as plt\n",
    "from collections import Counter"
   ]
  },
  {
   "cell_type": "code",
   "execution_count": 129,
   "metadata": {
    "_cell_guid": "79c7e3d0-c299-4dcb-8224-4455121ee9b0",
    "_uuid": "d629ff2d2480ee46fbb7e2d37f6b5fab8052498a",
    "colab": {},
    "colab_type": "code",
    "id": "oyGfxL3eVp9-",
    "scrolled": true
   },
   "outputs": [
    {
     "data": {
      "text/html": [
       "<div>\n",
       "<style scoped>\n",
       "    .dataframe tbody tr th:only-of-type {\n",
       "        vertical-align: middle;\n",
       "    }\n",
       "\n",
       "    .dataframe tbody tr th {\n",
       "        vertical-align: top;\n",
       "    }\n",
       "\n",
       "    .dataframe thead th {\n",
       "        text-align: right;\n",
       "    }\n",
       "</style>\n",
       "<table border=\"1\" class=\"dataframe\">\n",
       "  <thead>\n",
       "    <tr style=\"text-align: right;\">\n",
       "      <th></th>\n",
       "      <th>imdb_id</th>\n",
       "      <th>budget</th>\n",
       "      <th>revenue</th>\n",
       "      <th>original_title</th>\n",
       "      <th>cast</th>\n",
       "      <th>director</th>\n",
       "      <th>tagline</th>\n",
       "      <th>overview</th>\n",
       "      <th>runtime</th>\n",
       "      <th>genres</th>\n",
       "      <th>production_companies</th>\n",
       "      <th>release_date</th>\n",
       "      <th>vote_average</th>\n",
       "      <th>release_year</th>\n",
       "    </tr>\n",
       "  </thead>\n",
       "  <tbody>\n",
       "    <tr>\n",
       "      <th>124</th>\n",
       "      <td>tt2245084</td>\n",
       "      <td>165000000</td>\n",
       "      <td>652105443</td>\n",
       "      <td>Big Hero 6</td>\n",
       "      <td>Scott Adsit|Ryan Potter|Daniel Henney|T.J. Mil...</td>\n",
       "      <td>Don Hall|Chris Williams</td>\n",
       "      <td>From the creators of Wreck-it Ralph and Frozen</td>\n",
       "      <td>The special bond that develops between plus-si...</td>\n",
       "      <td>102</td>\n",
       "      <td>Adventure|Family|Animation|Action|Comedy</td>\n",
       "      <td>Walt Disney Pictures|Walt Disney Animation Stu...</td>\n",
       "      <td>10/24/2014</td>\n",
       "      <td>7.8</td>\n",
       "      <td>2014</td>\n",
       "    </tr>\n",
       "    <tr>\n",
       "      <th>1585</th>\n",
       "      <td>tt0339291</td>\n",
       "      <td>140000000</td>\n",
       "      <td>209073645</td>\n",
       "      <td>Lemony Snicket's A Series of Unfortunate Events</td>\n",
       "      <td>Jim Carrey|Meryl Streep|Jude Law|Emily Brownin...</td>\n",
       "      <td>Brad Silberling</td>\n",
       "      <td>Darkening theaters December 17.</td>\n",
       "      <td>Three wealthy children's parents are killed in...</td>\n",
       "      <td>108</td>\n",
       "      <td>Adventure|Fantasy|Comedy|Family</td>\n",
       "      <td>Paramount Pictures|Scott Rudin Productions|Nic...</td>\n",
       "      <td>12/16/2004</td>\n",
       "      <td>6.5</td>\n",
       "      <td>2004</td>\n",
       "    </tr>\n",
       "    <tr>\n",
       "      <th>1523</th>\n",
       "      <td>tt0462200</td>\n",
       "      <td>15000000</td>\n",
       "      <td>10903846</td>\n",
       "      <td>Black Snake Moan</td>\n",
       "      <td>Samuel L. Jackson|Christina Ricci|Justin Timbe...</td>\n",
       "      <td>Craig Brewer</td>\n",
       "      <td>To save his soul he must save hers.</td>\n",
       "      <td>A God-fearing bluesman takes to a wild young w...</td>\n",
       "      <td>116</td>\n",
       "      <td>Drama</td>\n",
       "      <td>Paramount Classics</td>\n",
       "      <td>12/8/2006</td>\n",
       "      <td>6.3</td>\n",
       "      <td>2006</td>\n",
       "    </tr>\n",
       "    <tr>\n",
       "      <th>1090</th>\n",
       "      <td>tt0319343</td>\n",
       "      <td>32000000</td>\n",
       "      <td>173398518</td>\n",
       "      <td>Elf</td>\n",
       "      <td>Will Ferrell|James Caan|Zooey Deschanel|Mary S...</td>\n",
       "      <td>Jon Favreau</td>\n",
       "      <td>This holiday, discover your inner elf.</td>\n",
       "      <td>When young Buddy falls into Santa's gift sack ...</td>\n",
       "      <td>97</td>\n",
       "      <td>Romance|Comedy|Family|Fantasy</td>\n",
       "      <td>New Line Cinema|Gold/Miller Productions|Guy Wa...</td>\n",
       "      <td>10/9/2003</td>\n",
       "      <td>6.5</td>\n",
       "      <td>2003</td>\n",
       "    </tr>\n",
       "    <tr>\n",
       "      <th>677</th>\n",
       "      <td>tt0482606</td>\n",
       "      <td>9000000</td>\n",
       "      <td>82391145</td>\n",
       "      <td>The Strangers</td>\n",
       "      <td>Liv Tyler|Scott Speedman|Alex Fisher|Peter Cla...</td>\n",
       "      <td>Bryan Bertino</td>\n",
       "      <td>Lock the door. Pretend you're safe.</td>\n",
       "      <td>After returning from a wedding reception, a co...</td>\n",
       "      <td>90</td>\n",
       "      <td>Thriller|Horror|Mystery</td>\n",
       "      <td>Rogue Pictures|Vertigo Entertainment</td>\n",
       "      <td>5/29/2008</td>\n",
       "      <td>5.9</td>\n",
       "      <td>2008</td>\n",
       "    </tr>\n",
       "    <tr>\n",
       "      <th>303</th>\n",
       "      <td>tt0795351</td>\n",
       "      <td>27000000</td>\n",
       "      <td>29000000</td>\n",
       "      <td>Case 39</td>\n",
       "      <td>RenÃ©e Zellweger|Jodelle Ferland|Ian McShane|K...</td>\n",
       "      <td>Christian Alvart</td>\n",
       "      <td>Some cases should  never be opened.</td>\n",
       "      <td>In her many years as a social worker, Emily Je...</td>\n",
       "      <td>109</td>\n",
       "      <td>Horror|Mystery|Thriller</td>\n",
       "      <td>Paramount Vantage|Anonymous Content|Misher Fil...</td>\n",
       "      <td>8/13/2009</td>\n",
       "      <td>6.0</td>\n",
       "      <td>2009</td>\n",
       "    </tr>\n",
       "    <tr>\n",
       "      <th>1228</th>\n",
       "      <td>tt1535109</td>\n",
       "      <td>55000000</td>\n",
       "      <td>95000000</td>\n",
       "      <td>Captain Phillips</td>\n",
       "      <td>Tom Hanks|Catherine Keener|Max Martini|Chris M...</td>\n",
       "      <td>Paul Greengrass</td>\n",
       "      <td>Out here survival is everything.</td>\n",
       "      <td>The true story of Captain Richard Phillips and...</td>\n",
       "      <td>134</td>\n",
       "      <td>Action|Drama|Thriller</td>\n",
       "      <td>Columbia Pictures</td>\n",
       "      <td>10/10/2013</td>\n",
       "      <td>7.7</td>\n",
       "      <td>2013</td>\n",
       "    </tr>\n",
       "    <tr>\n",
       "      <th>685</th>\n",
       "      <td>tt1032755</td>\n",
       "      <td>18000000</td>\n",
       "      <td>25739015</td>\n",
       "      <td>RockNRolla</td>\n",
       "      <td>Mark Strong|Tom Wilkinson|Toby Kebbell|Gerard ...</td>\n",
       "      <td>Guy Ritchie</td>\n",
       "      <td>A story of sex, thugs and rock 'n roll.</td>\n",
       "      <td>When a Russian mobster sets up a real estate s...</td>\n",
       "      <td>114</td>\n",
       "      <td>Action|Crime|Thriller</td>\n",
       "      <td>StudioCanal|Dark Castle Entertainment|Toff Guy...</td>\n",
       "      <td>9/4/2008</td>\n",
       "      <td>6.8</td>\n",
       "      <td>2008</td>\n",
       "    </tr>\n",
       "    <tr>\n",
       "      <th>1529</th>\n",
       "      <td>tt0383060</td>\n",
       "      <td>35000000</td>\n",
       "      <td>12506188</td>\n",
       "      <td>Zoom</td>\n",
       "      <td>Tim Allen|Courteney Cox|Chevy Chase|Spencer Br...</td>\n",
       "      <td>Peter Hewitt</td>\n",
       "      <td>They're going to save the world... as long as ...</td>\n",
       "      <td>Jack Shepard is an out-of-shape auto shop owne...</td>\n",
       "      <td>83</td>\n",
       "      <td>Fantasy|Comedy|Family</td>\n",
       "      <td>Columbia Pictures|Revolution Studios</td>\n",
       "      <td>8/11/2006</td>\n",
       "      <td>5.1</td>\n",
       "      <td>2006</td>\n",
       "    </tr>\n",
       "    <tr>\n",
       "      <th>937</th>\n",
       "      <td>tt0284490</td>\n",
       "      <td>85000000</td>\n",
       "      <td>77741732</td>\n",
       "      <td>Showtime</td>\n",
       "      <td>Robert De Niro|Rachael Harris|Eddie Murphy|Zai...</td>\n",
       "      <td>Tom Dey</td>\n",
       "      <td>Lights. Camera. Aggravation.</td>\n",
       "      <td>A spoof of buddy cop movies where two very dif...</td>\n",
       "      <td>95</td>\n",
       "      <td>Action|Comedy</td>\n",
       "      <td>Village Roadshow Pictures|NPV Entertainment|Wa...</td>\n",
       "      <td>3/14/2002</td>\n",
       "      <td>5.2</td>\n",
       "      <td>2002</td>\n",
       "    </tr>\n",
       "    <tr>\n",
       "      <th>830</th>\n",
       "      <td>tt1578275</td>\n",
       "      <td>70000000</td>\n",
       "      <td>67112664</td>\n",
       "      <td>The Dilemma</td>\n",
       "      <td>Kevin James|Vince Vaughn|Winona Ryder|Jennifer...</td>\n",
       "      <td>Ron Howard</td>\n",
       "      <td>Two best friends. Nothing could come between t...</td>\n",
       "      <td>Longtime friends Ronny and Nick are partners i...</td>\n",
       "      <td>111</td>\n",
       "      <td>Comedy|Drama</td>\n",
       "      <td>Imagine Entertainment|Universal Pictures|Spygl...</td>\n",
       "      <td>1/13/2011</td>\n",
       "      <td>5.2</td>\n",
       "      <td>2011</td>\n",
       "    </tr>\n",
       "    <tr>\n",
       "      <th>1016</th>\n",
       "      <td>tt1673434</td>\n",
       "      <td>120000000</td>\n",
       "      <td>829000000</td>\n",
       "      <td>The Twilight Saga: Breaking Dawn - Part 2</td>\n",
       "      <td>Kristen Stewart|Robert Pattinson|Taylor Lautne...</td>\n",
       "      <td>Bill Condon</td>\n",
       "      <td>The epic finale that will live forever</td>\n",
       "      <td>After the birth of Renesmee, the Cullens gathe...</td>\n",
       "      <td>115</td>\n",
       "      <td>Adventure|Fantasy|Drama|Romance</td>\n",
       "      <td>Summit Entertainment|Sunswept Entertainment|Te...</td>\n",
       "      <td>11/13/2012</td>\n",
       "      <td>6.1</td>\n",
       "      <td>2012</td>\n",
       "    </tr>\n",
       "    <tr>\n",
       "      <th>1592</th>\n",
       "      <td>tt0357413</td>\n",
       "      <td>26000000</td>\n",
       "      <td>90574188</td>\n",
       "      <td>Anchorman: The Legend of Ron Burgundy</td>\n",
       "      <td>Will Ferrell|Christina Applegate|Paul Rudd|Dav...</td>\n",
       "      <td>Adam McKay</td>\n",
       "      <td>They bring you the news so you don't have to g...</td>\n",
       "      <td>It's the 1970s, and San Diego super-sexist anc...</td>\n",
       "      <td>94</td>\n",
       "      <td>Comedy</td>\n",
       "      <td>Apatow Productions</td>\n",
       "      <td>7/9/2004</td>\n",
       "      <td>6.7</td>\n",
       "      <td>2004</td>\n",
       "    </tr>\n",
       "    <tr>\n",
       "      <th>21</th>\n",
       "      <td>tt1798684</td>\n",
       "      <td>30000000</td>\n",
       "      <td>91709827</td>\n",
       "      <td>Southpaw</td>\n",
       "      <td>Jake Gyllenhaal|Rachel McAdams|Forest Whitaker...</td>\n",
       "      <td>Antoine Fuqua</td>\n",
       "      <td>Believe in Hope.</td>\n",
       "      <td>Billy \"The Great\" Hope, the reigning junior mi...</td>\n",
       "      <td>123</td>\n",
       "      <td>Action|Drama</td>\n",
       "      <td>Escape Artists|Riche-Ludwig Productions</td>\n",
       "      <td>6/15/2015</td>\n",
       "      <td>7.3</td>\n",
       "      <td>2015</td>\n",
       "    </tr>\n",
       "    <tr>\n",
       "      <th>510</th>\n",
       "      <td>tt0247638</td>\n",
       "      <td>37000000</td>\n",
       "      <td>165335153</td>\n",
       "      <td>The Princess Diaries</td>\n",
       "      <td>Anne Hathaway|Julie Andrews|Heather Matarazzo|...</td>\n",
       "      <td>Garry Marshall</td>\n",
       "      <td>She rocks. She rules. She reigns.</td>\n",
       "      <td>A socially awkward but very bright 15-year-old...</td>\n",
       "      <td>115</td>\n",
       "      <td>Comedy|Family|Romance</td>\n",
       "      <td>Walt Disney Pictures|BrownHouse Productions|Bo...</td>\n",
       "      <td>8/3/2001</td>\n",
       "      <td>6.3</td>\n",
       "      <td>2001</td>\n",
       "    </tr>\n",
       "    <tr>\n",
       "      <th>1414</th>\n",
       "      <td>tt0424774</td>\n",
       "      <td>50000000</td>\n",
       "      <td>69425966</td>\n",
       "      <td>The Adventures of Sharkboy and Lavagirl</td>\n",
       "      <td>Taylor Lautner|Taylor Dooley|Cayden Boyd|Georg...</td>\n",
       "      <td>Robert Rodriguez</td>\n",
       "      <td>Smaller heroes. Just as super.</td>\n",
       "      <td>Max conjures up his perfect dreamworld...the P...</td>\n",
       "      <td>92</td>\n",
       "      <td>Adventure|Fantasy|Action|Family</td>\n",
       "      <td>Columbia Pictures Corporation|Dimension Films</td>\n",
       "      <td>6/10/2005</td>\n",
       "      <td>4.3</td>\n",
       "      <td>2005</td>\n",
       "    </tr>\n",
       "    <tr>\n",
       "      <th>1300</th>\n",
       "      <td>tt1425922</td>\n",
       "      <td>17500000</td>\n",
       "      <td>7018189</td>\n",
       "      <td>Black Nativity</td>\n",
       "      <td>Forest Whitaker|Angela Bassett|Jennifer Hudson...</td>\n",
       "      <td>Kasi Lemmons</td>\n",
       "      <td>The Musical Event of the Holiday Season</td>\n",
       "      <td>A street-wise teen from Baltimore who has been...</td>\n",
       "      <td>93</td>\n",
       "      <td>Drama|Music</td>\n",
       "      <td>Fox Searchlight Pictures|Fox Searchlight</td>\n",
       "      <td>11/27/2013</td>\n",
       "      <td>6.2</td>\n",
       "      <td>2013</td>\n",
       "    </tr>\n",
       "    <tr>\n",
       "      <th>39</th>\n",
       "      <td>tt1618442</td>\n",
       "      <td>90000000</td>\n",
       "      <td>140396650</td>\n",
       "      <td>The Last Witch Hunter</td>\n",
       "      <td>Vin Diesel|Rose Leslie|Michael Caine|Elijah Wo...</td>\n",
       "      <td>Breck Eisner</td>\n",
       "      <td>Hunt forever.</td>\n",
       "      <td>The modern world holds many secrets, but by fa...</td>\n",
       "      <td>106</td>\n",
       "      <td>Fantasy|Action|Adventure</td>\n",
       "      <td>Summit Entertainment|Atmosphere Entertainment ...</td>\n",
       "      <td>10/21/2015</td>\n",
       "      <td>5.6</td>\n",
       "      <td>2015</td>\n",
       "    </tr>\n",
       "    <tr>\n",
       "      <th>403</th>\n",
       "      <td>tt0985694</td>\n",
       "      <td>20000000</td>\n",
       "      <td>31327899</td>\n",
       "      <td>Machete</td>\n",
       "      <td>Danny Trejo|Michelle Rodriguez|Jessica Alba|Ro...</td>\n",
       "      <td>Robert Rodriguez|Ethan Maniquis</td>\n",
       "      <td>He was given an offer he couldn't refuse...</td>\n",
       "      <td>After being set-up and betrayed by the man who...</td>\n",
       "      <td>105</td>\n",
       "      <td>Action|Comedy|Thriller</td>\n",
       "      <td>Dune Entertainment|Dune Entertainment III|Trou...</td>\n",
       "      <td>9/1/2010</td>\n",
       "      <td>6.2</td>\n",
       "      <td>2010</td>\n",
       "    </tr>\n",
       "    <tr>\n",
       "      <th>49</th>\n",
       "      <td>tt2503944</td>\n",
       "      <td>20000000</td>\n",
       "      <td>36606743</td>\n",
       "      <td>Burnt</td>\n",
       "      <td>Bradley Cooper|Sienna Miller|Lily James|Alicia...</td>\n",
       "      <td>John Wells</td>\n",
       "      <td>Never underestimate a man with everything to l...</td>\n",
       "      <td>Adam Jones is a Chef who destroyed his career ...</td>\n",
       "      <td>100</td>\n",
       "      <td>Drama</td>\n",
       "      <td>Double Feature Films|PeaPie Films|3 Arts Enter...</td>\n",
       "      <td>10/2/2015</td>\n",
       "      <td>6.3</td>\n",
       "      <td>2015</td>\n",
       "    </tr>\n",
       "  </tbody>\n",
       "</table>\n",
       "</div>"
      ],
      "text/plain": [
       "        imdb_id     budget    revenue  \\\n",
       "124   tt2245084  165000000  652105443   \n",
       "1585  tt0339291  140000000  209073645   \n",
       "1523  tt0462200   15000000   10903846   \n",
       "1090  tt0319343   32000000  173398518   \n",
       "677   tt0482606    9000000   82391145   \n",
       "303   tt0795351   27000000   29000000   \n",
       "1228  tt1535109   55000000   95000000   \n",
       "685   tt1032755   18000000   25739015   \n",
       "1529  tt0383060   35000000   12506188   \n",
       "937   tt0284490   85000000   77741732   \n",
       "830   tt1578275   70000000   67112664   \n",
       "1016  tt1673434  120000000  829000000   \n",
       "1592  tt0357413   26000000   90574188   \n",
       "21    tt1798684   30000000   91709827   \n",
       "510   tt0247638   37000000  165335153   \n",
       "1414  tt0424774   50000000   69425966   \n",
       "1300  tt1425922   17500000    7018189   \n",
       "39    tt1618442   90000000  140396650   \n",
       "403   tt0985694   20000000   31327899   \n",
       "49    tt2503944   20000000   36606743   \n",
       "\n",
       "                                       original_title  \\\n",
       "124                                        Big Hero 6   \n",
       "1585  Lemony Snicket's A Series of Unfortunate Events   \n",
       "1523                                 Black Snake Moan   \n",
       "1090                                              Elf   \n",
       "677                                     The Strangers   \n",
       "303                                           Case 39   \n",
       "1228                                 Captain Phillips   \n",
       "685                                        RockNRolla   \n",
       "1529                                             Zoom   \n",
       "937                                          Showtime   \n",
       "830                                       The Dilemma   \n",
       "1016        The Twilight Saga: Breaking Dawn - Part 2   \n",
       "1592            Anchorman: The Legend of Ron Burgundy   \n",
       "21                                           Southpaw   \n",
       "510                              The Princess Diaries   \n",
       "1414          The Adventures of Sharkboy and Lavagirl   \n",
       "1300                                   Black Nativity   \n",
       "39                              The Last Witch Hunter   \n",
       "403                                           Machete   \n",
       "49                                              Burnt   \n",
       "\n",
       "                                                   cast  \\\n",
       "124   Scott Adsit|Ryan Potter|Daniel Henney|T.J. Mil...   \n",
       "1585  Jim Carrey|Meryl Streep|Jude Law|Emily Brownin...   \n",
       "1523  Samuel L. Jackson|Christina Ricci|Justin Timbe...   \n",
       "1090  Will Ferrell|James Caan|Zooey Deschanel|Mary S...   \n",
       "677   Liv Tyler|Scott Speedman|Alex Fisher|Peter Cla...   \n",
       "303   RenÃ©e Zellweger|Jodelle Ferland|Ian McShane|K...   \n",
       "1228  Tom Hanks|Catherine Keener|Max Martini|Chris M...   \n",
       "685   Mark Strong|Tom Wilkinson|Toby Kebbell|Gerard ...   \n",
       "1529  Tim Allen|Courteney Cox|Chevy Chase|Spencer Br...   \n",
       "937   Robert De Niro|Rachael Harris|Eddie Murphy|Zai...   \n",
       "830   Kevin James|Vince Vaughn|Winona Ryder|Jennifer...   \n",
       "1016  Kristen Stewart|Robert Pattinson|Taylor Lautne...   \n",
       "1592  Will Ferrell|Christina Applegate|Paul Rudd|Dav...   \n",
       "21    Jake Gyllenhaal|Rachel McAdams|Forest Whitaker...   \n",
       "510   Anne Hathaway|Julie Andrews|Heather Matarazzo|...   \n",
       "1414  Taylor Lautner|Taylor Dooley|Cayden Boyd|Georg...   \n",
       "1300  Forest Whitaker|Angela Bassett|Jennifer Hudson...   \n",
       "39    Vin Diesel|Rose Leslie|Michael Caine|Elijah Wo...   \n",
       "403   Danny Trejo|Michelle Rodriguez|Jessica Alba|Ro...   \n",
       "49    Bradley Cooper|Sienna Miller|Lily James|Alicia...   \n",
       "\n",
       "                             director  \\\n",
       "124           Don Hall|Chris Williams   \n",
       "1585                  Brad Silberling   \n",
       "1523                     Craig Brewer   \n",
       "1090                      Jon Favreau   \n",
       "677                     Bryan Bertino   \n",
       "303                  Christian Alvart   \n",
       "1228                  Paul Greengrass   \n",
       "685                       Guy Ritchie   \n",
       "1529                     Peter Hewitt   \n",
       "937                           Tom Dey   \n",
       "830                        Ron Howard   \n",
       "1016                      Bill Condon   \n",
       "1592                       Adam McKay   \n",
       "21                      Antoine Fuqua   \n",
       "510                    Garry Marshall   \n",
       "1414                 Robert Rodriguez   \n",
       "1300                     Kasi Lemmons   \n",
       "39                       Breck Eisner   \n",
       "403   Robert Rodriguez|Ethan Maniquis   \n",
       "49                         John Wells   \n",
       "\n",
       "                                                tagline  \\\n",
       "124      From the creators of Wreck-it Ralph and Frozen   \n",
       "1585                    Darkening theaters December 17.   \n",
       "1523                To save his soul he must save hers.   \n",
       "1090             This holiday, discover your inner elf.   \n",
       "677                 Lock the door. Pretend you're safe.   \n",
       "303                 Some cases should  never be opened.   \n",
       "1228                   Out here survival is everything.   \n",
       "685             A story of sex, thugs and rock 'n roll.   \n",
       "1529  They're going to save the world... as long as ...   \n",
       "937                        Lights. Camera. Aggravation.   \n",
       "830   Two best friends. Nothing could come between t...   \n",
       "1016             The epic finale that will live forever   \n",
       "1592  They bring you the news so you don't have to g...   \n",
       "21                                     Believe in Hope.   \n",
       "510                   She rocks. She rules. She reigns.   \n",
       "1414                     Smaller heroes. Just as super.   \n",
       "1300            The Musical Event of the Holiday Season   \n",
       "39                                        Hunt forever.   \n",
       "403         He was given an offer he couldn't refuse...   \n",
       "49    Never underestimate a man with everything to l...   \n",
       "\n",
       "                                               overview  runtime  \\\n",
       "124   The special bond that develops between plus-si...      102   \n",
       "1585  Three wealthy children's parents are killed in...      108   \n",
       "1523  A God-fearing bluesman takes to a wild young w...      116   \n",
       "1090  When young Buddy falls into Santa's gift sack ...       97   \n",
       "677   After returning from a wedding reception, a co...       90   \n",
       "303   In her many years as a social worker, Emily Je...      109   \n",
       "1228  The true story of Captain Richard Phillips and...      134   \n",
       "685   When a Russian mobster sets up a real estate s...      114   \n",
       "1529  Jack Shepard is an out-of-shape auto shop owne...       83   \n",
       "937   A spoof of buddy cop movies where two very dif...       95   \n",
       "830   Longtime friends Ronny and Nick are partners i...      111   \n",
       "1016  After the birth of Renesmee, the Cullens gathe...      115   \n",
       "1592  It's the 1970s, and San Diego super-sexist anc...       94   \n",
       "21    Billy \"The Great\" Hope, the reigning junior mi...      123   \n",
       "510   A socially awkward but very bright 15-year-old...      115   \n",
       "1414  Max conjures up his perfect dreamworld...the P...       92   \n",
       "1300  A street-wise teen from Baltimore who has been...       93   \n",
       "39    The modern world holds many secrets, but by fa...      106   \n",
       "403   After being set-up and betrayed by the man who...      105   \n",
       "49    Adam Jones is a Chef who destroyed his career ...      100   \n",
       "\n",
       "                                        genres  \\\n",
       "124   Adventure|Family|Animation|Action|Comedy   \n",
       "1585           Adventure|Fantasy|Comedy|Family   \n",
       "1523                                     Drama   \n",
       "1090             Romance|Comedy|Family|Fantasy   \n",
       "677                    Thriller|Horror|Mystery   \n",
       "303                    Horror|Mystery|Thriller   \n",
       "1228                     Action|Drama|Thriller   \n",
       "685                      Action|Crime|Thriller   \n",
       "1529                     Fantasy|Comedy|Family   \n",
       "937                              Action|Comedy   \n",
       "830                               Comedy|Drama   \n",
       "1016           Adventure|Fantasy|Drama|Romance   \n",
       "1592                                    Comedy   \n",
       "21                                Action|Drama   \n",
       "510                      Comedy|Family|Romance   \n",
       "1414           Adventure|Fantasy|Action|Family   \n",
       "1300                               Drama|Music   \n",
       "39                    Fantasy|Action|Adventure   \n",
       "403                     Action|Comedy|Thriller   \n",
       "49                                       Drama   \n",
       "\n",
       "                                   production_companies release_date  \\\n",
       "124   Walt Disney Pictures|Walt Disney Animation Stu...   10/24/2014   \n",
       "1585  Paramount Pictures|Scott Rudin Productions|Nic...   12/16/2004   \n",
       "1523                                 Paramount Classics    12/8/2006   \n",
       "1090  New Line Cinema|Gold/Miller Productions|Guy Wa...    10/9/2003   \n",
       "677                Rogue Pictures|Vertigo Entertainment    5/29/2008   \n",
       "303   Paramount Vantage|Anonymous Content|Misher Fil...    8/13/2009   \n",
       "1228                                  Columbia Pictures   10/10/2013   \n",
       "685   StudioCanal|Dark Castle Entertainment|Toff Guy...     9/4/2008   \n",
       "1529               Columbia Pictures|Revolution Studios    8/11/2006   \n",
       "937   Village Roadshow Pictures|NPV Entertainment|Wa...    3/14/2002   \n",
       "830   Imagine Entertainment|Universal Pictures|Spygl...    1/13/2011   \n",
       "1016  Summit Entertainment|Sunswept Entertainment|Te...   11/13/2012   \n",
       "1592                                 Apatow Productions     7/9/2004   \n",
       "21              Escape Artists|Riche-Ludwig Productions    6/15/2015   \n",
       "510   Walt Disney Pictures|BrownHouse Productions|Bo...     8/3/2001   \n",
       "1414      Columbia Pictures Corporation|Dimension Films    6/10/2005   \n",
       "1300           Fox Searchlight Pictures|Fox Searchlight   11/27/2013   \n",
       "39    Summit Entertainment|Atmosphere Entertainment ...   10/21/2015   \n",
       "403   Dune Entertainment|Dune Entertainment III|Trou...     9/1/2010   \n",
       "49    Double Feature Films|PeaPie Films|3 Arts Enter...    10/2/2015   \n",
       "\n",
       "      vote_average  release_year  \n",
       "124            7.8          2014  \n",
       "1585           6.5          2004  \n",
       "1523           6.3          2006  \n",
       "1090           6.5          2003  \n",
       "677            5.9          2008  \n",
       "303            6.0          2009  \n",
       "1228           7.7          2013  \n",
       "685            6.8          2008  \n",
       "1529           5.1          2006  \n",
       "937            5.2          2002  \n",
       "830            5.2          2011  \n",
       "1016           6.1          2012  \n",
       "1592           6.7          2004  \n",
       "21             7.3          2015  \n",
       "510            6.3          2001  \n",
       "1414           4.3          2005  \n",
       "1300           6.2          2013  \n",
       "39             5.6          2015  \n",
       "403            6.2          2010  \n",
       "49             6.3          2015  "
      ]
     },
     "execution_count": 129,
     "metadata": {},
     "output_type": "execute_result"
    }
   ],
   "source": [
    "data = pd.read_csv('movie_bd_v5.csv')\n",
    "data.sample(20)"
   ]
  },
  {
   "cell_type": "code",
   "execution_count": 4,
   "metadata": {
    "colab": {},
    "colab_type": "code",
    "id": "CoYUnagMVp-C"
   },
   "outputs": [
    {
     "data": {
      "text/html": [
       "<div>\n",
       "<style scoped>\n",
       "    .dataframe tbody tr th:only-of-type {\n",
       "        vertical-align: middle;\n",
       "    }\n",
       "\n",
       "    .dataframe tbody tr th {\n",
       "        vertical-align: top;\n",
       "    }\n",
       "\n",
       "    .dataframe thead th {\n",
       "        text-align: right;\n",
       "    }\n",
       "</style>\n",
       "<table border=\"1\" class=\"dataframe\">\n",
       "  <thead>\n",
       "    <tr style=\"text-align: right;\">\n",
       "      <th></th>\n",
       "      <th>budget</th>\n",
       "      <th>revenue</th>\n",
       "      <th>runtime</th>\n",
       "      <th>vote_average</th>\n",
       "      <th>release_year</th>\n",
       "    </tr>\n",
       "  </thead>\n",
       "  <tbody>\n",
       "    <tr>\n",
       "      <th>count</th>\n",
       "      <td>1.889000e+03</td>\n",
       "      <td>1.889000e+03</td>\n",
       "      <td>1889.000000</td>\n",
       "      <td>1889.000000</td>\n",
       "      <td>1889.000000</td>\n",
       "    </tr>\n",
       "    <tr>\n",
       "      <th>mean</th>\n",
       "      <td>5.431083e+07</td>\n",
       "      <td>1.553653e+08</td>\n",
       "      <td>109.658549</td>\n",
       "      <td>6.140762</td>\n",
       "      <td>2007.860773</td>\n",
       "    </tr>\n",
       "    <tr>\n",
       "      <th>std</th>\n",
       "      <td>4.858721e+07</td>\n",
       "      <td>2.146698e+08</td>\n",
       "      <td>18.017041</td>\n",
       "      <td>0.764763</td>\n",
       "      <td>4.468841</td>\n",
       "    </tr>\n",
       "    <tr>\n",
       "      <th>min</th>\n",
       "      <td>5.000000e+06</td>\n",
       "      <td>2.033165e+06</td>\n",
       "      <td>63.000000</td>\n",
       "      <td>3.300000</td>\n",
       "      <td>2000.000000</td>\n",
       "    </tr>\n",
       "    <tr>\n",
       "      <th>25%</th>\n",
       "      <td>2.000000e+07</td>\n",
       "      <td>3.456058e+07</td>\n",
       "      <td>97.000000</td>\n",
       "      <td>5.600000</td>\n",
       "      <td>2004.000000</td>\n",
       "    </tr>\n",
       "    <tr>\n",
       "      <th>50%</th>\n",
       "      <td>3.800000e+07</td>\n",
       "      <td>8.361541e+07</td>\n",
       "      <td>107.000000</td>\n",
       "      <td>6.100000</td>\n",
       "      <td>2008.000000</td>\n",
       "    </tr>\n",
       "    <tr>\n",
       "      <th>75%</th>\n",
       "      <td>7.200000e+07</td>\n",
       "      <td>1.782626e+08</td>\n",
       "      <td>120.000000</td>\n",
       "      <td>6.600000</td>\n",
       "      <td>2012.000000</td>\n",
       "    </tr>\n",
       "    <tr>\n",
       "      <th>max</th>\n",
       "      <td>3.800000e+08</td>\n",
       "      <td>2.781506e+09</td>\n",
       "      <td>214.000000</td>\n",
       "      <td>8.100000</td>\n",
       "      <td>2015.000000</td>\n",
       "    </tr>\n",
       "  </tbody>\n",
       "</table>\n",
       "</div>"
      ],
      "text/plain": [
       "             budget       revenue      runtime  vote_average  release_year\n",
       "count  1.889000e+03  1.889000e+03  1889.000000   1889.000000   1889.000000\n",
       "mean   5.431083e+07  1.553653e+08   109.658549      6.140762   2007.860773\n",
       "std    4.858721e+07  2.146698e+08    18.017041      0.764763      4.468841\n",
       "min    5.000000e+06  2.033165e+06    63.000000      3.300000   2000.000000\n",
       "25%    2.000000e+07  3.456058e+07    97.000000      5.600000   2004.000000\n",
       "50%    3.800000e+07  8.361541e+07   107.000000      6.100000   2008.000000\n",
       "75%    7.200000e+07  1.782626e+08   120.000000      6.600000   2012.000000\n",
       "max    3.800000e+08  2.781506e+09   214.000000      8.100000   2015.000000"
      ]
     },
     "execution_count": 4,
     "metadata": {},
     "output_type": "execute_result"
    }
   ],
   "source": [
    "data.describe()"
   ]
  },
  {
   "cell_type": "markdown",
   "metadata": {
    "colab_type": "text",
    "id": "DTIt7ezGVp-G"
   },
   "source": [
    "# Предобработка"
   ]
  },
  {
   "cell_type": "code",
   "execution_count": 131,
   "metadata": {
    "colab": {},
    "colab_type": "code",
    "id": "jNb40DwKVp-H"
   },
   "outputs": [],
   "source": [
    "answers = {} # creating dictionary for answers\n",
    "data['profit'] = data['revenue'] - data['budget'] #adding new column 'Profit'\n",
    "# завернем в функцию и будем использовать в дальнейшем\n",
    "def counter(movie_bd, x):\n",
    "    data_tmp=movie_bd[x].str.cat(sep='|') # превращаем все в одну строку\n",
    "    data_tmp=pd.Series(data_tmp.split('|')) # создаем список разделяя строку по '|'\n",
    "    data_tmp=data_tmp.value_counts(ascending=False) # считаем количество элементов строке\n",
    "    return data_tmp "
   ]
  },
  {
   "cell_type": "markdown",
   "metadata": {
    "colab_type": "text",
    "id": "YxZaH-nPVp-L"
   },
   "source": [
    "# 1. У какого фильма из списка самый большой бюджет?Допилить"
   ]
  },
  {
   "cell_type": "code",
   "execution_count": 6,
   "metadata": {
    "colab": {},
    "colab_type": "code",
    "id": "uVnXAY5RVp-O"
   },
   "outputs": [],
   "source": [
    "data_1 = data # adding local data DF to use in answer for 1st question.\n",
    "max_budget_mask = data_1.budget == data_1.budget.max() #making mask to know film with max budget\n",
    "data_1 = data_1[max_budget_mask] #using mask to filter only one film from DF\n",
    "answers ['1'] = data_1['imdb_id'] # putting imdb_id into answers dict"
   ]
  },
  {
   "cell_type": "markdown",
   "metadata": {
    "colab_type": "text",
    "id": "K7L3nbRXVp-X"
   },
   "source": [
    "## Second option"
   ]
  },
  {
   "cell_type": "code",
   "execution_count": 7,
   "metadata": {
    "colab": {},
    "colab_type": "code",
    "id": "OGaoQI7rVp-X"
   },
   "outputs": [],
   "source": [
    "answers ['1_2'] = data[data.runtime == data.budget.max()]['imdb_id']"
   ]
  },
  {
   "cell_type": "markdown",
   "metadata": {
    "colab_type": "text",
    "id": "FNRbbI3vVp-c"
   },
   "source": [
    "# 2. Какой из фильмов самый длительный (в минутах)?"
   ]
  },
  {
   "cell_type": "code",
   "execution_count": 8,
   "metadata": {
    "colab": {},
    "colab_type": "code",
    "id": "vHAoEXNTVp-d"
   },
   "outputs": [],
   "source": [
    "data_2 = data # adding local data DF to use in answer for 1st question.\n",
    "max_runtime_mask = data_2.runtime == data_2.runtime.max() #making mask to know film with max runtime\n",
    "data_2 = data_2[max_runtime_mask] #using mask to filter only one film from DF\n",
    "answers ['2'] = data_2['imdb_id'] # putting imdb_id into answers dict\n"
   ]
  },
  {
   "cell_type": "markdown",
   "metadata": {},
   "source": [
    "## Second option"
   ]
  },
  {
   "cell_type": "code",
   "execution_count": 9,
   "metadata": {},
   "outputs": [],
   "source": [
    "answers ['2_2'] = data[data.runtime == data.runtime.max()]['imdb_id']"
   ]
  },
  {
   "cell_type": "markdown",
   "metadata": {
    "colab_type": "text",
    "id": "bapLlpW8Vp-k"
   },
   "source": [
    "# 3. Какой из фильмов самый короткий (в минутах)?\n",
    "\n",
    "\n",
    "\n"
   ]
  },
  {
   "cell_type": "code",
   "execution_count": 10,
   "metadata": {
    "colab": {},
    "colab_type": "code",
    "id": "YBxaSHuAVp-l"
   },
   "outputs": [],
   "source": [
    "data_3 = data # adding local data DF to use in answer for 1st question.\n",
    "min_runtime_mask = data_3.runtime == data_3.runtime.min() #making mask to know film with min runtime\n",
    "data_3 = data_3[min_runtime_mask] #using mask to filter only one film from DF\n",
    "answers ['3'] = data_3['imdb_id'] # putting imdb_id into answers dict"
   ]
  },
  {
   "cell_type": "markdown",
   "metadata": {},
   "source": [
    "## Second option"
   ]
  },
  {
   "cell_type": "code",
   "execution_count": 11,
   "metadata": {},
   "outputs": [],
   "source": [
    "answers ['3_2'] = data[data.runtime == data.runtime.min()]['imdb_id']"
   ]
  },
  {
   "cell_type": "markdown",
   "metadata": {
    "colab_type": "text",
    "id": "TfQbxbfNVp-p"
   },
   "source": [
    "# 4. Какова средняя длительность фильмов?\n"
   ]
  },
  {
   "cell_type": "code",
   "execution_count": 12,
   "metadata": {
    "colab": {},
    "colab_type": "code",
    "id": "5K6dKZYVVp-q"
   },
   "outputs": [],
   "source": [
    "data_4 = data # adding local data DF to use in answer for 1st question.\n",
    "answers['4'] =  data.runtime.mean() # avg runtime"
   ]
  },
  {
   "cell_type": "markdown",
   "metadata": {},
   "source": [
    "## Second option\n"
   ]
  },
  {
   "cell_type": "code",
   "execution_count": 13,
   "metadata": {},
   "outputs": [],
   "source": [
    "answers ['4_2'] = data.runtime.mean()"
   ]
  },
  {
   "cell_type": "markdown",
   "metadata": {
    "colab_type": "text",
    "id": "r5TvbnT_Vp-u"
   },
   "source": [
    "# 5. Каково медианное значение длительности фильмов? "
   ]
  },
  {
   "cell_type": "code",
   "execution_count": 14,
   "metadata": {
    "colab": {},
    "colab_type": "code",
    "id": "iBROplKnVp-v"
   },
   "outputs": [],
   "source": [
    "data_5 = data # adding local data DF to use in answer for 1st question.\n",
    "answers['5'] =  data.runtime.median() # avg runtime"
   ]
  },
  {
   "cell_type": "markdown",
   "metadata": {
    "colab_type": "text",
    "id": "39P-deDSVp-y"
   },
   "source": [
    "# 6. Какой самый прибыльный фильм?\n",
    "#### Внимание! Здесь и далее под «прибылью» или «убытками» понимается разность между сборами и бюджетом фильма. (прибыль = сборы - бюджет) в нашем датасете это будет (profit = revenue - budget) "
   ]
  },
  {
   "cell_type": "code",
   "execution_count": 15,
   "metadata": {
    "colab": {},
    "colab_type": "code",
    "id": "UYZh4T9WVp-y"
   },
   "outputs": [],
   "source": [
    "answers['6'] = data[data.profit == data.profit.max()]['imdb_id']# avg runtime"
   ]
  },
  {
   "cell_type": "markdown",
   "metadata": {
    "colab_type": "text",
    "id": "M99JmIX4Vp-2"
   },
   "source": [
    "# 7. Какой фильм самый убыточный? "
   ]
  },
  {
   "cell_type": "code",
   "execution_count": 16,
   "metadata": {
    "colab": {},
    "colab_type": "code",
    "id": "w-D2m4XPVp-3"
   },
   "outputs": [],
   "source": [
    "answers['7'] = data[data.profit == data.profit.min()]['imdb_id']"
   ]
  },
  {
   "cell_type": "markdown",
   "metadata": {
    "colab_type": "text",
    "id": "wEOM5ERVVp-6"
   },
   "source": [
    "# 8. У скольких фильмов из датасета объем сборов оказался выше бюджета?"
   ]
  },
  {
   "cell_type": "code",
   "execution_count": 17,
   "metadata": {
    "colab": {},
    "colab_type": "code",
    "id": "y00_7HD6Vp-7"
   },
   "outputs": [],
   "source": [
    "answers['8'] = len(data[data.revenue > data.budget])"
   ]
  },
  {
   "cell_type": "markdown",
   "metadata": {
    "colab_type": "text",
    "id": "xhpspA9KVp_A"
   },
   "source": [
    "# 9. Какой фильм оказался самым кассовым в 2008 году?"
   ]
  },
  {
   "cell_type": "code",
   "execution_count": 18,
   "metadata": {
    "colab": {},
    "colab_type": "code",
    "id": "MoUyQr9RVp_B"
   },
   "outputs": [],
   "source": [
    "data_2008 = data[(data.release_year == 2008)] #films from 2008 year\n",
    "answers['9'] = data_2008[data_2008.revenue == data_2008.revenue.max()]['imdb_id'] #detecting film with highest revenue from 2008"
   ]
  },
  {
   "cell_type": "markdown",
   "metadata": {
    "colab_type": "text",
    "id": "Zi4hDKidVp_F"
   },
   "source": [
    "# 10. Самый убыточный фильм за период с 2012 по 2014 г. (включительно)?\n"
   ]
  },
  {
   "cell_type": "code",
   "execution_count": 19,
   "metadata": {
    "colab": {},
    "colab_type": "code",
    "id": "XqyRmufJVp_F",
    "scrolled": true
   },
   "outputs": [],
   "source": [
    "data_interval = data[(data.release_year >= 2012) & (data.release_year <= 2014) ]\n",
    "answers['10'] = data_interval[data_interval.profit == data_interval.profit.min()].imdb_id"
   ]
  },
  {
   "cell_type": "markdown",
   "metadata": {
    "colab_type": "text",
    "id": "EA7Sa9dkVp_I"
   },
   "source": [
    "# 11. Какого жанра фильмов больше всего?"
   ]
  },
  {
   "cell_type": "code",
   "execution_count": 167,
   "metadata": {
    "colab": {},
    "colab_type": "code",
    "id": "zsJAwJ8QVp_J"
   },
   "outputs": [],
   "source": [
    "data_all_gen = data[data.genres.str.contains(\"\\D\")]\n",
    "sum_gen=counter(data_all_gen,'genres')\n",
    "answers['11'] = sum_gen.loc[[sum_gen.idxmax()]]"
   ]
  },
  {
   "cell_type": "markdown",
   "metadata": {
    "colab_type": "text",
    "id": "Ax6g2C8SVp_M"
   },
   "source": [
    "ВАРИАНТ 2"
   ]
  },
  {
   "cell_type": "code",
   "execution_count": 163,
   "metadata": {
    "colab": {},
    "colab_type": "code",
    "id": "otO3SbrSVp_N"
   },
   "outputs": [
    {
     "name": "stdout",
     "output_type": "stream",
     "text": [
      "Help on built-in function max in module builtins:\n",
      "\n",
      "max(...)\n",
      "    max(iterable, *[, default=obj, key=func]) -> value\n",
      "    max(arg1, arg2, *args, *[, key=func]) -> value\n",
      "    \n",
      "    With a single iterable argument, return its biggest item. The\n",
      "    default keyword-only argument specifies an object to return if\n",
      "    the provided iterable is empty.\n",
      "    With two or more arguments, return the largest argument.\n",
      "\n"
     ]
    }
   ],
   "source": [
    "help(max) #попробуй сделать в виде функции +1 к каждому новому жанру"
   ]
  },
  {
   "cell_type": "markdown",
   "metadata": {
    "colab_type": "text",
    "id": "T9_bPWpkVp_Q"
   },
   "source": [
    "# 12. Фильмы какого жанра чаще всего становятся прибыльными?  допилить"
   ]
  },
  {
   "cell_type": "code",
   "execution_count": 153,
   "metadata": {
    "colab": {},
    "colab_type": "code",
    "id": "Tmt8MaK1Vp_R"
   },
   "outputs": [],
   "source": [
    "data_profit = data[data.profit > 0] #taking films with profit > 0\n",
    "data_all_gen_profit = data_profit[data_profit.genres.str.contains(\"\\D\")]\n",
    "\n",
    "sum_gen=counter(data_all_gen_profit,'genres')\n",
    "answers['12'] = sum_gen.loc[[sum_gen.idxmax()]] #getting top value and writing it to the answers dict"
   ]
  },
  {
   "cell_type": "markdown",
   "metadata": {
    "colab_type": "text",
    "id": "0F23bgsDVp_U"
   },
   "source": [
    "# 13. У какого режиссера самые большие суммарные кассовые сборы?"
   ]
  },
  {
   "cell_type": "code",
   "execution_count": 90,
   "metadata": {
    "colab": {},
    "colab_type": "code",
    "id": "K6Z3J8ygVp_X"
   },
   "outputs": [],
   "source": [
    "data_director_rev = data.groupby(['director'])['revenue'].sum().sort_values(ascending = False) #grouped by directors,\n",
    "                                                                                #got sum of the revenue, sort by values\n",
    "answers['12'] = data_director_rev.loc[[data_director_rev.idxmax()]]\n"
   ]
  },
  {
   "cell_type": "markdown",
   "metadata": {
    "colab_type": "text",
    "id": "PsYC9FgRVp_a"
   },
   "source": [
    "# 14. Какой режисер снял больше всего фильмов в стиле Action? Допилить"
   ]
  },
  {
   "cell_type": "code",
   "execution_count": 142,
   "metadata": {
    "colab": {},
    "colab_type": "code",
    "id": "wd2M-wHeVp_b",
    "scrolled": true
   },
   "outputs": [
    {
     "data": {
      "text/plain": [
       "{'11': Robert Rodriguez    9\n",
       " dtype: int64,\n",
       " '14': Robert Rodriguez    9\n",
       " dtype: int64}"
      ]
     },
     "execution_count": 142,
     "metadata": {},
     "output_type": "execute_result"
    }
   ],
   "source": [
    "data_all_gen = data[data.genres.str.contains(\"Action\")]\n",
    "sum_gen=counter(data_all_gen,'director')\n",
    "answers['14'] = sum_gen.loc[[sum_gen.idxmax()]]"
   ]
  },
  {
   "cell_type": "code",
   "execution_count": null,
   "metadata": {
    "scrolled": true
   },
   "outputs": [],
   "source": []
  },
  {
   "cell_type": "markdown",
   "metadata": {
    "colab_type": "text",
    "id": "PQ0KciD7Vp_f"
   },
   "source": [
    "# 15. Фильмы с каким актером принесли самые высокие кассовые сборы в 2012 году? "
   ]
  },
  {
   "cell_type": "code",
   "execution_count": 168,
   "metadata": {
    "colab": {},
    "colab_type": "code",
    "id": "aga62oeKVp_g"
   },
   "outputs": [],
   "source": [
    "data_2012 = data[data.release_year == 2012]\n"
   ]
  },
  {
   "cell_type": "markdown",
   "metadata": {
    "colab_type": "text",
    "id": "mWHyyL7QVp_j"
   },
   "source": [
    "# 16. Какой актер снялся в большем количестве высокобюджетных фильмов?"
   ]
  },
  {
   "cell_type": "code",
   "execution_count": 0,
   "metadata": {
    "colab": {},
    "colab_type": "code",
    "id": "qQtmHKTFVp_k"
   },
   "outputs": [],
   "source": []
  },
  {
   "cell_type": "markdown",
   "metadata": {
    "colab_type": "text",
    "id": "NIh6AaW5Vp_n"
   },
   "source": [
    "# 17. В фильмах какого жанра больше всего снимался Nicolas Cage? "
   ]
  },
  {
   "cell_type": "code",
   "execution_count": 0,
   "metadata": {
    "colab": {},
    "colab_type": "code",
    "id": "H74SJDIBVp_n"
   },
   "outputs": [],
   "source": []
  },
  {
   "cell_type": "markdown",
   "metadata": {
    "colab_type": "text",
    "id": "RqOmPRfWVp_q"
   },
   "source": [
    "# 18. Самый убыточный фильм от Paramount Pictures"
   ]
  },
  {
   "cell_type": "code",
   "execution_count": 0,
   "metadata": {
    "colab": {},
    "colab_type": "code",
    "id": "9E_B0Y96Vp_r"
   },
   "outputs": [],
   "source": []
  },
  {
   "cell_type": "markdown",
   "metadata": {
    "colab_type": "text",
    "id": "vS8Ur6ddVp_u"
   },
   "source": [
    "# 19. Какой год стал самым успешным по суммарным кассовым сборам?"
   ]
  },
  {
   "cell_type": "code",
   "execution_count": 0,
   "metadata": {
    "colab": {},
    "colab_type": "code",
    "id": "Dnbt4GdIVp_v"
   },
   "outputs": [],
   "source": []
  },
  {
   "cell_type": "markdown",
   "metadata": {
    "colab_type": "text",
    "id": "JAzJh4QAVp_z"
   },
   "source": [
    "# 20. Какой самый прибыльный год для студии Warner Bros?"
   ]
  },
  {
   "cell_type": "code",
   "execution_count": 0,
   "metadata": {
    "colab": {},
    "colab_type": "code",
    "id": "wgVu02DEVp_0"
   },
   "outputs": [],
   "source": []
  },
  {
   "cell_type": "markdown",
   "metadata": {
    "colab_type": "text",
    "id": "8Im1S2HRVp_4"
   },
   "source": [
    "# 21. В каком месяце за все годы суммарно вышло больше всего фильмов?"
   ]
  },
  {
   "cell_type": "code",
   "execution_count": 0,
   "metadata": {
    "colab": {},
    "colab_type": "code",
    "id": "lev6TH7gVp_4"
   },
   "outputs": [],
   "source": []
  },
  {
   "cell_type": "markdown",
   "metadata": {
    "colab_type": "text",
    "id": "uAJsZ_NeVp_7"
   },
   "source": [
    "# 22. Сколько суммарно вышло фильмов летом? (за июнь, июль, август)"
   ]
  },
  {
   "cell_type": "code",
   "execution_count": 0,
   "metadata": {
    "colab": {},
    "colab_type": "code",
    "id": "Aa-hEREoVp_8"
   },
   "outputs": [],
   "source": []
  },
  {
   "cell_type": "markdown",
   "metadata": {
    "colab_type": "text",
    "id": "G94ppOY1VqAA"
   },
   "source": [
    "# 23. Для какого режиссера зима – самое продуктивное время года? "
   ]
  },
  {
   "cell_type": "code",
   "execution_count": 0,
   "metadata": {
    "colab": {},
    "colab_type": "code",
    "id": "RhNTsamuVqAB"
   },
   "outputs": [],
   "source": []
  },
  {
   "cell_type": "markdown",
   "metadata": {
    "colab_type": "text",
    "id": "RBo0JVjVVqAF"
   },
   "source": [
    "# 24. Какая студия дает самые длинные названия своим фильмам по количеству символов?"
   ]
  },
  {
   "cell_type": "code",
   "execution_count": 0,
   "metadata": {
    "colab": {},
    "colab_type": "code",
    "id": "QRGS8L0iVqAG"
   },
   "outputs": [],
   "source": []
  },
  {
   "cell_type": "markdown",
   "metadata": {
    "colab_type": "text",
    "id": "9G0hbvR7VqAK"
   },
   "source": [
    "# 25. Описание фильмов какой студии в среднем самые длинные по количеству слов?"
   ]
  },
  {
   "cell_type": "code",
   "execution_count": 0,
   "metadata": {
    "colab": {},
    "colab_type": "code",
    "id": "Ge2GsLNxVqAK"
   },
   "outputs": [],
   "source": []
  },
  {
   "cell_type": "markdown",
   "metadata": {
    "colab_type": "text",
    "id": "FJ1AFt90VqAP"
   },
   "source": [
    "# 26. Какие фильмы входят в 1 процент лучших по рейтингу? \n",
    "по vote_average"
   ]
  },
  {
   "cell_type": "code",
   "execution_count": 0,
   "metadata": {
    "colab": {},
    "colab_type": "code",
    "id": "8qmJVq4CVqAQ"
   },
   "outputs": [],
   "source": []
  },
  {
   "cell_type": "markdown",
   "metadata": {
    "colab_type": "text",
    "id": "MdXsUXbCVqAV"
   },
   "source": [
    "# 27. Какие актеры чаще всего снимаются в одном фильме вместе?\n"
   ]
  },
  {
   "cell_type": "markdown",
   "metadata": {
    "colab_type": "text",
    "id": "4ymnxEVoVqAW"
   },
   "source": [
    "ВАРИАНТ 2"
   ]
  },
  {
   "cell_type": "markdown",
   "metadata": {
    "colab_type": "text",
    "id": "U0nONFnGVqAX"
   },
   "source": [
    "# Submission"
   ]
  },
  {
   "cell_type": "code",
   "execution_count": 0,
   "metadata": {
    "colab": {},
    "colab_type": "code",
    "id": "IfcaRO9-VqAX",
    "outputId": "0f132912-32bb-4196-c98c-abfbc4ad5a5f"
   },
   "outputs": [
    {
     "data": {
      "text/plain": [
       "{'1': '...', '2': '...'}"
      ]
     },
     "execution_count": 8,
     "metadata": {
      "tags": []
     },
     "output_type": "execute_result"
    }
   ],
   "source": [
    "# в конце можно посмотреть свои ответы к каждому вопросу\n",
    "answers"
   ]
  },
  {
   "cell_type": "code",
   "execution_count": 0,
   "metadata": {
    "colab": {},
    "colab_type": "code",
    "id": "SiRmHPl8VqAd"
   },
   "outputs": [],
   "source": [
    "# и убедиться что ни чего не пропустил)\n",
    "len(answers)"
   ]
  },
  {
   "cell_type": "code",
   "execution_count": 0,
   "metadata": {
    "colab": {},
    "colab_type": "code",
    "id": "uCfuTkRbVqAg"
   },
   "outputs": [],
   "source": []
  },
  {
   "cell_type": "code",
   "execution_count": 0,
   "metadata": {
    "colab": {},
    "colab_type": "code",
    "id": "Vwx3NrkSVqAl"
   },
   "outputs": [],
   "source": []
  }
 ],
 "metadata": {
  "colab": {
   "name": "Copy of [SF-DST] Movies IMBD v4.1 TEMPLATE.ipynb",
   "provenance": []
  },
  "kernelspec": {
   "display_name": "Python 3",
   "language": "python",
   "name": "python3"
  },
  "language_info": {
   "codemirror_mode": {
    "name": "ipython",
    "version": 3
   },
   "file_extension": ".py",
   "mimetype": "text/x-python",
   "name": "python",
   "nbconvert_exporter": "python",
   "pygments_lexer": "ipython3",
   "version": "3.8.3"
  }
 },
 "nbformat": 4,
 "nbformat_minor": 1
}
