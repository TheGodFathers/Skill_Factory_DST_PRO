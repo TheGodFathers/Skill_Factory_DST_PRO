{
 "cells": [
  {
   "cell_type": "code",
   "execution_count": 71,
   "metadata": {
    "_cell_guid": "b1076dfc-b9ad-4769-8c92-a6c4dae69d19",
    "_uuid": "8f2839f25d086af736a60e9eeb907d3b93b6e0e5",
    "colab": {},
    "colab_type": "code",
    "id": "U2D2gTdJVp90"
   },
   "outputs": [],
   "source": [
    "import numpy as np\n",
    "import pandas as pd\n",
    "import seaborn as sns\n",
    "import matplotlib.pyplot as plt\n",
    "import collections\n",
    "from collections import Counter\n"
   ]
  },
  {
   "cell_type": "code",
   "execution_count": 51,
   "metadata": {
    "_cell_guid": "79c7e3d0-c299-4dcb-8224-4455121ee9b0",
    "_uuid": "d629ff2d2480ee46fbb7e2d37f6b5fab8052498a",
    "colab": {},
    "colab_type": "code",
    "id": "oyGfxL3eVp9-",
    "scrolled": true
   },
   "outputs": [
    {
     "data": {
      "text/html": [
       "<div>\n",
       "<style scoped>\n",
       "    .dataframe tbody tr th:only-of-type {\n",
       "        vertical-align: middle;\n",
       "    }\n",
       "\n",
       "    .dataframe tbody tr th {\n",
       "        vertical-align: top;\n",
       "    }\n",
       "\n",
       "    .dataframe thead th {\n",
       "        text-align: right;\n",
       "    }\n",
       "</style>\n",
       "<table border=\"1\" class=\"dataframe\">\n",
       "  <thead>\n",
       "    <tr style=\"text-align: right;\">\n",
       "      <th></th>\n",
       "      <th>imdb_id</th>\n",
       "      <th>budget</th>\n",
       "      <th>revenue</th>\n",
       "      <th>original_title</th>\n",
       "      <th>cast</th>\n",
       "      <th>director</th>\n",
       "      <th>tagline</th>\n",
       "      <th>overview</th>\n",
       "      <th>runtime</th>\n",
       "      <th>genres</th>\n",
       "      <th>production_companies</th>\n",
       "      <th>release_date</th>\n",
       "      <th>vote_average</th>\n",
       "      <th>release_year</th>\n",
       "    </tr>\n",
       "  </thead>\n",
       "  <tbody>\n",
       "    <tr>\n",
       "      <th>548</th>\n",
       "      <td>tt0206314</td>\n",
       "      <td>23000000</td>\n",
       "      <td>36642838</td>\n",
       "      <td>Joy Ride</td>\n",
       "      <td>Steve Zahn|Paul Walker|Leelee Sobieski|Jessica...</td>\n",
       "      <td>John Dahl</td>\n",
       "      <td>It was just a joke, just for fun.</td>\n",
       "      <td>Three young people on a road trip from Colorad...</td>\n",
       "      <td>97</td>\n",
       "      <td>Mystery|Thriller|Drama</td>\n",
       "      <td>Regency Enterprises|Epsilon Motion Pictures|Li...</td>\n",
       "      <td>10/5/2001</td>\n",
       "      <td>6.2</td>\n",
       "      <td>2001</td>\n",
       "    </tr>\n",
       "    <tr>\n",
       "      <th>1669</th>\n",
       "      <td>tt0449088</td>\n",
       "      <td>300000000</td>\n",
       "      <td>961000000</td>\n",
       "      <td>Pirates of the Caribbean: At World's End</td>\n",
       "      <td>Johnny Depp|Orlando Bloom|Keira Knightley|Geof...</td>\n",
       "      <td>Gore Verbinski</td>\n",
       "      <td>At the end of the world, the adventure begins.</td>\n",
       "      <td>Captain Barbossa, long believed to be dead, ha...</td>\n",
       "      <td>169</td>\n",
       "      <td>Adventure|Fantasy|Action</td>\n",
       "      <td>Walt Disney Pictures|Jerry Bruckheimer Films|S...</td>\n",
       "      <td>5/19/2007</td>\n",
       "      <td>6.8</td>\n",
       "      <td>2007</td>\n",
       "    </tr>\n",
       "    <tr>\n",
       "      <th>277</th>\n",
       "      <td>tt1182345</td>\n",
       "      <td>5000000</td>\n",
       "      <td>9760104</td>\n",
       "      <td>Moon</td>\n",
       "      <td>Sam Rockwell|Kevin Spacey|Dominique McElligott...</td>\n",
       "      <td>Duncan Jones</td>\n",
       "      <td>The last place you'd ever expect to find yours...</td>\n",
       "      <td>With only three weeks left in his three year c...</td>\n",
       "      <td>97</td>\n",
       "      <td>Science Fiction|Drama</td>\n",
       "      <td>Liberty Films UK|Lunar Industries|Xingu Films|...</td>\n",
       "      <td>6/12/2009</td>\n",
       "      <td>7.4</td>\n",
       "      <td>2009</td>\n",
       "    </tr>\n",
       "    <tr>\n",
       "      <th>538</th>\n",
       "      <td>tt0159273</td>\n",
       "      <td>40000000</td>\n",
       "      <td>91753202</td>\n",
       "      <td>Behind Enemy Lines</td>\n",
       "      <td>Owen Wilson|Gene Hackman|Gabriel Macht|Charles...</td>\n",
       "      <td>John Moore</td>\n",
       "      <td>His only weapon is his will to survive.</td>\n",
       "      <td>While flying a routine reconnaissance mission ...</td>\n",
       "      <td>106</td>\n",
       "      <td>Action|Drama|Thriller|War</td>\n",
       "      <td>Twentieth Century Fox Film Corporation|Davis E...</td>\n",
       "      <td>11/17/2001</td>\n",
       "      <td>5.9</td>\n",
       "      <td>2001</td>\n",
       "    </tr>\n",
       "    <tr>\n",
       "      <th>945</th>\n",
       "      <td>tt0265349</td>\n",
       "      <td>32000000</td>\n",
       "      <td>55157539</td>\n",
       "      <td>The Mothman Prophecies</td>\n",
       "      <td>Richard Gere|Laura Linney|Will Patton|Bob Trac...</td>\n",
       "      <td>Mark Pellington</td>\n",
       "      <td>What do you see?</td>\n",
       "      <td>Reporter John Klein is plunged into a world of...</td>\n",
       "      <td>119</td>\n",
       "      <td>Drama|Mystery|Thriller|Horror</td>\n",
       "      <td>Lakeshore Entertainment</td>\n",
       "      <td>1/25/2002</td>\n",
       "      <td>5.9</td>\n",
       "      <td>2002</td>\n",
       "    </tr>\n",
       "    <tr>\n",
       "      <th>65</th>\n",
       "      <td>tt2452042</td>\n",
       "      <td>99000000</td>\n",
       "      <td>246233113</td>\n",
       "      <td>The Peanuts Movie</td>\n",
       "      <td>Noah Schnapp|Bill Melendez|Venus Schultheis|Ha...</td>\n",
       "      <td>Steve Martino</td>\n",
       "      <td>The story of an underdog. And his dog.</td>\n",
       "      <td>Snoopy embarks upon his greatest mission as he...</td>\n",
       "      <td>88</td>\n",
       "      <td>Adventure|Animation|Comedy|Family</td>\n",
       "      <td>Blue Sky Studios|Twentieth Century Fox Animati...</td>\n",
       "      <td>11/5/2015</td>\n",
       "      <td>6.4</td>\n",
       "      <td>2015</td>\n",
       "    </tr>\n",
       "    <tr>\n",
       "      <th>1387</th>\n",
       "      <td>tt0408790</td>\n",
       "      <td>55000000</td>\n",
       "      <td>223387299</td>\n",
       "      <td>Flightplan</td>\n",
       "      <td>Jodie Foster|Peter Sarsgaard|Sean Bean|Kate Be...</td>\n",
       "      <td>Robert Schwentke</td>\n",
       "      <td>If Someone Took Everything You Live For... How...</td>\n",
       "      <td>A claustrophobic, Hitchcockian thriller. A ber...</td>\n",
       "      <td>98</td>\n",
       "      <td>Thriller|Drama|Mystery</td>\n",
       "      <td>Imagine Entertainment|Touchstone Pictures</td>\n",
       "      <td>9/22/2005</td>\n",
       "      <td>6.0</td>\n",
       "      <td>2005</td>\n",
       "    </tr>\n",
       "    <tr>\n",
       "      <th>1774</th>\n",
       "      <td>tt0465538</td>\n",
       "      <td>25000000</td>\n",
       "      <td>92991835</td>\n",
       "      <td>Michael Clayton</td>\n",
       "      <td>George Clooney|Tom Wilkinson|Tilda Swinton|Syd...</td>\n",
       "      <td>Tony Gilroy</td>\n",
       "      <td>The truth can be adjusted</td>\n",
       "      <td>A law firm brings in its 'fixer' to remedy the...</td>\n",
       "      <td>119</td>\n",
       "      <td>Drama|Mystery|Crime</td>\n",
       "      <td>Castle Rock Entertainment|Mirage Enterprises|S...</td>\n",
       "      <td>9/28/2007</td>\n",
       "      <td>6.3</td>\n",
       "      <td>2007</td>\n",
       "    </tr>\n",
       "    <tr>\n",
       "      <th>448</th>\n",
       "      <td>tt1135084</td>\n",
       "      <td>32000000</td>\n",
       "      <td>69055695</td>\n",
       "      <td>Takers</td>\n",
       "      <td>Chris Brown|Hayden Christensen|Matt Dillon|Mic...</td>\n",
       "      <td>John Luessenhop</td>\n",
       "      <td>Who's Taking Who?</td>\n",
       "      <td>A seasoned team of bank robbers, including Gor...</td>\n",
       "      <td>107</td>\n",
       "      <td>Action|Crime|Drama|Thriller</td>\n",
       "      <td>Rainforest Films</td>\n",
       "      <td>8/26/2010</td>\n",
       "      <td>6.1</td>\n",
       "      <td>2010</td>\n",
       "    </tr>\n",
       "    <tr>\n",
       "      <th>729</th>\n",
       "      <td>tt0945513</td>\n",
       "      <td>32000000</td>\n",
       "      <td>147332697</td>\n",
       "      <td>Source Code</td>\n",
       "      <td>Jake Gyllenhaal|Michelle Monaghan|Vera Farmiga...</td>\n",
       "      <td>Duncan Jones</td>\n",
       "      <td>Make Every Second Count</td>\n",
       "      <td>Decorated soldier Captain Colter Stevens wakes...</td>\n",
       "      <td>93</td>\n",
       "      <td>Thriller|Science Fiction|Mystery</td>\n",
       "      <td>The Mark Gordon Company|Vendome Pictures</td>\n",
       "      <td>3/30/2011</td>\n",
       "      <td>7.0</td>\n",
       "      <td>2011</td>\n",
       "    </tr>\n",
       "    <tr>\n",
       "      <th>853</th>\n",
       "      <td>tt1067774</td>\n",
       "      <td>20000000</td>\n",
       "      <td>17425000</td>\n",
       "      <td>Monte Carlo</td>\n",
       "      <td>Selena Gomez|Katie Cassidy|Cory Monteith|Leigh...</td>\n",
       "      <td>Thomas Bezucha</td>\n",
       "      <td>She's having the time of someone else's life.</td>\n",
       "      <td>Three young women vacationing in Paris find th...</td>\n",
       "      <td>109</td>\n",
       "      <td>Adventure|Comedy|Romance</td>\n",
       "      <td>Dune Entertainment|Regency Enterprises|Fox 200...</td>\n",
       "      <td>7/1/2011</td>\n",
       "      <td>5.9</td>\n",
       "      <td>2011</td>\n",
       "    </tr>\n",
       "    <tr>\n",
       "      <th>1280</th>\n",
       "      <td>tt2005374</td>\n",
       "      <td>27220000</td>\n",
       "      <td>5496951</td>\n",
       "      <td>The Frozen Ground</td>\n",
       "      <td>Nicolas Cage|Vanessa Hudgens|John Cusack|Radha...</td>\n",
       "      <td>Scott Walker</td>\n",
       "      <td>The hunter becomes the hunted</td>\n",
       "      <td>An Alaska State Trooper partners with a young ...</td>\n",
       "      <td>105</td>\n",
       "      <td>Thriller|Crime</td>\n",
       "      <td>Grindstone Entertainment Group|Cheetah Vision|...</td>\n",
       "      <td>7/18/2013</td>\n",
       "      <td>6.2</td>\n",
       "      <td>2013</td>\n",
       "    </tr>\n",
       "    <tr>\n",
       "      <th>195</th>\n",
       "      <td>tt1823664</td>\n",
       "      <td>65000000</td>\n",
       "      <td>133821816</td>\n",
       "      <td>Annie</td>\n",
       "      <td>QuvenzhanÃ© Wallis|Jamie Foxx|Rose Byrne|Camer...</td>\n",
       "      <td>Will Gluck</td>\n",
       "      <td>It's a Hard Knock Life</td>\n",
       "      <td>Ever since her parents left her as a baby, lit...</td>\n",
       "      <td>119</td>\n",
       "      <td>Music|Comedy|Drama|Family</td>\n",
       "      <td>Columbia Pictures|Sony Pictures Entertainment ...</td>\n",
       "      <td>12/19/2014</td>\n",
       "      <td>6.1</td>\n",
       "      <td>2014</td>\n",
       "    </tr>\n",
       "    <tr>\n",
       "      <th>1605</th>\n",
       "      <td>tt0328107</td>\n",
       "      <td>70000000</td>\n",
       "      <td>130293714</td>\n",
       "      <td>Man on Fire</td>\n",
       "      <td>Denzel Washington|Dakota Fanning|Marc Anthony|...</td>\n",
       "      <td>Tony Scott</td>\n",
       "      <td>Creasy's art is death, and he is about to pain...</td>\n",
       "      <td>Jaded ex-CIA operative John Creasy reluctantly...</td>\n",
       "      <td>146</td>\n",
       "      <td>Action|Drama|Thriller|Crime</td>\n",
       "      <td>Regency Enterprises|Fox 2000 Pictures|Epsilon ...</td>\n",
       "      <td>4/23/2004</td>\n",
       "      <td>7.3</td>\n",
       "      <td>2004</td>\n",
       "    </tr>\n",
       "    <tr>\n",
       "      <th>1437</th>\n",
       "      <td>tt0382625</td>\n",
       "      <td>125000000</td>\n",
       "      <td>758239851</td>\n",
       "      <td>The Da Vinci Code</td>\n",
       "      <td>Tom Hanks|Audrey Tautou|Ian McKellen|Paul Bett...</td>\n",
       "      <td>Ron Howard</td>\n",
       "      <td>So Dark The Con Of Man</td>\n",
       "      <td>When the curator of the Louvre is found murder...</td>\n",
       "      <td>149</td>\n",
       "      <td>Thriller|Mystery</td>\n",
       "      <td>Columbia Pictures|Imagine Entertainment|Skylar...</td>\n",
       "      <td>5/17/2006</td>\n",
       "      <td>6.4</td>\n",
       "      <td>2006</td>\n",
       "    </tr>\n",
       "    <tr>\n",
       "      <th>21</th>\n",
       "      <td>tt1798684</td>\n",
       "      <td>30000000</td>\n",
       "      <td>91709827</td>\n",
       "      <td>Southpaw</td>\n",
       "      <td>Jake Gyllenhaal|Rachel McAdams|Forest Whitaker...</td>\n",
       "      <td>Antoine Fuqua</td>\n",
       "      <td>Believe in Hope.</td>\n",
       "      <td>Billy \"The Great\" Hope, the reigning junior mi...</td>\n",
       "      <td>123</td>\n",
       "      <td>Action|Drama</td>\n",
       "      <td>Escape Artists|Riche-Ludwig Productions</td>\n",
       "      <td>6/15/2015</td>\n",
       "      <td>7.3</td>\n",
       "      <td>2015</td>\n",
       "    </tr>\n",
       "    <tr>\n",
       "      <th>1047</th>\n",
       "      <td>tt1430615</td>\n",
       "      <td>40000000</td>\n",
       "      <td>24719215</td>\n",
       "      <td>Big Miracle</td>\n",
       "      <td>Drew Barrymore|John Krasinski|Kristen Bell|Vin...</td>\n",
       "      <td>Ken Kwapis</td>\n",
       "      <td>A family of whales trapped beneath the ice. On...</td>\n",
       "      <td>Based on an inspiring true story, a small-town...</td>\n",
       "      <td>107</td>\n",
       "      <td>Adventure|Drama|Romance</td>\n",
       "      <td>Universal Pictures|Anonymous Content|Working T...</td>\n",
       "      <td>2/2/2012</td>\n",
       "      <td>6.5</td>\n",
       "      <td>2012</td>\n",
       "    </tr>\n",
       "    <tr>\n",
       "      <th>1150</th>\n",
       "      <td>tt0304711</td>\n",
       "      <td>35000000</td>\n",
       "      <td>11560806</td>\n",
       "      <td>The Order</td>\n",
       "      <td>Heath Ledger|Shannyn Sossamon|Benno FÃ¼rmann|M...</td>\n",
       "      <td>Brian Helgeland</td>\n",
       "      <td>Every soul has its price.</td>\n",
       "      <td>For centuries, a secret Order of priests has e...</td>\n",
       "      <td>102</td>\n",
       "      <td>Drama|Fantasy|Horror|Mystery|Romance</td>\n",
       "      <td>Twentieth Century Fox Film Corporation|N1 Euro...</td>\n",
       "      <td>9/5/2003</td>\n",
       "      <td>4.8</td>\n",
       "      <td>2003</td>\n",
       "    </tr>\n",
       "    <tr>\n",
       "      <th>1061</th>\n",
       "      <td>tt1598828</td>\n",
       "      <td>40000000</td>\n",
       "      <td>36893721</td>\n",
       "      <td>One for the Money</td>\n",
       "      <td>Katherine Heigl|John Leguizamo|Debbie Reynolds...</td>\n",
       "      <td>Julie Anne Robinson</td>\n",
       "      <td>She's looking for a few not-so-good men</td>\n",
       "      <td>Stephanie Plum (Katherine Heigl), an unemploye...</td>\n",
       "      <td>91</td>\n",
       "      <td>Action|Comedy|Thriller|Crime|Romance</td>\n",
       "      <td>Lakeshore Entertainment|Sidney Kimmel Entertai...</td>\n",
       "      <td>1/26/2012</td>\n",
       "      <td>5.2</td>\n",
       "      <td>2012</td>\n",
       "    </tr>\n",
       "    <tr>\n",
       "      <th>1569</th>\n",
       "      <td>tt0343818</td>\n",
       "      <td>120000000</td>\n",
       "      <td>347234916</td>\n",
       "      <td>I, Robot</td>\n",
       "      <td>Will Smith|Bridget Moynahan|Alan Tudyk|James C...</td>\n",
       "      <td>Alex Proyas</td>\n",
       "      <td>Laws are made to be broken.</td>\n",
       "      <td>In the year 2035, where robots are common and ...</td>\n",
       "      <td>115</td>\n",
       "      <td>Action|Science Fiction</td>\n",
       "      <td>Twentieth Century Fox Film Corporation|Laurenc...</td>\n",
       "      <td>7/15/2004</td>\n",
       "      <td>6.6</td>\n",
       "      <td>2004</td>\n",
       "    </tr>\n",
       "  </tbody>\n",
       "</table>\n",
       "</div>"
      ],
      "text/plain": [
       "        imdb_id     budget    revenue  \\\n",
       "548   tt0206314   23000000   36642838   \n",
       "1669  tt0449088  300000000  961000000   \n",
       "277   tt1182345    5000000    9760104   \n",
       "538   tt0159273   40000000   91753202   \n",
       "945   tt0265349   32000000   55157539   \n",
       "65    tt2452042   99000000  246233113   \n",
       "1387  tt0408790   55000000  223387299   \n",
       "1774  tt0465538   25000000   92991835   \n",
       "448   tt1135084   32000000   69055695   \n",
       "729   tt0945513   32000000  147332697   \n",
       "853   tt1067774   20000000   17425000   \n",
       "1280  tt2005374   27220000    5496951   \n",
       "195   tt1823664   65000000  133821816   \n",
       "1605  tt0328107   70000000  130293714   \n",
       "1437  tt0382625  125000000  758239851   \n",
       "21    tt1798684   30000000   91709827   \n",
       "1047  tt1430615   40000000   24719215   \n",
       "1150  tt0304711   35000000   11560806   \n",
       "1061  tt1598828   40000000   36893721   \n",
       "1569  tt0343818  120000000  347234916   \n",
       "\n",
       "                                original_title  \\\n",
       "548                                   Joy Ride   \n",
       "1669  Pirates of the Caribbean: At World's End   \n",
       "277                                       Moon   \n",
       "538                         Behind Enemy Lines   \n",
       "945                     The Mothman Prophecies   \n",
       "65                           The Peanuts Movie   \n",
       "1387                                Flightplan   \n",
       "1774                           Michael Clayton   \n",
       "448                                     Takers   \n",
       "729                                Source Code   \n",
       "853                                Monte Carlo   \n",
       "1280                         The Frozen Ground   \n",
       "195                                      Annie   \n",
       "1605                               Man on Fire   \n",
       "1437                         The Da Vinci Code   \n",
       "21                                    Southpaw   \n",
       "1047                               Big Miracle   \n",
       "1150                                 The Order   \n",
       "1061                         One for the Money   \n",
       "1569                                  I, Robot   \n",
       "\n",
       "                                                   cast             director  \\\n",
       "548   Steve Zahn|Paul Walker|Leelee Sobieski|Jessica...            John Dahl   \n",
       "1669  Johnny Depp|Orlando Bloom|Keira Knightley|Geof...       Gore Verbinski   \n",
       "277   Sam Rockwell|Kevin Spacey|Dominique McElligott...         Duncan Jones   \n",
       "538   Owen Wilson|Gene Hackman|Gabriel Macht|Charles...           John Moore   \n",
       "945   Richard Gere|Laura Linney|Will Patton|Bob Trac...      Mark Pellington   \n",
       "65    Noah Schnapp|Bill Melendez|Venus Schultheis|Ha...        Steve Martino   \n",
       "1387  Jodie Foster|Peter Sarsgaard|Sean Bean|Kate Be...     Robert Schwentke   \n",
       "1774  George Clooney|Tom Wilkinson|Tilda Swinton|Syd...          Tony Gilroy   \n",
       "448   Chris Brown|Hayden Christensen|Matt Dillon|Mic...      John Luessenhop   \n",
       "729   Jake Gyllenhaal|Michelle Monaghan|Vera Farmiga...         Duncan Jones   \n",
       "853   Selena Gomez|Katie Cassidy|Cory Monteith|Leigh...       Thomas Bezucha   \n",
       "1280  Nicolas Cage|Vanessa Hudgens|John Cusack|Radha...         Scott Walker   \n",
       "195   QuvenzhanÃ© Wallis|Jamie Foxx|Rose Byrne|Camer...           Will Gluck   \n",
       "1605  Denzel Washington|Dakota Fanning|Marc Anthony|...           Tony Scott   \n",
       "1437  Tom Hanks|Audrey Tautou|Ian McKellen|Paul Bett...           Ron Howard   \n",
       "21    Jake Gyllenhaal|Rachel McAdams|Forest Whitaker...        Antoine Fuqua   \n",
       "1047  Drew Barrymore|John Krasinski|Kristen Bell|Vin...           Ken Kwapis   \n",
       "1150  Heath Ledger|Shannyn Sossamon|Benno FÃ¼rmann|M...      Brian Helgeland   \n",
       "1061  Katherine Heigl|John Leguizamo|Debbie Reynolds...  Julie Anne Robinson   \n",
       "1569  Will Smith|Bridget Moynahan|Alan Tudyk|James C...          Alex Proyas   \n",
       "\n",
       "                                                tagline  \\\n",
       "548                   It was just a joke, just for fun.   \n",
       "1669     At the end of the world, the adventure begins.   \n",
       "277   The last place you'd ever expect to find yours...   \n",
       "538             His only weapon is his will to survive.   \n",
       "945                                    What do you see?   \n",
       "65               The story of an underdog. And his dog.   \n",
       "1387  If Someone Took Everything You Live For... How...   \n",
       "1774                          The truth can be adjusted   \n",
       "448                                   Who's Taking Who?   \n",
       "729                             Make Every Second Count   \n",
       "853       She's having the time of someone else's life.   \n",
       "1280                      The hunter becomes the hunted   \n",
       "195                              It's a Hard Knock Life   \n",
       "1605  Creasy's art is death, and he is about to pain...   \n",
       "1437                             So Dark The Con Of Man   \n",
       "21                                     Believe in Hope.   \n",
       "1047  A family of whales trapped beneath the ice. On...   \n",
       "1150                          Every soul has its price.   \n",
       "1061            She's looking for a few not-so-good men   \n",
       "1569                        Laws are made to be broken.   \n",
       "\n",
       "                                               overview  runtime  \\\n",
       "548   Three young people on a road trip from Colorad...       97   \n",
       "1669  Captain Barbossa, long believed to be dead, ha...      169   \n",
       "277   With only three weeks left in his three year c...       97   \n",
       "538   While flying a routine reconnaissance mission ...      106   \n",
       "945   Reporter John Klein is plunged into a world of...      119   \n",
       "65    Snoopy embarks upon his greatest mission as he...       88   \n",
       "1387  A claustrophobic, Hitchcockian thriller. A ber...       98   \n",
       "1774  A law firm brings in its 'fixer' to remedy the...      119   \n",
       "448   A seasoned team of bank robbers, including Gor...      107   \n",
       "729   Decorated soldier Captain Colter Stevens wakes...       93   \n",
       "853   Three young women vacationing in Paris find th...      109   \n",
       "1280  An Alaska State Trooper partners with a young ...      105   \n",
       "195   Ever since her parents left her as a baby, lit...      119   \n",
       "1605  Jaded ex-CIA operative John Creasy reluctantly...      146   \n",
       "1437  When the curator of the Louvre is found murder...      149   \n",
       "21    Billy \"The Great\" Hope, the reigning junior mi...      123   \n",
       "1047  Based on an inspiring true story, a small-town...      107   \n",
       "1150  For centuries, a secret Order of priests has e...      102   \n",
       "1061  Stephanie Plum (Katherine Heigl), an unemploye...       91   \n",
       "1569  In the year 2035, where robots are common and ...      115   \n",
       "\n",
       "                                    genres  \\\n",
       "548                 Mystery|Thriller|Drama   \n",
       "1669              Adventure|Fantasy|Action   \n",
       "277                  Science Fiction|Drama   \n",
       "538              Action|Drama|Thriller|War   \n",
       "945          Drama|Mystery|Thriller|Horror   \n",
       "65       Adventure|Animation|Comedy|Family   \n",
       "1387                Thriller|Drama|Mystery   \n",
       "1774                   Drama|Mystery|Crime   \n",
       "448            Action|Crime|Drama|Thriller   \n",
       "729       Thriller|Science Fiction|Mystery   \n",
       "853               Adventure|Comedy|Romance   \n",
       "1280                        Thriller|Crime   \n",
       "195              Music|Comedy|Drama|Family   \n",
       "1605           Action|Drama|Thriller|Crime   \n",
       "1437                      Thriller|Mystery   \n",
       "21                            Action|Drama   \n",
       "1047               Adventure|Drama|Romance   \n",
       "1150  Drama|Fantasy|Horror|Mystery|Romance   \n",
       "1061  Action|Comedy|Thriller|Crime|Romance   \n",
       "1569                Action|Science Fiction   \n",
       "\n",
       "                                   production_companies release_date  \\\n",
       "548   Regency Enterprises|Epsilon Motion Pictures|Li...    10/5/2001   \n",
       "1669  Walt Disney Pictures|Jerry Bruckheimer Films|S...    5/19/2007   \n",
       "277   Liberty Films UK|Lunar Industries|Xingu Films|...    6/12/2009   \n",
       "538   Twentieth Century Fox Film Corporation|Davis E...   11/17/2001   \n",
       "945                             Lakeshore Entertainment    1/25/2002   \n",
       "65    Blue Sky Studios|Twentieth Century Fox Animati...    11/5/2015   \n",
       "1387          Imagine Entertainment|Touchstone Pictures    9/22/2005   \n",
       "1774  Castle Rock Entertainment|Mirage Enterprises|S...    9/28/2007   \n",
       "448                                    Rainforest Films    8/26/2010   \n",
       "729            The Mark Gordon Company|Vendome Pictures    3/30/2011   \n",
       "853   Dune Entertainment|Regency Enterprises|Fox 200...     7/1/2011   \n",
       "1280  Grindstone Entertainment Group|Cheetah Vision|...    7/18/2013   \n",
       "195   Columbia Pictures|Sony Pictures Entertainment ...   12/19/2014   \n",
       "1605  Regency Enterprises|Fox 2000 Pictures|Epsilon ...    4/23/2004   \n",
       "1437  Columbia Pictures|Imagine Entertainment|Skylar...    5/17/2006   \n",
       "21              Escape Artists|Riche-Ludwig Productions    6/15/2015   \n",
       "1047  Universal Pictures|Anonymous Content|Working T...     2/2/2012   \n",
       "1150  Twentieth Century Fox Film Corporation|N1 Euro...     9/5/2003   \n",
       "1061  Lakeshore Entertainment|Sidney Kimmel Entertai...    1/26/2012   \n",
       "1569  Twentieth Century Fox Film Corporation|Laurenc...    7/15/2004   \n",
       "\n",
       "      vote_average  release_year  \n",
       "548            6.2          2001  \n",
       "1669           6.8          2007  \n",
       "277            7.4          2009  \n",
       "538            5.9          2001  \n",
       "945            5.9          2002  \n",
       "65             6.4          2015  \n",
       "1387           6.0          2005  \n",
       "1774           6.3          2007  \n",
       "448            6.1          2010  \n",
       "729            7.0          2011  \n",
       "853            5.9          2011  \n",
       "1280           6.2          2013  \n",
       "195            6.1          2014  \n",
       "1605           7.3          2004  \n",
       "1437           6.4          2006  \n",
       "21             7.3          2015  \n",
       "1047           6.5          2012  \n",
       "1150           4.8          2003  \n",
       "1061           5.2          2012  \n",
       "1569           6.6          2004  "
      ]
     },
     "execution_count": 51,
     "metadata": {},
     "output_type": "execute_result"
    }
   ],
   "source": [
    "data = pd.read_csv('movie_bd_v5.csv')\n",
    "data.sample(20)"
   ]
  },
  {
   "cell_type": "code",
   "execution_count": 52,
   "metadata": {
    "colab": {},
    "colab_type": "code",
    "id": "CoYUnagMVp-C"
   },
   "outputs": [
    {
     "data": {
      "text/html": [
       "<div>\n",
       "<style scoped>\n",
       "    .dataframe tbody tr th:only-of-type {\n",
       "        vertical-align: middle;\n",
       "    }\n",
       "\n",
       "    .dataframe tbody tr th {\n",
       "        vertical-align: top;\n",
       "    }\n",
       "\n",
       "    .dataframe thead th {\n",
       "        text-align: right;\n",
       "    }\n",
       "</style>\n",
       "<table border=\"1\" class=\"dataframe\">\n",
       "  <thead>\n",
       "    <tr style=\"text-align: right;\">\n",
       "      <th></th>\n",
       "      <th>budget</th>\n",
       "      <th>revenue</th>\n",
       "      <th>runtime</th>\n",
       "      <th>vote_average</th>\n",
       "      <th>release_year</th>\n",
       "    </tr>\n",
       "  </thead>\n",
       "  <tbody>\n",
       "    <tr>\n",
       "      <th>count</th>\n",
       "      <td>1.889000e+03</td>\n",
       "      <td>1.889000e+03</td>\n",
       "      <td>1889.000000</td>\n",
       "      <td>1889.000000</td>\n",
       "      <td>1889.000000</td>\n",
       "    </tr>\n",
       "    <tr>\n",
       "      <th>mean</th>\n",
       "      <td>5.431083e+07</td>\n",
       "      <td>1.553653e+08</td>\n",
       "      <td>109.658549</td>\n",
       "      <td>6.140762</td>\n",
       "      <td>2007.860773</td>\n",
       "    </tr>\n",
       "    <tr>\n",
       "      <th>std</th>\n",
       "      <td>4.858721e+07</td>\n",
       "      <td>2.146698e+08</td>\n",
       "      <td>18.017041</td>\n",
       "      <td>0.764763</td>\n",
       "      <td>4.468841</td>\n",
       "    </tr>\n",
       "    <tr>\n",
       "      <th>min</th>\n",
       "      <td>5.000000e+06</td>\n",
       "      <td>2.033165e+06</td>\n",
       "      <td>63.000000</td>\n",
       "      <td>3.300000</td>\n",
       "      <td>2000.000000</td>\n",
       "    </tr>\n",
       "    <tr>\n",
       "      <th>25%</th>\n",
       "      <td>2.000000e+07</td>\n",
       "      <td>3.456058e+07</td>\n",
       "      <td>97.000000</td>\n",
       "      <td>5.600000</td>\n",
       "      <td>2004.000000</td>\n",
       "    </tr>\n",
       "    <tr>\n",
       "      <th>50%</th>\n",
       "      <td>3.800000e+07</td>\n",
       "      <td>8.361541e+07</td>\n",
       "      <td>107.000000</td>\n",
       "      <td>6.100000</td>\n",
       "      <td>2008.000000</td>\n",
       "    </tr>\n",
       "    <tr>\n",
       "      <th>75%</th>\n",
       "      <td>7.200000e+07</td>\n",
       "      <td>1.782626e+08</td>\n",
       "      <td>120.000000</td>\n",
       "      <td>6.600000</td>\n",
       "      <td>2012.000000</td>\n",
       "    </tr>\n",
       "    <tr>\n",
       "      <th>max</th>\n",
       "      <td>3.800000e+08</td>\n",
       "      <td>2.781506e+09</td>\n",
       "      <td>214.000000</td>\n",
       "      <td>8.100000</td>\n",
       "      <td>2015.000000</td>\n",
       "    </tr>\n",
       "  </tbody>\n",
       "</table>\n",
       "</div>"
      ],
      "text/plain": [
       "             budget       revenue      runtime  vote_average  release_year\n",
       "count  1.889000e+03  1.889000e+03  1889.000000   1889.000000   1889.000000\n",
       "mean   5.431083e+07  1.553653e+08   109.658549      6.140762   2007.860773\n",
       "std    4.858721e+07  2.146698e+08    18.017041      0.764763      4.468841\n",
       "min    5.000000e+06  2.033165e+06    63.000000      3.300000   2000.000000\n",
       "25%    2.000000e+07  3.456058e+07    97.000000      5.600000   2004.000000\n",
       "50%    3.800000e+07  8.361541e+07   107.000000      6.100000   2008.000000\n",
       "75%    7.200000e+07  1.782626e+08   120.000000      6.600000   2012.000000\n",
       "max    3.800000e+08  2.781506e+09   214.000000      8.100000   2015.000000"
      ]
     },
     "execution_count": 52,
     "metadata": {},
     "output_type": "execute_result"
    }
   ],
   "source": [
    "data.describe()"
   ]
  },
  {
   "cell_type": "markdown",
   "metadata": {
    "colab_type": "text",
    "id": "DTIt7ezGVp-G"
   },
   "source": [
    "# Предобработка"
   ]
  },
  {
   "cell_type": "code",
   "execution_count": 53,
   "metadata": {
    "colab": {},
    "colab_type": "code",
    "id": "jNb40DwKVp-H"
   },
   "outputs": [],
   "source": [
    "answers = {} # creating dictionary for answers\n",
    "answers_2 = {} # creating dictionary for 2nd answers\n",
    "data['profit'] = data['revenue'] - data['budget'] #adding new column 'Profit'\n",
    "# завернем в функцию и будем использовать в дальнейшем\n",
    "def counter(movie_bd, x):\n",
    "    data_tmp=movie_bd[x].str.cat(sep='|') # превращаем все в одну строку\n",
    "    data_tmp=pd.Series(data_tmp.split('|')) # создаем список разделяя строку по '|'\n",
    "    data_tmp=data_tmp.value_counts(ascending=False) # считаем количество элементов строке\n",
    "    return data_tmp "
   ]
  },
  {
   "cell_type": "markdown",
   "metadata": {
    "colab_type": "text",
    "id": "YxZaH-nPVp-L"
   },
   "source": [
    "# 1. У какого фильма из списка самый большой бюджет?Допилить"
   ]
  },
  {
   "cell_type": "code",
   "execution_count": 54,
   "metadata": {
    "colab": {},
    "colab_type": "code",
    "id": "uVnXAY5RVp-O"
   },
   "outputs": [],
   "source": [
    "data_1 = data # adding local data DF to use in answer for 1st question.\n",
    "max_budget_mask = data_1.budget == data_1.budget.max() #making mask to know film with max budget\n",
    "data_1 = data_1[max_budget_mask] #using mask to filter only one film from DF\n",
    "answers ['1'] = data_1['imdb_id'] # putting imdb_id into answers dict"
   ]
  },
  {
   "cell_type": "markdown",
   "metadata": {
    "colab_type": "text",
    "id": "K7L3nbRXVp-X"
   },
   "source": [
    "## Second option"
   ]
  },
  {
   "cell_type": "code",
   "execution_count": 55,
   "metadata": {
    "colab": {},
    "colab_type": "code",
    "id": "OGaoQI7rVp-X"
   },
   "outputs": [],
   "source": [
    "answers_2 ['1'] = data[data.runtime == data.budget.max()]['imdb_id']"
   ]
  },
  {
   "cell_type": "markdown",
   "metadata": {
    "colab_type": "text",
    "id": "FNRbbI3vVp-c"
   },
   "source": [
    "# 2. Какой из фильмов самый длительный (в минутах)?"
   ]
  },
  {
   "cell_type": "code",
   "execution_count": 56,
   "metadata": {
    "colab": {},
    "colab_type": "code",
    "id": "vHAoEXNTVp-d"
   },
   "outputs": [],
   "source": [
    "data_2 = data # adding local data DF to use in answer for 1st question.\n",
    "max_runtime_mask = data_2.runtime == data_2.runtime.max() #making mask to know film with max runtime\n",
    "data_2 = data_2[max_runtime_mask] #using mask to filter only one film from DF\n",
    "answers ['2'] = data_2['imdb_id'] # putting imdb_id into answers dict\n"
   ]
  },
  {
   "cell_type": "markdown",
   "metadata": {},
   "source": [
    "## Second option"
   ]
  },
  {
   "cell_type": "code",
   "execution_count": 57,
   "metadata": {},
   "outputs": [],
   "source": [
    "answers_2 ['2'] = data[data.runtime == data.runtime.max()]['imdb_id']"
   ]
  },
  {
   "cell_type": "markdown",
   "metadata": {
    "colab_type": "text",
    "id": "bapLlpW8Vp-k"
   },
   "source": [
    "# 3. Какой из фильмов самый короткий (в минутах)?\n",
    "\n",
    "\n",
    "\n"
   ]
  },
  {
   "cell_type": "code",
   "execution_count": 58,
   "metadata": {
    "colab": {},
    "colab_type": "code",
    "id": "YBxaSHuAVp-l"
   },
   "outputs": [],
   "source": [
    "data_3 = data # adding local data DF to use in answer for 1st question.\n",
    "min_runtime_mask = data_3.runtime == data_3.runtime.min() #making mask to know film with min runtime\n",
    "data_3 = data_3[min_runtime_mask] #using mask to filter only one film from DF\n",
    "answers ['3'] = data_3['imdb_id'] # putting imdb_id into answers dict"
   ]
  },
  {
   "cell_type": "markdown",
   "metadata": {},
   "source": [
    "## Second option"
   ]
  },
  {
   "cell_type": "code",
   "execution_count": 59,
   "metadata": {},
   "outputs": [],
   "source": [
    "answers_2 ['3'] = data[data.runtime == data.runtime.min()]['imdb_id']"
   ]
  },
  {
   "cell_type": "markdown",
   "metadata": {
    "colab_type": "text",
    "id": "TfQbxbfNVp-p"
   },
   "source": [
    "# 4. Какова средняя длительность фильмов?\n"
   ]
  },
  {
   "cell_type": "code",
   "execution_count": 60,
   "metadata": {
    "colab": {},
    "colab_type": "code",
    "id": "5K6dKZYVVp-q"
   },
   "outputs": [],
   "source": [
    "data_4 = data # adding local data DF to use in answer for 1st question.\n",
    "answers['4'] =  data.runtime.mean() # avg runtime"
   ]
  },
  {
   "cell_type": "markdown",
   "metadata": {},
   "source": [
    "## Second option\n"
   ]
  },
  {
   "cell_type": "code",
   "execution_count": 61,
   "metadata": {},
   "outputs": [],
   "source": [
    "answers_2 ['4'] = data.runtime.mean()"
   ]
  },
  {
   "cell_type": "markdown",
   "metadata": {
    "colab_type": "text",
    "id": "r5TvbnT_Vp-u"
   },
   "source": [
    "# 5. Каково медианное значение длительности фильмов? "
   ]
  },
  {
   "cell_type": "code",
   "execution_count": 62,
   "metadata": {
    "colab": {},
    "colab_type": "code",
    "id": "iBROplKnVp-v"
   },
   "outputs": [],
   "source": [
    "data_5 = data # adding local data DF to use in answer for 1st question.\n",
    "answers['5'] =  data.runtime.median() # avg runtime"
   ]
  },
  {
   "cell_type": "markdown",
   "metadata": {
    "colab_type": "text",
    "id": "39P-deDSVp-y"
   },
   "source": [
    "# 6. Какой самый прибыльный фильм?\n",
    "#### Внимание! Здесь и далее под «прибылью» или «убытками» понимается разность между сборами и бюджетом фильма. (прибыль = сборы - бюджет) в нашем датасете это будет (profit = revenue - budget) "
   ]
  },
  {
   "cell_type": "code",
   "execution_count": 63,
   "metadata": {
    "colab": {},
    "colab_type": "code",
    "id": "UYZh4T9WVp-y"
   },
   "outputs": [],
   "source": [
    "answers['6'] = data[data.profit == data.profit.max()]['imdb_id']# avg runtime"
   ]
  },
  {
   "cell_type": "markdown",
   "metadata": {
    "colab_type": "text",
    "id": "M99JmIX4Vp-2"
   },
   "source": [
    "# 7. Какой фильм самый убыточный? "
   ]
  },
  {
   "cell_type": "code",
   "execution_count": 64,
   "metadata": {
    "colab": {},
    "colab_type": "code",
    "id": "w-D2m4XPVp-3"
   },
   "outputs": [],
   "source": [
    "answers['7'] = data[data.profit == data.profit.min()]['imdb_id']"
   ]
  },
  {
   "cell_type": "markdown",
   "metadata": {
    "colab_type": "text",
    "id": "wEOM5ERVVp-6"
   },
   "source": [
    "# 8. У скольких фильмов из датасета объем сборов оказался выше бюджета?"
   ]
  },
  {
   "cell_type": "code",
   "execution_count": 65,
   "metadata": {
    "colab": {},
    "colab_type": "code",
    "id": "y00_7HD6Vp-7"
   },
   "outputs": [],
   "source": [
    "answers['8'] = len(data[data.revenue > data.budget])"
   ]
  },
  {
   "cell_type": "markdown",
   "metadata": {
    "colab_type": "text",
    "id": "xhpspA9KVp_A"
   },
   "source": [
    "# 9. Какой фильм оказался самым кассовым в 2008 году?"
   ]
  },
  {
   "cell_type": "code",
   "execution_count": 66,
   "metadata": {
    "colab": {},
    "colab_type": "code",
    "id": "MoUyQr9RVp_B"
   },
   "outputs": [],
   "source": [
    "data_2008 = data[(data.release_year == 2008)] #films from 2008 year\n",
    "answers['9'] = data_2008[data_2008.revenue == data_2008.revenue.max()]['imdb_id'] #detecting film with highest revenue from 2008"
   ]
  },
  {
   "cell_type": "markdown",
   "metadata": {
    "colab_type": "text",
    "id": "Zi4hDKidVp_F"
   },
   "source": [
    "# 10. Самый убыточный фильм за период с 2012 по 2014 г. (включительно)?\n"
   ]
  },
  {
   "cell_type": "code",
   "execution_count": 67,
   "metadata": {
    "colab": {},
    "colab_type": "code",
    "id": "XqyRmufJVp_F",
    "scrolled": true
   },
   "outputs": [],
   "source": [
    "data_interval = data[(data.release_year >= 2012) & (data.release_year <= 2014) ]\n",
    "answers['10'] = data_interval[data_interval.profit == data_interval.profit.min()].imdb_id"
   ]
  },
  {
   "cell_type": "markdown",
   "metadata": {
    "colab_type": "text",
    "id": "EA7Sa9dkVp_I"
   },
   "source": [
    "# 11. Какого жанра фильмов больше всего?"
   ]
  },
  {
   "cell_type": "code",
   "execution_count": 68,
   "metadata": {
    "colab": {},
    "colab_type": "code",
    "id": "zsJAwJ8QVp_J"
   },
   "outputs": [],
   "source": [
    "data_all_gen = data[data.genres.str.contains(\"\\D\")]\n",
    "sum_gen = counter(data_all_gen,'genres')\n",
    "answers['11'] = sum_gen.loc[[sum_gen.idxmax()]]"
   ]
  },
  {
   "cell_type": "markdown",
   "metadata": {
    "colab_type": "text",
    "id": "Ax6g2C8SVp_M"
   },
   "source": [
    "ВАРИАНТ 2"
   ]
  },
  {
   "cell_type": "code",
   "execution_count": 86,
   "metadata": {
    "colab": {},
    "colab_type": "code",
    "id": "otO3SbrSVp_N"
   },
   "outputs": [],
   "source": [
    "genres_list = data.genres.str.split('|').sum()  # creating list of all genres\n",
    "genres_list\n",
    "genres_unique = []                              # creating list of unique genres\n",
    "for i in genres_list:\n",
    "    if i not in genres_unique:\n",
    "        genres_unique.append(i)\n",
    "#display(genres_list)\n",
    "c = collections.Counter()\n",
    "for word in genres_list:\n",
    "    c[word] += 1\n",
    "df_genres = pd.DataFrame.from_dict(c, orient='index').reset_index()\n",
    "df_genres = df_genres.rename(columns={'index':'genres', 0:'count'})\n",
    "df_genres\n",
    "answers_2 ['11'] = df_genres[df_genres['count']==df_genres['count'].max()]"
   ]
  },
  {
   "cell_type": "markdown",
   "metadata": {
    "colab_type": "text",
    "id": "T9_bPWpkVp_Q"
   },
   "source": [
    "# 12. Фильмы какого жанра чаще всего становятся прибыльными?  допилить"
   ]
  },
  {
   "cell_type": "code",
   "execution_count": 88,
   "metadata": {
    "colab": {},
    "colab_type": "code",
    "id": "Tmt8MaK1Vp_R"
   },
   "outputs": [],
   "source": [
    "data_profit = data[data.profit > 0] #taking films with profit > 0\n",
    "data_all_gen_profit = data_profit[data_profit.genres.str.contains(\"\\D\")]\n",
    "\n",
    "sum_gen=counter(data_all_gen_profit,'genres')\n",
    "answers['12'] = sum_gen.loc[[sum_gen.idxmax()]] #getting top value and writing it to the answers dict"
   ]
  },
  {
   "cell_type": "markdown",
   "metadata": {
    "colab_type": "text",
    "id": "0F23bgsDVp_U"
   },
   "source": [
    "# 13. У какого режиссера самые большие суммарные кассовые сборы?"
   ]
  },
  {
   "cell_type": "code",
   "execution_count": 115,
   "metadata": {
    "colab": {},
    "colab_type": "code",
    "id": "K6Z3J8ygVp_X"
   },
   "outputs": [],
   "source": [
    "data_director_rev = data.groupby(['director'])['revenue'].sum().sort_values(ascending = False) #grouped by directors,\n",
    "                                                                                #got sum of the revenue, sort by values\n",
    "answers['13'] = data_director_rev.loc[[data_director_rev.idxmax()]]"
   ]
  },
  {
   "cell_type": "markdown",
   "metadata": {
    "colab_type": "text",
    "id": "PsYC9FgRVp_a"
   },
   "source": [
    "# 14. Какой режисер снял больше всего фильмов в стиле Action? Допилить"
   ]
  },
  {
   "cell_type": "code",
   "execution_count": 116,
   "metadata": {
    "colab": {},
    "colab_type": "code",
    "id": "wd2M-wHeVp_b",
    "scrolled": true
   },
   "outputs": [],
   "source": [
    "data_all_gen = data[data.genres.str.contains(\"Action\")] #geting str with Action\n",
    "sum_gen=counter(data_all_gen,'director') #sending previously gotten DF to function\n",
    "answers['14'] = sum_gen.loc[[sum_gen.idxmax()]]"
   ]
  },
  {
   "cell_type": "markdown",
   "metadata": {
    "colab_type": "text",
    "id": "PQ0KciD7Vp_f"
   },
   "source": [
    "# 15. Фильмы с каким актером принесли самые высокие кассовые сборы в 2012 году? "
   ]
  },
  {
   "cell_type": "code",
   "execution_count": 125,
   "metadata": {
    "colab": {},
    "colab_type": "code",
    "id": "aga62oeKVp_g",
    "scrolled": true
   },
   "outputs": [
    {
     "data": {
      "text/plain": [
       "0       Robert Downey Jr.\n",
       "1             Chris Evans\n",
       "2            Mark Ruffalo\n",
       "3         Chris Hemsworth\n",
       "4      Scarlett Johansson\n",
       "              ...        \n",
       "550            Katy Perry\n",
       "551         Russell Brand\n",
       "552      Shannon Woodward\n",
       "553     Rachael Markarian\n",
       "554           Mia Moretti\n",
       "Length: 555, dtype: object"
      ]
     },
     "execution_count": 125,
     "metadata": {},
     "output_type": "execute_result"
    }
   ],
   "source": [
    "data_2012 = data[data.release_year == 2012]\n",
    "data_tmp=data_2012['cast'].str.cat(sep='|') # превращаем все в одну строку\n",
    "data_tmp=pd.Series(data_tmp.split('|'))\n",
    "data_tmp"
   ]
  },
  {
   "cell_type": "markdown",
   "metadata": {
    "colab_type": "text",
    "id": "mWHyyL7QVp_j"
   },
   "source": [
    "# 16. Какой актер снялся в большем количестве высокобюджетных фильмов?"
   ]
  },
  {
   "cell_type": "code",
   "execution_count": 0,
   "metadata": {
    "colab": {},
    "colab_type": "code",
    "id": "qQtmHKTFVp_k"
   },
   "outputs": [],
   "source": []
  },
  {
   "cell_type": "markdown",
   "metadata": {
    "colab_type": "text",
    "id": "NIh6AaW5Vp_n"
   },
   "source": [
    "# 17. В фильмах какого жанра больше всего снимался Nicolas Cage? "
   ]
  },
  {
   "cell_type": "code",
   "execution_count": null,
   "metadata": {
    "colab": {},
    "colab_type": "code",
    "id": "H74SJDIBVp_n"
   },
   "outputs": [],
   "source": []
  },
  {
   "cell_type": "markdown",
   "metadata": {
    "colab_type": "text",
    "id": "RqOmPRfWVp_q"
   },
   "source": [
    "# 18. Самый убыточный фильм от Paramount Pictures"
   ]
  },
  {
   "cell_type": "code",
   "execution_count": 97,
   "metadata": {
    "colab": {},
    "colab_type": "code",
    "id": "9E_B0Y96Vp_r",
    "scrolled": true
   },
   "outputs": [],
   "source": [
    "data_paramaunt = data[data.production_companies.str.contains('Paramount Pictures')]\n",
    "answers ['18'] = data_paramaunt[data_paramaunt.profit == data_paramaunt.profit.min()]\n"
   ]
  },
  {
   "cell_type": "markdown",
   "metadata": {
    "colab_type": "text",
    "id": "vS8Ur6ddVp_u"
   },
   "source": [
    "# 19. Какой год стал самым успешным по суммарным кассовым сборам?"
   ]
  },
  {
   "cell_type": "code",
   "execution_count": 114,
   "metadata": {
    "colab": {},
    "colab_type": "code",
    "id": "Dnbt4GdIVp_v"
   },
   "outputs": [],
   "source": [
    "data_max_rev = data.groupby(['release_year'])['revenue'].sum().sort_values(ascending = False)\n",
    "answers['19'] = data_max_rev.loc[[data_max_rev.idxmax()]]"
   ]
  },
  {
   "cell_type": "markdown",
   "metadata": {
    "colab_type": "text",
    "id": "JAzJh4QAVp_z"
   },
   "source": [
    "# 20. Какой самый прибыльный год для студии Warner Bros?"
   ]
  },
  {
   "cell_type": "code",
   "execution_count": 0,
   "metadata": {
    "colab": {},
    "colab_type": "code",
    "id": "wgVu02DEVp_0"
   },
   "outputs": [],
   "source": []
  },
  {
   "cell_type": "markdown",
   "metadata": {
    "colab_type": "text",
    "id": "8Im1S2HRVp_4"
   },
   "source": [
    "# 21. В каком месяце за все годы суммарно вышло больше всего фильмов?"
   ]
  },
  {
   "cell_type": "code",
   "execution_count": 0,
   "metadata": {
    "colab": {},
    "colab_type": "code",
    "id": "lev6TH7gVp_4"
   },
   "outputs": [],
   "source": []
  },
  {
   "cell_type": "markdown",
   "metadata": {
    "colab_type": "text",
    "id": "uAJsZ_NeVp_7"
   },
   "source": [
    "# 22. Сколько суммарно вышло фильмов летом? (за июнь, июль, август)"
   ]
  },
  {
   "cell_type": "code",
   "execution_count": 0,
   "metadata": {
    "colab": {},
    "colab_type": "code",
    "id": "Aa-hEREoVp_8"
   },
   "outputs": [],
   "source": []
  },
  {
   "cell_type": "markdown",
   "metadata": {
    "colab_type": "text",
    "id": "G94ppOY1VqAA"
   },
   "source": [
    "# 23. Для какого режиссера зима – самое продуктивное время года? "
   ]
  },
  {
   "cell_type": "code",
   "execution_count": 0,
   "metadata": {
    "colab": {},
    "colab_type": "code",
    "id": "RhNTsamuVqAB"
   },
   "outputs": [],
   "source": []
  },
  {
   "cell_type": "markdown",
   "metadata": {
    "colab_type": "text",
    "id": "RBo0JVjVVqAF"
   },
   "source": [
    "# 24. Какая студия дает самые длинные названия своим фильмам по количеству символов?"
   ]
  },
  {
   "cell_type": "code",
   "execution_count": 0,
   "metadata": {
    "colab": {},
    "colab_type": "code",
    "id": "QRGS8L0iVqAG"
   },
   "outputs": [],
   "source": []
  },
  {
   "cell_type": "markdown",
   "metadata": {
    "colab_type": "text",
    "id": "9G0hbvR7VqAK"
   },
   "source": [
    "# 25. Описание фильмов какой студии в среднем самые длинные по количеству слов?"
   ]
  },
  {
   "cell_type": "code",
   "execution_count": 0,
   "metadata": {
    "colab": {},
    "colab_type": "code",
    "id": "Ge2GsLNxVqAK"
   },
   "outputs": [],
   "source": []
  },
  {
   "cell_type": "markdown",
   "metadata": {
    "colab_type": "text",
    "id": "FJ1AFt90VqAP"
   },
   "source": [
    "# 26. Какие фильмы входят в 1 процент лучших по рейтингу? \n",
    "по vote_average"
   ]
  },
  {
   "cell_type": "code",
   "execution_count": 0,
   "metadata": {
    "colab": {},
    "colab_type": "code",
    "id": "8qmJVq4CVqAQ"
   },
   "outputs": [],
   "source": []
  },
  {
   "cell_type": "markdown",
   "metadata": {
    "colab_type": "text",
    "id": "MdXsUXbCVqAV"
   },
   "source": [
    "# 27. Какие актеры чаще всего снимаются в одном фильме вместе?\n"
   ]
  },
  {
   "cell_type": "markdown",
   "metadata": {
    "colab_type": "text",
    "id": "4ymnxEVoVqAW"
   },
   "source": [
    "ВАРИАНТ 2"
   ]
  },
  {
   "cell_type": "markdown",
   "metadata": {
    "colab_type": "text",
    "id": "U0nONFnGVqAX"
   },
   "source": [
    "# Submission"
   ]
  },
  {
   "cell_type": "code",
   "execution_count": 0,
   "metadata": {
    "colab": {},
    "colab_type": "code",
    "id": "IfcaRO9-VqAX",
    "outputId": "0f132912-32bb-4196-c98c-abfbc4ad5a5f"
   },
   "outputs": [
    {
     "data": {
      "text/plain": [
       "{'1': '...', '2': '...'}"
      ]
     },
     "execution_count": 8,
     "metadata": {
      "tags": []
     },
     "output_type": "execute_result"
    }
   ],
   "source": [
    "# в конце можно посмотреть свои ответы к каждому вопросу\n",
    "answers"
   ]
  },
  {
   "cell_type": "code",
   "execution_count": 0,
   "metadata": {
    "colab": {},
    "colab_type": "code",
    "id": "SiRmHPl8VqAd"
   },
   "outputs": [],
   "source": [
    "# и убедиться что ни чего не пропустил)\n",
    "len(answers)"
   ]
  },
  {
   "cell_type": "code",
   "execution_count": 0,
   "metadata": {
    "colab": {},
    "colab_type": "code",
    "id": "uCfuTkRbVqAg"
   },
   "outputs": [],
   "source": []
  },
  {
   "cell_type": "code",
   "execution_count": 0,
   "metadata": {
    "colab": {},
    "colab_type": "code",
    "id": "Vwx3NrkSVqAl"
   },
   "outputs": [],
   "source": []
  }
 ],
 "metadata": {
  "colab": {
   "name": "Copy of [SF-DST] Movies IMBD v4.1 TEMPLATE.ipynb",
   "provenance": []
  },
  "kernelspec": {
   "display_name": "Python 3",
   "language": "python",
   "name": "python3"
  },
  "language_info": {
   "codemirror_mode": {
    "name": "ipython",
    "version": 3
   },
   "file_extension": ".py",
   "mimetype": "text/x-python",
   "name": "python",
   "nbconvert_exporter": "python",
   "pygments_lexer": "ipython3",
   "version": "3.8.3"
  }
 },
 "nbformat": 4,
 "nbformat_minor": 1
}
