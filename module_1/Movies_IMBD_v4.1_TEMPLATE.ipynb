{
 "cells": [
  {
   "cell_type": "code",
   "execution_count": 411,
   "metadata": {
    "_cell_guid": "b1076dfc-b9ad-4769-8c92-a6c4dae69d19",
    "_uuid": "8f2839f25d086af736a60e9eeb907d3b93b6e0e5",
    "colab": {},
    "colab_type": "code",
    "id": "U2D2gTdJVp90"
   },
   "outputs": [],
   "source": [
    "import numpy as np\n",
    "import pandas as pd\n",
    "import seaborn as sns\n",
    "import matplotlib.pyplot as plt\n",
    "import collections\n",
    "from collections import Counter\n",
    "from datetime import datetime\n",
    "from itertools import combinations"
   ]
  },
  {
   "cell_type": "code",
   "execution_count": 412,
   "metadata": {
    "_cell_guid": "79c7e3d0-c299-4dcb-8224-4455121ee9b0",
    "_uuid": "d629ff2d2480ee46fbb7e2d37f6b5fab8052498a",
    "colab": {},
    "colab_type": "code",
    "id": "oyGfxL3eVp9-",
    "scrolled": true
   },
   "outputs": [],
   "source": [
    "data = pd.read_csv('movie_bd_v5.csv')"
   ]
  },
  {
   "cell_type": "code",
   "execution_count": 374,
   "metadata": {
    "colab": {},
    "colab_type": "code",
    "id": "CoYUnagMVp-C"
   },
   "outputs": [
    {
     "data": {
      "text/html": [
       "<div>\n",
       "<style scoped>\n",
       "    .dataframe tbody tr th:only-of-type {\n",
       "        vertical-align: middle;\n",
       "    }\n",
       "\n",
       "    .dataframe tbody tr th {\n",
       "        vertical-align: top;\n",
       "    }\n",
       "\n",
       "    .dataframe thead th {\n",
       "        text-align: right;\n",
       "    }\n",
       "</style>\n",
       "<table border=\"1\" class=\"dataframe\">\n",
       "  <thead>\n",
       "    <tr style=\"text-align: right;\">\n",
       "      <th></th>\n",
       "      <th>budget</th>\n",
       "      <th>revenue</th>\n",
       "      <th>runtime</th>\n",
       "      <th>vote_average</th>\n",
       "      <th>release_year</th>\n",
       "    </tr>\n",
       "  </thead>\n",
       "  <tbody>\n",
       "    <tr>\n",
       "      <th>count</th>\n",
       "      <td>1.889000e+03</td>\n",
       "      <td>1.889000e+03</td>\n",
       "      <td>1889.000000</td>\n",
       "      <td>1889.000000</td>\n",
       "      <td>1889.000000</td>\n",
       "    </tr>\n",
       "    <tr>\n",
       "      <th>mean</th>\n",
       "      <td>5.431083e+07</td>\n",
       "      <td>1.553653e+08</td>\n",
       "      <td>109.658549</td>\n",
       "      <td>6.140762</td>\n",
       "      <td>2007.860773</td>\n",
       "    </tr>\n",
       "    <tr>\n",
       "      <th>std</th>\n",
       "      <td>4.858721e+07</td>\n",
       "      <td>2.146698e+08</td>\n",
       "      <td>18.017041</td>\n",
       "      <td>0.764763</td>\n",
       "      <td>4.468841</td>\n",
       "    </tr>\n",
       "    <tr>\n",
       "      <th>min</th>\n",
       "      <td>5.000000e+06</td>\n",
       "      <td>2.033165e+06</td>\n",
       "      <td>63.000000</td>\n",
       "      <td>3.300000</td>\n",
       "      <td>2000.000000</td>\n",
       "    </tr>\n",
       "    <tr>\n",
       "      <th>25%</th>\n",
       "      <td>2.000000e+07</td>\n",
       "      <td>3.456058e+07</td>\n",
       "      <td>97.000000</td>\n",
       "      <td>5.600000</td>\n",
       "      <td>2004.000000</td>\n",
       "    </tr>\n",
       "    <tr>\n",
       "      <th>50%</th>\n",
       "      <td>3.800000e+07</td>\n",
       "      <td>8.361541e+07</td>\n",
       "      <td>107.000000</td>\n",
       "      <td>6.100000</td>\n",
       "      <td>2008.000000</td>\n",
       "    </tr>\n",
       "    <tr>\n",
       "      <th>75%</th>\n",
       "      <td>7.200000e+07</td>\n",
       "      <td>1.782626e+08</td>\n",
       "      <td>120.000000</td>\n",
       "      <td>6.600000</td>\n",
       "      <td>2012.000000</td>\n",
       "    </tr>\n",
       "    <tr>\n",
       "      <th>max</th>\n",
       "      <td>3.800000e+08</td>\n",
       "      <td>2.781506e+09</td>\n",
       "      <td>214.000000</td>\n",
       "      <td>8.100000</td>\n",
       "      <td>2015.000000</td>\n",
       "    </tr>\n",
       "  </tbody>\n",
       "</table>\n",
       "</div>"
      ],
      "text/plain": [
       "             budget       revenue      runtime  vote_average  release_year\n",
       "count  1.889000e+03  1.889000e+03  1889.000000   1889.000000   1889.000000\n",
       "mean   5.431083e+07  1.553653e+08   109.658549      6.140762   2007.860773\n",
       "std    4.858721e+07  2.146698e+08    18.017041      0.764763      4.468841\n",
       "min    5.000000e+06  2.033165e+06    63.000000      3.300000   2000.000000\n",
       "25%    2.000000e+07  3.456058e+07    97.000000      5.600000   2004.000000\n",
       "50%    3.800000e+07  8.361541e+07   107.000000      6.100000   2008.000000\n",
       "75%    7.200000e+07  1.782626e+08   120.000000      6.600000   2012.000000\n",
       "max    3.800000e+08  2.781506e+09   214.000000      8.100000   2015.000000"
      ]
     },
     "execution_count": 374,
     "metadata": {},
     "output_type": "execute_result"
    }
   ],
   "source": [
    "data.describe()"
   ]
  },
  {
   "cell_type": "markdown",
   "metadata": {
    "colab_type": "text",
    "id": "DTIt7ezGVp-G"
   },
   "source": [
    "# Предобработка"
   ]
  },
  {
   "cell_type": "code",
   "execution_count": 375,
   "metadata": {
    "colab": {},
    "colab_type": "code",
    "id": "jNb40DwKVp-H"
   },
   "outputs": [],
   "source": [
    "answers = {} # creating dictionary for answers\n",
    "answers_2 = {} # creating dictionary for 2nd answers\n",
    "data['profit'] = data['revenue'] - data['budget'] #adding new column 'Profit'\n",
    "# завернем в функцию и будем использовать в дальнейшем\n",
    "def counter(movie_bd, x):\n",
    "    data_tmp=movie_bd[x].str.cat(sep='|') # превращаем все в одну строку\n",
    "    data_tmp=pd.Series(data_tmp.split('|')) # создаем список разделяя строку по '|'\n",
    "    data_tmp=data_tmp.value_counts(ascending=False) # считаем количество элементов строке\n",
    "    return data_tmp\n",
    "\n",
    "def counter_2(income_list):\n",
    "    list_unique = []\n",
    "    for i in income_list:\n",
    "        if i not in list_unique:\n",
    "            list_unique.append(i)\n",
    "    c = collections.Counter()\n",
    "    for word in cast_list:\n",
    "        c[word] += 1\n",
    "    return c"
   ]
  },
  {
   "cell_type": "markdown",
   "metadata": {
    "colab_type": "text",
    "id": "YxZaH-nPVp-L"
   },
   "source": [
    "# 1. У какого фильма из списка самый большой бюджет?Допилить"
   ]
  },
  {
   "cell_type": "code",
   "execution_count": 376,
   "metadata": {
    "colab": {},
    "colab_type": "code",
    "id": "uVnXAY5RVp-O"
   },
   "outputs": [],
   "source": [
    "data_1 = data # adding local  DF to use in answer this question.\n",
    "max_budget_mask = data_1.budget == data_1.budget.max() #making mask to know film with max budget\n",
    "data_1 = data_1[max_budget_mask] #using mask to filter only one film from DF\n",
    "\n",
    "answers ['1'] = data_1['imdb_id'] # putting imdb_id into answers dict"
   ]
  },
  {
   "cell_type": "markdown",
   "metadata": {
    "colab_type": "text",
    "id": "K7L3nbRXVp-X"
   },
   "source": [
    "## Second option"
   ]
  },
  {
   "cell_type": "code",
   "execution_count": 377,
   "metadata": {
    "colab": {},
    "colab_type": "code",
    "id": "OGaoQI7rVp-X"
   },
   "outputs": [],
   "source": [
    "answers_2 ['1'] = data[data.runtime == data.runtime.max()]['imdb_id']"
   ]
  },
  {
   "cell_type": "markdown",
   "metadata": {
    "colab_type": "text",
    "id": "FNRbbI3vVp-c"
   },
   "source": [
    "# 2. Какой из фильмов самый длительный (в минутах)?"
   ]
  },
  {
   "cell_type": "code",
   "execution_count": 378,
   "metadata": {
    "colab": {},
    "colab_type": "code",
    "id": "vHAoEXNTVp-d"
   },
   "outputs": [],
   "source": [
    "data_2 = data # adding local  DF to use in answer this question.\n",
    "max_runtime_mask = data_2.runtime == data_2.runtime.max() #making mask to know film with max runtime\n",
    "data_2 = data_2[max_runtime_mask] #using mask to filter only one film from DF\n",
    "\n",
    "answers ['2'] = data_2['imdb_id'] # putting imdb_id into answers dict"
   ]
  },
  {
   "cell_type": "markdown",
   "metadata": {},
   "source": [
    "## Second option"
   ]
  },
  {
   "cell_type": "code",
   "execution_count": 379,
   "metadata": {},
   "outputs": [],
   "source": [
    "answers_2 ['2'] = data[data.runtime == data.runtime.max()]['imdb_id']"
   ]
  },
  {
   "cell_type": "markdown",
   "metadata": {
    "colab_type": "text",
    "id": "bapLlpW8Vp-k"
   },
   "source": [
    "# 3. Какой из фильмов самый короткий (в минутах)?\n",
    "\n",
    "\n",
    "\n"
   ]
  },
  {
   "cell_type": "code",
   "execution_count": 380,
   "metadata": {
    "colab": {},
    "colab_type": "code",
    "id": "YBxaSHuAVp-l"
   },
   "outputs": [],
   "source": [
    "data_3 = data # adding local  DF to use in answer for this question.\n",
    "min_runtime_mask = data_3.runtime == data_3.runtime.min() #making mask to know film with min runtime\n",
    "data_3 = data_3[min_runtime_mask] #using mask to filter only one film from DF\n",
    "\n",
    "answers ['3'] = data_3['imdb_id'] # putting imdb_id into answers dict"
   ]
  },
  {
   "cell_type": "markdown",
   "metadata": {},
   "source": [
    "## Second option"
   ]
  },
  {
   "cell_type": "code",
   "execution_count": 381,
   "metadata": {},
   "outputs": [],
   "source": [
    "answers_2 ['3'] = data[data.runtime == data.runtime.min()]['imdb_id']"
   ]
  },
  {
   "cell_type": "markdown",
   "metadata": {
    "colab_type": "text",
    "id": "TfQbxbfNVp-p"
   },
   "source": [
    "# 4. Какова средняя длительность фильмов?\n"
   ]
  },
  {
   "cell_type": "code",
   "execution_count": 382,
   "metadata": {
    "colab": {},
    "colab_type": "code",
    "id": "5K6dKZYVVp-q"
   },
   "outputs": [],
   "source": [
    "data_4 = data # adding local  DF to use in answer for this question.\n",
    "\n",
    "answers['4'] =  data_4.runtime.mean() # avg runtime"
   ]
  },
  {
   "cell_type": "markdown",
   "metadata": {},
   "source": [
    "## Second option\n"
   ]
  },
  {
   "cell_type": "code",
   "execution_count": 383,
   "metadata": {},
   "outputs": [],
   "source": [
    "answers_2 ['4'] = data.runtime.mean()"
   ]
  },
  {
   "cell_type": "markdown",
   "metadata": {
    "colab_type": "text",
    "id": "r5TvbnT_Vp-u"
   },
   "source": [
    "# 5. Каково медианное значение длительности фильмов? "
   ]
  },
  {
   "cell_type": "code",
   "execution_count": 384,
   "metadata": {
    "colab": {},
    "colab_type": "code",
    "id": "iBROplKnVp-v"
   },
   "outputs": [],
   "source": [
    "data_5 = data # adding local  DF to use in answer for this question.\n",
    "\n",
    "answers['5'] =  data_5.runtime.median() # avg runtime"
   ]
  },
  {
   "cell_type": "markdown",
   "metadata": {
    "colab_type": "text",
    "id": "39P-deDSVp-y"
   },
   "source": [
    "# 6. Какой самый прибыльный фильм?\n",
    "#### Внимание! Здесь и далее под «прибылью» или «убытками» понимается разность между сборами и бюджетом фильма. (прибыль = сборы - бюджет) в нашем датасете это будет (profit = revenue - budget) "
   ]
  },
  {
   "cell_type": "code",
   "execution_count": 385,
   "metadata": {
    "colab": {},
    "colab_type": "code",
    "id": "UYZh4T9WVp-y"
   },
   "outputs": [],
   "source": [
    "answers['6'] = data[data.profit == data.profit.max()]['imdb_id']# avg runtime"
   ]
  },
  {
   "cell_type": "markdown",
   "metadata": {
    "colab_type": "text",
    "id": "M99JmIX4Vp-2"
   },
   "source": [
    "# 7. Какой фильм самый убыточный? "
   ]
  },
  {
   "cell_type": "code",
   "execution_count": 386,
   "metadata": {
    "colab": {},
    "colab_type": "code",
    "id": "w-D2m4XPVp-3"
   },
   "outputs": [],
   "source": [
    "answers['7'] = data[data.profit == data.profit.min()]['imdb_id']"
   ]
  },
  {
   "cell_type": "markdown",
   "metadata": {
    "colab_type": "text",
    "id": "wEOM5ERVVp-6"
   },
   "source": [
    "# 8. У скольких фильмов из датасета объем сборов оказался выше бюджета?"
   ]
  },
  {
   "cell_type": "code",
   "execution_count": 387,
   "metadata": {
    "colab": {},
    "colab_type": "code",
    "id": "y00_7HD6Vp-7"
   },
   "outputs": [],
   "source": [
    "answers['8'] = len(data[data.revenue > data.budget])"
   ]
  },
  {
   "cell_type": "markdown",
   "metadata": {
    "colab_type": "text",
    "id": "xhpspA9KVp_A"
   },
   "source": [
    "# 9. Какой фильм оказался самым кассовым в 2008 году?"
   ]
  },
  {
   "cell_type": "code",
   "execution_count": 388,
   "metadata": {
    "colab": {},
    "colab_type": "code",
    "id": "MoUyQr9RVp_B"
   },
   "outputs": [],
   "source": [
    "data_9 = data[(data.release_year == 2008)] #films from 2008 year\n",
    "\n",
    "answers['9'] = data_9[data_9.revenue == data_9.revenue.max()]['imdb_id'] #detecting film with highest revenue from 2008"
   ]
  },
  {
   "cell_type": "markdown",
   "metadata": {
    "colab_type": "text",
    "id": "Zi4hDKidVp_F"
   },
   "source": [
    "# 10. Самый убыточный фильм за период с 2012 по 2014 г. (включительно)?\n"
   ]
  },
  {
   "cell_type": "code",
   "execution_count": 389,
   "metadata": {
    "colab": {},
    "colab_type": "code",
    "id": "XqyRmufJVp_F",
    "scrolled": true
   },
   "outputs": [],
   "source": [
    "data_10 = data[(data.release_year >= 2012) & (data.release_year <= 2014) ] #films from 2012 to 2014 years (including)\n",
    "\n",
    "answers['10'] = data_10[data_10.profit == data_10.profit.min()].imdb_id #min profit from these years"
   ]
  },
  {
   "cell_type": "markdown",
   "metadata": {
    "colab_type": "text",
    "id": "EA7Sa9dkVp_I"
   },
   "source": [
    "# 11. Какого жанра фильмов больше всего?"
   ]
  },
  {
   "cell_type": "code",
   "execution_count": 390,
   "metadata": {
    "colab": {},
    "colab_type": "code",
    "id": "zsJAwJ8QVp_J"
   },
   "outputs": [],
   "source": [
    "data_11 = data # adding local  DF to use in answer this question.\n",
    "sum_gen = counter(data_11,'genres') #sendig DF to function and getting answer\n",
    "\n",
    "answers['11'] = sum_gen.loc[[sum_gen.idxmax()]]"
   ]
  },
  {
   "cell_type": "markdown",
   "metadata": {
    "colab_type": "text",
    "id": "Ax6g2C8SVp_M"
   },
   "source": [
    "## Second Option"
   ]
  },
  {
   "cell_type": "code",
   "execution_count": 391,
   "metadata": {
    "colab": {},
    "colab_type": "code",
    "id": "otO3SbrSVp_N"
   },
   "outputs": [],
   "source": [
    "data_11_2 = data.genres.str.split('|').sum()  # creating list of all genres\n",
    "genres_unique = [] #creating list of unique genres\n",
    "for i in data_11_2:\n",
    "    if i not in genres_unique:\n",
    "        genres_unique.append(i)\n",
    "        \n",
    "c = collections.Counter()  #count how many times genres meet\n",
    "for word in data_11_2:\n",
    "    c[word] += 1\n",
    "    \n",
    "data_11_2 = pd.DataFrame.from_dict(c, orient='index') #making DF from dict to add columns\n",
    "data_11_2 = df_genres.rename(columns={'index':'genres', 0:'count'}) #renaming columns\n",
    "\n",
    "answers_2 ['11'] = data_11_2[data_11_2['count']==data_11_2['count'].max()] #getting max value from DF\n"
   ]
  },
  {
   "cell_type": "markdown",
   "metadata": {
    "colab_type": "text",
    "id": "T9_bPWpkVp_Q"
   },
   "source": [
    "# 12. Фильмы какого жанра чаще всего становятся прибыльными?  допилить"
   ]
  },
  {
   "cell_type": "code",
   "execution_count": 392,
   "metadata": {
    "colab": {},
    "colab_type": "code",
    "id": "Tmt8MaK1Vp_R"
   },
   "outputs": [],
   "source": [
    "data_12 = data[data.profit > 0] #taking films with profit > 0\n",
    "\n",
    "sum_gen=counter(data_12,'genres') #sendig DF to function and getting answer\n",
    "\n",
    "answers['12'] = sum_gen.loc[[sum_gen.idxmax()]] #getting top value and writing it to the answers dict"
   ]
  },
  {
   "cell_type": "markdown",
   "metadata": {
    "colab_type": "text",
    "id": "0F23bgsDVp_U"
   },
   "source": [
    "# 13. У какого режиссера самые большие суммарные кассовые сборы?"
   ]
  },
  {
   "cell_type": "code",
   "execution_count": 393,
   "metadata": {
    "colab": {},
    "colab_type": "code",
    "id": "K6Z3J8ygVp_X"
   },
   "outputs": [],
   "source": [
    "data_13 = data.groupby(['director'])['revenue'].sum().sort_values(ascending = False) #grouped by directors,\n",
    "                                                                                #got sum of the revenue, sort by values\n",
    "answers['13'] = data_13.loc[[data_13.idxmax()]] #getting top value and writing it to the answers dict"
   ]
  },
  {
   "cell_type": "markdown",
   "metadata": {
    "colab_type": "text",
    "id": "PsYC9FgRVp_a"
   },
   "source": [
    "# 14. Какой режисер снял больше всего фильмов в стиле Action? Допилить"
   ]
  },
  {
   "cell_type": "code",
   "execution_count": 394,
   "metadata": {
    "colab": {},
    "colab_type": "code",
    "id": "wd2M-wHeVp_b",
    "scrolled": true
   },
   "outputs": [],
   "source": [
    "data_14 = data[data.genres.str.contains(\"Action\")] #geting genre Action\n",
    "sum_gen=counter(data_14,'director') #sending previously gotten DF to function\n",
    "\n",
    "answers['14'] = sum_gen.loc[[sum_gen.idxmax()]] #getting top value and writing it to the answers dict"
   ]
  },
  {
   "cell_type": "markdown",
   "metadata": {
    "colab_type": "text",
    "id": "PQ0KciD7Vp_f"
   },
   "source": [
    "# 15. Фильмы с каким актером принесли самые высокие кассовые сборы в 2012 году? Допилить\n"
   ]
  },
  {
   "cell_type": "code",
   "execution_count": 395,
   "metadata": {
    "scrolled": true
   },
   "outputs": [
    {
     "name": "stderr",
     "output_type": "stream",
     "text": [
      "C:\\Users\\blood\\anaconda3\\lib\\site-packages\\pandas\\core\\generic.py:5303: SettingWithCopyWarning: \n",
      "A value is trying to be set on a copy of a slice from a DataFrame.\n",
      "Try using .loc[row_indexer,col_indexer] = value instead\n",
      "\n",
      "See the caveats in the documentation: https://pandas.pydata.org/pandas-docs/stable/user_guide/indexing.html#returning-a-view-versus-a-copy\n",
      "  self[name] = value\n"
     ]
    }
   ],
   "source": [
    "data_15 = data[data.release_year == 2012] #getting films from 2012 year\n",
    "data_15.cast = data_15.cast.str.split('|') #making str from cast lists using | as splitter\n",
    "data_15 = data_15.explode('cast') #exploding DF by cas\n",
    "data_15 = pd.DataFrame(data_15.groupby(['cast']).revenue.sum().sort_values(ascending = False)) #sorting ang getting max values\n",
    "\n",
    "answers ['15'] = data_15.iloc[0] #getting first value from DF"
   ]
  },
  {
   "cell_type": "markdown",
   "metadata": {
    "colab_type": "text",
    "id": "mWHyyL7QVp_j"
   },
   "source": [
    "# 16. Какой актер снялся в большем количестве высокобюджетных фильмов?"
   ]
  },
  {
   "cell_type": "code",
   "execution_count": 396,
   "metadata": {
    "colab": {},
    "colab_type": "code",
    "id": "qQtmHKTFVp_k"
   },
   "outputs": [],
   "source": [
    "data_16 = data[data.budget > data.budget.mean()] # getting str where budget more than mean budget\n",
    "cast_list = data_16.cast.str.split('|').sum()  # creating list of all actors \n",
    "cast_unique = []                               # creating list of unique actors\n",
    "                                                    \n",
    "for i in cast_list:\n",
    "    if i not in cast_unique:\n",
    "        cast_unique.append(i)\n",
    "\n",
    "c = collections.Counter()\n",
    "for word in cast_list:\n",
    "    c[word] += 1\n",
    "    \n",
    "data_16 = pd.DataFrame.from_dict(c, orient='index').reset_index()#making DF from dict to add columns\n",
    "data_16 = data_16.rename(columns={'index':'cast', 0:'count'}) # renaming columns\n",
    "data_16 = data_16.sort_values(by = 'count', ascending = False) # sorting values\n",
    "\n",
    "answers ['16'] = data_16.iloc[0]"
   ]
  },
  {
   "cell_type": "markdown",
   "metadata": {},
   "source": [
    "## Second option"
   ]
  },
  {
   "cell_type": "code",
   "execution_count": 397,
   "metadata": {},
   "outputs": [],
   "source": [
    "data_16_2 = data[['cast','budget','original_title']] #getting current columns from original DF\n",
    "data_16_2.cast = data_16_2.cast.str.split('|') #splitting actors using | as splitter\n",
    "data_16_2 = data_16_2.explode('cast') #explode DF by cast\n",
    "data_16_2 = data_16_2[data_16_2.budget > data_16_2.budget.mean()]['cast'].value_counts() #getting values where budget \n",
    "                                                    #more than mean budget and sorting them\n",
    "data_16_2 = pd.DataFrame(data_16_2)\n",
    "\n",
    "answers_2 ['16'] = data_16_2.iloc[0]"
   ]
  },
  {
   "cell_type": "markdown",
   "metadata": {
    "colab_type": "text",
    "id": "NIh6AaW5Vp_n"
   },
   "source": [
    "# 17. В фильмах какого жанра больше всего снимался Nicolas Cage? "
   ]
  },
  {
   "cell_type": "code",
   "execution_count": 398,
   "metadata": {
    "colab": {},
    "colab_type": "code",
    "id": "H74SJDIBVp_n"
   },
   "outputs": [],
   "source": [
    "data_17 = data[data.cast.str.contains ('Nicolas Cage')] #getting films with Nicolas Cage\n",
    "data_17.genres = data_17.genres.str.split('|') #splitting genres using | as splitter\n",
    "data_17 = data_17.explode('genres') #explode DF by genres\n",
    "data_17 = data_17.genres.value_counts() #counting the most popular genre where Nicolas Cage took part\n",
    "data_17 = pd.DataFrame(data_17)\n",
    "data_17 = data_17.rename(columns= {'genres':'count'})\n",
    "\n",
    "answers ['17'] = data_17.iloc[0]"
   ]
  },
  {
   "cell_type": "markdown",
   "metadata": {
    "colab_type": "text",
    "id": "RqOmPRfWVp_q"
   },
   "source": [
    "# 18. Самый убыточный фильм от Paramount Pictures"
   ]
  },
  {
   "cell_type": "code",
   "execution_count": 399,
   "metadata": {
    "colab": {},
    "colab_type": "code",
    "id": "9E_B0Y96Vp_r",
    "scrolled": true
   },
   "outputs": [],
   "source": [
    "data_18 = data[data.production_companies.str.contains('Paramount Pictures')] #getting films from Paramaunt Pic\n",
    "data_18 = data_18[data_18.profit == data_18.profit.min()] #finding the lowest profit\n",
    "\n",
    "answers ['18'] = data_18['original_title']"
   ]
  },
  {
   "cell_type": "markdown",
   "metadata": {
    "colab_type": "text",
    "id": "vS8Ur6ddVp_u"
   },
   "source": [
    "# 19. Какой год стал самым успешным по суммарным кассовым сборам?"
   ]
  },
  {
   "cell_type": "code",
   "execution_count": 400,
   "metadata": {
    "colab": {},
    "colab_type": "code",
    "id": "Dnbt4GdIVp_v"
   },
   "outputs": [],
   "source": [
    "data_19 = data.groupby(['release_year'])['revenue'].sum().sort_values(ascending = False) #groping by year and calculating \n",
    "                                #total revenue for each year, sorting\n",
    "\n",
    "answers['19'] = data_19.loc[[data_19.idxmax()]]"
   ]
  },
  {
   "cell_type": "markdown",
   "metadata": {
    "colab_type": "text",
    "id": "JAzJh4QAVp_z"
   },
   "source": [
    "# 20. Какой самый прибыльный год для студии Warner Bros?"
   ]
  },
  {
   "cell_type": "code",
   "execution_count": 401,
   "metadata": {
    "colab": {},
    "colab_type": "code",
    "id": "wgVu02DEVp_0"
   },
   "outputs": [],
   "source": [
    "data_20 = data[data.production_companies.str.contains ('Warner Bros')]#getting films from Paramaunt WB\n",
    "data_20 = data_20.groupby(['release_year'])['profit'].sum().sort_values(ascending = False)#groping by year and calculating \n",
    "                                #total profit for each year, sorting\n",
    "\n",
    "answers['20'] = data_20.loc[[data_20.idxmax()]]"
   ]
  },
  {
   "cell_type": "markdown",
   "metadata": {
    "colab_type": "text",
    "id": "8Im1S2HRVp_4"
   },
   "source": [
    "# 21. В каком месяце за все годы суммарно вышло больше всего фильмов?"
   ]
  },
  {
   "cell_type": "code",
   "execution_count": 402,
   "metadata": {
    "colab": {},
    "colab_type": "code",
    "id": "lev6TH7gVp_4",
    "scrolled": true
   },
   "outputs": [],
   "source": [
    "data_21 = data.copy() # adding local DF to use in answer for this question.\n",
    "data_date_only = data_21.release_date # adding DF to add there only release dates\n",
    "date_month = [] #empty list to use further (months)\n",
    "\n",
    "for date in data_date_only:\n",
    "    date = datetime.strptime(date, \"%m/%d/%Y\")\n",
    "    month = date.month\n",
    "    date_month.append(month)\n",
    "    \n",
    "date_df = pd.Series(date_month) #creating DF from list\n",
    "\n",
    "data_21['month'] = date_df\n",
    "\n",
    "data_21 = data_21['month'].value_counts() #counting how many films were each month\n",
    "data_21 = pd.DataFrame(data_21)\n",
    "\n",
    "answers ['21'] = data_21.iloc[0]"
   ]
  },
  {
   "cell_type": "markdown",
   "metadata": {},
   "source": [
    "# Second option"
   ]
  },
  {
   "cell_type": "code",
   "execution_count": 403,
   "metadata": {
    "scrolled": true
   },
   "outputs": [],
   "source": [
    "data_21_2 = data.copy() # adding local DF to use in answer for this question.\n",
    "data_21_2.release_date = data_21_2.release_date.apply(\n",
    "                                    lambda x: datetime.strptime(x, '%m/%d/%Y')) #rewriting release date using strptime\n",
    "\n",
    "data_21_2.release_date = data_21_2.release_date.apply(lambda x: x.strftime('%B')) #adding months using %B\n",
    "\n",
    "data_21_2 = data_21_2['release_date'].value_counts() #counting how many films were each month\n",
    "\n",
    "answers_2 ['21'] = data_21_2.index[0]"
   ]
  },
  {
   "cell_type": "markdown",
   "metadata": {
    "colab_type": "text",
    "id": "uAJsZ_NeVp_7"
   },
   "source": [
    "# 22. Сколько суммарно вышло фильмов летом? (за июнь, июль, август)"
   ]
  },
  {
   "cell_type": "code",
   "execution_count": 404,
   "metadata": {
    "colab": {},
    "colab_type": "code",
    "id": "Aa-hEREoVp_8",
    "scrolled": true
   },
   "outputs": [],
   "source": [
    "data_22 = data.copy() # adding local DF to use in answer for this question.\n",
    "data_date_only = data_22.release_date # adding DF to add there only release dates\n",
    "date_month = [] #empty list to use further (months)\n",
    "\n",
    "for date in data_date_only:\n",
    "    date = datetime.strptime(date, \"%m/%d/%Y\")\n",
    "    month = date.month\n",
    "    date_month.append(month)\n",
    "    \n",
    "date_df = pd.Series(date_month)\n",
    "data_22['month'] = date_df\n",
    "\n",
    "data_22 = data_22[(data_22.month == 6)| (data_22.month == 7)| (data_22.month == 8)] #getting films only from summer\n",
    "\n",
    "answers ['22'] = len(data_22)"
   ]
  },
  {
   "cell_type": "markdown",
   "metadata": {},
   "source": [
    "# Second option"
   ]
  },
  {
   "cell_type": "code",
   "execution_count": 405,
   "metadata": {},
   "outputs": [],
   "source": [
    "data_22_2 = data.copy() # adding local DF to use in answer for this question.\n",
    "data_22_2.release_date = data.release_date.apply(\n",
    "                                    lambda x: datetime.strptime(x, '%m/%d/%Y')) #rewriting release date using strptime\n",
    "# Вычленяем месяцы:\n",
    "data_22_2.release_date = data_22_2.release_date.apply(lambda x: x.strftime('%B')) #adding months using %B\n",
    "# Подсчитываем фильмы в летние месяцы:\n",
    "num = data_22_2.query('release_date in [\"June\", \"July\", \"August\"]').shape[0] #getting films only from summer\n",
    "\n",
    "answers_2 ['22'] = num"
   ]
  },
  {
   "cell_type": "markdown",
   "metadata": {
    "colab_type": "text",
    "id": "G94ppOY1VqAA"
   },
   "source": [
    "# 23. Для какого режиссера зима – самое продуктивное время года? "
   ]
  },
  {
   "cell_type": "code",
   "execution_count": 406,
   "metadata": {
    "colab": {},
    "colab_type": "code",
    "id": "RhNTsamuVqAB",
    "scrolled": true
   },
   "outputs": [],
   "source": [
    "data_23 = data.copy()  # adding local DF to use in answer for this question.\n",
    "data_date_only = data_23.release_date #adding DF with only date\n",
    "date_month = []#empty list to use further (months)\n",
    "\n",
    "for date in data_date_only:\n",
    "    date = datetime.strptime(date, \"%m/%d/%Y\")\n",
    "    month = date.month\n",
    "    date_month.append(month)\n",
    "    \n",
    "date_df = pd.Series(date_month)\n",
    "data_23['month'] = date_df\n",
    "data_23 = data_23[(data_23.month == 12)| (data_23.month == 1)| (data_23.month == 2)]\n",
    "\n",
    "data_23.director = data_23.director.str.split('|')\n",
    "data_23 = data_23.explode('director')\n",
    "\n",
    "data_23 = data_23['director'].value_counts()\n",
    "data_23 = pd.DataFrame(data_23)\n",
    "\n",
    "answers ['23'] = data_23.iloc[0]"
   ]
  },
  {
   "cell_type": "markdown",
   "metadata": {
    "colab_type": "text",
    "id": "RBo0JVjVVqAF"
   },
   "source": [
    "# 24. Какая студия дает самые длинные названия своим фильмам по количеству символов?"
   ]
  },
  {
   "cell_type": "code",
   "execution_count": 407,
   "metadata": {
    "colab": {},
    "colab_type": "code",
    "id": "QRGS8L0iVqAG"
   },
   "outputs": [],
   "source": [
    "data_24 = data.copy()  # adding local DF to use in answer for this question.\n",
    "data_24 ['title_len'] = data_24.original_title.apply(len) #adding column with title len value\n",
    "\n",
    "data_24.production_companies = data_24.production_companies.str.split('|') #spliting production copmanies names using |as splitter \n",
    "data_24 = data_24.explode('production_companies') #expoding DF by production companies\n",
    "\n",
    "data_24 = data_24.groupby(['production_companies'])['title_len'].mean().sort_values(ascending = False)\n",
    "  #grouping using production companies as group parametr, and calculating title_len mean value, sorting\n",
    "\n",
    "answers ['24'] = data_24.index[0]"
   ]
  },
  {
   "cell_type": "markdown",
   "metadata": {
    "colab_type": "text",
    "id": "9G0hbvR7VqAK"
   },
   "source": [
    "# 25. Описание фильмов какой студии в среднем самые длинные по количеству слов?"
   ]
  },
  {
   "cell_type": "code",
   "execution_count": 408,
   "metadata": {
    "colab": {},
    "colab_type": "code",
    "id": "Ge2GsLNxVqAK"
   },
   "outputs": [],
   "source": [
    "data_25 = data.copy() # adding local DF to use in answer for this question.\n",
    "data_25 ['overview_len'] = data_25.overview.apply(len) #adding column with title len value\n",
    "\n",
    "data_25.production_companies = data_25.production_companies.str.split('|') #spliting production copmanies names using |as splitter \n",
    "data_25 = data_25.explode('production_companies') #expoding DF by production companies\n",
    "\n",
    "\n",
    "data_25 = data_25.groupby(['production_companies'])['overview_len'].mean().sort_values(ascending = False)\n",
    " #grouping using production companies as group parametr, and calculating review_len mean value, sorting\n",
    "\n",
    "\n",
    "answers ['25'] = data_long_overview.index[0]"
   ]
  },
  {
   "cell_type": "code",
   "execution_count": 409,
   "metadata": {},
   "outputs": [
    {
     "data": {
      "text/plain": [
       "25"
      ]
     },
     "execution_count": 409,
     "metadata": {},
     "output_type": "execute_result"
    }
   ],
   "source": [
    "len(answers)"
   ]
  },
  {
   "cell_type": "markdown",
   "metadata": {
    "colab_type": "text",
    "id": "FJ1AFt90VqAP"
   },
   "source": [
    "# 26. Какие фильмы входят в 1 процент лучших по рейтингу? \n",
    "по vote_average"
   ]
  },
  {
   "cell_type": "code",
   "execution_count": 410,
   "metadata": {
    "colab": {},
    "colab_type": "code",
    "id": "8qmJVq4CVqAQ",
    "scrolled": true
   },
   "outputs": [
    {
     "data": {
      "text/html": [
       "<div>\n",
       "<style scoped>\n",
       "    .dataframe tbody tr th:only-of-type {\n",
       "        vertical-align: middle;\n",
       "    }\n",
       "\n",
       "    .dataframe tbody tr th {\n",
       "        vertical-align: top;\n",
       "    }\n",
       "\n",
       "    .dataframe thead th {\n",
       "        text-align: right;\n",
       "    }\n",
       "</style>\n",
       "<table border=\"1\" class=\"dataframe\">\n",
       "  <thead>\n",
       "    <tr style=\"text-align: right;\">\n",
       "      <th></th>\n",
       "      <th>imdb_id</th>\n",
       "      <th>budget</th>\n",
       "      <th>revenue</th>\n",
       "      <th>original_title</th>\n",
       "      <th>cast</th>\n",
       "      <th>director</th>\n",
       "      <th>tagline</th>\n",
       "      <th>overview</th>\n",
       "      <th>runtime</th>\n",
       "      <th>genres</th>\n",
       "      <th>production_companies</th>\n",
       "      <th>release_date</th>\n",
       "      <th>vote_average</th>\n",
       "      <th>release_year</th>\n",
       "      <th>profit</th>\n",
       "    </tr>\n",
       "  </thead>\n",
       "  <tbody>\n",
       "    <tr>\n",
       "      <th>599</th>\n",
       "      <td>tt0468569</td>\n",
       "      <td>185000000</td>\n",
       "      <td>1001921825</td>\n",
       "      <td>The Dark Knight</td>\n",
       "      <td>Christian Bale|Michael Caine|Heath Ledger|Aaro...</td>\n",
       "      <td>Christopher Nolan</td>\n",
       "      <td>Why So Serious?</td>\n",
       "      <td>Batman raises the stakes in his war on crime. ...</td>\n",
       "      <td>152</td>\n",
       "      <td>Drama|Action|Crime|Thriller</td>\n",
       "      <td>DC Comics|Legendary Pictures|Warner Bros.|Syncopy</td>\n",
       "      <td>7/16/2008</td>\n",
       "      <td>8.1</td>\n",
       "      <td>2008</td>\n",
       "      <td>816921825</td>\n",
       "    </tr>\n",
       "  </tbody>\n",
       "</table>\n",
       "</div>"
      ],
      "text/plain": [
       "       imdb_id     budget     revenue   original_title  \\\n",
       "599  tt0468569  185000000  1001921825  The Dark Knight   \n",
       "\n",
       "                                                  cast           director  \\\n",
       "599  Christian Bale|Michael Caine|Heath Ledger|Aaro...  Christopher Nolan   \n",
       "\n",
       "             tagline                                           overview  \\\n",
       "599  Why So Serious?  Batman raises the stakes in his war on crime. ...   \n",
       "\n",
       "     runtime                       genres  \\\n",
       "599      152  Drama|Action|Crime|Thriller   \n",
       "\n",
       "                                  production_companies release_date  \\\n",
       "599  DC Comics|Legendary Pictures|Warner Bros.|Syncopy    7/16/2008   \n",
       "\n",
       "     vote_average  release_year     profit  \n",
       "599           8.1          2008  816921825  "
      ]
     },
     "execution_count": 410,
     "metadata": {},
     "output_type": "execute_result"
    }
   ],
   "source": [
    "data_26 = data[data.vote_average > (data.vote_average.max())*0.99]\n",
    "data_26"
   ]
  },
  {
   "cell_type": "code",
   "execution_count": null,
   "metadata": {},
   "outputs": [],
   "source": []
  },
  {
   "cell_type": "markdown",
   "metadata": {
    "colab_type": "text",
    "id": "MdXsUXbCVqAV"
   },
   "source": [
    "# 27. Какие актеры чаще всего снимаются в одном фильме вместе?\n"
   ]
  },
  {
   "cell_type": "code",
   "execution_count": 433,
   "metadata": {
    "colab_type": "text",
    "id": "4ymnxEVoVqAW"
   },
   "outputs": [],
   "source": [
    "combs = [] #adding list to put there combinations\n",
    "for cast in data.cast.str.split('|'):\n",
    "    cast.sort()\n",
    "    combs.extend(combinations(cast, 2))\n",
    "answers ['27'] = pd.Series(combs).value_counts().index[0]"
   ]
  },
  {
   "cell_type": "code",
   "execution_count": 430,
   "metadata": {},
   "outputs": [
    {
     "data": {
      "text/plain": [
       "[(('Daniel Radcliffe', 'Rupert Grint'), 8),\n",
       " (('Daniel Radcliffe', 'Emma Watson'), 8),\n",
       " (('Rupert Grint', 'Emma Watson'), 7),\n",
       " (('Ben Stiller', 'Owen Wilson'), 6),\n",
       " (('Johnny Depp', 'Helena Bonham Carter'), 6)]"
      ]
     },
     "execution_count": 430,
     "metadata": {},
     "output_type": "execute_result"
    }
   ],
   "source": [
    "pairs = Counter()\n",
    "for i in range(0,len(data)):\n",
    "    artists = data.cast[i].split('|')\n",
    "    for j in list(combinations(artists,2)):\n",
    "        if j not in pairs:\n",
    "             pairs[j] = 1\n",
    "        else:\n",
    "             pairs[j] += 1\n",
    "pairs.most_common(5)"
   ]
  },
  {
   "cell_type": "markdown",
   "metadata": {
    "colab_type": "text",
    "id": "U0nONFnGVqAX"
   },
   "source": [
    "# Submission"
   ]
  },
  {
   "cell_type": "code",
   "execution_count": 0,
   "metadata": {
    "colab": {},
    "colab_type": "code",
    "id": "IfcaRO9-VqAX",
    "outputId": "0f132912-32bb-4196-c98c-abfbc4ad5a5f"
   },
   "outputs": [
    {
     "data": {
      "text/plain": [
       "{'1': '...', '2': '...'}"
      ]
     },
     "execution_count": 8,
     "metadata": {
      "tags": []
     },
     "output_type": "execute_result"
    }
   ],
   "source": [
    "# в конце можно посмотреть свои ответы к каждому вопросу\n",
    "answers"
   ]
  },
  {
   "cell_type": "code",
   "execution_count": 0,
   "metadata": {
    "colab": {},
    "colab_type": "code",
    "id": "SiRmHPl8VqAd"
   },
   "outputs": [],
   "source": [
    "# и убедиться что ни чего не пропустил)\n",
    "len(answers)"
   ]
  },
  {
   "cell_type": "code",
   "execution_count": 0,
   "metadata": {
    "colab": {},
    "colab_type": "code",
    "id": "uCfuTkRbVqAg"
   },
   "outputs": [],
   "source": []
  },
  {
   "cell_type": "code",
   "execution_count": 0,
   "metadata": {
    "colab": {},
    "colab_type": "code",
    "id": "Vwx3NrkSVqAl"
   },
   "outputs": [],
   "source": []
  }
 ],
 "metadata": {
  "colab": {
   "name": "Copy of [SF-DST] Movies IMBD v4.1 TEMPLATE.ipynb",
   "provenance": []
  },
  "kernelspec": {
   "display_name": "Python 3",
   "language": "python",
   "name": "python3"
  },
  "language_info": {
   "codemirror_mode": {
    "name": "ipython",
    "version": 3
   },
   "file_extension": ".py",
   "mimetype": "text/x-python",
   "name": "python",
   "nbconvert_exporter": "python",
   "pygments_lexer": "ipython3",
   "version": "3.8.3"
  }
 },
 "nbformat": 4,
 "nbformat_minor": 1
}
