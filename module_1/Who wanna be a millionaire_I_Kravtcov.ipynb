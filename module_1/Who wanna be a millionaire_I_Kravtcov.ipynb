{
 "cells": [
  {
   "cell_type": "code",
   "execution_count": 104,
   "metadata": {
    "_cell_guid": "b1076dfc-b9ad-4769-8c92-a6c4dae69d19",
    "_uuid": "8f2839f25d086af736a60e9eeb907d3b93b6e0e5",
    "colab": {},
    "colab_type": "code",
    "id": "U2D2gTdJVp90"
   },
   "outputs": [],
   "source": [
    "import numpy as np\n",
    "import pandas as pd\n",
    "import seaborn as sns\n",
    "import matplotlib.pyplot as plt\n",
    "import collections\n",
    "from collections import Counter\n",
    "from datetime import datetime\n",
    "from itertools import combinations"
   ]
  },
  {
   "cell_type": "code",
   "execution_count": 105,
   "metadata": {
    "_cell_guid": "79c7e3d0-c299-4dcb-8224-4455121ee9b0",
    "_uuid": "d629ff2d2480ee46fbb7e2d37f6b5fab8052498a",
    "colab": {},
    "colab_type": "code",
    "id": "oyGfxL3eVp9-",
    "scrolled": true
   },
   "outputs": [],
   "source": [
    "data = pd.read_csv('movie_bd_v5.csv')"
   ]
  },
  {
   "cell_type": "markdown",
   "metadata": {
    "colab_type": "text",
    "id": "DTIt7ezGVp-G"
   },
   "source": [
    "# Предобработка"
   ]
  },
  {
   "cell_type": "code",
   "execution_count": 106,
   "metadata": {
    "colab": {},
    "colab_type": "code",
    "id": "jNb40DwKVp-H"
   },
   "outputs": [],
   "source": [
    "answers = {} # creating dictionary for answers\n",
    "answers_2 = {} # creating dictionary for 2nd answers\n",
    "data['profit'] = data['revenue'] - data['budget'] #adding new column 'Profit'\n",
    "\n",
    "def counter(movie_bd, x):\n",
    "    \"\"\"Function, that helps us to count values, if they are separeted by |\"\"\"\n",
    "    data_tmp=movie_bd[x].str.cat(sep='|') # making one str\n",
    "    data_tmp=pd.Series(data_tmp.split('|')) # making Series, using  '|' as splitter\n",
    "    data_tmp=data_tmp.value_counts(ascending=False) # counting number of elements in str\n",
    "    return data_tmp"
   ]
  },
  {
   "cell_type": "markdown",
   "metadata": {
    "colab_type": "text",
    "id": "YxZaH-nPVp-L"
   },
   "source": [
    "# 1. У какого фильма из списка самый большой бюджет?"
   ]
  },
  {
   "cell_type": "code",
   "execution_count": 107,
   "metadata": {
    "colab": {},
    "colab_type": "code",
    "id": "uVnXAY5RVp-O"
   },
   "outputs": [],
   "source": [
    "data_1 = data # adding local  DF to use in answer this question.\n",
    "max_budget_mask = data_1.budget == data_1.budget.max() #making mask to know film with max budget\n",
    "data_1 = data_1[max_budget_mask] #using mask to filter only one film from DF\n",
    "\n",
    "answers ['1'] = data_1['original_title'] # putting original_title into answers dict"
   ]
  },
  {
   "cell_type": "markdown",
   "metadata": {
    "colab_type": "text",
    "id": "K7L3nbRXVp-X"
   },
   "source": [
    "## Second option"
   ]
  },
  {
   "cell_type": "code",
   "execution_count": 108,
   "metadata": {
    "colab": {},
    "colab_type": "code",
    "id": "OGaoQI7rVp-X"
   },
   "outputs": [],
   "source": [
    "answers_2 ['1'] = data[data.runtime == data.runtime.max()]['original_title']"
   ]
  },
  {
   "cell_type": "markdown",
   "metadata": {
    "colab_type": "text",
    "id": "FNRbbI3vVp-c"
   },
   "source": [
    "# 2. Какой из фильмов самый длительный (в минутах)?"
   ]
  },
  {
   "cell_type": "code",
   "execution_count": 109,
   "metadata": {
    "colab": {},
    "colab_type": "code",
    "id": "vHAoEXNTVp-d"
   },
   "outputs": [],
   "source": [
    "data_2 = data # adding local  DF to use in answer this question.\n",
    "max_runtime_mask = data_2.runtime == data_2.runtime.max() #making mask to know film with max runtime\n",
    "data_2 = data_2[max_runtime_mask] #using mask to filter only one film from DF\n",
    "\n",
    "answers ['2'] = data_2['original_title'] # putting original_title into answers dict"
   ]
  },
  {
   "cell_type": "markdown",
   "metadata": {},
   "source": [
    "## Second option"
   ]
  },
  {
   "cell_type": "code",
   "execution_count": 110,
   "metadata": {},
   "outputs": [],
   "source": [
    "answers_2 ['2'] = data[data.runtime == data.runtime.max()]['original_title']"
   ]
  },
  {
   "cell_type": "markdown",
   "metadata": {
    "colab_type": "text",
    "id": "bapLlpW8Vp-k"
   },
   "source": [
    "# 3. Какой из фильмов самый короткий (в минутах)?\n",
    "\n",
    "\n",
    "\n"
   ]
  },
  {
   "cell_type": "code",
   "execution_count": 111,
   "metadata": {
    "colab": {},
    "colab_type": "code",
    "id": "YBxaSHuAVp-l"
   },
   "outputs": [],
   "source": [
    "data_3 = data # adding local  DF to use in answer for this question.\n",
    "\n",
    "min_runtime_mask = data_3.runtime == data_3.runtime.min() #making mask to know film with min runtime\n",
    "data_3 = data_3[min_runtime_mask] #using mask to filter only one film from DF\n",
    "\n",
    "answers ['3'] = data_3['original_title'] # putting original_title into answers dict"
   ]
  },
  {
   "cell_type": "markdown",
   "metadata": {},
   "source": [
    "## Second option"
   ]
  },
  {
   "cell_type": "code",
   "execution_count": 112,
   "metadata": {},
   "outputs": [],
   "source": [
    "answers_2 ['3'] = data[data.runtime == data.runtime.min()]['imdb_id']"
   ]
  },
  {
   "cell_type": "markdown",
   "metadata": {
    "colab_type": "text",
    "id": "TfQbxbfNVp-p"
   },
   "source": [
    "# 4. Какова средняя длительность фильмов?\n"
   ]
  },
  {
   "cell_type": "code",
   "execution_count": 113,
   "metadata": {
    "colab": {},
    "colab_type": "code",
    "id": "5K6dKZYVVp-q"
   },
   "outputs": [],
   "source": [
    "data_4 = data # adding local  DF to use in answer for this question.\n",
    "\n",
    "answers['4'] =  round(data_4.runtime.mean()) # avg runtime"
   ]
  },
  {
   "cell_type": "markdown",
   "metadata": {
    "colab_type": "text",
    "id": "r5TvbnT_Vp-u"
   },
   "source": [
    "# 5. Каково медианное значение длительности фильмов? "
   ]
  },
  {
   "cell_type": "code",
   "execution_count": 114,
   "metadata": {
    "colab": {},
    "colab_type": "code",
    "id": "iBROplKnVp-v"
   },
   "outputs": [],
   "source": [
    "data_5 = data # adding local  DF to use in answer for this question.\n",
    "\n",
    "answers['5'] =  round(data_5.runtime.median()) # avg runtime"
   ]
  },
  {
   "cell_type": "markdown",
   "metadata": {
    "colab_type": "text",
    "id": "39P-deDSVp-y"
   },
   "source": [
    "# 6. Какой самый прибыльный фильм?\n",
    "#### Внимание! Здесь и далее под «прибылью» или «убытками» понимается разность между сборами и бюджетом фильма. (прибыль = сборы - бюджет) в нашем датасете это будет (profit = revenue - budget) "
   ]
  },
  {
   "cell_type": "code",
   "execution_count": 115,
   "metadata": {
    "colab": {},
    "colab_type": "code",
    "id": "UYZh4T9WVp-y"
   },
   "outputs": [],
   "source": [
    "answers['6'] = data[data.profit == data.profit.max()]['original_title']# avg runtime"
   ]
  },
  {
   "cell_type": "markdown",
   "metadata": {
    "colab_type": "text",
    "id": "M99JmIX4Vp-2"
   },
   "source": [
    "# 7. Какой фильм самый убыточный? "
   ]
  },
  {
   "cell_type": "code",
   "execution_count": 116,
   "metadata": {
    "colab": {},
    "colab_type": "code",
    "id": "w-D2m4XPVp-3"
   },
   "outputs": [],
   "source": [
    "answers['7'] = data[data.profit == data.profit.min()]['original_title'] #getting film with lowest profit"
   ]
  },
  {
   "cell_type": "markdown",
   "metadata": {
    "colab_type": "text",
    "id": "wEOM5ERVVp-6"
   },
   "source": [
    "# 8. У скольких фильмов из датасета объем сборов оказался выше бюджета?"
   ]
  },
  {
   "cell_type": "code",
   "execution_count": 117,
   "metadata": {
    "colab": {},
    "colab_type": "code",
    "id": "y00_7HD6Vp-7"
   },
   "outputs": [],
   "source": [
    "answers['8'] = len(data[data.revenue > data.budget])"
   ]
  },
  {
   "cell_type": "markdown",
   "metadata": {
    "colab_type": "text",
    "id": "xhpspA9KVp_A"
   },
   "source": [
    "# 9. Какой фильм оказался самым кассовым в 2008 году?"
   ]
  },
  {
   "cell_type": "code",
   "execution_count": 118,
   "metadata": {
    "colab": {},
    "colab_type": "code",
    "id": "MoUyQr9RVp_B"
   },
   "outputs": [],
   "source": [
    "data_9 = data[(data.release_year == 2008)] #films from 2008 year\n",
    "\n",
    "answers['9'] = data_9[data_9.revenue == data_9.revenue.max()]['original_title'] #detecting film with highest revenue from 2008"
   ]
  },
  {
   "cell_type": "markdown",
   "metadata": {
    "colab_type": "text",
    "id": "Zi4hDKidVp_F"
   },
   "source": [
    "# 10. Самый убыточный фильм за период с 2012 по 2014 г. (включительно)?\n"
   ]
  },
  {
   "cell_type": "code",
   "execution_count": 119,
   "metadata": {
    "colab": {},
    "colab_type": "code",
    "id": "XqyRmufJVp_F",
    "scrolled": true
   },
   "outputs": [],
   "source": [
    "data_10 = data[(data.release_year >= 2012) & (data.release_year <= 2014) ] #films from 2012 to 2014 years (including)\n",
    "\n",
    "answers['10'] = data_10[data_10.profit == data_10.profit.min()].original_title #min profit from these years"
   ]
  },
  {
   "cell_type": "markdown",
   "metadata": {
    "colab_type": "text",
    "id": "EA7Sa9dkVp_I"
   },
   "source": [
    "# 11. Какого жанра фильмов больше всего?"
   ]
  },
  {
   "cell_type": "code",
   "execution_count": 120,
   "metadata": {
    "colab": {},
    "colab_type": "code",
    "id": "zsJAwJ8QVp_J"
   },
   "outputs": [],
   "source": [
    "data_11 = data # adding local  DF to use in answer this question.\n",
    "sum_gen = counter(data_11,'genres') #sendig DF to function and getting answer\n",
    "\n",
    "answers['11'] = sum_gen.loc[[sum_gen.idxmax()]]"
   ]
  },
  {
   "cell_type": "markdown",
   "metadata": {
    "colab_type": "text",
    "id": "Ax6g2C8SVp_M"
   },
   "source": [
    "## Second Option"
   ]
  },
  {
   "cell_type": "code",
   "execution_count": 123,
   "metadata": {
    "colab": {},
    "colab_type": "code",
    "id": "otO3SbrSVp_N"
   },
   "outputs": [],
   "source": [
    "data_11_2 = data.genres.str.split('|').sum()  # creating list of all genres\n",
    "genres_unique = [] #creating list of unique genres\n",
    "\n",
    "for i in data_11_2: #creating list of genres\n",
    "    if i not in genres_unique:\n",
    "        genres_unique.append(i) #appeinding genre if it isn't in the list\n",
    "        \n",
    "c = collections.Counter()  #count how many times genre meets\n",
    "for word in data_11_2:\n",
    "    c[word] += 1\n",
    "    \n",
    "data_11_2 = pd.DataFrame.from_dict(c, orient='index') #making DF from dict to add columns\n",
    "data_11_2 = data_11_2.rename(columns={'index':'genres', 0:'count'}) #renaming columns\n",
    "\n",
    "answers_2 ['11'] = data_11_2[data_11_2['count']==data_11_2['count'].max()] #getting max value from DF"
   ]
  },
  {
   "cell_type": "markdown",
   "metadata": {
    "colab_type": "text",
    "id": "T9_bPWpkVp_Q"
   },
   "source": [
    "# 12. Фильмы какого жанра чаще всего становятся прибыльными?  "
   ]
  },
  {
   "cell_type": "code",
   "execution_count": 124,
   "metadata": {
    "colab": {},
    "colab_type": "code",
    "id": "Tmt8MaK1Vp_R"
   },
   "outputs": [],
   "source": [
    "data_12 = data[data.profit > 0] #taking films with profit > 0\n",
    "\n",
    "sum_gen=counter(data_12,'genres') #sendig DF to function and getting answer\n",
    "\n",
    "answers['12'] = sum_gen.loc[[sum_gen.idxmax()]] #getting top value and writing it to the answers dict"
   ]
  },
  {
   "cell_type": "markdown",
   "metadata": {
    "colab_type": "text",
    "id": "0F23bgsDVp_U"
   },
   "source": [
    "# 13. У какого режиссера самые большие суммарные кассовые сборы?"
   ]
  },
  {
   "cell_type": "code",
   "execution_count": 125,
   "metadata": {
    "colab": {},
    "colab_type": "code",
    "id": "K6Z3J8ygVp_X"
   },
   "outputs": [],
   "source": [
    "data_13 = data.groupby(['director'])['revenue'].sum().sort_values(ascending = False) #grouped by directors,\n",
    "                                                                                #got sum of the revenue, sort by values\n",
    "answers['13'] = data_13.loc[[data_13.idxmax()]] #getting top value and writing it to the answers dict"
   ]
  },
  {
   "cell_type": "markdown",
   "metadata": {
    "colab_type": "text",
    "id": "PsYC9FgRVp_a"
   },
   "source": [
    "# 14. Какой режисер снял больше всего фильмов в стиле Action?"
   ]
  },
  {
   "cell_type": "code",
   "execution_count": 126,
   "metadata": {
    "colab": {},
    "colab_type": "code",
    "id": "wd2M-wHeVp_b",
    "scrolled": true
   },
   "outputs": [],
   "source": [
    "data_14 = data[data.genres.str.contains(\"Action\")] #geting genre Action\n",
    "sum_gen=counter(data_14,'director') #sending previously gotten DF to function\n",
    "\n",
    "answers['14'] = sum_gen.loc[[sum_gen.idxmax()]] #getting top value and writing it to the answers dict"
   ]
  },
  {
   "cell_type": "markdown",
   "metadata": {
    "colab_type": "text",
    "id": "PQ0KciD7Vp_f"
   },
   "source": [
    "# 15. Фильмы с каким актером принесли самые высокие кассовые сборы в 2012 году?\n"
   ]
  },
  {
   "cell_type": "code",
   "execution_count": 127,
   "metadata": {
    "scrolled": true
   },
   "outputs": [],
   "source": [
    "data_15 = data[data.release_year == 2012] #getting films from 2012 year\n",
    "\n",
    "data_15.cast = data_15.cast.str.split('|') #making str from cast lists using | as splitter\n",
    "data_15 = data_15.explode('cast') #exploding DF by cast\n",
    "\n",
    "data_15 = pd.DataFrame(data_15.groupby(['cast']).revenue.sum().sort_values(ascending = False)) #sorting ang getting max values\n",
    "answers ['15'] = data_15.iloc[0] #getting first value from DF\n"
   ]
  },
  {
   "cell_type": "markdown",
   "metadata": {
    "colab_type": "text",
    "id": "mWHyyL7QVp_j"
   },
   "source": [
    "# 16. Какой актер снялся в большем количестве высокобюджетных фильмов?"
   ]
  },
  {
   "cell_type": "code",
   "execution_count": 128,
   "metadata": {
    "colab": {},
    "colab_type": "code",
    "id": "qQtmHKTFVp_k"
   },
   "outputs": [],
   "source": [
    "data_16 = data[data.budget > data.budget.mean()] # getting str where budget more than mean budget\n",
    "cast_list = data_16.cast.str.split('|').sum()  # creating list of all actors \n",
    "cast_unique = []                               # creating list of unique actors\n",
    "                                                    \n",
    "for i in cast_list:\n",
    "    if i not in cast_unique:\n",
    "        cast_unique.append(i)\n",
    "\n",
    "c = collections.Counter()\n",
    "for word in cast_list:\n",
    "    c[word] += 1\n",
    "    \n",
    "data_16 = pd.DataFrame.from_dict(c, orient='index').reset_index()#making DF from dict to add columns\n",
    "data_16 = data_16.rename(columns={'index':'cast', 0:'count'}) # renaming columns\n",
    "data_16 = data_16.sort_values(by = 'count', ascending = False) # sorting values\n",
    "\n",
    "answers ['16'] = data_16.iloc[0]"
   ]
  },
  {
   "cell_type": "markdown",
   "metadata": {},
   "source": [
    "## Second option"
   ]
  },
  {
   "cell_type": "code",
   "execution_count": 129,
   "metadata": {},
   "outputs": [],
   "source": [
    "data_16_2 = data[['cast','budget','original_title']] #getting current columns from original DF\n",
    "\n",
    "data_16_2.cast = data_16_2.cast.str.split('|') #splitting actors using | as splitter\n",
    "data_16_2 = data_16_2.explode('cast') #explode DF by cast\n",
    "\n",
    "data_16_2 = data_16_2[data_16_2.budget > data_16_2.budget.mean()]['cast'].value_counts() #getting values where budget \n",
    "                                                    #more than mean budget and sorting them\n",
    "data_16_2 = pd.DataFrame(data_16_2)\n",
    "answers_2 ['16'] = data_16_2.iloc[0]"
   ]
  },
  {
   "cell_type": "markdown",
   "metadata": {
    "colab_type": "text",
    "id": "NIh6AaW5Vp_n"
   },
   "source": [
    "# 17. В фильмах какого жанра больше всего снимался Nicolas Cage? "
   ]
  },
  {
   "cell_type": "code",
   "execution_count": 130,
   "metadata": {
    "colab": {},
    "colab_type": "code",
    "id": "H74SJDIBVp_n"
   },
   "outputs": [],
   "source": [
    "data_17 = data[data.cast.str.contains ('Nicolas Cage')] #getting films with Nicolas Cage\n",
    "\n",
    "data_17.genres = data_17.genres.str.split('|') #splitting genres using | as splitter\n",
    "data_17 = data_17.explode('genres') #explode DF by genres\n",
    "\n",
    "data_17 = data_17.genres.value_counts() #counting the most popular genre where Nicolas Cage took part\n",
    "\n",
    "data_17 = pd.DataFrame(data_17)\n",
    "data_17 = data_17.rename(columns= {'genres':'count'})\n",
    "answers ['17'] = data_17.iloc[0]"
   ]
  },
  {
   "cell_type": "markdown",
   "metadata": {
    "colab_type": "text",
    "id": "RqOmPRfWVp_q"
   },
   "source": [
    "# 18. Самый убыточный фильм от Paramount Pictures"
   ]
  },
  {
   "cell_type": "code",
   "execution_count": 131,
   "metadata": {
    "colab": {},
    "colab_type": "code",
    "id": "9E_B0Y96Vp_r",
    "scrolled": true
   },
   "outputs": [],
   "source": [
    "data_18 = data[data.production_companies.str.contains('Paramount Pictures')] #getting films from Paramaunt Pic\n",
    "data_18 = data_18[data_18.profit == data_18.profit.min()] #finding the lowest profit\n",
    "\n",
    "answers ['18'] = data_18['original_title']"
   ]
  },
  {
   "cell_type": "markdown",
   "metadata": {
    "colab_type": "text",
    "id": "vS8Ur6ddVp_u"
   },
   "source": [
    "# 19. Какой год стал самым успешным по суммарным кассовым сборам?"
   ]
  },
  {
   "cell_type": "code",
   "execution_count": 132,
   "metadata": {
    "colab": {},
    "colab_type": "code",
    "id": "Dnbt4GdIVp_v"
   },
   "outputs": [],
   "source": [
    "data_19 = data.groupby(['release_year'])['revenue'].sum().sort_values(ascending = False) #groping by year and calculating \n",
    "                                #total revenue for each year, sorting\n",
    "\n",
    "answers['19'] = data_19.loc[[data_19.idxmax()]]"
   ]
  },
  {
   "cell_type": "markdown",
   "metadata": {
    "colab_type": "text",
    "id": "JAzJh4QAVp_z"
   },
   "source": [
    "# 20. Какой самый прибыльный год для студии Warner Bros?"
   ]
  },
  {
   "cell_type": "code",
   "execution_count": 133,
   "metadata": {
    "colab": {},
    "colab_type": "code",
    "id": "wgVu02DEVp_0"
   },
   "outputs": [],
   "source": [
    "data_20 = data[data.production_companies.str.contains ('Warner Bros')]#getting films from Paramaunt WB\n",
    "data_20 = data_20.groupby(['release_year'])['profit'].sum().sort_values(ascending = False)#groping by year and  \n",
    "                                                                    # calculating total profit for each year, sorting\n",
    "\n",
    "answers['20'] = data_20.loc[[data_20.idxmax()]]"
   ]
  },
  {
   "cell_type": "markdown",
   "metadata": {
    "colab_type": "text",
    "id": "8Im1S2HRVp_4"
   },
   "source": [
    "# 21. В каком месяце за все годы суммарно вышло больше всего фильмов? "
   ]
  },
  {
   "cell_type": "code",
   "execution_count": 134,
   "metadata": {
    "colab": {},
    "colab_type": "code",
    "id": "lev6TH7gVp_4",
    "scrolled": true
   },
   "outputs": [],
   "source": [
    "data_21 = data.copy() # adding local DF to use in answer for this question.\n",
    "data_date_only = data_21.release_date # adding DF to add there only release dates\n",
    "date_month = [] #empty list to use further (months)\n",
    "\n",
    "for date in data_date_only:\n",
    "    date = datetime.strptime(date, \"%m/%d/%Y\") #using strptime to get common timeformat\n",
    "    month = date.month #getting month\n",
    "    date_month.append(month) #appending month to list\n",
    "    \n",
    "date_df = pd.Series(date_month) #creating series object from list\n",
    "data_21['month'] = date_df #adding new column with month in local DF\n",
    "\n",
    "data_21 = data_21['month'].value_counts() #counting how many films were each month\n",
    "data_21 = pd.DataFrame(data_21) \n",
    "\n",
    "answers ['21'] = data_21.iloc[0]"
   ]
  },
  {
   "cell_type": "markdown",
   "metadata": {},
   "source": [
    "# Second option"
   ]
  },
  {
   "cell_type": "code",
   "execution_count": 135,
   "metadata": {
    "scrolled": true
   },
   "outputs": [],
   "source": [
    "data_21_2 = data.copy() # adding local DF to use in answer for this question.\n",
    "data_21_2.release_date = data_21_2.release_date.apply(\n",
    "                                    lambda x: datetime.strptime(x, '%m/%d/%Y')) #rewriting release date using strptime\n",
    "\n",
    "data_21_2.release_date = data_21_2.release_date.apply(lambda x: x.strftime('%B')) #adding months using %B\n",
    "\n",
    "data_21_2 = data_21_2['release_date'].value_counts() #counting how many films were each month\n",
    "\n",
    "answers_2 ['21'] = data_21_2.index[0]"
   ]
  },
  {
   "cell_type": "markdown",
   "metadata": {
    "colab_type": "text",
    "id": "uAJsZ_NeVp_7"
   },
   "source": [
    "# 22. Сколько суммарно вышло фильмов летом? (за июнь, июль, август)"
   ]
  },
  {
   "cell_type": "code",
   "execution_count": 136,
   "metadata": {
    "colab": {},
    "colab_type": "code",
    "id": "Aa-hEREoVp_8",
    "scrolled": true
   },
   "outputs": [],
   "source": [
    "data_22 = data.copy() # adding local DF to use in answer for this question.\n",
    "data_date_only = data_22.release_date # adding DF to add there only release dates\n",
    "date_month = [] #empty list to use further (months)\n",
    "\n",
    "for date in data_date_only:\n",
    "    date = datetime.strptime(date, \"%m/%d/%Y\") #using strptime to get common timeformat\n",
    "    month = date.month #getting month\n",
    "    date_month.append(month) #appending month to list\n",
    "    \n",
    "date_df = pd.Series(date_month) #creating series object from list\n",
    "data_22['month'] = date_df #adding new column with month in local DF\n",
    "\n",
    "data_22 = data_22[(data_22.month == 6)| (data_22.month == 7)| (data_22.month == 8)] #getting films only from summer\n",
    "\n",
    "answers ['22'] = len(data_22)"
   ]
  },
  {
   "cell_type": "markdown",
   "metadata": {},
   "source": [
    "# Second option"
   ]
  },
  {
   "cell_type": "code",
   "execution_count": 137,
   "metadata": {},
   "outputs": [],
   "source": [
    "data_22_2 = data.copy() # adding local DF to use in answer for this question.\n",
    "data_22_2.release_date = data.release_date.apply(\n",
    "                                    lambda x: datetime.strptime(x, '%m/%d/%Y')) #rewriting release date using strptime\n",
    "\n",
    "data_22_2.release_date = data_22_2.release_date.apply(lambda x: x.strftime('%B')) #adding months using %B\n",
    "\n",
    "num = data_22_2.query('release_date in [\"June\", \"July\", \"August\"]').shape[0] #getting films only from summer\n",
    "\n",
    "answers_2 ['22'] = num"
   ]
  },
  {
   "cell_type": "markdown",
   "metadata": {
    "colab_type": "text",
    "id": "G94ppOY1VqAA"
   },
   "source": [
    "# 23. Для какого режиссера зима – самое продуктивное время года?  "
   ]
  },
  {
   "cell_type": "code",
   "execution_count": 138,
   "metadata": {
    "colab": {},
    "colab_type": "code",
    "id": "RhNTsamuVqAB",
    "scrolled": true
   },
   "outputs": [],
   "source": [
    "data_23 = data.copy()  # adding local DF to use in answer for this question.\n",
    "data_date_only = data_23.release_date #adding DF with only date\n",
    "date_month = []#empty list to use further (months)\n",
    "\n",
    "for date in data_date_only:\n",
    "    date = datetime.strptime(date, \"%m/%d/%Y\") #using strptime to get common timeformat\n",
    "    month = date.month #getting month\n",
    "    date_month.append(month) #appending month to list\n",
    "    \n",
    "date_df = pd.Series(date_month) #creating series object from list\n",
    "data_23['month'] = date_df #adding new column with month in local DF\n",
    "data_23 = data_23[(data_23.month == 12)| (data_23.month == 1)| (data_23.month == 2)] #leaving films were made only at winter\n",
    "\n",
    "data_23.director = data_23.director.str.split('|') #creating str, using | as splitter\n",
    "data_23 = data_23.explode('director') #exploding DF by director\n",
    "\n",
    "data_23 = data_23['director'].value_counts() #getting information about how often each director were mading films at winter\n",
    "\n",
    "data_23 = pd.DataFrame(data_23)\n",
    "answers ['23'] = data_23.iloc[0]"
   ]
  },
  {
   "cell_type": "markdown",
   "metadata": {
    "colab_type": "text",
    "id": "RBo0JVjVVqAF"
   },
   "source": [
    "# 24. Какая студия дает самые длинные названия своим фильмам по количеству символов?"
   ]
  },
  {
   "cell_type": "code",
   "execution_count": 139,
   "metadata": {
    "colab": {},
    "colab_type": "code",
    "id": "QRGS8L0iVqAG"
   },
   "outputs": [],
   "source": [
    "data_24 = data.copy()  # adding local DF to use in answer for this question.\n",
    "data_24 ['title_len'] = data_24.original_title.apply(len) #adding column with title len value\n",
    "\n",
    "data_24.production_companies = data_24.production_companies.str.split('|') #spliting production copmanies names using |as splitter \n",
    "data_24 = data_24.explode('production_companies') #expoding DF by production companies\n",
    "\n",
    "data_24 = data_24.groupby(['production_companies'])['title_len'].max().sort_values(ascending = False)\n",
    "  #grouping using production companies as group parametr, and calculating title_len max value, sorting\n",
    "\n",
    "answers ['24'] = data_24.index[0]"
   ]
  },
  {
   "cell_type": "markdown",
   "metadata": {
    "colab_type": "text",
    "id": "9G0hbvR7VqAK"
   },
   "source": [
    "# 25. Описание фильмов какой студии в среднем самые длинные по количеству слов?"
   ]
  },
  {
   "cell_type": "code",
   "execution_count": 140,
   "metadata": {
    "colab": {},
    "colab_type": "code",
    "id": "Ge2GsLNxVqAK"
   },
   "outputs": [],
   "source": [
    "data_25 = data.copy() # adding local DF to use in answer for this question.\n",
    "data_25 ['overview_len'] = data_25.overview.apply(len) #adding column with title len value\n",
    "\n",
    "data_25.production_companies = data_25.production_companies.str.split('|') #spliting production copmanies names using |as splitter \n",
    "data_25 = data_25.explode('production_companies') #expoding DF by production companies\n",
    "\n",
    "\n",
    "data_25 = data_25.groupby(['production_companies'])['overview_len'].mean().sort_values(ascending = False)\n",
    " #grouping using production companies as group parametr, and calculating review_len mean value, sorting\n",
    "\n",
    "answers ['25'] = data_25.index[0]"
   ]
  },
  {
   "cell_type": "markdown",
   "metadata": {
    "colab_type": "text",
    "id": "FJ1AFt90VqAP"
   },
   "source": [
    "# 26. Какие фильмы входят в 1 процент лучших по рейтингу? "
   ]
  },
  {
   "cell_type": "code",
   "execution_count": 162,
   "metadata": {
    "colab": {},
    "colab_type": "code",
    "id": "8qmJVq4CVqAQ",
    "scrolled": true
   },
   "outputs": [
    {
     "ename": "TypeError",
     "evalue": "cannot do label indexing on <class 'pandas.core.indexes.base.Index'> with these indexers [118] of <class 'int'>",
     "output_type": "error",
     "traceback": [
      "\u001b[1;31m---------------------------------------------------------------------------\u001b[0m",
      "\u001b[1;31mTypeError\u001b[0m                                 Traceback (most recent call last)",
      "\u001b[1;32m<ipython-input-162-ede32d59c516>\u001b[0m in \u001b[0;36m<module>\u001b[1;34m\u001b[0m\n\u001b[0;32m      2\u001b[0m \u001b[0mdata_26\u001b[0m \u001b[1;33m=\u001b[0m \u001b[0mdata_26\u001b[0m\u001b[1;33m.\u001b[0m\u001b[0moriginal_title\u001b[0m\u001b[1;33m.\u001b[0m\u001b[0mhead\u001b[0m\u001b[1;33m(\u001b[0m\u001b[0mround\u001b[0m\u001b[1;33m(\u001b[0m\u001b[0mlen\u001b[0m\u001b[1;33m(\u001b[0m\u001b[0mdata_26\u001b[0m\u001b[1;33m)\u001b[0m\u001b[1;33m*\u001b[0m\u001b[1;36m0.01\u001b[0m\u001b[1;33m)\u001b[0m\u001b[1;33m)\u001b[0m \u001b[1;31m#getting 1 % of films from DF and writing into dict\u001b[0m\u001b[1;33m\u001b[0m\u001b[1;33m\u001b[0m\u001b[0m\n\u001b[0;32m      3\u001b[0m \u001b[0mdata_26\u001b[0m \u001b[1;33m=\u001b[0m \u001b[0mpd\u001b[0m\u001b[1;33m.\u001b[0m\u001b[0mDataFrame\u001b[0m\u001b[1;33m(\u001b[0m\u001b[0mdata_26\u001b[0m\u001b[1;33m)\u001b[0m\u001b[1;33m\u001b[0m\u001b[1;33m\u001b[0m\u001b[0m\n\u001b[1;32m----> 4\u001b[1;33m \u001b[0mdata_26\u001b[0m\u001b[1;33m.\u001b[0m\u001b[0mloc\u001b[0m\u001b[1;33m[\u001b[0m\u001b[1;36m599\u001b[0m\u001b[1;33m,\u001b[0m\u001b[1;36m118\u001b[0m\u001b[1;33m]\u001b[0m\u001b[1;33m\u001b[0m\u001b[1;33m\u001b[0m\u001b[0m\n\u001b[0m",
      "\u001b[1;32mJ:\\Programs\\Anaconda\\lib\\site-packages\\pandas\\core\\indexing.py\u001b[0m in \u001b[0;36m__getitem__\u001b[1;34m(self, key)\u001b[0m\n\u001b[0;32m   1760\u001b[0m                 \u001b[1;32mexcept\u001b[0m \u001b[1;33m(\u001b[0m\u001b[0mKeyError\u001b[0m\u001b[1;33m,\u001b[0m \u001b[0mIndexError\u001b[0m\u001b[1;33m,\u001b[0m \u001b[0mAttributeError\u001b[0m\u001b[1;33m)\u001b[0m\u001b[1;33m:\u001b[0m\u001b[1;33m\u001b[0m\u001b[1;33m\u001b[0m\u001b[0m\n\u001b[0;32m   1761\u001b[0m                     \u001b[1;32mpass\u001b[0m\u001b[1;33m\u001b[0m\u001b[1;33m\u001b[0m\u001b[0m\n\u001b[1;32m-> 1762\u001b[1;33m             \u001b[1;32mreturn\u001b[0m \u001b[0mself\u001b[0m\u001b[1;33m.\u001b[0m\u001b[0m_getitem_tuple\u001b[0m\u001b[1;33m(\u001b[0m\u001b[0mkey\u001b[0m\u001b[1;33m)\u001b[0m\u001b[1;33m\u001b[0m\u001b[1;33m\u001b[0m\u001b[0m\n\u001b[0m\u001b[0;32m   1763\u001b[0m         \u001b[1;32melse\u001b[0m\u001b[1;33m:\u001b[0m\u001b[1;33m\u001b[0m\u001b[1;33m\u001b[0m\u001b[0m\n\u001b[0;32m   1764\u001b[0m             \u001b[1;31m# we by definition only have the 0th axis\u001b[0m\u001b[1;33m\u001b[0m\u001b[1;33m\u001b[0m\u001b[1;33m\u001b[0m\u001b[0m\n",
      "\u001b[1;32mJ:\\Programs\\Anaconda\\lib\\site-packages\\pandas\\core\\indexing.py\u001b[0m in \u001b[0;36m_getitem_tuple\u001b[1;34m(self, tup)\u001b[0m\n\u001b[0;32m   1270\u001b[0m     \u001b[1;32mdef\u001b[0m \u001b[0m_getitem_tuple\u001b[0m\u001b[1;33m(\u001b[0m\u001b[0mself\u001b[0m\u001b[1;33m,\u001b[0m \u001b[0mtup\u001b[0m\u001b[1;33m:\u001b[0m \u001b[0mTuple\u001b[0m\u001b[1;33m)\u001b[0m\u001b[1;33m:\u001b[0m\u001b[1;33m\u001b[0m\u001b[1;33m\u001b[0m\u001b[0m\n\u001b[0;32m   1271\u001b[0m         \u001b[1;32mtry\u001b[0m\u001b[1;33m:\u001b[0m\u001b[1;33m\u001b[0m\u001b[1;33m\u001b[0m\u001b[0m\n\u001b[1;32m-> 1272\u001b[1;33m             \u001b[1;32mreturn\u001b[0m \u001b[0mself\u001b[0m\u001b[1;33m.\u001b[0m\u001b[0m_getitem_lowerdim\u001b[0m\u001b[1;33m(\u001b[0m\u001b[0mtup\u001b[0m\u001b[1;33m)\u001b[0m\u001b[1;33m\u001b[0m\u001b[1;33m\u001b[0m\u001b[0m\n\u001b[0m\u001b[0;32m   1273\u001b[0m         \u001b[1;32mexcept\u001b[0m \u001b[0mIndexingError\u001b[0m\u001b[1;33m:\u001b[0m\u001b[1;33m\u001b[0m\u001b[1;33m\u001b[0m\u001b[0m\n\u001b[0;32m   1274\u001b[0m             \u001b[1;32mpass\u001b[0m\u001b[1;33m\u001b[0m\u001b[1;33m\u001b[0m\u001b[0m\n",
      "\u001b[1;32mJ:\\Programs\\Anaconda\\lib\\site-packages\\pandas\\core\\indexing.py\u001b[0m in \u001b[0;36m_getitem_lowerdim\u001b[1;34m(self, tup)\u001b[0m\n\u001b[0;32m   1419\u001b[0m                     \u001b[1;32mreturn\u001b[0m \u001b[0msection\u001b[0m\u001b[1;33m\u001b[0m\u001b[1;33m\u001b[0m\u001b[0m\n\u001b[0;32m   1420\u001b[0m                 \u001b[1;31m# This is an elided recursive call to iloc/loc/etc'\u001b[0m\u001b[1;33m\u001b[0m\u001b[1;33m\u001b[0m\u001b[1;33m\u001b[0m\u001b[0m\n\u001b[1;32m-> 1421\u001b[1;33m                 \u001b[1;32mreturn\u001b[0m \u001b[0mgetattr\u001b[0m\u001b[1;33m(\u001b[0m\u001b[0msection\u001b[0m\u001b[1;33m,\u001b[0m \u001b[0mself\u001b[0m\u001b[1;33m.\u001b[0m\u001b[0mname\u001b[0m\u001b[1;33m)\u001b[0m\u001b[1;33m[\u001b[0m\u001b[0mnew_key\u001b[0m\u001b[1;33m]\u001b[0m\u001b[1;33m\u001b[0m\u001b[1;33m\u001b[0m\u001b[0m\n\u001b[0m\u001b[0;32m   1422\u001b[0m \u001b[1;33m\u001b[0m\u001b[0m\n\u001b[0;32m   1423\u001b[0m         \u001b[1;32mraise\u001b[0m \u001b[0mIndexingError\u001b[0m\u001b[1;33m(\u001b[0m\u001b[1;34m\"not applicable\"\u001b[0m\u001b[1;33m)\u001b[0m\u001b[1;33m\u001b[0m\u001b[1;33m\u001b[0m\u001b[0m\n",
      "\u001b[1;32mJ:\\Programs\\Anaconda\\lib\\site-packages\\pandas\\core\\indexing.py\u001b[0m in \u001b[0;36m__getitem__\u001b[1;34m(self, key)\u001b[0m\n\u001b[0;32m   1766\u001b[0m \u001b[1;33m\u001b[0m\u001b[0m\n\u001b[0;32m   1767\u001b[0m             \u001b[0mmaybe_callable\u001b[0m \u001b[1;33m=\u001b[0m \u001b[0mcom\u001b[0m\u001b[1;33m.\u001b[0m\u001b[0mapply_if_callable\u001b[0m\u001b[1;33m(\u001b[0m\u001b[0mkey\u001b[0m\u001b[1;33m,\u001b[0m \u001b[0mself\u001b[0m\u001b[1;33m.\u001b[0m\u001b[0mobj\u001b[0m\u001b[1;33m)\u001b[0m\u001b[1;33m\u001b[0m\u001b[1;33m\u001b[0m\u001b[0m\n\u001b[1;32m-> 1768\u001b[1;33m             \u001b[1;32mreturn\u001b[0m \u001b[0mself\u001b[0m\u001b[1;33m.\u001b[0m\u001b[0m_getitem_axis\u001b[0m\u001b[1;33m(\u001b[0m\u001b[0mmaybe_callable\u001b[0m\u001b[1;33m,\u001b[0m \u001b[0maxis\u001b[0m\u001b[1;33m=\u001b[0m\u001b[0maxis\u001b[0m\u001b[1;33m)\u001b[0m\u001b[1;33m\u001b[0m\u001b[1;33m\u001b[0m\u001b[0m\n\u001b[0m\u001b[0;32m   1769\u001b[0m \u001b[1;33m\u001b[0m\u001b[0m\n\u001b[0;32m   1770\u001b[0m     \u001b[1;32mdef\u001b[0m \u001b[0m_is_scalar_access\u001b[0m\u001b[1;33m(\u001b[0m\u001b[0mself\u001b[0m\u001b[1;33m,\u001b[0m \u001b[0mkey\u001b[0m\u001b[1;33m:\u001b[0m \u001b[0mTuple\u001b[0m\u001b[1;33m)\u001b[0m\u001b[1;33m:\u001b[0m\u001b[1;33m\u001b[0m\u001b[1;33m\u001b[0m\u001b[0m\n",
      "\u001b[1;32mJ:\\Programs\\Anaconda\\lib\\site-packages\\pandas\\core\\indexing.py\u001b[0m in \u001b[0;36m_getitem_axis\u001b[1;34m(self, key, axis)\u001b[0m\n\u001b[0;32m   1962\u001b[0m \u001b[1;33m\u001b[0m\u001b[0m\n\u001b[0;32m   1963\u001b[0m         \u001b[1;31m# fall thru to straight lookup\u001b[0m\u001b[1;33m\u001b[0m\u001b[1;33m\u001b[0m\u001b[1;33m\u001b[0m\u001b[0m\n\u001b[1;32m-> 1964\u001b[1;33m         \u001b[0mself\u001b[0m\u001b[1;33m.\u001b[0m\u001b[0m_validate_key\u001b[0m\u001b[1;33m(\u001b[0m\u001b[0mkey\u001b[0m\u001b[1;33m,\u001b[0m \u001b[0maxis\u001b[0m\u001b[1;33m)\u001b[0m\u001b[1;33m\u001b[0m\u001b[1;33m\u001b[0m\u001b[0m\n\u001b[0m\u001b[0;32m   1965\u001b[0m         \u001b[1;32mreturn\u001b[0m \u001b[0mself\u001b[0m\u001b[1;33m.\u001b[0m\u001b[0m_get_label\u001b[0m\u001b[1;33m(\u001b[0m\u001b[0mkey\u001b[0m\u001b[1;33m,\u001b[0m \u001b[0maxis\u001b[0m\u001b[1;33m=\u001b[0m\u001b[0maxis\u001b[0m\u001b[1;33m)\u001b[0m\u001b[1;33m\u001b[0m\u001b[1;33m\u001b[0m\u001b[0m\n\u001b[0;32m   1966\u001b[0m \u001b[1;33m\u001b[0m\u001b[0m\n",
      "\u001b[1;32mJ:\\Programs\\Anaconda\\lib\\site-packages\\pandas\\core\\indexing.py\u001b[0m in \u001b[0;36m_validate_key\u001b[1;34m(self, key, axis)\u001b[0m\n\u001b[0;32m   1829\u001b[0m \u001b[1;33m\u001b[0m\u001b[0m\n\u001b[0;32m   1830\u001b[0m         \u001b[1;32mif\u001b[0m \u001b[1;32mnot\u001b[0m \u001b[0mis_list_like_indexer\u001b[0m\u001b[1;33m(\u001b[0m\u001b[0mkey\u001b[0m\u001b[1;33m)\u001b[0m\u001b[1;33m:\u001b[0m\u001b[1;33m\u001b[0m\u001b[1;33m\u001b[0m\u001b[0m\n\u001b[1;32m-> 1831\u001b[1;33m             \u001b[0mself\u001b[0m\u001b[1;33m.\u001b[0m\u001b[0m_convert_scalar_indexer\u001b[0m\u001b[1;33m(\u001b[0m\u001b[0mkey\u001b[0m\u001b[1;33m,\u001b[0m \u001b[0maxis\u001b[0m\u001b[1;33m)\u001b[0m\u001b[1;33m\u001b[0m\u001b[1;33m\u001b[0m\u001b[0m\n\u001b[0m\u001b[0;32m   1832\u001b[0m \u001b[1;33m\u001b[0m\u001b[0m\n\u001b[0;32m   1833\u001b[0m     \u001b[1;32mdef\u001b[0m \u001b[0m_is_scalar_access\u001b[0m\u001b[1;33m(\u001b[0m\u001b[0mself\u001b[0m\u001b[1;33m,\u001b[0m \u001b[0mkey\u001b[0m\u001b[1;33m:\u001b[0m \u001b[0mTuple\u001b[0m\u001b[1;33m)\u001b[0m \u001b[1;33m->\u001b[0m \u001b[0mbool\u001b[0m\u001b[1;33m:\u001b[0m\u001b[1;33m\u001b[0m\u001b[1;33m\u001b[0m\u001b[0m\n",
      "\u001b[1;32mJ:\\Programs\\Anaconda\\lib\\site-packages\\pandas\\core\\indexing.py\u001b[0m in \u001b[0;36m_convert_scalar_indexer\u001b[1;34m(self, key, axis)\u001b[0m\n\u001b[0;32m    739\u001b[0m         \u001b[0max\u001b[0m \u001b[1;33m=\u001b[0m \u001b[0mself\u001b[0m\u001b[1;33m.\u001b[0m\u001b[0mobj\u001b[0m\u001b[1;33m.\u001b[0m\u001b[0m_get_axis\u001b[0m\u001b[1;33m(\u001b[0m\u001b[0mmin\u001b[0m\u001b[1;33m(\u001b[0m\u001b[0maxis\u001b[0m\u001b[1;33m,\u001b[0m \u001b[0mself\u001b[0m\u001b[1;33m.\u001b[0m\u001b[0mndim\u001b[0m \u001b[1;33m-\u001b[0m \u001b[1;36m1\u001b[0m\u001b[1;33m)\u001b[0m\u001b[1;33m)\u001b[0m\u001b[1;33m\u001b[0m\u001b[1;33m\u001b[0m\u001b[0m\n\u001b[0;32m    740\u001b[0m         \u001b[1;31m# a scalar\u001b[0m\u001b[1;33m\u001b[0m\u001b[1;33m\u001b[0m\u001b[1;33m\u001b[0m\u001b[0m\n\u001b[1;32m--> 741\u001b[1;33m         \u001b[1;32mreturn\u001b[0m \u001b[0max\u001b[0m\u001b[1;33m.\u001b[0m\u001b[0m_convert_scalar_indexer\u001b[0m\u001b[1;33m(\u001b[0m\u001b[0mkey\u001b[0m\u001b[1;33m,\u001b[0m \u001b[0mkind\u001b[0m\u001b[1;33m=\u001b[0m\u001b[0mself\u001b[0m\u001b[1;33m.\u001b[0m\u001b[0mname\u001b[0m\u001b[1;33m)\u001b[0m\u001b[1;33m\u001b[0m\u001b[1;33m\u001b[0m\u001b[0m\n\u001b[0m\u001b[0;32m    742\u001b[0m \u001b[1;33m\u001b[0m\u001b[0m\n\u001b[0;32m    743\u001b[0m     \u001b[1;32mdef\u001b[0m \u001b[0m_convert_slice_indexer\u001b[0m\u001b[1;33m(\u001b[0m\u001b[0mself\u001b[0m\u001b[1;33m,\u001b[0m \u001b[0mkey\u001b[0m\u001b[1;33m:\u001b[0m \u001b[0mslice\u001b[0m\u001b[1;33m,\u001b[0m \u001b[0maxis\u001b[0m\u001b[1;33m:\u001b[0m \u001b[0mint\u001b[0m\u001b[1;33m)\u001b[0m\u001b[1;33m:\u001b[0m\u001b[1;33m\u001b[0m\u001b[1;33m\u001b[0m\u001b[0m\n",
      "\u001b[1;32mJ:\\Programs\\Anaconda\\lib\\site-packages\\pandas\\core\\indexes\\base.py\u001b[0m in \u001b[0;36m_convert_scalar_indexer\u001b[1;34m(self, key, kind)\u001b[0m\n\u001b[0;32m   2886\u001b[0m             \u001b[1;32melif\u001b[0m \u001b[0mkind\u001b[0m \u001b[1;32min\u001b[0m \u001b[1;33m[\u001b[0m\u001b[1;34m\"loc\"\u001b[0m\u001b[1;33m]\u001b[0m \u001b[1;32mand\u001b[0m \u001b[0mis_integer\u001b[0m\u001b[1;33m(\u001b[0m\u001b[0mkey\u001b[0m\u001b[1;33m)\u001b[0m\u001b[1;33m:\u001b[0m\u001b[1;33m\u001b[0m\u001b[1;33m\u001b[0m\u001b[0m\n\u001b[0;32m   2887\u001b[0m                 \u001b[1;32mif\u001b[0m \u001b[1;32mnot\u001b[0m \u001b[0mself\u001b[0m\u001b[1;33m.\u001b[0m\u001b[0mholds_integer\u001b[0m\u001b[1;33m(\u001b[0m\u001b[1;33m)\u001b[0m\u001b[1;33m:\u001b[0m\u001b[1;33m\u001b[0m\u001b[1;33m\u001b[0m\u001b[0m\n\u001b[1;32m-> 2888\u001b[1;33m                     \u001b[0mself\u001b[0m\u001b[1;33m.\u001b[0m\u001b[0m_invalid_indexer\u001b[0m\u001b[1;33m(\u001b[0m\u001b[1;34m\"label\"\u001b[0m\u001b[1;33m,\u001b[0m \u001b[0mkey\u001b[0m\u001b[1;33m)\u001b[0m\u001b[1;33m\u001b[0m\u001b[1;33m\u001b[0m\u001b[0m\n\u001b[0m\u001b[0;32m   2889\u001b[0m \u001b[1;33m\u001b[0m\u001b[0m\n\u001b[0;32m   2890\u001b[0m         \u001b[1;32mreturn\u001b[0m \u001b[0mkey\u001b[0m\u001b[1;33m\u001b[0m\u001b[1;33m\u001b[0m\u001b[0m\n",
      "\u001b[1;32mJ:\\Programs\\Anaconda\\lib\\site-packages\\pandas\\core\\indexes\\base.py\u001b[0m in \u001b[0;36m_invalid_indexer\u001b[1;34m(self, form, key)\u001b[0m\n\u001b[0;32m   3074\u001b[0m         \u001b[0mConsistent\u001b[0m \u001b[0minvalid\u001b[0m \u001b[0mindexer\u001b[0m \u001b[0mmessage\u001b[0m\u001b[1;33m.\u001b[0m\u001b[1;33m\u001b[0m\u001b[1;33m\u001b[0m\u001b[0m\n\u001b[0;32m   3075\u001b[0m         \"\"\"\n\u001b[1;32m-> 3076\u001b[1;33m         raise TypeError(\n\u001b[0m\u001b[0;32m   3077\u001b[0m             \u001b[1;34mf\"cannot do {form} indexing on {type(self)} with these \"\u001b[0m\u001b[1;33m\u001b[0m\u001b[1;33m\u001b[0m\u001b[0m\n\u001b[0;32m   3078\u001b[0m             \u001b[1;34mf\"indexers [{key}] of {type(key)}\"\u001b[0m\u001b[1;33m\u001b[0m\u001b[1;33m\u001b[0m\u001b[0m\n",
      "\u001b[1;31mTypeError\u001b[0m: cannot do label indexing on <class 'pandas.core.indexes.base.Index'> with these indexers [118] of <class 'int'>"
     ]
    }
   ],
   "source": [
    "data_26 = data.sort_values(by = 'vote_average', ascending = False) #sorting by vote_average\n",
    "data_26 = data_26.original_title.head(round(len(data_26)*0.01)) #getting 1 % of films from DF and writing into dict\n",
    "data_26 = pd.DataFrame(data_26)\n",
    "answers ['26'] = data_26"
   ]
  },
  {
   "cell_type": "markdown",
   "metadata": {
    "colab_type": "text",
    "id": "MdXsUXbCVqAV"
   },
   "source": [
    "# 27. Какие актеры чаще всего снимаются в одном фильме вместе?\n"
   ]
  },
  {
   "cell_type": "code",
   "execution_count": 59,
   "metadata": {},
   "outputs": [],
   "source": [
    "pairs = Counter() #list of actor pairs using Counter\n",
    "\n",
    "for i in range(0,len(data)):\n",
    "    artists = data.cast[i].split('|') #splitting cast [i] using | as splitter\n",
    "    for j in list(combinations(artists,2)):  #using combination function  (looking for combination of actors)\n",
    "        if j not in pairs: #simple counter\n",
    "             pairs[j] = 1 \n",
    "        else:\n",
    "             pairs[j] += 1\n",
    "                \n",
    "data_27 = pairs.most_common(5)\n",
    "answers ['27'] = data_27[0]"
   ]
  },
  {
   "cell_type": "markdown",
   "metadata": {},
   "source": [
    "## Second option"
   ]
  },
  {
   "cell_type": "code",
   "execution_count": 60,
   "metadata": {},
   "outputs": [],
   "source": [
    "combs = [] #adding list to put there combinations\n",
    "for cast in data.cast.str.split('|'): #splitting cast using | as splitter\n",
    "    cast.sort() #sorting cast\n",
    "    combs.extend(combinations(cast, 3)) #getting 3 actors in combination and adding to list\n",
    "    \n",
    "answers_2 ['27'] = pd.Series(combs).value_counts().index[0]"
   ]
  },
  {
   "cell_type": "markdown",
   "metadata": {
    "colab_type": "text",
    "id": "U0nONFnGVqAX"
   },
   "source": [
    "# Submission"
   ]
  },
  {
   "cell_type": "code",
   "execution_count": 65,
   "metadata": {
    "colab": {},
    "colab_type": "code",
    "id": "IfcaRO9-VqAX",
    "outputId": "0f132912-32bb-4196-c98c-abfbc4ad5a5f"
   },
   "outputs": [
    {
     "data": {
      "text/plain": [
       "{'1': 723    tt1298650\n",
       " Name: imdb_id, dtype: object,\n",
       " '2': 1157    tt0279111\n",
       " Name: imdb_id, dtype: object,\n",
       " '3': 768    tt1449283\n",
       " Name: imdb_id, dtype: object,\n",
       " '4': 109.6585494970884,\n",
       " '5': 107.0,\n",
       " '6': 239    tt0499549\n",
       " Name: imdb_id, dtype: object,\n",
       " '7': 1245    tt1210819\n",
       " Name: imdb_id, dtype: object,\n",
       " '8': 1478,\n",
       " '9': 599    The Dark Knight\n",
       " Name: original_title, dtype: object,\n",
       " '10': 1245    The Lone Ranger\n",
       " Name: original_title, dtype: object,\n",
       " '11': Drama    782\n",
       " dtype: int64,\n",
       " '12': Drama    560\n",
       " dtype: int64,\n",
       " '13': director\n",
       " Peter Jackson    6490593685\n",
       " Name: revenue, dtype: int64,\n",
       " '14': Robert Rodriguez    9\n",
       " dtype: int64,\n",
       " '15': revenue    2027450773\n",
       " Name: Chris Hemsworth, dtype: int64,\n",
       " '16': cast     Matt Damon\n",
       " count            18\n",
       " Name: 34, dtype: object,\n",
       " '17': count    17\n",
       " Name: Action, dtype: int64,\n",
       " '18': 925    K-19: The Widowmaker\n",
       " Name: original_title, dtype: object,\n",
       " '19': release_year\n",
       " 2015    25449202382\n",
       " Name: revenue, dtype: int64,\n",
       " '20': release_year\n",
       " 2014    2295464519\n",
       " Name: profit, dtype: int64,\n",
       " '21': month    227\n",
       " Name: 9, dtype: int64,\n",
       " '22': 450,\n",
       " '23': director    7\n",
       " Name: Peter Jackson, dtype: int64,\n",
       " '24': 'Four By Two Productions',\n",
       " '25': 'Midnight Picture Show',\n",
       " '26': 599                                   The Dark Knight\n",
       " 118                                      Interstellar\n",
       " 125                                The Imitation Game\n",
       " 9                                          Inside Out\n",
       " 34                                               Room\n",
       " 1183                          The Wolf of Wall Street\n",
       " 128                                         Gone Girl\n",
       " 1191                                 12 Years a Slave\n",
       " 119                           Guardians of the Galaxy\n",
       " 1081    The Lord of the Rings: The Return of the King\n",
       " 1800                                          Memento\n",
       " 370                                         Inception\n",
       " 872                                       The Pianist\n",
       " 138                          The Grand Budapest Hotel\n",
       " 1188                                              Her\n",
       " 28                                          Spotlight\n",
       " 124                                        Big Hero 6\n",
       " 177                            The Fault in Our Stars\n",
       " 863             The Lord of the Rings: The Two Towers\n",
       " Name: original_title, dtype: object,\n",
       " '27': (('Daniel Radcliffe', 'Rupert Grint'), 8)}"
      ]
     },
     "execution_count": 65,
     "metadata": {},
     "output_type": "execute_result"
    }
   ],
   "source": [
    "answers"
   ]
  },
  {
   "cell_type": "code",
   "execution_count": 62,
   "metadata": {
    "colab": {},
    "colab_type": "code",
    "id": "SiRmHPl8VqAd"
   },
   "outputs": [
    {
     "data": {
      "text/plain": [
       "27"
      ]
     },
     "execution_count": 62,
     "metadata": {},
     "output_type": "execute_result"
    }
   ],
   "source": [
    "len(answers)"
   ]
  },
  {
   "cell_type": "code",
   "execution_count": null,
   "metadata": {},
   "outputs": [],
   "source": []
  }
 ],
 "metadata": {
  "colab": {
   "name": "Copy of [SF-DST] Movies IMBD v4.1 TEMPLATE.ipynb",
   "provenance": []
  },
  "kernelspec": {
   "display_name": "Python 3",
   "language": "python",
   "name": "python3"
  },
  "language_info": {
   "codemirror_mode": {
    "name": "ipython",
    "version": 3
   },
   "file_extension": ".py",
   "mimetype": "text/x-python",
   "name": "python",
   "nbconvert_exporter": "python",
   "pygments_lexer": "ipython3",
   "version": "3.8.3"
  }
 },
 "nbformat": 4,
 "nbformat_minor": 1
}
